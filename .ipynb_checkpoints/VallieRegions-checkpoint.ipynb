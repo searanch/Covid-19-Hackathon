{
 "cells": [
  {
   "cell_type": "code",
   "execution_count": null,
   "metadata": {},
   "outputs": [],
   "source": [
    "# Import dependencies\n",
    "import pandas as pd\n",
    "import matplotlib.pyplot as plt"
   ]
  },
  {
   "cell_type": "code",
   "execution_count": null,
   "metadata": {},
   "outputs": [],
   "source": [
    "#Load dataset\n",
    "usa = pd.read_csv('enigma_Aug_8_2020.csv')\n",
    "usa.head()"
   ]
  },
  {
   "cell_type": "code",
   "execution_count": null,
   "metadata": {},
   "outputs": [],
   "source": [
    "# Remove not needed columns\n",
    "usa = usa.drop(columns = ['state_fips', 'lat', 'long'])\n",
    "usa.head()"
   ]
  },
  {
   "cell_type": "code",
   "execution_count": null,
   "metadata": {},
   "outputs": [],
   "source": [
    "# Convert dates to datetime\n",
    "usa['datetime'] = pd.to_datetime(usa['date'])\n",
    "usa.tail()"
   ]
  },
  {
   "cell_type": "markdown",
   "metadata": {},
   "source": [
    "###  West North Central Divsion 4 (Iowa, Kansas, Minnesota, Missouri, Nebraska, North Dakota, and South Dakota)"
   ]
  },
  {
   "cell_type": "code",
   "execution_count": null,
   "metadata": {},
   "outputs": [],
   "source": [
    "# Creat DF for just West North Central\n",
    "west_northern_central =  usa[(usa['state_name']=='Iowa') | (usa['state_name'] == 'Kansas') |\n",
    "                      (usa['state_name'] == 'Minnesota') | (usa['state_name'] == 'Missouri') | \n",
    "                     (usa['state_name']=='North Dakota') | (usa['state_name']=='South Dakota')] \n",
    "\n",
    "west_northern_central.head()"
   ]
  },
  {
   "cell_type": "code",
   "execution_count": null,
   "metadata": {},
   "outputs": [],
   "source": [
    "# Summing case count for Western Northern Central\n",
    "# Groupby to consolidate cases by entire region\n",
    "\n",
    "wnc_group = west_northern_central.groupby([\"datetime\"]).sum()\n",
    "wnc_group.tail()"
   ]
  },
  {
   "cell_type": "code",
   "execution_count": null,
   "metadata": {},
   "outputs": [],
   "source": [
    "# Sort by datetime and reset index\n",
    "wnc_group.sort_values(by = 'datetime')\n",
    "wnc_group = wnc_group.reset_index()\n",
    "wnc_group.tail()"
   ]
  },
  {
   "cell_type": "code",
   "execution_count": null,
   "metadata": {},
   "outputs": [],
   "source": [
    "# Finish datetime conversion\n",
    "wnc_group['datetime'] = pd.to_datetime(wnc_group['datetime'])\n",
    "wnc_group['day'] = wnc_group['datetime'].map(lambda x: x.day)\n",
    "wnc_group['month'] = wnc_group['datetime'].map(lambda x: x.month)\n",
    "wnc_group['year'] = wnc_group['datetime'].map(lambda x: x.year)\n",
    "\n",
    "# Now create new column for growth rate\n",
    "wnc_group['growth_rate'] = wnc_group['cases'].pct_change()\n",
    "wnc_group.tail()"
   ]
  },
  {
   "cell_type": "code",
   "execution_count": null,
   "metadata": {},
   "outputs": [],
   "source": [
    "# Look at the stats\n",
    "wnc_group['growth_rate'].describe()"
   ]
  },
  {
   "cell_type": "code",
   "execution_count": null,
   "metadata": {},
   "outputs": [],
   "source": [
    "wnc_group.isnull().sum()"
   ]
  },
  {
   "cell_type": "code",
   "execution_count": null,
   "metadata": {},
   "outputs": [],
   "source": [
    "wnc_group = wnc_group.dropna()"
   ]
  },
  {
   "cell_type": "code",
   "execution_count": null,
   "metadata": {},
   "outputs": [],
   "source": [
    "# Linear Regression\n",
    "from sklearn.linear_model import LinearRegression\n",
    "from sklearn.model_selection import train_test_split\n",
    "wnc_model = LinearRegression()"
   ]
  },
  {
   "cell_type": "code",
   "execution_count": null,
   "metadata": {},
   "outputs": [],
   "source": [
    "X_wnc = wnc_group[[\"day\", \"month\", \"year\"]]\n",
    "y_wnc = wnc_group[[\"cases\", \"growth_rate\"]]"
   ]
  },
  {
   "cell_type": "code",
   "execution_count": null,
   "metadata": {},
   "outputs": [],
   "source": [
    "X_train_wnc, X_test_wnc, y_train_wnc, y_test_wnc = train_test_split(X_wnc, y_wnc, random_state=42) "
   ]
  },
  {
   "cell_type": "code",
   "execution_count": null,
   "metadata": {},
   "outputs": [],
   "source": [
    "wnc_model.fit(X_train_wnc, y_train_wnc)\n",
    "wnc_model.score(X_test_wnc, y_test_wnc)"
   ]
  },
  {
   "cell_type": "code",
   "execution_count": null,
   "metadata": {},
   "outputs": [],
   "source": [
    "import numpy as np\n",
    "wnc_model.predict(np.array([4,11,2020]).reshape(1,-1))"
   ]
  },
  {
   "cell_type": "markdown",
   "metadata": {},
   "source": [
    "### Visualize Growth Rate and Cases"
   ]
  },
  {
   "cell_type": "code",
   "execution_count": null,
   "metadata": {},
   "outputs": [],
   "source": [
    "# Scatter plot for growth rate\n",
    "\n",
    "plt.figure(figsize = (15, 6))\n",
    "plt.scatter(wnc_group['datetime'],wnc_group['growth_rate'],c='m',)\n",
    "plt.grid(True)\n",
    "plt.title(\"West Northern Central Division Growth Rate\", fontsize = 20)\n",
    "plt.ylabel('Growth Rate', fontsize = 20)\n",
    "plt.show()"
   ]
  },
  {
   "cell_type": "code",
   "execution_count": null,
   "metadata": {},
   "outputs": [],
   "source": [
    "# Scatter plot for cases\n",
    "\n",
    "plt.figure(figsize = (15, 6))\n",
    "plt.scatter(wnc_group['datetime'],wnc_group['cases'],c='m',)\n",
    "plt.grid(True)\n",
    "plt.title('West Northern Central Division Cases Over Time', fontsize = 20)\n",
    "plt.ylabel('Cases', fontsize = 20)\n",
    "plt.show()"
   ]
  },
  {
   "cell_type": "markdown",
   "metadata": {},
   "source": [
    "### South Division 5: South Atlantic (Delaware, Florida, Georgia, Maryland, North Carolina, South Carolina, Virginia, District of Columbia, and West Virginia)"
   ]
  },
  {
   "cell_type": "code",
   "execution_count": null,
   "metadata": {},
   "outputs": [],
   "source": [
    "# Make Df for just South Atlantic divsion.\n",
    "\n",
    "south_atlantic = usa[(usa['state_name']=='Delaware') | (usa['state_name'] == 'Flordia') |\n",
    "                      (usa['state_name'] == 'Georgia') | (usa['state_name'] == 'Maryland') | \n",
    "                     (usa['state_name']=='North Carolina') | (usa['state_name']=='South Carolina') |\n",
    "                     (usa['state_name']=='Virginia') | (usa['state_name']== 'District of Columbia') |\n",
    "                    (usa['state_name'] == 'West Virginia')]\n",
    "south_atlantic.head()"
   ]
  },
  {
   "cell_type": "code",
   "execution_count": null,
   "metadata": {},
   "outputs": [],
   "source": [
    "# Summing case count for South Atlantic\n",
    "# Groupby to consolidate cases by entire region\n",
    "\n",
    "sa_group = south_atlantic.groupby([\"datetime\"]).sum()\n",
    "sa_group.tail()"
   ]
  },
  {
   "cell_type": "code",
   "execution_count": null,
   "metadata": {},
   "outputs": [],
   "source": [
    "# Sort by datetime and reset index\n",
    "sa_group.sort_values(by = 'datetime')\n",
    "sa_group = sa_group.reset_index()\n",
    "sa_group.tail()"
   ]
  },
  {
   "cell_type": "code",
   "execution_count": null,
   "metadata": {},
   "outputs": [],
   "source": [
    "# Finish datetime conversion\n",
    "sa_group['datetime'] = pd.to_datetime(sa_group['datetime'])\n",
    "sa_group['day'] = sa_group['datetime'].map(lambda x: x.day)\n",
    "sa_group['month'] = sa_group['datetime'].map(lambda x: x.month)\n",
    "sa_group['year'] = sa_group['datetime'].map(lambda x: x.year)\n",
    "\n",
    "# Now create new column for growth rate\n",
    "sa_group['growth_rate'] = sa_group['cases'].pct_change()\n",
    "sa_group.tail()"
   ]
  },
  {
   "cell_type": "code",
   "execution_count": null,
   "metadata": {},
   "outputs": [],
   "source": [
    "# Look at the stats\n",
    "sa_group['growth_rate'].describe()"
   ]
  },
  {
   "cell_type": "markdown",
   "metadata": {},
   "source": [
    "### Visualize Growth Rate and Cases"
   ]
  },
  {
   "cell_type": "code",
   "execution_count": null,
   "metadata": {},
   "outputs": [],
   "source": [
    "# Scatter plot for growth rate\n",
    "\n",
    "plt.figure(figsize = (15, 6))\n",
    "plt.scatter(sa_group['datetime'],sa_group['growth_rate'],c='c',)\n",
    "plt.grid(True)\n",
    "plt.title(\"South Atlantic Division Growth Rate\", fontsize = 20)\n",
    "plt.ylabel('Growth Rate', fontsize = 20)\n",
    "plt.show()"
   ]
  },
  {
   "cell_type": "code",
   "execution_count": null,
   "metadata": {},
   "outputs": [],
   "source": [
    "# Scatter plot for cases\n",
    "\n",
    "plt.figure(figsize = (15, 6))\n",
    "plt.scatter(sa_group['datetime'],sa_group['cases'],c='c',)\n",
    "plt.grid(True)\n",
    "plt.title('South Atlantic Division Cases Over Time', fontsize = 20)\n",
    "plt.ylabel('Cases', fontsize = 20)\n",
    "plt.show()"
   ]
  },
  {
   "cell_type": "markdown",
   "metadata": {},
   "source": [
    "### South Division 6: East South Central (Alabama, Kentucky, Mississippi, and Tennessee)"
   ]
  },
  {
   "cell_type": "code",
   "execution_count": null,
   "metadata": {},
   "outputs": [],
   "source": [
    "# Create DF for just East South Central Divsion\n",
    "east_south_central =  usa[(usa['state_name']=='Alabama') | (usa['state_name'] == 'Kentucky') |\n",
    "                      (usa['state_name'] == 'Mississippi') | (usa['state_name'] == 'Tennessee')] \n",
    "\n",
    "east_south_central.head()"
   ]
  },
  {
   "cell_type": "code",
   "execution_count": null,
   "metadata": {},
   "outputs": [],
   "source": [
    "# Summing case count for East South Central\n",
    "# Groupby to consolidate cases by entire region\n",
    "\n",
    "esc_group = east_south_central.groupby([\"datetime\"]).sum()\n",
    "esc_group.tail()"
   ]
  },
  {
   "cell_type": "code",
   "execution_count": null,
   "metadata": {},
   "outputs": [],
   "source": [
    "# Sort by datetime and reset index\n",
    "esc_group.sort_values(by = 'datetime')\n",
    "esc_group = esc_group.reset_index()\n",
    "esc_group.tail()"
   ]
  },
  {
   "cell_type": "code",
   "execution_count": null,
   "metadata": {},
   "outputs": [],
   "source": [
    "# Finish datetime conversion\n",
    "esc_group['datetime'] = pd.to_datetime(esc_group['datetime'])\n",
    "esc_group['day'] = esc_group['datetime'].map(lambda x: x.day)\n",
    "esc_group['month'] = esc_group['datetime'].map(lambda x: x.month)\n",
    "esc_group['year'] = esc_group['datetime'].map(lambda x: x.year)\n",
    "\n",
    "# Now create new column for growth rate\n",
    "esc_group['growth_rate'] = esc_group['cases'].pct_change()\n",
    "esc_group.tail()"
   ]
  },
  {
   "cell_type": "code",
   "execution_count": null,
   "metadata": {},
   "outputs": [],
   "source": [
    "# Look at the stats\n",
    "esc_group['growth_rate'].describe()"
   ]
  },
  {
   "cell_type": "markdown",
   "metadata": {},
   "source": [
    "### Visualize Growth Rate and Cases"
   ]
  },
  {
   "cell_type": "code",
   "execution_count": null,
   "metadata": {},
   "outputs": [],
   "source": [
    "# Scatter plot for growth rate\n",
    "\n",
    "plt.figure(figsize = (15, 6))\n",
    "plt.scatter(esc_group['datetime'],esc_group['growth_rate'],c='b',)\n",
    "plt.grid(True)\n",
    "plt.title(\"East South Central Division Growth Rate\", fontsize = 20)\n",
    "plt.ylabel('Growth Rate', fontsize = 20)\n",
    "plt.show()"
   ]
  },
  {
   "cell_type": "code",
   "execution_count": null,
   "metadata": {},
   "outputs": [],
   "source": [
    "# Scatter plot for cases\n",
    "\n",
    "plt.figure(figsize = (15, 6))\n",
    "plt.scatter(esc_group['datetime'],esc_group['cases'],c='b')\n",
    "plt.grid(True)\n",
    "plt.title('East South Central Division Cases Over Time', fontsize = 20)\n",
    "plt.ylabel('Cases', fontsize = 20)\n",
    "plt.show()"
   ]
  },
  {
   "cell_type": "markdown",
   "metadata": {},
   "source": [
    "### South Division 7: West South Central (Arkansas, Louisiana, Oklahoma, and Texas)"
   ]
  },
  {
   "cell_type": "code",
   "execution_count": null,
   "metadata": {},
   "outputs": [],
   "source": [
    "west_south_central =  usa[(usa['state_name']=='Arkansas') | (usa['state_name'] == 'Louisiana') |\n",
    "                      (usa['state_name'] == 'Oklahoma') | (usa['state_name'] == 'Texas') ] \n",
    "\n",
    "west_south_central.head()"
   ]
  },
  {
   "cell_type": "code",
   "execution_count": null,
   "metadata": {},
   "outputs": [],
   "source": [
    "# Summing case count for West South Central\n",
    "# Groupby to consolidate cases by entire region\n",
    "\n",
    "wsc_group = west_south_central.groupby([\"datetime\"]).sum()\n",
    "wsc_group.tail()"
   ]
  },
  {
   "cell_type": "code",
   "execution_count": null,
   "metadata": {},
   "outputs": [],
   "source": [
    "# Sort by datetime and reset index\n",
    "wsc_group.sort_values(by = 'datetime')\n",
    "wsc_group = wsc_group.reset_index()\n",
    "wsc_group.tail()"
   ]
  },
  {
   "cell_type": "code",
   "execution_count": null,
   "metadata": {},
   "outputs": [],
   "source": [
    "# Finish datetime conversion\n",
    "wsc_group['datetime'] = pd.to_datetime(wsc_group['datetime'])\n",
    "wsc_group['day'] = wsc_group['datetime'].map(lambda x: x.day)\n",
    "wsc_group['month'] = wsc_group['datetime'].map(lambda x: x.month)\n",
    "wsc_group['year'] = wsc_group['datetime'].map(lambda x: x.year)\n",
    "\n",
    "# Now create new column for growth rate\n",
    "wsc_group['growth_rate'] = wsc_group['cases'].pct_change()\n",
    "wsc_group.tail()"
   ]
  },
  {
   "cell_type": "code",
   "execution_count": null,
   "metadata": {},
   "outputs": [],
   "source": [
    "# Look at the stats\n",
    "wsc_group['growth_rate'].describe()"
   ]
  },
  {
   "cell_type": "markdown",
   "metadata": {},
   "source": [
    "### Visualize Growth Rate and Cases"
   ]
  },
  {
   "cell_type": "code",
   "execution_count": null,
   "metadata": {},
   "outputs": [],
   "source": [
    "# Scatter plot for growth rate\n",
    "\n",
    "plt.figure(figsize = (15, 6))\n",
    "plt.scatter(wsc_group['datetime'],wsc_group['growth_rate'],c='xkcd:magenta',)\n",
    "plt.grid(True)\n",
    "plt.title(\"West South Central Division Growth Rate\", fontsize = 20)\n",
    "plt.ylabel('Growth Rate', fontsize = 20)\n",
    "plt.show()"
   ]
  },
  {
   "cell_type": "code",
   "execution_count": null,
   "metadata": {},
   "outputs": [],
   "source": [
    "# Scatter plot for cases\n",
    "\n",
    "plt.figure(figsize = (15, 6))\n",
    "plt.scatter(wsc_group['datetime'],wsc_group['cases'],c='xkcd:magenta')\n",
    "plt.grid(True)\n",
    "plt.title('West South Central Division Cases Over Time', fontsize = 20)\n",
    "plt.ylabel('Cases', fontsize = 20)\n",
    "plt.show()"
   ]
  },
  {
   "cell_type": "markdown",
   "metadata": {},
   "source": [
    "### West Mountain Divsion 8 (Arizona, Colorado, Idaho, Montana, Nevada, New Mexico, Utah, and Wyoming)"
   ]
  },
  {
   "cell_type": "code",
   "execution_count": null,
   "metadata": {},
   "outputs": [],
   "source": [
    "# Create a DF for just Mountain divsion\n",
    "mountain =  usa[(usa['state_name']=='Arizona') | (usa['state_name'] == 'Colorado') |\n",
    "                      (usa['state_name'] == 'Idaho') | (usa['state_name'] == 'Montana') | \n",
    "                     (usa['state_name']=='Nevada') | (usa['state_name']=='New Mexico') |\n",
    "                     (usa['state_name']=='Utah') | (usa['state_name']== 'Wyoming') ]\n",
    "\n",
    "mountain.head()"
   ]
  },
  {
   "cell_type": "code",
   "execution_count": null,
   "metadata": {},
   "outputs": [],
   "source": [
    "# Summing case count for Mountain Division\n",
    "# Groupby to consolidate cases by entire region\n",
    "\n",
    "md_group = mountain.groupby([\"datetime\"]).sum()\n",
    "md_group.tail()"
   ]
  },
  {
   "cell_type": "code",
   "execution_count": null,
   "metadata": {},
   "outputs": [],
   "source": [
    "# Sort by datetime and reset index\n",
    "md_group.sort_values(by = 'datetime')\n",
    "md_group = md_group.reset_index()\n",
    "md_group.tail()"
   ]
  },
  {
   "cell_type": "code",
   "execution_count": null,
   "metadata": {},
   "outputs": [],
   "source": [
    "# Finish datetime conversion\n",
    "md_group['datetime'] = pd.to_datetime(md_group['datetime'])\n",
    "md_group['day'] = md_group['datetime'].map(lambda x: x.day)\n",
    "md_group['month'] = md_group['datetime'].map(lambda x: x.month)\n",
    "md_group['year'] = md_group['datetime'].map(lambda x: x.year)\n",
    "\n",
    "# Now create new column for growth rate\n",
    "md_group['growth_rate'] = md_group['cases'].pct_change()\n",
    "md_group.tail()"
   ]
  },
  {
   "cell_type": "code",
   "execution_count": null,
   "metadata": {},
   "outputs": [],
   "source": [
    "# Look at the stats\n",
    "md_group['growth_rate'].describe()"
   ]
  },
  {
   "cell_type": "markdown",
   "metadata": {},
   "source": [
    "### Visualize Growth Rate and Cases"
   ]
  },
  {
   "cell_type": "code",
   "execution_count": null,
   "metadata": {},
   "outputs": [],
   "source": [
    "# Scatter plot for growth rate\n",
    "\n",
    "plt.figure(figsize = (15, 6))\n",
    "plt.scatter(md_group['datetime'],md_group['growth_rate'],c='xkcd:sky blue',)\n",
    "plt.grid(True)\n",
    "plt.title(\"Mountain Division Growth Rate\", fontsize = 20)\n",
    "plt.ylabel('Growth Rate', fontsize = 20)\n",
    "plt.show()"
   ]
  },
  {
   "cell_type": "code",
   "execution_count": null,
   "metadata": {},
   "outputs": [],
   "source": [
    "# Scatter plot for cases\n",
    "\n",
    "plt.figure(figsize = (15, 6))\n",
    "plt.scatter(md_group['datetime'],md_group['cases'],c='xkcd:sky blue')\n",
    "plt.grid(True)\n",
    "plt.title('Mountain Division Cases Over Time', fontsize = 20)\n",
    "plt.ylabel('Cases', fontsize = 20)\n",
    "plt.show()"
   ]
  },
  {
   "cell_type": "markdown",
   "metadata": {},
   "source": [
    "### West Pacific (Alaska, California, Hawaii, Oregon, and Washington)"
   ]
  },
  {
   "cell_type": "code",
   "execution_count": null,
   "metadata": {},
   "outputs": [],
   "source": [
    "# Make DF for just Pacific Divsion\n",
    "pacific =  usa[(usa['state_name']=='California') | (usa['state_name'] == 'Hawaii') |\n",
    "                      (usa['state_name'] == 'Oregon') | (usa['state_name'] == 'Washington') |\n",
    "                      (usa['state_name']=='Alaska')]\n",
    "\n",
    "pacific.head()"
   ]
  },
  {
   "cell_type": "code",
   "execution_count": null,
   "metadata": {},
   "outputs": [],
   "source": [
    "# Summing case count for Pacific Division\n",
    "# Groupby to consolidate cases by entire region\n",
    "\n",
    "p_group = pacific.groupby([\"datetime\"]).sum()\n",
    "p_group.tail(20)"
   ]
  },
  {
   "cell_type": "code",
   "execution_count": null,
   "metadata": {},
   "outputs": [],
   "source": [
    "# Sort by datetime and reset index\n",
    "p_group.sort_values(by = 'datetime')\n",
    "p_group = md_group.reset_index()\n",
    "p_group.tail()"
   ]
  },
  {
   "cell_type": "code",
   "execution_count": null,
   "metadata": {},
   "outputs": [],
   "source": [
    "# Finish datetime conversion\n",
    "p_group['datetime'] = pd.to_datetime(p_group['datetime'])\n",
    "p_group['day'] = p_group['datetime'].map(lambda x: x.day)\n",
    "p_group['month'] = p_group['datetime'].map(lambda x: x.month)\n",
    "p_group['year'] = p_group['datetime'].map(lambda x: x.year)\n",
    "\n",
    "# Now create new column for growth rate\n",
    "p_group['growth_rate'] = p_group['cases'].pct_change()\n",
    "p_group.tail(20)"
   ]
  },
  {
   "cell_type": "code",
   "execution_count": null,
   "metadata": {},
   "outputs": [],
   "source": [
    "# Look at the stats\n",
    "p_group['growth_rate'].describe()"
   ]
  },
  {
   "cell_type": "markdown",
   "metadata": {},
   "source": [
    "### Visualize Growth Rate and Cases"
   ]
  },
  {
   "cell_type": "code",
   "execution_count": null,
   "metadata": {},
   "outputs": [],
   "source": [
    "# Scatter plot for growth rate\n",
    "\n",
    "plt.figure(figsize = (15, 6))\n",
    "plt.scatter(p_group['datetime'],p_group['growth_rate'],c='xkcd:orange',)\n",
    "plt.grid(True)\n",
    "plt.title(\"Pacific Division Growth Rate\", fontsize = 20)\n",
    "plt.ylabel('Growth Rate', fontsize = 20)\n",
    "plt.show()"
   ]
  },
  {
   "cell_type": "code",
   "execution_count": null,
   "metadata": {},
   "outputs": [],
   "source": [
    "# Scatter plot for cases\n",
    "\n",
    "plt.figure(figsize = (15, 6))\n",
    "plt.scatter(p_group['datetime'],p_group['cases'],c='xkcd:orange')\n",
    "plt.grid(True)\n",
    "plt.title('Pacific Division Cases Over Time', fontsize = 20)\n",
    "plt.ylabel('Cases', fontsize = 20)\n",
    "plt.show()"
   ]
  },
  {
   "cell_type": "markdown",
   "metadata": {},
   "source": [
    "### NEW YORK AS A TEST CASE"
   ]
  },
  {
   "cell_type": "code",
   "execution_count": null,
   "metadata": {},
   "outputs": [],
   "source": [
    "# Make DF for just NEW YORK\n",
    "ny =  usa[(usa['state_name']=='New York')]\n",
    "\n",
    "ny.head()"
   ]
  },
  {
   "cell_type": "code",
   "execution_count": null,
   "metadata": {},
   "outputs": [],
   "source": [
    "# Summing case count for NY\n",
    "# Groupby to consolidate cases by entire region\n",
    "\n",
    "ny_group = ny.groupby([\"datetime\"]).sum()\n",
    "ny_group.tail()"
   ]
  },
  {
   "cell_type": "code",
   "execution_count": null,
   "metadata": {},
   "outputs": [],
   "source": [
    "ny_group.isnull().sum()"
   ]
  },
  {
   "cell_type": "code",
   "execution_count": null,
   "metadata": {},
   "outputs": [],
   "source": [
    "# Sort by datetime and reset index\n",
    "ny_group.sort_values(by = 'datetime')\n",
    "ny_group = md_group.reset_index()\n",
    "ny_group.tail(20)"
   ]
  },
  {
   "cell_type": "code",
   "execution_count": null,
   "metadata": {},
   "outputs": [],
   "source": [
    "# Finish datetime conversion\n",
    "ny_group['datetime'] = pd.to_datetime(ny_group['datetime'])\n",
    "ny_group['day'] = ny_group['datetime'].map(lambda x: x.day)\n",
    "ny_group['month'] = ny_group['datetime'].map(lambda x: x.month)\n",
    "ny_group['year'] = ny_group['datetime'].map(lambda x: x.year)\n",
    "\n",
    "# Now create new column for growth rate\n",
    "ny_group['growth_rate'] = ny_group['cases'].pct_change()\n",
    "ny_group.tail()"
   ]
  },
  {
   "cell_type": "code",
   "execution_count": null,
   "metadata": {},
   "outputs": [],
   "source": [
    "# Look at the stats\n",
    "ny_group['growth_rate'].describe()"
   ]
  },
  {
   "cell_type": "markdown",
   "metadata": {},
   "source": [
    "### Visualize Growth Rate and Cases"
   ]
  },
  {
   "cell_type": "code",
   "execution_count": null,
   "metadata": {},
   "outputs": [],
   "source": [
    "# Scatter plot for growth rate\n",
    "\n",
    "plt.figure(figsize = (15, 6))\n",
    "plt.scatter(ny_group['datetime'],ny_group['growth_rate'],c='xkcd:black',)\n",
    "plt.grid(True)\n",
    "plt.title(\"New York Growth Rate\", fontsize = 20)\n",
    "plt.ylabel('Growth Rate', fontsize = 20)\n",
    "plt.show()"
   ]
  },
  {
   "cell_type": "code",
   "execution_count": null,
   "metadata": {},
   "outputs": [],
   "source": [
    "# Scatter plot for cases\n",
    "\n",
    "plt.figure(figsize = (15, 6))\n",
    "plt.scatter(ny_group['datetime'],ny_group['cases'],c='xkcd:black')\n",
    "plt.grid(True)\n",
    "plt.title('New York Cases Over Time', fontsize = 20)\n",
    "plt.ylabel('Cases', fontsize = 20)\n",
    "plt.show()"
   ]
  },
  {
   "cell_type": "code",
   "execution_count": null,
   "metadata": {},
   "outputs": [],
   "source": [
    "# Scatter plot for cases\n",
    "\n",
    "plt.figure(figsize = (15, 6))\n",
    "plt.scatter(ny_group['datetime'],ny_group['tests_positive'],c='xkcd:black')\n",
    "plt.grid(True)\n",
    "plt.title('New York Positive Test Results Over Time', fontsize = 20)\n",
    "plt.ylabel('Cases', fontsize = 20)\n",
    "plt.show()"
   ]
  }
 ],
 "metadata": {
  "kernelspec": {
   "display_name": "Python 3",
   "language": "python",
   "name": "python3"
  },
  "language_info": {
   "codemirror_mode": {
    "name": "ipython",
    "version": 3
   },
   "file_extension": ".py",
   "mimetype": "text/x-python",
   "name": "python",
   "nbconvert_exporter": "python",
   "pygments_lexer": "ipython3",
   "version": "3.6.9"
  }
 },
 "nbformat": 4,
 "nbformat_minor": 2
}
