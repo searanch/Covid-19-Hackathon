{
 "cells": [
  {
   "cell_type": "markdown",
   "metadata": {},
   "source": [
    "# Team Minneapolis Machine Learning Model for Covid-19\n",
    "In our model we predict the number of Covid-10 Cases in the Midwestern United States through the end of 2020.\n"
   ]
  },
  {
   "cell_type": "code",
   "execution_count": null,
   "metadata": {},
   "outputs": [],
   "source": [
    "# Import all dependencies \n",
    "import pandas as pd\n",
    "import matplotlib.pyplot as plt\n",
    "from sklearn.linear_model import LinearRegression\n",
    "from sklearn.model_selection import train_test_split\n",
    "import numpy as np\n",
    "\n",
    "import warnings\n",
    "warnings.filterwarnings('ignore')"
   ]
  },
  {
   "cell_type": "markdown",
   "metadata": {},
   "source": [
    "# Load Data"
   ]
  },
  {
   "cell_type": "code",
   "execution_count": 2,
   "metadata": {},
   "outputs": [
    {
     "data": {
      "text/html": [
       "<div>\n",
       "<style scoped>\n",
       "    .dataframe tbody tr th:only-of-type {\n",
       "        vertical-align: middle;\n",
       "    }\n",
       "\n",
       "    .dataframe tbody tr th {\n",
       "        vertical-align: top;\n",
       "    }\n",
       "\n",
       "    .dataframe thead th {\n",
       "        text-align: right;\n",
       "    }\n",
       "</style>\n",
       "<table border=\"1\" class=\"dataframe\">\n",
       "  <thead>\n",
       "    <tr style=\"text-align: right;\">\n",
       "      <th></th>\n",
       "      <th>state_fips</th>\n",
       "      <th>state_name</th>\n",
       "      <th>lat</th>\n",
       "      <th>long</th>\n",
       "      <th>date</th>\n",
       "      <th>cases</th>\n",
       "      <th>deaths</th>\n",
       "      <th>tests_positive</th>\n",
       "      <th>tests_negative</th>\n",
       "      <th>tests_pending</th>\n",
       "      <th>tests</th>\n",
       "      <th>patients_icu</th>\n",
       "      <th>patients_hosp</th>\n",
       "      <th>patients_vent</th>\n",
       "      <th>recovered</th>\n",
       "    </tr>\n",
       "  </thead>\n",
       "  <tbody>\n",
       "    <tr>\n",
       "      <th>0</th>\n",
       "      <td>36</td>\n",
       "      <td>New York</td>\n",
       "      <td>42.913397</td>\n",
       "      <td>-75.596272</td>\n",
       "      <td>7/1/2020</td>\n",
       "      <td>398770</td>\n",
       "      <td>31791</td>\n",
       "      <td>394079.0</td>\n",
       "      <td>3577569.0</td>\n",
       "      <td>NaN</td>\n",
       "      <td>3971648.0</td>\n",
       "      <td>226.0</td>\n",
       "      <td>879.0</td>\n",
       "      <td>139.0</td>\n",
       "      <td>70590.0</td>\n",
       "    </tr>\n",
       "    <tr>\n",
       "      <th>1</th>\n",
       "      <td>36</td>\n",
       "      <td>New York</td>\n",
       "      <td>42.913397</td>\n",
       "      <td>-75.596272</td>\n",
       "      <td>7/2/2020</td>\n",
       "      <td>399642</td>\n",
       "      <td>31814</td>\n",
       "      <td>394954.0</td>\n",
       "      <td>3646639.0</td>\n",
       "      <td>NaN</td>\n",
       "      <td>4041593.0</td>\n",
       "      <td>209.0</td>\n",
       "      <td>878.0</td>\n",
       "      <td>129.0</td>\n",
       "      <td>70698.0</td>\n",
       "    </tr>\n",
       "    <tr>\n",
       "      <th>2</th>\n",
       "      <td>36</td>\n",
       "      <td>New York</td>\n",
       "      <td>42.913397</td>\n",
       "      <td>-75.596272</td>\n",
       "      <td>7/3/2020</td>\n",
       "      <td>400561</td>\n",
       "      <td>31836</td>\n",
       "      <td>395872.0</td>\n",
       "      <td>3712113.0</td>\n",
       "      <td>NaN</td>\n",
       "      <td>4107985.0</td>\n",
       "      <td>188.0</td>\n",
       "      <td>857.0</td>\n",
       "      <td>125.0</td>\n",
       "      <td>70794.0</td>\n",
       "    </tr>\n",
       "    <tr>\n",
       "      <th>3</th>\n",
       "      <td>36</td>\n",
       "      <td>New York</td>\n",
       "      <td>42.913397</td>\n",
       "      <td>-75.596272</td>\n",
       "      <td>7/4/2020</td>\n",
       "      <td>401286</td>\n",
       "      <td>31860</td>\n",
       "      <td>396598.0</td>\n",
       "      <td>3773790.0</td>\n",
       "      <td>NaN</td>\n",
       "      <td>4170388.0</td>\n",
       "      <td>190.0</td>\n",
       "      <td>844.0</td>\n",
       "      <td>119.0</td>\n",
       "      <td>70877.0</td>\n",
       "    </tr>\n",
       "    <tr>\n",
       "      <th>4</th>\n",
       "      <td>36</td>\n",
       "      <td>New York</td>\n",
       "      <td>42.913397</td>\n",
       "      <td>-75.596272</td>\n",
       "      <td>7/5/2020</td>\n",
       "      <td>401822</td>\n",
       "      <td>31895</td>\n",
       "      <td>397131.0</td>\n",
       "      <td>3836672.0</td>\n",
       "      <td>NaN</td>\n",
       "      <td>4233803.0</td>\n",
       "      <td>178.0</td>\n",
       "      <td>832.0</td>\n",
       "      <td>116.0</td>\n",
       "      <td>70968.0</td>\n",
       "    </tr>\n",
       "  </tbody>\n",
       "</table>\n",
       "</div>"
      ],
      "text/plain": [
       "   state_fips state_name        lat       long      date   cases  deaths  \\\n",
       "0          36   New York  42.913397 -75.596272  7/1/2020  398770   31791   \n",
       "1          36   New York  42.913397 -75.596272  7/2/2020  399642   31814   \n",
       "2          36   New York  42.913397 -75.596272  7/3/2020  400561   31836   \n",
       "3          36   New York  42.913397 -75.596272  7/4/2020  401286   31860   \n",
       "4          36   New York  42.913397 -75.596272  7/5/2020  401822   31895   \n",
       "\n",
       "   tests_positive  tests_negative  tests_pending      tests  patients_icu  \\\n",
       "0        394079.0       3577569.0            NaN  3971648.0         226.0   \n",
       "1        394954.0       3646639.0            NaN  4041593.0         209.0   \n",
       "2        395872.0       3712113.0            NaN  4107985.0         188.0   \n",
       "3        396598.0       3773790.0            NaN  4170388.0         190.0   \n",
       "4        397131.0       3836672.0            NaN  4233803.0         178.0   \n",
       "\n",
       "   patients_hosp  patients_vent  recovered  \n",
       "0          879.0          139.0    70590.0  \n",
       "1          878.0          129.0    70698.0  \n",
       "2          857.0          125.0    70794.0  \n",
       "3          844.0          119.0    70877.0  \n",
       "4          832.0          116.0    70968.0  "
      ]
     },
     "execution_count": 2,
     "metadata": {},
     "output_type": "execute_result"
    }
   ],
   "source": [
    "#Load dataset from csv\n",
    "usa = pd.read_csv('enigma_Aug_8_2020.csv')\n",
    "usa.head()"
   ]
  },
  {
   "cell_type": "code",
   "execution_count": null,
   "metadata": {},
   "outputs": [],
   "source": [
    "# #Load dataset from s3 Bucket\n",
    "\n",
    "# import boto3\n",
    "# import io\n",
    "# from sagemaker import get_execution_role\n",
    "# import os\n",
    "\n",
    "# # Amazon SageMaker Python SDK\n",
    "# import sagemaker.amazon.common as smac \n",
    "# import sagemaker\n",
    "\n",
    "# role = get_execution_role()\n",
    "# input_bucket = ''\n",
    "# in_data_key = ''\n",
    "# training_data_location = 's3://{}/{}'.format(input_bucket, in_data_key)\n",
    "\n",
    "# # Define the headers since the data does not have any\n",
    "# #headers = ['date','county','state','fips','cases','deaths']\n",
    "\n",
    "# #df = pd.read_csv(training_data_location, names=headers)\n",
    "# usa = pd.read_csv(training_data_location)\n",
    "# print('uploaded training data from location: {}'.format(training_data_location))"
   ]
  },
  {
   "cell_type": "code",
   "execution_count": 3,
   "metadata": {},
   "outputs": [
    {
     "data": {
      "text/html": [
       "<div>\n",
       "<style scoped>\n",
       "    .dataframe tbody tr th:only-of-type {\n",
       "        vertical-align: middle;\n",
       "    }\n",
       "\n",
       "    .dataframe tbody tr th {\n",
       "        vertical-align: top;\n",
       "    }\n",
       "\n",
       "    .dataframe thead th {\n",
       "        text-align: right;\n",
       "    }\n",
       "</style>\n",
       "<table border=\"1\" class=\"dataframe\">\n",
       "  <thead>\n",
       "    <tr style=\"text-align: right;\">\n",
       "      <th></th>\n",
       "      <th>state_name</th>\n",
       "      <th>date</th>\n",
       "      <th>cases</th>\n",
       "      <th>deaths</th>\n",
       "      <th>tests_positive</th>\n",
       "      <th>tests_negative</th>\n",
       "      <th>tests_pending</th>\n",
       "      <th>tests</th>\n",
       "      <th>patients_icu</th>\n",
       "      <th>patients_hosp</th>\n",
       "      <th>patients_vent</th>\n",
       "      <th>recovered</th>\n",
       "    </tr>\n",
       "  </thead>\n",
       "  <tbody>\n",
       "    <tr>\n",
       "      <th>0</th>\n",
       "      <td>New York</td>\n",
       "      <td>7/1/2020</td>\n",
       "      <td>398770</td>\n",
       "      <td>31791</td>\n",
       "      <td>394079.0</td>\n",
       "      <td>3577569.0</td>\n",
       "      <td>NaN</td>\n",
       "      <td>3971648.0</td>\n",
       "      <td>226.0</td>\n",
       "      <td>879.0</td>\n",
       "      <td>139.0</td>\n",
       "      <td>70590.0</td>\n",
       "    </tr>\n",
       "    <tr>\n",
       "      <th>1</th>\n",
       "      <td>New York</td>\n",
       "      <td>7/2/2020</td>\n",
       "      <td>399642</td>\n",
       "      <td>31814</td>\n",
       "      <td>394954.0</td>\n",
       "      <td>3646639.0</td>\n",
       "      <td>NaN</td>\n",
       "      <td>4041593.0</td>\n",
       "      <td>209.0</td>\n",
       "      <td>878.0</td>\n",
       "      <td>129.0</td>\n",
       "      <td>70698.0</td>\n",
       "    </tr>\n",
       "    <tr>\n",
       "      <th>2</th>\n",
       "      <td>New York</td>\n",
       "      <td>7/3/2020</td>\n",
       "      <td>400561</td>\n",
       "      <td>31836</td>\n",
       "      <td>395872.0</td>\n",
       "      <td>3712113.0</td>\n",
       "      <td>NaN</td>\n",
       "      <td>4107985.0</td>\n",
       "      <td>188.0</td>\n",
       "      <td>857.0</td>\n",
       "      <td>125.0</td>\n",
       "      <td>70794.0</td>\n",
       "    </tr>\n",
       "    <tr>\n",
       "      <th>3</th>\n",
       "      <td>New York</td>\n",
       "      <td>7/4/2020</td>\n",
       "      <td>401286</td>\n",
       "      <td>31860</td>\n",
       "      <td>396598.0</td>\n",
       "      <td>3773790.0</td>\n",
       "      <td>NaN</td>\n",
       "      <td>4170388.0</td>\n",
       "      <td>190.0</td>\n",
       "      <td>844.0</td>\n",
       "      <td>119.0</td>\n",
       "      <td>70877.0</td>\n",
       "    </tr>\n",
       "    <tr>\n",
       "      <th>4</th>\n",
       "      <td>New York</td>\n",
       "      <td>7/5/2020</td>\n",
       "      <td>401822</td>\n",
       "      <td>31895</td>\n",
       "      <td>397131.0</td>\n",
       "      <td>3836672.0</td>\n",
       "      <td>NaN</td>\n",
       "      <td>4233803.0</td>\n",
       "      <td>178.0</td>\n",
       "      <td>832.0</td>\n",
       "      <td>116.0</td>\n",
       "      <td>70968.0</td>\n",
       "    </tr>\n",
       "  </tbody>\n",
       "</table>\n",
       "</div>"
      ],
      "text/plain": [
       "  state_name      date   cases  deaths  tests_positive  tests_negative  \\\n",
       "0   New York  7/1/2020  398770   31791        394079.0       3577569.0   \n",
       "1   New York  7/2/2020  399642   31814        394954.0       3646639.0   \n",
       "2   New York  7/3/2020  400561   31836        395872.0       3712113.0   \n",
       "3   New York  7/4/2020  401286   31860        396598.0       3773790.0   \n",
       "4   New York  7/5/2020  401822   31895        397131.0       3836672.0   \n",
       "\n",
       "   tests_pending      tests  patients_icu  patients_hosp  patients_vent  \\\n",
       "0            NaN  3971648.0         226.0          879.0          139.0   \n",
       "1            NaN  4041593.0         209.0          878.0          129.0   \n",
       "2            NaN  4107985.0         188.0          857.0          125.0   \n",
       "3            NaN  4170388.0         190.0          844.0          119.0   \n",
       "4            NaN  4233803.0         178.0          832.0          116.0   \n",
       "\n",
       "   recovered  \n",
       "0    70590.0  \n",
       "1    70698.0  \n",
       "2    70794.0  \n",
       "3    70877.0  \n",
       "4    70968.0  "
      ]
     },
     "execution_count": 3,
     "metadata": {},
     "output_type": "execute_result"
    }
   ],
   "source": [
    "# Remove not needed columns\n",
    "usa = usa.drop(columns = ['state_fips', 'lat', 'long'])\n",
    "usa.head()"
   ]
  },
  {
   "cell_type": "code",
   "execution_count": 4,
   "metadata": {},
   "outputs": [
    {
     "data": {
      "text/html": [
       "<div>\n",
       "<style scoped>\n",
       "    .dataframe tbody tr th:only-of-type {\n",
       "        vertical-align: middle;\n",
       "    }\n",
       "\n",
       "    .dataframe tbody tr th {\n",
       "        vertical-align: top;\n",
       "    }\n",
       "\n",
       "    .dataframe thead th {\n",
       "        text-align: right;\n",
       "    }\n",
       "</style>\n",
       "<table border=\"1\" class=\"dataframe\">\n",
       "  <thead>\n",
       "    <tr style=\"text-align: right;\">\n",
       "      <th></th>\n",
       "      <th>state_name</th>\n",
       "      <th>date</th>\n",
       "      <th>cases</th>\n",
       "      <th>deaths</th>\n",
       "      <th>tests_positive</th>\n",
       "      <th>tests_negative</th>\n",
       "      <th>tests_pending</th>\n",
       "      <th>tests</th>\n",
       "      <th>patients_icu</th>\n",
       "      <th>patients_hosp</th>\n",
       "      <th>patients_vent</th>\n",
       "      <th>recovered</th>\n",
       "      <th>datetime</th>\n",
       "    </tr>\n",
       "  </thead>\n",
       "  <tbody>\n",
       "    <tr>\n",
       "      <th>8149</th>\n",
       "      <td>New York</td>\n",
       "      <td>6/26/2020</td>\n",
       "      <td>395972</td>\n",
       "      <td>31075</td>\n",
       "      <td>391220.0</td>\n",
       "      <td>3290097.0</td>\n",
       "      <td>NaN</td>\n",
       "      <td>3681317.0</td>\n",
       "      <td>244.0</td>\n",
       "      <td>951.0</td>\n",
       "      <td>167.0</td>\n",
       "      <td>70010.0</td>\n",
       "      <td>2020-06-26</td>\n",
       "    </tr>\n",
       "    <tr>\n",
       "      <th>8150</th>\n",
       "      <td>New York</td>\n",
       "      <td>6/27/2020</td>\n",
       "      <td>396669</td>\n",
       "      <td>31105</td>\n",
       "      <td>391923.0</td>\n",
       "      <td>3362656.0</td>\n",
       "      <td>NaN</td>\n",
       "      <td>3754579.0</td>\n",
       "      <td>230.0</td>\n",
       "      <td>908.0</td>\n",
       "      <td>167.0</td>\n",
       "      <td>70010.0</td>\n",
       "      <td>2020-06-27</td>\n",
       "    </tr>\n",
       "    <tr>\n",
       "      <th>8151</th>\n",
       "      <td>New York</td>\n",
       "      <td>6/28/2020</td>\n",
       "      <td>397293</td>\n",
       "      <td>31137</td>\n",
       "      <td>392539.0</td>\n",
       "      <td>3423946.0</td>\n",
       "      <td>NaN</td>\n",
       "      <td>3816485.0</td>\n",
       "      <td>229.0</td>\n",
       "      <td>869.0</td>\n",
       "      <td>167.0</td>\n",
       "      <td>70010.0</td>\n",
       "      <td>2020-06-28</td>\n",
       "    </tr>\n",
       "    <tr>\n",
       "      <th>8152</th>\n",
       "      <td>New York</td>\n",
       "      <td>6/29/2020</td>\n",
       "      <td>397684</td>\n",
       "      <td>31143</td>\n",
       "      <td>392930.0</td>\n",
       "      <td>3469983.0</td>\n",
       "      <td>NaN</td>\n",
       "      <td>3862913.0</td>\n",
       "      <td>216.0</td>\n",
       "      <td>853.0</td>\n",
       "      <td>136.0</td>\n",
       "      <td>70435.0</td>\n",
       "      <td>2020-06-29</td>\n",
       "    </tr>\n",
       "    <tr>\n",
       "      <th>8153</th>\n",
       "      <td>New York</td>\n",
       "      <td>6/30/2020</td>\n",
       "      <td>398142</td>\n",
       "      <td>31776</td>\n",
       "      <td>393454.0</td>\n",
       "      <td>3521484.0</td>\n",
       "      <td>NaN</td>\n",
       "      <td>3914938.0</td>\n",
       "      <td>217.0</td>\n",
       "      <td>891.0</td>\n",
       "      <td>137.0</td>\n",
       "      <td>70487.0</td>\n",
       "      <td>2020-06-30</td>\n",
       "    </tr>\n",
       "  </tbody>\n",
       "</table>\n",
       "</div>"
      ],
      "text/plain": [
       "     state_name       date   cases  deaths  tests_positive  tests_negative  \\\n",
       "8149   New York  6/26/2020  395972   31075        391220.0       3290097.0   \n",
       "8150   New York  6/27/2020  396669   31105        391923.0       3362656.0   \n",
       "8151   New York  6/28/2020  397293   31137        392539.0       3423946.0   \n",
       "8152   New York  6/29/2020  397684   31143        392930.0       3469983.0   \n",
       "8153   New York  6/30/2020  398142   31776        393454.0       3521484.0   \n",
       "\n",
       "      tests_pending      tests  patients_icu  patients_hosp  patients_vent  \\\n",
       "8149            NaN  3681317.0         244.0          951.0          167.0   \n",
       "8150            NaN  3754579.0         230.0          908.0          167.0   \n",
       "8151            NaN  3816485.0         229.0          869.0          167.0   \n",
       "8152            NaN  3862913.0         216.0          853.0          136.0   \n",
       "8153            NaN  3914938.0         217.0          891.0          137.0   \n",
       "\n",
       "      recovered   datetime  \n",
       "8149    70010.0 2020-06-26  \n",
       "8150    70010.0 2020-06-27  \n",
       "8151    70010.0 2020-06-28  \n",
       "8152    70435.0 2020-06-29  \n",
       "8153    70487.0 2020-06-30  "
      ]
     },
     "execution_count": 4,
     "metadata": {},
     "output_type": "execute_result"
    }
   ],
   "source": [
    "# Convert dates to datetime\n",
    "usa['datetime'] = pd.to_datetime(usa['date'])\n",
    "usa.tail()"
   ]
  },
  {
   "cell_type": "markdown",
   "metadata": {},
   "source": [
    "# Segment out the West North Central Divsion of the Midwest Region\n",
    "Iowa, Kansas, Minnesota, Missouri, North Dakota and South Dakota"
   ]
  },
  {
   "cell_type": "code",
   "execution_count": 5,
   "metadata": {},
   "outputs": [
    {
     "data": {
      "text/html": [
       "<div>\n",
       "<style scoped>\n",
       "    .dataframe tbody tr th:only-of-type {\n",
       "        vertical-align: middle;\n",
       "    }\n",
       "\n",
       "    .dataframe tbody tr th {\n",
       "        vertical-align: top;\n",
       "    }\n",
       "\n",
       "    .dataframe thead th {\n",
       "        text-align: right;\n",
       "    }\n",
       "</style>\n",
       "<table border=\"1\" class=\"dataframe\">\n",
       "  <thead>\n",
       "    <tr style=\"text-align: right;\">\n",
       "      <th></th>\n",
       "      <th>state_name</th>\n",
       "      <th>date</th>\n",
       "      <th>cases</th>\n",
       "      <th>deaths</th>\n",
       "      <th>tests_positive</th>\n",
       "      <th>tests_negative</th>\n",
       "      <th>tests_pending</th>\n",
       "      <th>tests</th>\n",
       "      <th>patients_icu</th>\n",
       "      <th>patients_hosp</th>\n",
       "      <th>patients_vent</th>\n",
       "      <th>recovered</th>\n",
       "      <th>datetime</th>\n",
       "    </tr>\n",
       "  </thead>\n",
       "  <tbody>\n",
       "    <tr>\n",
       "      <th>176</th>\n",
       "      <td>North Dakota</td>\n",
       "      <td>3/11/2020</td>\n",
       "      <td>1</td>\n",
       "      <td>0</td>\n",
       "      <td>0.0</td>\n",
       "      <td>7.0</td>\n",
       "      <td>6.0</td>\n",
       "      <td>7.0</td>\n",
       "      <td>NaN</td>\n",
       "      <td>NaN</td>\n",
       "      <td>NaN</td>\n",
       "      <td>NaN</td>\n",
       "      <td>2020-03-11</td>\n",
       "    </tr>\n",
       "    <tr>\n",
       "      <th>177</th>\n",
       "      <td>North Dakota</td>\n",
       "      <td>3/12/2020</td>\n",
       "      <td>1</td>\n",
       "      <td>0</td>\n",
       "      <td>1.0</td>\n",
       "      <td>12.0</td>\n",
       "      <td>14.0</td>\n",
       "      <td>13.0</td>\n",
       "      <td>NaN</td>\n",
       "      <td>NaN</td>\n",
       "      <td>NaN</td>\n",
       "      <td>NaN</td>\n",
       "      <td>2020-03-12</td>\n",
       "    </tr>\n",
       "    <tr>\n",
       "      <th>178</th>\n",
       "      <td>North Dakota</td>\n",
       "      <td>3/13/2020</td>\n",
       "      <td>1</td>\n",
       "      <td>0</td>\n",
       "      <td>1.0</td>\n",
       "      <td>39.0</td>\n",
       "      <td>12.0</td>\n",
       "      <td>40.0</td>\n",
       "      <td>NaN</td>\n",
       "      <td>NaN</td>\n",
       "      <td>NaN</td>\n",
       "      <td>NaN</td>\n",
       "      <td>2020-03-13</td>\n",
       "    </tr>\n",
       "    <tr>\n",
       "      <th>179</th>\n",
       "      <td>North Dakota</td>\n",
       "      <td>3/14/2020</td>\n",
       "      <td>1</td>\n",
       "      <td>0</td>\n",
       "      <td>1.0</td>\n",
       "      <td>54.0</td>\n",
       "      <td>14.0</td>\n",
       "      <td>55.0</td>\n",
       "      <td>NaN</td>\n",
       "      <td>NaN</td>\n",
       "      <td>NaN</td>\n",
       "      <td>NaN</td>\n",
       "      <td>2020-03-14</td>\n",
       "    </tr>\n",
       "    <tr>\n",
       "      <th>180</th>\n",
       "      <td>North Dakota</td>\n",
       "      <td>3/15/2020</td>\n",
       "      <td>1</td>\n",
       "      <td>0</td>\n",
       "      <td>1.0</td>\n",
       "      <td>95.0</td>\n",
       "      <td>4.0</td>\n",
       "      <td>96.0</td>\n",
       "      <td>NaN</td>\n",
       "      <td>NaN</td>\n",
       "      <td>NaN</td>\n",
       "      <td>NaN</td>\n",
       "      <td>2020-03-15</td>\n",
       "    </tr>\n",
       "  </tbody>\n",
       "</table>\n",
       "</div>"
      ],
      "text/plain": [
       "       state_name       date  cases  deaths  tests_positive  tests_negative  \\\n",
       "176  North Dakota  3/11/2020      1       0             0.0             7.0   \n",
       "177  North Dakota  3/12/2020      1       0             1.0            12.0   \n",
       "178  North Dakota  3/13/2020      1       0             1.0            39.0   \n",
       "179  North Dakota  3/14/2020      1       0             1.0            54.0   \n",
       "180  North Dakota  3/15/2020      1       0             1.0            95.0   \n",
       "\n",
       "     tests_pending  tests  patients_icu  patients_hosp  patients_vent  \\\n",
       "176            6.0    7.0           NaN            NaN            NaN   \n",
       "177           14.0   13.0           NaN            NaN            NaN   \n",
       "178           12.0   40.0           NaN            NaN            NaN   \n",
       "179           14.0   55.0           NaN            NaN            NaN   \n",
       "180            4.0   96.0           NaN            NaN            NaN   \n",
       "\n",
       "     recovered   datetime  \n",
       "176        NaN 2020-03-11  \n",
       "177        NaN 2020-03-12  \n",
       "178        NaN 2020-03-13  \n",
       "179        NaN 2020-03-14  \n",
       "180        NaN 2020-03-15  "
      ]
     },
     "execution_count": 5,
     "metadata": {},
     "output_type": "execute_result"
    }
   ],
   "source": [
    "# Create DF for just West North Central\n",
    "west_northern_central =  usa[(usa['state_name']=='Iowa') | (usa['state_name'] == 'Kansas') |\n",
    "                      (usa['state_name'] == 'Minnesota') | (usa['state_name'] == 'Missouri') | \n",
    "                     (usa['state_name']=='North Dakota') | (usa['state_name']=='South Dakota')] \n",
    "\n",
    "west_northern_central.head()"
   ]
  },
  {
   "cell_type": "code",
   "execution_count": 7,
   "metadata": {},
   "outputs": [
    {
     "data": {
      "text/html": [
       "<div>\n",
       "<style scoped>\n",
       "    .dataframe tbody tr th:only-of-type {\n",
       "        vertical-align: middle;\n",
       "    }\n",
       "\n",
       "    .dataframe tbody tr th {\n",
       "        vertical-align: top;\n",
       "    }\n",
       "\n",
       "    .dataframe thead th {\n",
       "        text-align: right;\n",
       "    }\n",
       "</style>\n",
       "<table border=\"1\" class=\"dataframe\">\n",
       "  <thead>\n",
       "    <tr style=\"text-align: right;\">\n",
       "      <th></th>\n",
       "      <th>cases</th>\n",
       "      <th>deaths</th>\n",
       "      <th>tests_positive</th>\n",
       "      <th>tests_negative</th>\n",
       "      <th>tests_pending</th>\n",
       "      <th>tests</th>\n",
       "      <th>patients_icu</th>\n",
       "      <th>patients_hosp</th>\n",
       "      <th>patients_vent</th>\n",
       "      <th>recovered</th>\n",
       "    </tr>\n",
       "    <tr>\n",
       "      <th>datetime</th>\n",
       "      <th></th>\n",
       "      <th></th>\n",
       "      <th></th>\n",
       "      <th></th>\n",
       "      <th></th>\n",
       "      <th></th>\n",
       "      <th></th>\n",
       "      <th></th>\n",
       "      <th></th>\n",
       "      <th></th>\n",
       "    </tr>\n",
       "  </thead>\n",
       "  <tbody>\n",
       "    <tr>\n",
       "      <th>2020-07-24</th>\n",
       "      <td>171407</td>\n",
       "      <td>4208</td>\n",
       "      <td>169034.0</td>\n",
       "      <td>2332495.0</td>\n",
       "      <td>0.0</td>\n",
       "      <td>2501529.0</td>\n",
       "      <td>278.0</td>\n",
       "      <td>1647.0</td>\n",
       "      <td>210.0</td>\n",
       "      <td>84981.0</td>\n",
       "    </tr>\n",
       "    <tr>\n",
       "      <th>2020-07-25</th>\n",
       "      <td>174036</td>\n",
       "      <td>4219</td>\n",
       "      <td>171821.0</td>\n",
       "      <td>2362999.0</td>\n",
       "      <td>0.0</td>\n",
       "      <td>2534820.0</td>\n",
       "      <td>285.0</td>\n",
       "      <td>1964.0</td>\n",
       "      <td>211.0</td>\n",
       "      <td>86157.0</td>\n",
       "    </tr>\n",
       "    <tr>\n",
       "      <th>2020-07-26</th>\n",
       "      <td>176951</td>\n",
       "      <td>4235</td>\n",
       "      <td>174660.0</td>\n",
       "      <td>2391636.0</td>\n",
       "      <td>0.0</td>\n",
       "      <td>2566296.0</td>\n",
       "      <td>290.0</td>\n",
       "      <td>1961.0</td>\n",
       "      <td>212.0</td>\n",
       "      <td>87249.0</td>\n",
       "    </tr>\n",
       "    <tr>\n",
       "      <th>2020-07-27</th>\n",
       "      <td>180225</td>\n",
       "      <td>4261</td>\n",
       "      <td>178009.0</td>\n",
       "      <td>2423595.0</td>\n",
       "      <td>0.0</td>\n",
       "      <td>2601604.0</td>\n",
       "      <td>262.0</td>\n",
       "      <td>1857.0</td>\n",
       "      <td>215.0</td>\n",
       "      <td>88412.0</td>\n",
       "    </tr>\n",
       "    <tr>\n",
       "      <th>2020-07-28</th>\n",
       "      <td>182605</td>\n",
       "      <td>4293</td>\n",
       "      <td>177964.0</td>\n",
       "      <td>2448856.0</td>\n",
       "      <td>0.0</td>\n",
       "      <td>2626820.0</td>\n",
       "      <td>271.0</td>\n",
       "      <td>1640.0</td>\n",
       "      <td>167.0</td>\n",
       "      <td>90149.0</td>\n",
       "    </tr>\n",
       "  </tbody>\n",
       "</table>\n",
       "</div>"
      ],
      "text/plain": [
       "             cases  deaths  tests_positive  tests_negative  tests_pending  \\\n",
       "datetime                                                                    \n",
       "2020-07-24  171407    4208        169034.0       2332495.0            0.0   \n",
       "2020-07-25  174036    4219        171821.0       2362999.0            0.0   \n",
       "2020-07-26  176951    4235        174660.0       2391636.0            0.0   \n",
       "2020-07-27  180225    4261        178009.0       2423595.0            0.0   \n",
       "2020-07-28  182605    4293        177964.0       2448856.0            0.0   \n",
       "\n",
       "                tests  patients_icu  patients_hosp  patients_vent  recovered  \n",
       "datetime                                                                      \n",
       "2020-07-24  2501529.0         278.0         1647.0          210.0    84981.0  \n",
       "2020-07-25  2534820.0         285.0         1964.0          211.0    86157.0  \n",
       "2020-07-26  2566296.0         290.0         1961.0          212.0    87249.0  \n",
       "2020-07-27  2601604.0         262.0         1857.0          215.0    88412.0  \n",
       "2020-07-28  2626820.0         271.0         1640.0          167.0    90149.0  "
      ]
     },
     "execution_count": 7,
     "metadata": {},
     "output_type": "execute_result"
    }
   ],
   "source": [
    "# Summing case count for Western Northern Central by date\n",
    "# Groupby to consolidate cases by entire region\n",
    "wnc_group = west_northern_central.groupby([\"datetime\"]).sum()\n",
    "wnc_group.tail()"
   ]
  },
  {
   "cell_type": "code",
   "execution_count": 8,
   "metadata": {},
   "outputs": [
    {
     "data": {
      "text/html": [
       "<div>\n",
       "<style scoped>\n",
       "    .dataframe tbody tr th:only-of-type {\n",
       "        vertical-align: middle;\n",
       "    }\n",
       "\n",
       "    .dataframe tbody tr th {\n",
       "        vertical-align: top;\n",
       "    }\n",
       "\n",
       "    .dataframe thead th {\n",
       "        text-align: right;\n",
       "    }\n",
       "</style>\n",
       "<table border=\"1\" class=\"dataframe\">\n",
       "  <thead>\n",
       "    <tr style=\"text-align: right;\">\n",
       "      <th></th>\n",
       "      <th>datetime</th>\n",
       "      <th>cases</th>\n",
       "      <th>deaths</th>\n",
       "      <th>tests_positive</th>\n",
       "      <th>tests_negative</th>\n",
       "      <th>tests_pending</th>\n",
       "      <th>tests</th>\n",
       "      <th>patients_icu</th>\n",
       "      <th>patients_hosp</th>\n",
       "      <th>patients_vent</th>\n",
       "      <th>recovered</th>\n",
       "    </tr>\n",
       "  </thead>\n",
       "  <tbody>\n",
       "    <tr>\n",
       "      <th>140</th>\n",
       "      <td>2020-07-24</td>\n",
       "      <td>171407</td>\n",
       "      <td>4208</td>\n",
       "      <td>169034.0</td>\n",
       "      <td>2332495.0</td>\n",
       "      <td>0.0</td>\n",
       "      <td>2501529.0</td>\n",
       "      <td>278.0</td>\n",
       "      <td>1647.0</td>\n",
       "      <td>210.0</td>\n",
       "      <td>84981.0</td>\n",
       "    </tr>\n",
       "    <tr>\n",
       "      <th>141</th>\n",
       "      <td>2020-07-25</td>\n",
       "      <td>174036</td>\n",
       "      <td>4219</td>\n",
       "      <td>171821.0</td>\n",
       "      <td>2362999.0</td>\n",
       "      <td>0.0</td>\n",
       "      <td>2534820.0</td>\n",
       "      <td>285.0</td>\n",
       "      <td>1964.0</td>\n",
       "      <td>211.0</td>\n",
       "      <td>86157.0</td>\n",
       "    </tr>\n",
       "    <tr>\n",
       "      <th>142</th>\n",
       "      <td>2020-07-26</td>\n",
       "      <td>176951</td>\n",
       "      <td>4235</td>\n",
       "      <td>174660.0</td>\n",
       "      <td>2391636.0</td>\n",
       "      <td>0.0</td>\n",
       "      <td>2566296.0</td>\n",
       "      <td>290.0</td>\n",
       "      <td>1961.0</td>\n",
       "      <td>212.0</td>\n",
       "      <td>87249.0</td>\n",
       "    </tr>\n",
       "    <tr>\n",
       "      <th>143</th>\n",
       "      <td>2020-07-27</td>\n",
       "      <td>180225</td>\n",
       "      <td>4261</td>\n",
       "      <td>178009.0</td>\n",
       "      <td>2423595.0</td>\n",
       "      <td>0.0</td>\n",
       "      <td>2601604.0</td>\n",
       "      <td>262.0</td>\n",
       "      <td>1857.0</td>\n",
       "      <td>215.0</td>\n",
       "      <td>88412.0</td>\n",
       "    </tr>\n",
       "    <tr>\n",
       "      <th>144</th>\n",
       "      <td>2020-07-28</td>\n",
       "      <td>182605</td>\n",
       "      <td>4293</td>\n",
       "      <td>177964.0</td>\n",
       "      <td>2448856.0</td>\n",
       "      <td>0.0</td>\n",
       "      <td>2626820.0</td>\n",
       "      <td>271.0</td>\n",
       "      <td>1640.0</td>\n",
       "      <td>167.0</td>\n",
       "      <td>90149.0</td>\n",
       "    </tr>\n",
       "  </tbody>\n",
       "</table>\n",
       "</div>"
      ],
      "text/plain": [
       "      datetime   cases  deaths  tests_positive  tests_negative  tests_pending  \\\n",
       "140 2020-07-24  171407    4208        169034.0       2332495.0            0.0   \n",
       "141 2020-07-25  174036    4219        171821.0       2362999.0            0.0   \n",
       "142 2020-07-26  176951    4235        174660.0       2391636.0            0.0   \n",
       "143 2020-07-27  180225    4261        178009.0       2423595.0            0.0   \n",
       "144 2020-07-28  182605    4293        177964.0       2448856.0            0.0   \n",
       "\n",
       "         tests  patients_icu  patients_hosp  patients_vent  recovered  \n",
       "140  2501529.0         278.0         1647.0          210.0    84981.0  \n",
       "141  2534820.0         285.0         1964.0          211.0    86157.0  \n",
       "142  2566296.0         290.0         1961.0          212.0    87249.0  \n",
       "143  2601604.0         262.0         1857.0          215.0    88412.0  \n",
       "144  2626820.0         271.0         1640.0          167.0    90149.0  "
      ]
     },
     "execution_count": 8,
     "metadata": {},
     "output_type": "execute_result"
    }
   ],
   "source": [
    "# Sort by datetime and reset index\n",
    "wnc_group.sort_values(by = 'datetime')\n",
    "wnc_group = wnc_group.reset_index()\n",
    "wnc_group.tail()"
   ]
  },
  {
   "cell_type": "code",
   "execution_count": 9,
   "metadata": {},
   "outputs": [
    {
     "data": {
      "text/html": [
       "<div>\n",
       "<style scoped>\n",
       "    .dataframe tbody tr th:only-of-type {\n",
       "        vertical-align: middle;\n",
       "    }\n",
       "\n",
       "    .dataframe tbody tr th {\n",
       "        vertical-align: top;\n",
       "    }\n",
       "\n",
       "    .dataframe thead th {\n",
       "        text-align: right;\n",
       "    }\n",
       "</style>\n",
       "<table border=\"1\" class=\"dataframe\">\n",
       "  <thead>\n",
       "    <tr style=\"text-align: right;\">\n",
       "      <th></th>\n",
       "      <th>datetime</th>\n",
       "      <th>cases</th>\n",
       "      <th>deaths</th>\n",
       "      <th>tests_positive</th>\n",
       "      <th>tests_negative</th>\n",
       "      <th>tests_pending</th>\n",
       "      <th>tests</th>\n",
       "      <th>patients_icu</th>\n",
       "      <th>patients_hosp</th>\n",
       "      <th>patients_vent</th>\n",
       "      <th>recovered</th>\n",
       "      <th>day</th>\n",
       "      <th>month</th>\n",
       "      <th>year</th>\n",
       "      <th>growth_rate</th>\n",
       "    </tr>\n",
       "  </thead>\n",
       "  <tbody>\n",
       "    <tr>\n",
       "      <th>140</th>\n",
       "      <td>2020-07-24</td>\n",
       "      <td>171407</td>\n",
       "      <td>4208</td>\n",
       "      <td>169034.0</td>\n",
       "      <td>2332495.0</td>\n",
       "      <td>0.0</td>\n",
       "      <td>2501529.0</td>\n",
       "      <td>278.0</td>\n",
       "      <td>1647.0</td>\n",
       "      <td>210.0</td>\n",
       "      <td>84981.0</td>\n",
       "      <td>24</td>\n",
       "      <td>7</td>\n",
       "      <td>2020</td>\n",
       "      <td>0.022483</td>\n",
       "    </tr>\n",
       "    <tr>\n",
       "      <th>141</th>\n",
       "      <td>2020-07-25</td>\n",
       "      <td>174036</td>\n",
       "      <td>4219</td>\n",
       "      <td>171821.0</td>\n",
       "      <td>2362999.0</td>\n",
       "      <td>0.0</td>\n",
       "      <td>2534820.0</td>\n",
       "      <td>285.0</td>\n",
       "      <td>1964.0</td>\n",
       "      <td>211.0</td>\n",
       "      <td>86157.0</td>\n",
       "      <td>25</td>\n",
       "      <td>7</td>\n",
       "      <td>2020</td>\n",
       "      <td>0.015338</td>\n",
       "    </tr>\n",
       "    <tr>\n",
       "      <th>142</th>\n",
       "      <td>2020-07-26</td>\n",
       "      <td>176951</td>\n",
       "      <td>4235</td>\n",
       "      <td>174660.0</td>\n",
       "      <td>2391636.0</td>\n",
       "      <td>0.0</td>\n",
       "      <td>2566296.0</td>\n",
       "      <td>290.0</td>\n",
       "      <td>1961.0</td>\n",
       "      <td>212.0</td>\n",
       "      <td>87249.0</td>\n",
       "      <td>26</td>\n",
       "      <td>7</td>\n",
       "      <td>2020</td>\n",
       "      <td>0.016749</td>\n",
       "    </tr>\n",
       "    <tr>\n",
       "      <th>143</th>\n",
       "      <td>2020-07-27</td>\n",
       "      <td>180225</td>\n",
       "      <td>4261</td>\n",
       "      <td>178009.0</td>\n",
       "      <td>2423595.0</td>\n",
       "      <td>0.0</td>\n",
       "      <td>2601604.0</td>\n",
       "      <td>262.0</td>\n",
       "      <td>1857.0</td>\n",
       "      <td>215.0</td>\n",
       "      <td>88412.0</td>\n",
       "      <td>27</td>\n",
       "      <td>7</td>\n",
       "      <td>2020</td>\n",
       "      <td>0.018502</td>\n",
       "    </tr>\n",
       "    <tr>\n",
       "      <th>144</th>\n",
       "      <td>2020-07-28</td>\n",
       "      <td>182605</td>\n",
       "      <td>4293</td>\n",
       "      <td>177964.0</td>\n",
       "      <td>2448856.0</td>\n",
       "      <td>0.0</td>\n",
       "      <td>2626820.0</td>\n",
       "      <td>271.0</td>\n",
       "      <td>1640.0</td>\n",
       "      <td>167.0</td>\n",
       "      <td>90149.0</td>\n",
       "      <td>28</td>\n",
       "      <td>7</td>\n",
       "      <td>2020</td>\n",
       "      <td>0.013206</td>\n",
       "    </tr>\n",
       "  </tbody>\n",
       "</table>\n",
       "</div>"
      ],
      "text/plain": [
       "      datetime   cases  deaths  tests_positive  tests_negative  tests_pending  \\\n",
       "140 2020-07-24  171407    4208        169034.0       2332495.0            0.0   \n",
       "141 2020-07-25  174036    4219        171821.0       2362999.0            0.0   \n",
       "142 2020-07-26  176951    4235        174660.0       2391636.0            0.0   \n",
       "143 2020-07-27  180225    4261        178009.0       2423595.0            0.0   \n",
       "144 2020-07-28  182605    4293        177964.0       2448856.0            0.0   \n",
       "\n",
       "         tests  patients_icu  patients_hosp  patients_vent  recovered  day  \\\n",
       "140  2501529.0         278.0         1647.0          210.0    84981.0   24   \n",
       "141  2534820.0         285.0         1964.0          211.0    86157.0   25   \n",
       "142  2566296.0         290.0         1961.0          212.0    87249.0   26   \n",
       "143  2601604.0         262.0         1857.0          215.0    88412.0   27   \n",
       "144  2626820.0         271.0         1640.0          167.0    90149.0   28   \n",
       "\n",
       "     month  year  growth_rate  \n",
       "140      7  2020     0.022483  \n",
       "141      7  2020     0.015338  \n",
       "142      7  2020     0.016749  \n",
       "143      7  2020     0.018502  \n",
       "144      7  2020     0.013206  "
      ]
     },
     "execution_count": 9,
     "metadata": {},
     "output_type": "execute_result"
    }
   ],
   "source": [
    "# Finish datetime conversion\n",
    "wnc_group['datetime'] = pd.to_datetime(wnc_group['datetime'])\n",
    "wnc_group['day'] = wnc_group['datetime'].map(lambda x: x.day)\n",
    "wnc_group['month'] = wnc_group['datetime'].map(lambda x: x.month)\n",
    "wnc_group['year'] = wnc_group['datetime'].map(lambda x: x.year)\n",
    "\n",
    "# Now create new column for growth rate\n",
    "wnc_group['growth_rate'] = wnc_group['cases'].pct_change()\n",
    "wnc_group.tail()"
   ]
  },
  {
   "cell_type": "code",
   "execution_count": 10,
   "metadata": {},
   "outputs": [
    {
     "data": {
      "text/plain": [
       "count    144.000000\n",
       "mean       0.102193\n",
       "std        0.227918\n",
       "min        0.007319\n",
       "25%        0.015921\n",
       "50%        0.027547\n",
       "75%        0.075900\n",
       "max        2.000000\n",
       "Name: growth_rate, dtype: float64"
      ]
     },
     "execution_count": 10,
     "metadata": {},
     "output_type": "execute_result"
    }
   ],
   "source": [
    "# Look at the stats\n",
    "wnc_group['growth_rate'].describe()"
   ]
  },
  {
   "cell_type": "code",
   "execution_count": 11,
   "metadata": {},
   "outputs": [
    {
     "data": {
      "text/plain": [
       "datetime          0\n",
       "cases             0\n",
       "deaths            0\n",
       "tests_positive    0\n",
       "tests_negative    0\n",
       "tests_pending     0\n",
       "tests             0\n",
       "patients_icu      0\n",
       "patients_hosp     0\n",
       "patients_vent     0\n",
       "recovered         0\n",
       "day               0\n",
       "month             0\n",
       "year              0\n",
       "growth_rate       1\n",
       "dtype: int64"
      ]
     },
     "execution_count": 11,
     "metadata": {},
     "output_type": "execute_result"
    }
   ],
   "source": [
    "# Check for Null Values\n",
    "wnc_group.isnull().sum()"
   ]
  },
  {
   "cell_type": "code",
   "execution_count": 12,
   "metadata": {},
   "outputs": [],
   "source": [
    "# Drop the null value since there is only 1\n",
    "wnc_group = wnc_group.dropna()"
   ]
  },
  {
   "cell_type": "markdown",
   "metadata": {},
   "source": [
    "# Visualize Growth Rate and Cases"
   ]
  },
  {
   "cell_type": "code",
   "execution_count": 35,
   "metadata": {},
   "outputs": [
    {
     "data": {
      "image/png": "[encoded data removed]",
      "text/plain": [
       "<Figure size 1080x432 with 1 Axes>"
      ]
     },
     "metadata": {
      "needs_background": "light"
     },
     "output_type": "display_data"
    }
   ],
   "source": [
    "# Scatter plot for growth rate\n",
    "\n",
    "plt.figure(figsize = (15, 6))\n",
    "plt.scatter(wnc_group['datetime'],wnc_group['growth_rate'],c='#000080',)\n",
    "plt.grid(True)\n",
    "plt.title(\"West Northern Central Division Growth Rate\", fontsize = 20)\n",
    "plt.ylabel('Growth Rate', fontsize = 20)\n",
    "plt.show()"
   ]
  },
  {
   "cell_type": "code",
   "execution_count": 36,
   "metadata": {},
   "outputs": [
    {
     "data": {
      "image/png": "[encoded data removed]",
      "text/plain": [
       "<Figure size 1080x432 with 1 Axes>"
      ]
     },
     "metadata": {
      "needs_background": "light"
     },
     "output_type": "display_data"
    }
   ],
   "source": [
    "# Scatter plot for cases\n",
    "\n",
    "plt.figure(figsize = (15, 6))\n",
    "plt.scatter(wnc_group['datetime'],wnc_group['cases'],c='#000080',)\n",
    "plt.grid(True)\n",
    "plt.title('West Northern Central Division Cases Over Time', fontsize = 20)\n",
    "plt.ylabel('Cases', fontsize = 20)\n",
    "plt.show()"
   ]
  },
  {
   "cell_type": "markdown",
   "metadata": {},
   "source": [
    "# Create Machine Learning Model\n",
    "We will use a Linear Rgression Model to predict Covid-19 cases through the end of 2020."
   ]
  },
  {
   "cell_type": "code",
   "execution_count": 15,
   "metadata": {},
   "outputs": [],
   "source": [
    "# Make the model\n",
    "wnc_model = LinearRegression()"
   ]
  },
  {
   "cell_type": "code",
   "execution_count": 16,
   "metadata": {},
   "outputs": [],
   "source": [
    "# Assign the features and the target\n",
    "X_wnc = wnc_group[[\"day\", \"month\", \"year\"]]\n",
    "y_wnc = wnc_group[[\"cases\"]]"
   ]
  },
  {
   "cell_type": "code",
   "execution_count": 17,
   "metadata": {},
   "outputs": [],
   "source": [
    "# Split the data for training and testing\n",
    "X_train_wnc, X_test_wnc, y_train_wnc, y_test_wnc = train_test_split(X_wnc, y_wnc, random_state=42) "
   ]
  },
  {
   "cell_type": "code",
   "execution_count": 18,
   "metadata": {},
   "outputs": [
    {
     "data": {
      "text/plain": [
       "0.9637699814619062"
      ]
     },
     "execution_count": 18,
     "metadata": {},
     "output_type": "execute_result"
    }
   ],
   "source": [
    "# Fit the model with the training data and score it with the testing data\n",
    "wnc_model.fit(X_train_wnc, y_train_wnc)\n",
    "wnc_model.score(X_test_wnc, y_test_wnc)"
   ]
  },
  {
   "cell_type": "code",
   "execution_count": 19,
   "metadata": {},
   "outputs": [
    {
     "data": {
      "text/html": [
       "<div>\n",
       "<style scoped>\n",
       "    .dataframe tbody tr th:only-of-type {\n",
       "        vertical-align: middle;\n",
       "    }\n",
       "\n",
       "    .dataframe tbody tr th {\n",
       "        vertical-align: top;\n",
       "    }\n",
       "\n",
       "    .dataframe thead th {\n",
       "        text-align: right;\n",
       "    }\n",
       "</style>\n",
       "<table border=\"1\" class=\"dataframe\">\n",
       "  <thead>\n",
       "    <tr style=\"text-align: right;\">\n",
       "      <th></th>\n",
       "      <th>day</th>\n",
       "      <th>month</th>\n",
       "      <th>year</th>\n",
       "      <th>datetime</th>\n",
       "    </tr>\n",
       "  </thead>\n",
       "  <tbody>\n",
       "    <tr>\n",
       "      <th>0</th>\n",
       "      <td>7</td>\n",
       "      <td>9</td>\n",
       "      <td>2020</td>\n",
       "      <td>2020-09-07</td>\n",
       "    </tr>\n",
       "    <tr>\n",
       "      <th>1</th>\n",
       "      <td>3</td>\n",
       "      <td>11</td>\n",
       "      <td>2020</td>\n",
       "      <td>2020-11-03</td>\n",
       "    </tr>\n",
       "    <tr>\n",
       "      <th>2</th>\n",
       "      <td>26</td>\n",
       "      <td>11</td>\n",
       "      <td>2020</td>\n",
       "      <td>2020-11-26</td>\n",
       "    </tr>\n",
       "    <tr>\n",
       "      <th>3</th>\n",
       "      <td>25</td>\n",
       "      <td>12</td>\n",
       "      <td>2020</td>\n",
       "      <td>2020-12-25</td>\n",
       "    </tr>\n",
       "  </tbody>\n",
       "</table>\n",
       "</div>"
      ],
      "text/plain": [
       "   day  month  year   datetime\n",
       "0    7      9  2020 2020-09-07\n",
       "1    3     11  2020 2020-11-03\n",
       "2   26     11  2020 2020-11-26\n",
       "3   25     12  2020 2020-12-25"
      ]
     },
     "execution_count": 19,
     "metadata": {},
     "output_type": "execute_result"
    }
   ],
   "source": [
    "# Make Dataframe for the holidays which will be used for the predicitons:\n",
    "# Labor Day, Election Day, Thanksgiving, Christmas\n",
    "\n",
    "holidays = {\"day\": [7, 3, 26, 25], \"month\": [9, 11, 11, 12], \"year\": [2020, 2020, 2020, 2020]}\n",
    "predict_holidays = pd.DataFrame(holidays)\n",
    "predict_holidays[\"datetime\"] = pd.to_datetime((predict_holidays.year*10000+predict_holidays.month*100+predict_holidays.day).apply(str),format='%Y%m%d')\n",
    "predict_holidays"
   ]
  },
  {
   "cell_type": "code",
   "execution_count": 20,
   "metadata": {},
   "outputs": [],
   "source": [
    "# Predict with the model\n",
    "predictions = wnc_model.predict(predict_holidays[[\"day\", \"month\", \"year\"]])\n",
    "predictions\n",
    "\n",
    "# convert predictions from ndarray to list\n",
    "preds_arr = []\n",
    "for i in predictions:\n",
    "    preds_arr.append(np.asscalar(i))\n"
   ]
  },
  {
   "cell_type": "code",
   "execution_count": 22,
   "metadata": {},
   "outputs": [
    {
     "data": {
      "text/html": [
       "<div>\n",
       "<style scoped>\n",
       "    .dataframe tbody tr th:only-of-type {\n",
       "        vertical-align: middle;\n",
       "    }\n",
       "\n",
       "    .dataframe tbody tr th {\n",
       "        vertical-align: top;\n",
       "    }\n",
       "\n",
       "    .dataframe thead th {\n",
       "        text-align: right;\n",
       "    }\n",
       "</style>\n",
       "<table border=\"1\" class=\"dataframe\">\n",
       "  <thead>\n",
       "    <tr style=\"text-align: right;\">\n",
       "      <th></th>\n",
       "      <th>day</th>\n",
       "      <th>month</th>\n",
       "      <th>year</th>\n",
       "      <th>datetime</th>\n",
       "      <th>predicted_cases</th>\n",
       "    </tr>\n",
       "  </thead>\n",
       "  <tbody>\n",
       "    <tr>\n",
       "      <th>0</th>\n",
       "      <td>7</td>\n",
       "      <td>9</td>\n",
       "      <td>2020</td>\n",
       "      <td>2020-09-07</td>\n",
       "      <td>205261.153470</td>\n",
       "    </tr>\n",
       "    <tr>\n",
       "      <th>1</th>\n",
       "      <td>3</td>\n",
       "      <td>11</td>\n",
       "      <td>2020</td>\n",
       "      <td>2020-11-03</td>\n",
       "      <td>278260.403275</td>\n",
       "    </tr>\n",
       "    <tr>\n",
       "      <th>2</th>\n",
       "      <td>26</td>\n",
       "      <td>11</td>\n",
       "      <td>2020</td>\n",
       "      <td>2020-11-26</td>\n",
       "      <td>309506.368117</td>\n",
       "    </tr>\n",
       "    <tr>\n",
       "      <th>3</th>\n",
       "      <td>25</td>\n",
       "      <td>12</td>\n",
       "      <td>2020</td>\n",
       "      <td>2020-12-25</td>\n",
       "      <td>347364.513231</td>\n",
       "    </tr>\n",
       "  </tbody>\n",
       "</table>\n",
       "</div>"
      ],
      "text/plain": [
       "   day  month  year   datetime  predicted_cases\n",
       "0    7      9  2020 2020-09-07    205261.153470\n",
       "1    3     11  2020 2020-11-03    278260.403275\n",
       "2   26     11  2020 2020-11-26    309506.368117\n",
       "3   25     12  2020 2020-12-25    347364.513231"
      ]
     },
     "execution_count": 22,
     "metadata": {},
     "output_type": "execute_result"
    }
   ],
   "source": [
    "# Add the precitions back to the DataFrame and convert from object to \n",
    "# float so we can use it for graphing\n",
    "predict_holidays[\"predicted_cases\"] = predictions\n",
    "predict_holidays[\"predicted_cases\"] = predict_holidays['predicted_cases'].astype('float')\n",
    "predict_holidays.head()"
   ]
  },
  {
   "cell_type": "code",
   "execution_count": 33,
   "metadata": {},
   "outputs": [
    {
     "data": {
      "image/png": "[encoded data removed]",
      "text/plain": [
       "<Figure size 1080x432 with 1 Axes>"
      ]
     },
     "metadata": {
      "needs_background": "light"
     },
     "output_type": "display_data"
    }
   ],
   "source": [
    "# Graph with Actual Values and Predicitons\n",
    "\n",
    "plt.figure(figsize = (15, 6))\n",
    "plt.scatter(predict_holidays['datetime'],predict_holidays['predicted_cases'],c='#d0312d',)\n",
    "plt.scatter(wnc_group['datetime'],wnc_group['cases'],c='#000080',)\n",
    "plt.grid(True)\n",
    "plt.title('West Northern Central Division Cases Over Time', fontsize = 20)\n",
    "plt.ylabel('Cases', fontsize = 20)\n",
    "plt.show()"
   ]
  },
  {
   "cell_type": "markdown",
   "metadata": {},
   "source": [
    "# Make Predictions for States within the West North Central Division"
   ]
  },
  {
   "cell_type": "markdown",
   "metadata": {},
   "source": [
    "## Iowa"
   ]
  },
  {
   "cell_type": "code",
   "execution_count": 37,
   "metadata": {},
   "outputs": [
    {
     "data": {
      "text/html": [
       "<div>\n",
       "<style scoped>\n",
       "    .dataframe tbody tr th:only-of-type {\n",
       "        vertical-align: middle;\n",
       "    }\n",
       "\n",
       "    .dataframe tbody tr th {\n",
       "        vertical-align: top;\n",
       "    }\n",
       "\n",
       "    .dataframe thead th {\n",
       "        text-align: right;\n",
       "    }\n",
       "</style>\n",
       "<table border=\"1\" class=\"dataframe\">\n",
       "  <thead>\n",
       "    <tr style=\"text-align: right;\">\n",
       "      <th></th>\n",
       "      <th>state_name</th>\n",
       "      <th>date</th>\n",
       "      <th>cases</th>\n",
       "      <th>deaths</th>\n",
       "      <th>tests_positive</th>\n",
       "      <th>tests_negative</th>\n",
       "      <th>tests_pending</th>\n",
       "      <th>tests</th>\n",
       "      <th>patients_icu</th>\n",
       "      <th>patients_hosp</th>\n",
       "      <th>patients_vent</th>\n",
       "      <th>recovered</th>\n",
       "      <th>datetime</th>\n",
       "      <th>growth_rate</th>\n",
       "    </tr>\n",
       "  </thead>\n",
       "  <tbody>\n",
       "    <tr>\n",
       "      <th>5541</th>\n",
       "      <td>Iowa</td>\n",
       "      <td>3/8/2020</td>\n",
       "      <td>3</td>\n",
       "      <td>0</td>\n",
       "      <td>0.0</td>\n",
       "      <td>15.0</td>\n",
       "      <td>2.0</td>\n",
       "      <td>15.0</td>\n",
       "      <td>NaN</td>\n",
       "      <td>NaN</td>\n",
       "      <td>NaN</td>\n",
       "      <td>NaN</td>\n",
       "      <td>2020-03-08</td>\n",
       "      <td>NaN</td>\n",
       "    </tr>\n",
       "    <tr>\n",
       "      <th>5542</th>\n",
       "      <td>Iowa</td>\n",
       "      <td>3/9/2020</td>\n",
       "      <td>8</td>\n",
       "      <td>0</td>\n",
       "      <td>3.0</td>\n",
       "      <td>26.0</td>\n",
       "      <td>8.0</td>\n",
       "      <td>29.0</td>\n",
       "      <td>NaN</td>\n",
       "      <td>NaN</td>\n",
       "      <td>NaN</td>\n",
       "      <td>NaN</td>\n",
       "      <td>2020-03-09</td>\n",
       "      <td>1.666667</td>\n",
       "    </tr>\n",
       "    <tr>\n",
       "      <th>5543</th>\n",
       "      <td>Iowa</td>\n",
       "      <td>3/10/2020</td>\n",
       "      <td>13</td>\n",
       "      <td>0</td>\n",
       "      <td>8.0</td>\n",
       "      <td>32.0</td>\n",
       "      <td>11.0</td>\n",
       "      <td>40.0</td>\n",
       "      <td>NaN</td>\n",
       "      <td>NaN</td>\n",
       "      <td>NaN</td>\n",
       "      <td>NaN</td>\n",
       "      <td>2020-03-10</td>\n",
       "      <td>0.625000</td>\n",
       "    </tr>\n",
       "    <tr>\n",
       "      <th>5544</th>\n",
       "      <td>Iowa</td>\n",
       "      <td>3/11/2020</td>\n",
       "      <td>14</td>\n",
       "      <td>0</td>\n",
       "      <td>13.0</td>\n",
       "      <td>46.0</td>\n",
       "      <td>27.0</td>\n",
       "      <td>59.0</td>\n",
       "      <td>NaN</td>\n",
       "      <td>NaN</td>\n",
       "      <td>NaN</td>\n",
       "      <td>NaN</td>\n",
       "      <td>2020-03-11</td>\n",
       "      <td>0.076923</td>\n",
       "    </tr>\n",
       "    <tr>\n",
       "      <th>5545</th>\n",
       "      <td>Iowa</td>\n",
       "      <td>3/12/2020</td>\n",
       "      <td>16</td>\n",
       "      <td>0</td>\n",
       "      <td>14.0</td>\n",
       "      <td>67.0</td>\n",
       "      <td>24.0</td>\n",
       "      <td>81.0</td>\n",
       "      <td>NaN</td>\n",
       "      <td>NaN</td>\n",
       "      <td>NaN</td>\n",
       "      <td>NaN</td>\n",
       "      <td>2020-03-12</td>\n",
       "      <td>0.142857</td>\n",
       "    </tr>\n",
       "  </tbody>\n",
       "</table>\n",
       "</div>"
      ],
      "text/plain": [
       "     state_name       date  cases  deaths  tests_positive  tests_negative  \\\n",
       "5541       Iowa   3/8/2020      3       0             0.0            15.0   \n",
       "5542       Iowa   3/9/2020      8       0             3.0            26.0   \n",
       "5543       Iowa  3/10/2020     13       0             8.0            32.0   \n",
       "5544       Iowa  3/11/2020     14       0            13.0            46.0   \n",
       "5545       Iowa  3/12/2020     16       0            14.0            67.0   \n",
       "\n",
       "      tests_pending  tests  patients_icu  patients_hosp  patients_vent  \\\n",
       "5541            2.0   15.0           NaN            NaN            NaN   \n",
       "5542            8.0   29.0           NaN            NaN            NaN   \n",
       "5543           11.0   40.0           NaN            NaN            NaN   \n",
       "5544           27.0   59.0           NaN            NaN            NaN   \n",
       "5545           24.0   81.0           NaN            NaN            NaN   \n",
       "\n",
       "      recovered   datetime  growth_rate  \n",
       "5541        NaN 2020-03-08          NaN  \n",
       "5542        NaN 2020-03-09     1.666667  \n",
       "5543        NaN 2020-03-10     0.625000  \n",
       "5544        NaN 2020-03-11     0.076923  \n",
       "5545        NaN 2020-03-12     0.142857  "
      ]
     },
     "execution_count": 37,
     "metadata": {},
     "output_type": "execute_result"
    }
   ],
   "source": [
    "# Create DF just for Iowa\n",
    "\n",
    "Iowa= usa[usa['state_name']=='Iowa']\n",
    "\n",
    "# now create new column for growth rate\n",
    "Iowa['growth_rate'] = Iowa['cases'].pct_change()\n",
    "Iowa.head(5)"
   ]
  },
  {
   "cell_type": "code",
   "execution_count": 38,
   "metadata": {},
   "outputs": [],
   "source": [
    "# Convert to datetime and separate out the columns\n",
    "\n",
    "Iowa['datetime'] = pd.to_datetime(Iowa['datetime'])\n",
    "Iowa['day'] = Iowa['datetime'].map(lambda x: x.day)\n",
    "Iowa['month'] = Iowa['datetime'].map(lambda x: x.month)\n",
    "Iowa['year'] = Iowa['datetime'].map(lambda x: x.year)"
   ]
  },
  {
   "cell_type": "markdown",
   "metadata": {},
   "source": [
    "## Linear Regression for Iowa"
   ]
  },
  {
   "cell_type": "code",
   "execution_count": 39,
   "metadata": {},
   "outputs": [],
   "source": [
    "# Create the model\n",
    "iowa_model = LinearRegression()"
   ]
  },
  {
   "cell_type": "code",
   "execution_count": 64,
   "metadata": {},
   "outputs": [],
   "source": [
    "# Assign features and the target\n",
    "X_iowa = Iowa[['day', 'month', 'year']]\n",
    "y_iowa = Iowa[\"cases\"]"
   ]
  },
  {
   "cell_type": "code",
   "execution_count": 41,
   "metadata": {},
   "outputs": [],
   "source": [
    "# Split the data for training and testing\n",
    "X_train_iowa, X_test_iowa, y_train_iowa, y_test_iowa = train_test_split(X_iowa, y_iowa, random_state=42)"
   ]
  },
  {
   "cell_type": "code",
   "execution_count": 42,
   "metadata": {},
   "outputs": [
    {
     "data": {
      "text/plain": [
       "0.9718965405653371"
      ]
     },
     "execution_count": 42,
     "metadata": {},
     "output_type": "execute_result"
    }
   ],
   "source": [
    "# Fit and score the model\n",
    "iowa_model.fit(X_train_iowa, y_train_iowa)\n",
    "iowa_model.score(X_test_iowa, y_test_iowa)"
   ]
  },
  {
   "cell_type": "code",
   "execution_count": 43,
   "metadata": {},
   "outputs": [
    {
     "data": {
      "text/plain": [
       "array([52269.32774047, 70915.60672574, 78530.30370489, 88184.51697923])"
      ]
     },
     "execution_count": 43,
     "metadata": {},
     "output_type": "execute_result"
    }
   ],
   "source": [
    "# Create predictions\n",
    "iowa_preds = iowa_model.predict(predict_holidays[[\"day\", \"month\", \"year\"]])\n",
    "iowa_preds"
   ]
  },
  {
   "cell_type": "code",
   "execution_count": 44,
   "metadata": {},
   "outputs": [
    {
     "data": {
      "text/html": [
       "<div>\n",
       "<style scoped>\n",
       "    .dataframe tbody tr th:only-of-type {\n",
       "        vertical-align: middle;\n",
       "    }\n",
       "\n",
       "    .dataframe tbody tr th {\n",
       "        vertical-align: top;\n",
       "    }\n",
       "\n",
       "    .dataframe thead th {\n",
       "        text-align: right;\n",
       "    }\n",
       "</style>\n",
       "<table border=\"1\" class=\"dataframe\">\n",
       "  <thead>\n",
       "    <tr style=\"text-align: right;\">\n",
       "      <th></th>\n",
       "      <th>day</th>\n",
       "      <th>month</th>\n",
       "      <th>year</th>\n",
       "      <th>datetime</th>\n",
       "    </tr>\n",
       "  </thead>\n",
       "  <tbody>\n",
       "    <tr>\n",
       "      <th>0</th>\n",
       "      <td>7</td>\n",
       "      <td>9</td>\n",
       "      <td>2020</td>\n",
       "      <td>2020-09-07</td>\n",
       "    </tr>\n",
       "    <tr>\n",
       "      <th>1</th>\n",
       "      <td>3</td>\n",
       "      <td>11</td>\n",
       "      <td>2020</td>\n",
       "      <td>2020-11-03</td>\n",
       "    </tr>\n",
       "    <tr>\n",
       "      <th>2</th>\n",
       "      <td>26</td>\n",
       "      <td>11</td>\n",
       "      <td>2020</td>\n",
       "      <td>2020-11-26</td>\n",
       "    </tr>\n",
       "    <tr>\n",
       "      <th>3</th>\n",
       "      <td>25</td>\n",
       "      <td>12</td>\n",
       "      <td>2020</td>\n",
       "      <td>2020-12-25</td>\n",
       "    </tr>\n",
       "  </tbody>\n",
       "</table>\n",
       "</div>"
      ],
      "text/plain": [
       "   day  month  year   datetime\n",
       "0    7      9  2020 2020-09-07\n",
       "1    3     11  2020 2020-11-03\n",
       "2   26     11  2020 2020-11-26\n",
       "3   25     12  2020 2020-12-25"
      ]
     },
     "execution_count": 44,
     "metadata": {},
     "output_type": "execute_result"
    }
   ],
   "source": [
    "# set up dataframe to put Iowa predicitons in\n",
    "iowa_predictions = predict_holidays[[\"day\", \"month\", \"year\", \"datetime\"]]\n",
    "iowa_predictions"
   ]
  },
  {
   "cell_type": "code",
   "execution_count": 65,
   "metadata": {},
   "outputs": [],
   "source": [
    "# convert predictions from ndarray to list\n",
    "\n",
    "preds_arr = []\n",
    "for i in iowa_preds:\n",
    "    preds_arr.append(np.asscalar(i))\n"
   ]
  },
  {
   "cell_type": "markdown",
   "metadata": {},
   "source": [
    "## Predictions for Iowa"
   ]
  },
  {
   "cell_type": "code",
   "execution_count": 47,
   "metadata": {},
   "outputs": [
    {
     "data": {
      "text/html": [
       "<div>\n",
       "<style scoped>\n",
       "    .dataframe tbody tr th:only-of-type {\n",
       "        vertical-align: middle;\n",
       "    }\n",
       "\n",
       "    .dataframe tbody tr th {\n",
       "        vertical-align: top;\n",
       "    }\n",
       "\n",
       "    .dataframe thead th {\n",
       "        text-align: right;\n",
       "    }\n",
       "</style>\n",
       "<table border=\"1\" class=\"dataframe\">\n",
       "  <thead>\n",
       "    <tr style=\"text-align: right;\">\n",
       "      <th></th>\n",
       "      <th>day</th>\n",
       "      <th>month</th>\n",
       "      <th>year</th>\n",
       "      <th>datetime</th>\n",
       "      <th>predicted_cases</th>\n",
       "    </tr>\n",
       "  </thead>\n",
       "  <tbody>\n",
       "    <tr>\n",
       "      <th>0</th>\n",
       "      <td>7</td>\n",
       "      <td>9</td>\n",
       "      <td>2020</td>\n",
       "      <td>2020-09-07</td>\n",
       "      <td>52269.327740</td>\n",
       "    </tr>\n",
       "    <tr>\n",
       "      <th>1</th>\n",
       "      <td>3</td>\n",
       "      <td>11</td>\n",
       "      <td>2020</td>\n",
       "      <td>2020-11-03</td>\n",
       "      <td>70915.606726</td>\n",
       "    </tr>\n",
       "    <tr>\n",
       "      <th>2</th>\n",
       "      <td>26</td>\n",
       "      <td>11</td>\n",
       "      <td>2020</td>\n",
       "      <td>2020-11-26</td>\n",
       "      <td>78530.303705</td>\n",
       "    </tr>\n",
       "    <tr>\n",
       "      <th>3</th>\n",
       "      <td>25</td>\n",
       "      <td>12</td>\n",
       "      <td>2020</td>\n",
       "      <td>2020-12-25</td>\n",
       "      <td>88184.516979</td>\n",
       "    </tr>\n",
       "  </tbody>\n",
       "</table>\n",
       "</div>"
      ],
      "text/plain": [
       "   day  month  year   datetime  predicted_cases\n",
       "0    7      9  2020 2020-09-07     52269.327740\n",
       "1    3     11  2020 2020-11-03     70915.606726\n",
       "2   26     11  2020 2020-11-26     78530.303705\n",
       "3   25     12  2020 2020-12-25     88184.516979"
      ]
     },
     "execution_count": 47,
     "metadata": {},
     "output_type": "execute_result"
    }
   ],
   "source": [
    "# Add the precitions back to the DataFrame and convert from object to \n",
    "# float so we can use it for graphing\n",
    "\n",
    "iowa_predictions[\"predicted_cases\"] = iowa_preds\n",
    "iowa_predictions[\"predicted_cases\"] = iowa_predictions['predicted_cases'].astype('float')\n",
    "iowa_predictions.head()"
   ]
  },
  {
   "cell_type": "code",
   "execution_count": 48,
   "metadata": {},
   "outputs": [
    {
     "data": {
      "image/png": "[encoded data removed]",
      "text/plain": [
       "<Figure size 1080x432 with 1 Axes>"
      ]
     },
     "metadata": {
      "needs_background": "light"
     },
     "output_type": "display_data"
    }
   ],
   "source": [
    "# Graph with Actual Values and Predicitons\n",
    "\n",
    "plt.figure(figsize = (15, 6))\n",
    "plt.scatter(iowa_predictions['datetime'], iowa_predictions['predicted_cases'],c='#d0312d',)\n",
    "plt.scatter(Iowa['datetime'],Iowa['cases'],c='#000080',)\n",
    "plt.grid(True)\n",
    "plt.title('Iowa Cases Over Time', fontsize = 20)\n",
    "plt.ylabel('Cases', fontsize = 20)\n",
    "plt.show()"
   ]
  },
  {
   "cell_type": "markdown",
   "metadata": {},
   "source": [
    "## Minnesota"
   ]
  },
  {
   "cell_type": "code",
   "execution_count": 49,
   "metadata": {},
   "outputs": [
    {
     "data": {
      "text/html": [
       "<div>\n",
       "<style scoped>\n",
       "    .dataframe tbody tr th:only-of-type {\n",
       "        vertical-align: middle;\n",
       "    }\n",
       "\n",
       "    .dataframe tbody tr th {\n",
       "        vertical-align: top;\n",
       "    }\n",
       "\n",
       "    .dataframe thead th {\n",
       "        text-align: right;\n",
       "    }\n",
       "</style>\n",
       "<table border=\"1\" class=\"dataframe\">\n",
       "  <thead>\n",
       "    <tr style=\"text-align: right;\">\n",
       "      <th></th>\n",
       "      <th>state_name</th>\n",
       "      <th>date</th>\n",
       "      <th>cases</th>\n",
       "      <th>deaths</th>\n",
       "      <th>tests_positive</th>\n",
       "      <th>tests_negative</th>\n",
       "      <th>tests_pending</th>\n",
       "      <th>tests</th>\n",
       "      <th>patients_icu</th>\n",
       "      <th>patients_hosp</th>\n",
       "      <th>patients_vent</th>\n",
       "      <th>recovered</th>\n",
       "      <th>datetime</th>\n",
       "      <th>growth_rate</th>\n",
       "    </tr>\n",
       "  </thead>\n",
       "  <tbody>\n",
       "    <tr>\n",
       "      <th>6720</th>\n",
       "      <td>Minnesota</td>\n",
       "      <td>3/6/2020</td>\n",
       "      <td>1</td>\n",
       "      <td>0</td>\n",
       "      <td>1.0</td>\n",
       "      <td>36.0</td>\n",
       "      <td>NaN</td>\n",
       "      <td>37.0</td>\n",
       "      <td>NaN</td>\n",
       "      <td>NaN</td>\n",
       "      <td>NaN</td>\n",
       "      <td>NaN</td>\n",
       "      <td>2020-03-06</td>\n",
       "      <td>NaN</td>\n",
       "    </tr>\n",
       "    <tr>\n",
       "      <th>6721</th>\n",
       "      <td>Minnesota</td>\n",
       "      <td>3/7/2020</td>\n",
       "      <td>1</td>\n",
       "      <td>0</td>\n",
       "      <td>2.0</td>\n",
       "      <td>48.0</td>\n",
       "      <td>NaN</td>\n",
       "      <td>50.0</td>\n",
       "      <td>NaN</td>\n",
       "      <td>NaN</td>\n",
       "      <td>NaN</td>\n",
       "      <td>NaN</td>\n",
       "      <td>2020-03-07</td>\n",
       "      <td>0.0</td>\n",
       "    </tr>\n",
       "    <tr>\n",
       "      <th>6722</th>\n",
       "      <td>Minnesota</td>\n",
       "      <td>3/8/2020</td>\n",
       "      <td>2</td>\n",
       "      <td>0</td>\n",
       "      <td>2.0</td>\n",
       "      <td>48.0</td>\n",
       "      <td>NaN</td>\n",
       "      <td>50.0</td>\n",
       "      <td>NaN</td>\n",
       "      <td>NaN</td>\n",
       "      <td>NaN</td>\n",
       "      <td>NaN</td>\n",
       "      <td>2020-03-08</td>\n",
       "      <td>1.0</td>\n",
       "    </tr>\n",
       "    <tr>\n",
       "      <th>6723</th>\n",
       "      <td>Minnesota</td>\n",
       "      <td>3/9/2020</td>\n",
       "      <td>2</td>\n",
       "      <td>0</td>\n",
       "      <td>5.0</td>\n",
       "      <td>80.0</td>\n",
       "      <td>NaN</td>\n",
       "      <td>85.0</td>\n",
       "      <td>NaN</td>\n",
       "      <td>NaN</td>\n",
       "      <td>NaN</td>\n",
       "      <td>NaN</td>\n",
       "      <td>2020-03-09</td>\n",
       "      <td>0.0</td>\n",
       "    </tr>\n",
       "    <tr>\n",
       "      <th>6724</th>\n",
       "      <td>Minnesota</td>\n",
       "      <td>3/10/2020</td>\n",
       "      <td>3</td>\n",
       "      <td>0</td>\n",
       "      <td>11.0</td>\n",
       "      <td>132.0</td>\n",
       "      <td>NaN</td>\n",
       "      <td>143.0</td>\n",
       "      <td>NaN</td>\n",
       "      <td>NaN</td>\n",
       "      <td>NaN</td>\n",
       "      <td>NaN</td>\n",
       "      <td>2020-03-10</td>\n",
       "      <td>0.5</td>\n",
       "    </tr>\n",
       "  </tbody>\n",
       "</table>\n",
       "</div>"
      ],
      "text/plain": [
       "     state_name       date  cases  deaths  tests_positive  tests_negative  \\\n",
       "6720  Minnesota   3/6/2020      1       0             1.0            36.0   \n",
       "6721  Minnesota   3/7/2020      1       0             2.0            48.0   \n",
       "6722  Minnesota   3/8/2020      2       0             2.0            48.0   \n",
       "6723  Minnesota   3/9/2020      2       0             5.0            80.0   \n",
       "6724  Minnesota  3/10/2020      3       0            11.0           132.0   \n",
       "\n",
       "      tests_pending  tests  patients_icu  patients_hosp  patients_vent  \\\n",
       "6720            NaN   37.0           NaN            NaN            NaN   \n",
       "6721            NaN   50.0           NaN            NaN            NaN   \n",
       "6722            NaN   50.0           NaN            NaN            NaN   \n",
       "6723            NaN   85.0           NaN            NaN            NaN   \n",
       "6724            NaN  143.0           NaN            NaN            NaN   \n",
       "\n",
       "      recovered   datetime  growth_rate  \n",
       "6720        NaN 2020-03-06          NaN  \n",
       "6721        NaN 2020-03-07          0.0  \n",
       "6722        NaN 2020-03-08          1.0  \n",
       "6723        NaN 2020-03-09          0.0  \n",
       "6724        NaN 2020-03-10          0.5  "
      ]
     },
     "execution_count": 49,
     "metadata": {},
     "output_type": "execute_result"
    }
   ],
   "source": [
    "# Create DF for just Minneosta\n",
    "minnesota = usa[usa['state_name']=='Minnesota']\n",
    "minnesota\n",
    "\n",
    "# now create new column for growth rate\n",
    "minnesota['growth_rate'] = minnesota['cases'].pct_change()\n",
    "minnesota.head(5)"
   ]
  },
  {
   "cell_type": "code",
   "execution_count": 50,
   "metadata": {},
   "outputs": [],
   "source": [
    "# Convert to datetime and separate out the columns\n",
    "\n",
    "minnesota['datetime'] = pd.to_datetime(minnesota['datetime'])\n",
    "minnesota['day'] = minnesota['datetime'].map(lambda x: x.day)\n",
    "minnesota['month'] = minnesota['datetime'].map(lambda x: x.month)\n",
    "minnesota['year'] = minnesota['datetime'].map(lambda x: x.year)"
   ]
  },
  {
   "cell_type": "markdown",
   "metadata": {},
   "source": [
    "## Linear Regression for Minnesota"
   ]
  },
  {
   "cell_type": "code",
   "execution_count": 51,
   "metadata": {},
   "outputs": [],
   "source": [
    "# Create the model\n",
    "\n",
    "mn_model = LinearRegression()"
   ]
  },
  {
   "cell_type": "code",
   "execution_count": 52,
   "metadata": {},
   "outputs": [],
   "source": [
    "# Assign the features and the target\n",
    "\n",
    "X_mn = minnesota[['day', 'month', 'year']]\n",
    "y_mn = minnesota[\"cases\"]"
   ]
  },
  {
   "cell_type": "code",
   "execution_count": 53,
   "metadata": {},
   "outputs": [],
   "source": [
    "# Split the data for training and testing\n",
    "\n",
    "X_train_mn, X_test_mn, y_train_mn, y_test_mn = train_test_split(X_mn, y_mn, random_state=42)"
   ]
  },
  {
   "cell_type": "code",
   "execution_count": 54,
   "metadata": {},
   "outputs": [
    {
     "data": {
      "text/plain": [
       "0.95709986384744"
      ]
     },
     "execution_count": 54,
     "metadata": {},
     "output_type": "execute_result"
    }
   ],
   "source": [
    "# Fit and score the model\n",
    "\n",
    "mn_model.fit(X_train_mn, y_train_mn)\n",
    "mn_model.score(X_test_mn, y_test_mn)"
   ]
  },
  {
   "cell_type": "code",
   "execution_count": 55,
   "metadata": {},
   "outputs": [
    {
     "data": {
      "text/plain": [
       "array([ 62874.97572212,  85478.13229762,  95179.99411537, 106903.39248215])"
      ]
     },
     "execution_count": 55,
     "metadata": {},
     "output_type": "execute_result"
    }
   ],
   "source": [
    "# Find predictions\n",
    "\n",
    "mn_preds = mn_model.predict(predict_holidays[[\"day\", \"month\", \"year\"]])\n",
    "mn_preds"
   ]
  },
  {
   "cell_type": "code",
   "execution_count": 57,
   "metadata": {},
   "outputs": [
    {
     "data": {
      "text/html": [
       "<div>\n",
       "<style scoped>\n",
       "    .dataframe tbody tr th:only-of-type {\n",
       "        vertical-align: middle;\n",
       "    }\n",
       "\n",
       "    .dataframe tbody tr th {\n",
       "        vertical-align: top;\n",
       "    }\n",
       "\n",
       "    .dataframe thead th {\n",
       "        text-align: right;\n",
       "    }\n",
       "</style>\n",
       "<table border=\"1\" class=\"dataframe\">\n",
       "  <thead>\n",
       "    <tr style=\"text-align: right;\">\n",
       "      <th></th>\n",
       "      <th>day</th>\n",
       "      <th>month</th>\n",
       "      <th>year</th>\n",
       "      <th>datetime</th>\n",
       "    </tr>\n",
       "  </thead>\n",
       "  <tbody>\n",
       "    <tr>\n",
       "      <th>0</th>\n",
       "      <td>7</td>\n",
       "      <td>9</td>\n",
       "      <td>2020</td>\n",
       "      <td>2020-09-07</td>\n",
       "    </tr>\n",
       "    <tr>\n",
       "      <th>1</th>\n",
       "      <td>3</td>\n",
       "      <td>11</td>\n",
       "      <td>2020</td>\n",
       "      <td>2020-11-03</td>\n",
       "    </tr>\n",
       "    <tr>\n",
       "      <th>2</th>\n",
       "      <td>26</td>\n",
       "      <td>11</td>\n",
       "      <td>2020</td>\n",
       "      <td>2020-11-26</td>\n",
       "    </tr>\n",
       "    <tr>\n",
       "      <th>3</th>\n",
       "      <td>25</td>\n",
       "      <td>12</td>\n",
       "      <td>2020</td>\n",
       "      <td>2020-12-25</td>\n",
       "    </tr>\n",
       "  </tbody>\n",
       "</table>\n",
       "</div>"
      ],
      "text/plain": [
       "   day  month  year   datetime\n",
       "0    7      9  2020 2020-09-07\n",
       "1    3     11  2020 2020-11-03\n",
       "2   26     11  2020 2020-11-26\n",
       "3   25     12  2020 2020-12-25"
      ]
     },
     "execution_count": 57,
     "metadata": {},
     "output_type": "execute_result"
    }
   ],
   "source": [
    "# set up dataframe to put Minnesota predicitons in\n",
    "mn_predictions = predict_holidays[[\"day\", \"month\", \"year\", \"datetime\"]]\n",
    "mn_predictions"
   ]
  },
  {
   "cell_type": "code",
   "execution_count": 58,
   "metadata": {},
   "outputs": [],
   "source": [
    "# convert predictions from ndarray to list\n",
    "\n",
    "preds_arr = []\n",
    "for i in mn_preds:\n",
    "    preds_arr.append(np.asscalar(i))"
   ]
  },
  {
   "cell_type": "markdown",
   "metadata": {},
   "source": [
    "## Predictions for Minnesota"
   ]
  },
  {
   "cell_type": "code",
   "execution_count": 59,
   "metadata": {},
   "outputs": [
    {
     "data": {
      "text/html": [
       "<div>\n",
       "<style scoped>\n",
       "    .dataframe tbody tr th:only-of-type {\n",
       "        vertical-align: middle;\n",
       "    }\n",
       "\n",
       "    .dataframe tbody tr th {\n",
       "        vertical-align: top;\n",
       "    }\n",
       "\n",
       "    .dataframe thead th {\n",
       "        text-align: right;\n",
       "    }\n",
       "</style>\n",
       "<table border=\"1\" class=\"dataframe\">\n",
       "  <thead>\n",
       "    <tr style=\"text-align: right;\">\n",
       "      <th></th>\n",
       "      <th>day</th>\n",
       "      <th>month</th>\n",
       "      <th>year</th>\n",
       "      <th>datetime</th>\n",
       "      <th>predicted_cases</th>\n",
       "    </tr>\n",
       "  </thead>\n",
       "  <tbody>\n",
       "    <tr>\n",
       "      <th>0</th>\n",
       "      <td>7</td>\n",
       "      <td>9</td>\n",
       "      <td>2020</td>\n",
       "      <td>2020-09-07</td>\n",
       "      <td>62874.975722</td>\n",
       "    </tr>\n",
       "    <tr>\n",
       "      <th>1</th>\n",
       "      <td>3</td>\n",
       "      <td>11</td>\n",
       "      <td>2020</td>\n",
       "      <td>2020-11-03</td>\n",
       "      <td>85478.132298</td>\n",
       "    </tr>\n",
       "    <tr>\n",
       "      <th>2</th>\n",
       "      <td>26</td>\n",
       "      <td>11</td>\n",
       "      <td>2020</td>\n",
       "      <td>2020-11-26</td>\n",
       "      <td>95179.994115</td>\n",
       "    </tr>\n",
       "    <tr>\n",
       "      <th>3</th>\n",
       "      <td>25</td>\n",
       "      <td>12</td>\n",
       "      <td>2020</td>\n",
       "      <td>2020-12-25</td>\n",
       "      <td>106903.392482</td>\n",
       "    </tr>\n",
       "  </tbody>\n",
       "</table>\n",
       "</div>"
      ],
      "text/plain": [
       "   day  month  year   datetime  predicted_cases\n",
       "0    7      9  2020 2020-09-07     62874.975722\n",
       "1    3     11  2020 2020-11-03     85478.132298\n",
       "2   26     11  2020 2020-11-26     95179.994115\n",
       "3   25     12  2020 2020-12-25    106903.392482"
      ]
     },
     "execution_count": 59,
     "metadata": {},
     "output_type": "execute_result"
    }
   ],
   "source": [
    "# Add the precitions back to the DataFrame and convert from object to \n",
    "# float so we can use it for graphing\n",
    "\n",
    "mn_predictions[\"predicted_cases\"] = mn_preds\n",
    "mn_predictions[\"predicted_cases\"] = mn_predictions['predicted_cases'].astype('float')\n",
    "mn_predictions.head()"
   ]
  },
  {
   "cell_type": "code",
   "execution_count": 61,
   "metadata": {},
   "outputs": [
    {
     "data": {
      "image/png": "[encoded data removed]",
      "text/plain": [
       "<Figure size 1080x432 with 1 Axes>"
      ]
     },
     "metadata": {
      "needs_background": "light"
     },
     "output_type": "display_data"
    }
   ],
   "source": [
    "plt.figure(figsize = (15, 6))\n",
    "plt.scatter(mn_predictions['datetime'], mn_predictions['predicted_cases'],c='#d0312d',)\n",
    "plt.scatter(minnesota['datetime'],minnesota['cases'],c='#000080',)\n",
    "plt.grid(True)\n",
    "plt.title('Minnesota Cases Over Time', fontsize = 20)\n",
    "plt.ylabel('Cases', fontsize = 20)\n",
    "plt.show()"
   ]
  },
  {
   "cell_type": "markdown",
   "metadata": {},
   "source": [
    "## Kannas"
   ]
  },
  {
   "cell_type": "code",
   "execution_count": 62,
   "metadata": {},
   "outputs": [
    {
     "data": {
      "text/html": [
       "<div>\n",
       "<style scoped>\n",
       "    .dataframe tbody tr th:only-of-type {\n",
       "        vertical-align: middle;\n",
       "    }\n",
       "\n",
       "    .dataframe tbody tr th {\n",
       "        vertical-align: top;\n",
       "    }\n",
       "\n",
       "    .dataframe thead th {\n",
       "        text-align: right;\n",
       "    }\n",
       "</style>\n",
       "<table border=\"1\" class=\"dataframe\">\n",
       "  <thead>\n",
       "    <tr style=\"text-align: right;\">\n",
       "      <th></th>\n",
       "      <th>state_name</th>\n",
       "      <th>date</th>\n",
       "      <th>cases</th>\n",
       "      <th>deaths</th>\n",
       "      <th>tests_positive</th>\n",
       "      <th>tests_negative</th>\n",
       "      <th>tests_pending</th>\n",
       "      <th>tests</th>\n",
       "      <th>patients_icu</th>\n",
       "      <th>patients_hosp</th>\n",
       "      <th>patients_vent</th>\n",
       "      <th>recovered</th>\n",
       "      <th>datetime</th>\n",
       "      <th>growth_rate</th>\n",
       "    </tr>\n",
       "  </thead>\n",
       "  <tbody>\n",
       "    <tr>\n",
       "      <th>5684</th>\n",
       "      <td>Kansas</td>\n",
       "      <td>3/7/2020</td>\n",
       "      <td>1</td>\n",
       "      <td>0</td>\n",
       "      <td>0.0</td>\n",
       "      <td>11.0</td>\n",
       "      <td>2.0</td>\n",
       "      <td>11.0</td>\n",
       "      <td>NaN</td>\n",
       "      <td>NaN</td>\n",
       "      <td>NaN</td>\n",
       "      <td>NaN</td>\n",
       "      <td>2020-03-07</td>\n",
       "      <td>NaN</td>\n",
       "    </tr>\n",
       "    <tr>\n",
       "      <th>5685</th>\n",
       "      <td>Kansas</td>\n",
       "      <td>3/8/2020</td>\n",
       "      <td>1</td>\n",
       "      <td>0</td>\n",
       "      <td>1.0</td>\n",
       "      <td>11.0</td>\n",
       "      <td>0.0</td>\n",
       "      <td>12.0</td>\n",
       "      <td>NaN</td>\n",
       "      <td>NaN</td>\n",
       "      <td>NaN</td>\n",
       "      <td>NaN</td>\n",
       "      <td>2020-03-08</td>\n",
       "      <td>0.0</td>\n",
       "    </tr>\n",
       "    <tr>\n",
       "      <th>5686</th>\n",
       "      <td>Kansas</td>\n",
       "      <td>3/9/2020</td>\n",
       "      <td>1</td>\n",
       "      <td>0</td>\n",
       "      <td>1.0</td>\n",
       "      <td>11.0</td>\n",
       "      <td>0.0</td>\n",
       "      <td>12.0</td>\n",
       "      <td>NaN</td>\n",
       "      <td>NaN</td>\n",
       "      <td>NaN</td>\n",
       "      <td>NaN</td>\n",
       "      <td>2020-03-09</td>\n",
       "      <td>0.0</td>\n",
       "    </tr>\n",
       "    <tr>\n",
       "      <th>5687</th>\n",
       "      <td>Kansas</td>\n",
       "      <td>3/10/2020</td>\n",
       "      <td>1</td>\n",
       "      <td>0</td>\n",
       "      <td>1.0</td>\n",
       "      <td>17.0</td>\n",
       "      <td>21.0</td>\n",
       "      <td>18.0</td>\n",
       "      <td>NaN</td>\n",
       "      <td>NaN</td>\n",
       "      <td>NaN</td>\n",
       "      <td>NaN</td>\n",
       "      <td>2020-03-10</td>\n",
       "      <td>0.0</td>\n",
       "    </tr>\n",
       "    <tr>\n",
       "      <th>5688</th>\n",
       "      <td>Kansas</td>\n",
       "      <td>3/11/2020</td>\n",
       "      <td>1</td>\n",
       "      <td>0</td>\n",
       "      <td>1.0</td>\n",
       "      <td>41.0</td>\n",
       "      <td>NaN</td>\n",
       "      <td>42.0</td>\n",
       "      <td>NaN</td>\n",
       "      <td>NaN</td>\n",
       "      <td>NaN</td>\n",
       "      <td>NaN</td>\n",
       "      <td>2020-03-11</td>\n",
       "      <td>0.0</td>\n",
       "    </tr>\n",
       "  </tbody>\n",
       "</table>\n",
       "</div>"
      ],
      "text/plain": [
       "     state_name       date  cases  deaths  tests_positive  tests_negative  \\\n",
       "5684     Kansas   3/7/2020      1       0             0.0            11.0   \n",
       "5685     Kansas   3/8/2020      1       0             1.0            11.0   \n",
       "5686     Kansas   3/9/2020      1       0             1.0            11.0   \n",
       "5687     Kansas  3/10/2020      1       0             1.0            17.0   \n",
       "5688     Kansas  3/11/2020      1       0             1.0            41.0   \n",
       "\n",
       "      tests_pending  tests  patients_icu  patients_hosp  patients_vent  \\\n",
       "5684            2.0   11.0           NaN            NaN            NaN   \n",
       "5685            0.0   12.0           NaN            NaN            NaN   \n",
       "5686            0.0   12.0           NaN            NaN            NaN   \n",
       "5687           21.0   18.0           NaN            NaN            NaN   \n",
       "5688            NaN   42.0           NaN            NaN            NaN   \n",
       "\n",
       "      recovered   datetime  growth_rate  \n",
       "5684        NaN 2020-03-07          NaN  \n",
       "5685        NaN 2020-03-08          0.0  \n",
       "5686        NaN 2020-03-09          0.0  \n",
       "5687        NaN 2020-03-10          0.0  \n",
       "5688        NaN 2020-03-11          0.0  "
      ]
     },
     "execution_count": 62,
     "metadata": {},
     "output_type": "execute_result"
    }
   ],
   "source": [
    "# Create DF for just Kannas\n",
    "Kansas = usa[usa['state_name']=='Kansas']\n",
    "# now create new column for growth rate\n",
    "Kansas['growth_rate'] = Kansas['cases'].pct_change()\n",
    "Kansas.head(5)"
   ]
  },
  {
   "cell_type": "code",
   "execution_count": 63,
   "metadata": {},
   "outputs": [],
   "source": [
    "# Convert to Datetime and separate out into individual columns\n",
    "Kansas['datetime'] = pd.to_datetime(Kansas['datetime'])\n",
    "Kansas['day'] = Kansas['datetime'].map(lambda x: x.day)\n",
    "Kansas['month'] = Kansas['datetime'].map(lambda x: x.month)\n",
    "Kansas['year'] = Kansas['datetime'].map(lambda x: x.year)"
   ]
  },
  {
   "cell_type": "markdown",
   "metadata": {},
   "source": [
    "## Linear Regression for Kansas"
   ]
  },
  {
   "cell_type": "code",
   "execution_count": 78,
   "metadata": {},
   "outputs": [],
   "source": [
    "# Create the model\n",
    "\n",
    "ks_model = LinearRegression()"
   ]
  },
  {
   "cell_type": "code",
   "execution_count": 79,
   "metadata": {},
   "outputs": [],
   "source": [
    "# Assign features and the target\n",
    "\n",
    "X_ks = Kansas[['day', 'month', 'year']]\n",
    "y_ks = Kansas[\"cases\"]"
   ]
  },
  {
   "cell_type": "code",
   "execution_count": 80,
   "metadata": {},
   "outputs": [],
   "source": [
    "# Split the data for training and testing\n",
    "\n",
    "X_train_ks, X_test_ks, y_train_ks, y_test_ks = train_test_split(X_ks, y_ks, random_state=42)"
   ]
  },
  {
   "cell_type": "code",
   "execution_count": 81,
   "metadata": {},
   "outputs": [
    {
     "data": {
      "text/plain": [
       "0.9437026962424669"
      ]
     },
     "execution_count": 81,
     "metadata": {},
     "output_type": "execute_result"
    }
   ],
   "source": [
    "# Fit and score the model\n",
    "\n",
    "ks_model.fit(X_train_ks, y_train_ks)\n",
    "ks_model.score(X_test_ks, y_test_ks)"
   ]
  },
  {
   "cell_type": "code",
   "execution_count": 82,
   "metadata": {},
   "outputs": [
    {
     "data": {
      "text/plain": [
       "array([28484.42876085, 38638.48233681, 43104.81340303, 48376.02849824])"
      ]
     },
     "execution_count": 82,
     "metadata": {},
     "output_type": "execute_result"
    }
   ],
   "source": [
    "# Create predictions\n",
    "\n",
    "ks_preds = ks_model.predict(predict_holidays[[\"day\", \"month\", \"year\"]])\n",
    "ks_preds"
   ]
  },
  {
   "cell_type": "code",
   "execution_count": 83,
   "metadata": {},
   "outputs": [
    {
     "data": {
      "text/html": [
       "<div>\n",
       "<style scoped>\n",
       "    .dataframe tbody tr th:only-of-type {\n",
       "        vertical-align: middle;\n",
       "    }\n",
       "\n",
       "    .dataframe tbody tr th {\n",
       "        vertical-align: top;\n",
       "    }\n",
       "\n",
       "    .dataframe thead th {\n",
       "        text-align: right;\n",
       "    }\n",
       "</style>\n",
       "<table border=\"1\" class=\"dataframe\">\n",
       "  <thead>\n",
       "    <tr style=\"text-align: right;\">\n",
       "      <th></th>\n",
       "      <th>day</th>\n",
       "      <th>month</th>\n",
       "      <th>year</th>\n",
       "      <th>datetime</th>\n",
       "    </tr>\n",
       "  </thead>\n",
       "  <tbody>\n",
       "    <tr>\n",
       "      <th>0</th>\n",
       "      <td>7</td>\n",
       "      <td>9</td>\n",
       "      <td>2020</td>\n",
       "      <td>2020-09-07</td>\n",
       "    </tr>\n",
       "    <tr>\n",
       "      <th>1</th>\n",
       "      <td>3</td>\n",
       "      <td>11</td>\n",
       "      <td>2020</td>\n",
       "      <td>2020-11-03</td>\n",
       "    </tr>\n",
       "    <tr>\n",
       "      <th>2</th>\n",
       "      <td>26</td>\n",
       "      <td>11</td>\n",
       "      <td>2020</td>\n",
       "      <td>2020-11-26</td>\n",
       "    </tr>\n",
       "    <tr>\n",
       "      <th>3</th>\n",
       "      <td>25</td>\n",
       "      <td>12</td>\n",
       "      <td>2020</td>\n",
       "      <td>2020-12-25</td>\n",
       "    </tr>\n",
       "  </tbody>\n",
       "</table>\n",
       "</div>"
      ],
      "text/plain": [
       "   day  month  year   datetime\n",
       "0    7      9  2020 2020-09-07\n",
       "1    3     11  2020 2020-11-03\n",
       "2   26     11  2020 2020-11-26\n",
       "3   25     12  2020 2020-12-25"
      ]
     },
     "execution_count": 83,
     "metadata": {},
     "output_type": "execute_result"
    }
   ],
   "source": [
    "# set up dataframe to put Kansas predicitons in\n",
    "\n",
    "ks_predictions = predict_holidays[[\"day\", \"month\", \"year\", \"datetime\"]]\n",
    "ks_predictions"
   ]
  },
  {
   "cell_type": "code",
   "execution_count": 84,
   "metadata": {},
   "outputs": [],
   "source": [
    "# convert predictions from ndarray to list\n",
    "\n",
    "preds_arr = []\n",
    "for i in ks_preds:\n",
    "    preds_arr.append(np.asscalar(i))"
   ]
  },
  {
   "cell_type": "markdown",
   "metadata": {},
   "source": [
    "## Make Predictions for Kansas"
   ]
  },
  {
   "cell_type": "code",
   "execution_count": 85,
   "metadata": {},
   "outputs": [
    {
     "data": {
      "text/html": [
       "<div>\n",
       "<style scoped>\n",
       "    .dataframe tbody tr th:only-of-type {\n",
       "        vertical-align: middle;\n",
       "    }\n",
       "\n",
       "    .dataframe tbody tr th {\n",
       "        vertical-align: top;\n",
       "    }\n",
       "\n",
       "    .dataframe thead th {\n",
       "        text-align: right;\n",
       "    }\n",
       "</style>\n",
       "<table border=\"1\" class=\"dataframe\">\n",
       "  <thead>\n",
       "    <tr style=\"text-align: right;\">\n",
       "      <th></th>\n",
       "      <th>day</th>\n",
       "      <th>month</th>\n",
       "      <th>year</th>\n",
       "      <th>datetime</th>\n",
       "      <th>predicted_cases</th>\n",
       "    </tr>\n",
       "  </thead>\n",
       "  <tbody>\n",
       "    <tr>\n",
       "      <th>0</th>\n",
       "      <td>7</td>\n",
       "      <td>9</td>\n",
       "      <td>2020</td>\n",
       "      <td>2020-09-07</td>\n",
       "      <td>28484.428761</td>\n",
       "    </tr>\n",
       "    <tr>\n",
       "      <th>1</th>\n",
       "      <td>3</td>\n",
       "      <td>11</td>\n",
       "      <td>2020</td>\n",
       "      <td>2020-11-03</td>\n",
       "      <td>38638.482337</td>\n",
       "    </tr>\n",
       "    <tr>\n",
       "      <th>2</th>\n",
       "      <td>26</td>\n",
       "      <td>11</td>\n",
       "      <td>2020</td>\n",
       "      <td>2020-11-26</td>\n",
       "      <td>43104.813403</td>\n",
       "    </tr>\n",
       "    <tr>\n",
       "      <th>3</th>\n",
       "      <td>25</td>\n",
       "      <td>12</td>\n",
       "      <td>2020</td>\n",
       "      <td>2020-12-25</td>\n",
       "      <td>48376.028498</td>\n",
       "    </tr>\n",
       "  </tbody>\n",
       "</table>\n",
       "</div>"
      ],
      "text/plain": [
       "   day  month  year   datetime  predicted_cases\n",
       "0    7      9  2020 2020-09-07     28484.428761\n",
       "1    3     11  2020 2020-11-03     38638.482337\n",
       "2   26     11  2020 2020-11-26     43104.813403\n",
       "3   25     12  2020 2020-12-25     48376.028498"
      ]
     },
     "execution_count": 85,
     "metadata": {},
     "output_type": "execute_result"
    }
   ],
   "source": [
    "# Add the precitions back to the DataFrame and convert from object to \n",
    "# float so we can use it for graphing\n",
    "\n",
    "ks_predictions[\"predicted_cases\"] = ks_preds\n",
    "ks_predictions[\"predicted_cases\"] = ks_predictions['predicted_cases'].astype('float')\n",
    "ks_predictions.head()"
   ]
  },
  {
   "cell_type": "code",
   "execution_count": 86,
   "metadata": {},
   "outputs": [
    {
     "data": {
      "image/png": "[encoded data removed]",
      "text/plain": [
       "<Figure size 1080x432 with 1 Axes>"
      ]
     },
     "metadata": {
      "needs_background": "light"
     },
     "output_type": "display_data"
    }
   ],
   "source": [
    "# Graph with Actual Values and Predicitons\n",
    "\n",
    "plt.figure(figsize = (15, 6))\n",
    "plt.scatter(ks_predictions['datetime'], ks_predictions['predicted_cases'],c='#d0312d',)\n",
    "plt.scatter(Kansas['datetime'],Kansas['cases'],c='#000080',)\n",
    "plt.grid(True)\n",
    "plt.title('Kansas Cases Over Time', fontsize = 20)\n",
    "plt.ylabel('Cases', fontsize = 20)\n",
    "plt.show()"
   ]
  },
  {
   "cell_type": "markdown",
   "metadata": {},
   "source": [
    "## Missouri"
   ]
  },
  {
   "cell_type": "code",
   "execution_count": 87,
   "metadata": {},
   "outputs": [
    {
     "data": {
      "text/html": [
       "<div>\n",
       "<style scoped>\n",
       "    .dataframe tbody tr th:only-of-type {\n",
       "        vertical-align: middle;\n",
       "    }\n",
       "\n",
       "    .dataframe tbody tr th {\n",
       "        vertical-align: top;\n",
       "    }\n",
       "\n",
       "    .dataframe thead th {\n",
       "        text-align: right;\n",
       "    }\n",
       "</style>\n",
       "<table border=\"1\" class=\"dataframe\">\n",
       "  <thead>\n",
       "    <tr style=\"text-align: right;\">\n",
       "      <th></th>\n",
       "      <th>state_name</th>\n",
       "      <th>date</th>\n",
       "      <th>cases</th>\n",
       "      <th>deaths</th>\n",
       "      <th>tests_positive</th>\n",
       "      <th>tests_negative</th>\n",
       "      <th>tests_pending</th>\n",
       "      <th>tests</th>\n",
       "      <th>patients_icu</th>\n",
       "      <th>patients_hosp</th>\n",
       "      <th>patients_vent</th>\n",
       "      <th>recovered</th>\n",
       "      <th>datetime</th>\n",
       "      <th>growth_rate</th>\n",
       "    </tr>\n",
       "  </thead>\n",
       "  <tbody>\n",
       "    <tr>\n",
       "      <th>7005</th>\n",
       "      <td>Missouri</td>\n",
       "      <td>3/7/2020</td>\n",
       "      <td>1</td>\n",
       "      <td>0</td>\n",
       "      <td>0.0</td>\n",
       "      <td>NaN</td>\n",
       "      <td>NaN</td>\n",
       "      <td>0.0</td>\n",
       "      <td>NaN</td>\n",
       "      <td>NaN</td>\n",
       "      <td>NaN</td>\n",
       "      <td>NaN</td>\n",
       "      <td>2020-03-07</td>\n",
       "      <td>NaN</td>\n",
       "    </tr>\n",
       "    <tr>\n",
       "      <th>7006</th>\n",
       "      <td>Missouri</td>\n",
       "      <td>3/8/2020</td>\n",
       "      <td>1</td>\n",
       "      <td>0</td>\n",
       "      <td>1.0</td>\n",
       "      <td>NaN</td>\n",
       "      <td>NaN</td>\n",
       "      <td>1.0</td>\n",
       "      <td>NaN</td>\n",
       "      <td>NaN</td>\n",
       "      <td>NaN</td>\n",
       "      <td>NaN</td>\n",
       "      <td>2020-03-08</td>\n",
       "      <td>0.0</td>\n",
       "    </tr>\n",
       "    <tr>\n",
       "      <th>7007</th>\n",
       "      <td>Missouri</td>\n",
       "      <td>3/9/2020</td>\n",
       "      <td>1</td>\n",
       "      <td>0</td>\n",
       "      <td>1.0</td>\n",
       "      <td>NaN</td>\n",
       "      <td>NaN</td>\n",
       "      <td>1.0</td>\n",
       "      <td>NaN</td>\n",
       "      <td>NaN</td>\n",
       "      <td>NaN</td>\n",
       "      <td>NaN</td>\n",
       "      <td>2020-03-09</td>\n",
       "      <td>0.0</td>\n",
       "    </tr>\n",
       "    <tr>\n",
       "      <th>7008</th>\n",
       "      <td>Missouri</td>\n",
       "      <td>3/10/2020</td>\n",
       "      <td>1</td>\n",
       "      <td>0</td>\n",
       "      <td>1.0</td>\n",
       "      <td>NaN</td>\n",
       "      <td>NaN</td>\n",
       "      <td>1.0</td>\n",
       "      <td>NaN</td>\n",
       "      <td>NaN</td>\n",
       "      <td>NaN</td>\n",
       "      <td>NaN</td>\n",
       "      <td>2020-03-10</td>\n",
       "      <td>0.0</td>\n",
       "    </tr>\n",
       "    <tr>\n",
       "      <th>7009</th>\n",
       "      <td>Missouri</td>\n",
       "      <td>3/11/2020</td>\n",
       "      <td>1</td>\n",
       "      <td>0</td>\n",
       "      <td>1.0</td>\n",
       "      <td>NaN</td>\n",
       "      <td>NaN</td>\n",
       "      <td>1.0</td>\n",
       "      <td>NaN</td>\n",
       "      <td>NaN</td>\n",
       "      <td>NaN</td>\n",
       "      <td>NaN</td>\n",
       "      <td>2020-03-11</td>\n",
       "      <td>0.0</td>\n",
       "    </tr>\n",
       "  </tbody>\n",
       "</table>\n",
       "</div>"
      ],
      "text/plain": [
       "     state_name       date  cases  deaths  tests_positive  tests_negative  \\\n",
       "7005   Missouri   3/7/2020      1       0             0.0             NaN   \n",
       "7006   Missouri   3/8/2020      1       0             1.0             NaN   \n",
       "7007   Missouri   3/9/2020      1       0             1.0             NaN   \n",
       "7008   Missouri  3/10/2020      1       0             1.0             NaN   \n",
       "7009   Missouri  3/11/2020      1       0             1.0             NaN   \n",
       "\n",
       "      tests_pending  tests  patients_icu  patients_hosp  patients_vent  \\\n",
       "7005            NaN    0.0           NaN            NaN            NaN   \n",
       "7006            NaN    1.0           NaN            NaN            NaN   \n",
       "7007            NaN    1.0           NaN            NaN            NaN   \n",
       "7008            NaN    1.0           NaN            NaN            NaN   \n",
       "7009            NaN    1.0           NaN            NaN            NaN   \n",
       "\n",
       "      recovered   datetime  growth_rate  \n",
       "7005        NaN 2020-03-07          NaN  \n",
       "7006        NaN 2020-03-08          0.0  \n",
       "7007        NaN 2020-03-09          0.0  \n",
       "7008        NaN 2020-03-10          0.0  \n",
       "7009        NaN 2020-03-11          0.0  "
      ]
     },
     "execution_count": 87,
     "metadata": {},
     "output_type": "execute_result"
    }
   ],
   "source": [
    "# Create DF for just Missouri\n",
    "Missouri = usa[usa['state_name']=='Missouri']\n",
    "# now create new column for growth rate\n",
    "Missouri['growth_rate'] = Missouri['cases'].pct_change()\n",
    "Missouri.head(5)"
   ]
  },
  {
   "cell_type": "code",
   "execution_count": 88,
   "metadata": {},
   "outputs": [],
   "source": [
    "# Convert to datetime and separate out the columns\n",
    "\n",
    "Missouri['datetime'] = pd.to_datetime(Missouri['datetime'])\n",
    "Missouri['day'] = Missouri['datetime'].map(lambda x: x.day)\n",
    "Missouri['month'] = Missouri['datetime'].map(lambda x: x.month)\n",
    "Missouri['year'] = Missouri['datetime'].map(lambda x: x.year)"
   ]
  },
  {
   "cell_type": "markdown",
   "metadata": {},
   "source": [
    "## Linear Regression for Missouri"
   ]
  },
  {
   "cell_type": "code",
   "execution_count": 89,
   "metadata": {},
   "outputs": [],
   "source": [
    "# Create the model\n",
    "\n",
    "mo_model = LinearRegression()"
   ]
  },
  {
   "cell_type": "code",
   "execution_count": 91,
   "metadata": {},
   "outputs": [],
   "source": [
    "# Assign features and the target\n",
    "\n",
    "X_mo = Missouri[['day', 'month', 'year']]\n",
    "y_mo = Missouri[\"cases\"]"
   ]
  },
  {
   "cell_type": "code",
   "execution_count": 92,
   "metadata": {},
   "outputs": [],
   "source": [
    "# Split the data for training and testing\n",
    "\n",
    "X_train_mo, X_test_mo, y_train_mo, y_test_mo = train_test_split(X_mo, y_mo, random_state=42)"
   ]
  },
  {
   "cell_type": "code",
   "execution_count": 93,
   "metadata": {},
   "outputs": [
    {
     "data": {
      "text/plain": [
       "0.9265715294315912"
      ]
     },
     "execution_count": 93,
     "metadata": {},
     "output_type": "execute_result"
    }
   ],
   "source": [
    "# Fit and score the model\n",
    "\n",
    "mo_model.fit(X_train_mo, y_train_mo)\n",
    "mo_model.score(X_test_mo, y_test_mo)"
   ]
  },
  {
   "cell_type": "code",
   "execution_count": 94,
   "metadata": {},
   "outputs": [
    {
     "data": {
      "text/plain": [
       "array([42760.64737763, 57801.91281057, 65452.9644908 , 73306.25162815])"
      ]
     },
     "execution_count": 94,
     "metadata": {},
     "output_type": "execute_result"
    }
   ],
   "source": [
    "# Create predictions\n",
    "\n",
    "mo_preds = mo_model.predict(predict_holidays[[\"day\", \"month\", \"year\"]])\n",
    "mo_preds"
   ]
  },
  {
   "cell_type": "markdown",
   "metadata": {},
   "source": [
    "## Predictions for Missouri"
   ]
  },
  {
   "cell_type": "code",
   "execution_count": 95,
   "metadata": {},
   "outputs": [
    {
     "data": {
      "text/html": [
       "<div>\n",
       "<style scoped>\n",
       "    .dataframe tbody tr th:only-of-type {\n",
       "        vertical-align: middle;\n",
       "    }\n",
       "\n",
       "    .dataframe tbody tr th {\n",
       "        vertical-align: top;\n",
       "    }\n",
       "\n",
       "    .dataframe thead th {\n",
       "        text-align: right;\n",
       "    }\n",
       "</style>\n",
       "<table border=\"1\" class=\"dataframe\">\n",
       "  <thead>\n",
       "    <tr style=\"text-align: right;\">\n",
       "      <th></th>\n",
       "      <th>day</th>\n",
       "      <th>month</th>\n",
       "      <th>year</th>\n",
       "      <th>datetime</th>\n",
       "    </tr>\n",
       "  </thead>\n",
       "  <tbody>\n",
       "    <tr>\n",
       "      <th>0</th>\n",
       "      <td>7</td>\n",
       "      <td>9</td>\n",
       "      <td>2020</td>\n",
       "      <td>2020-09-07</td>\n",
       "    </tr>\n",
       "    <tr>\n",
       "      <th>1</th>\n",
       "      <td>3</td>\n",
       "      <td>11</td>\n",
       "      <td>2020</td>\n",
       "      <td>2020-11-03</td>\n",
       "    </tr>\n",
       "    <tr>\n",
       "      <th>2</th>\n",
       "      <td>26</td>\n",
       "      <td>11</td>\n",
       "      <td>2020</td>\n",
       "      <td>2020-11-26</td>\n",
       "    </tr>\n",
       "    <tr>\n",
       "      <th>3</th>\n",
       "      <td>25</td>\n",
       "      <td>12</td>\n",
       "      <td>2020</td>\n",
       "      <td>2020-12-25</td>\n",
       "    </tr>\n",
       "  </tbody>\n",
       "</table>\n",
       "</div>"
      ],
      "text/plain": [
       "   day  month  year   datetime\n",
       "0    7      9  2020 2020-09-07\n",
       "1    3     11  2020 2020-11-03\n",
       "2   26     11  2020 2020-11-26\n",
       "3   25     12  2020 2020-12-25"
      ]
     },
     "execution_count": 95,
     "metadata": {},
     "output_type": "execute_result"
    }
   ],
   "source": [
    "# set up dataframe to put Missouri predicitons in\n",
    "\n",
    "mo_predictions = predict_holidays[[\"day\", \"month\", \"year\", \"datetime\"]]\n",
    "mo_predictions"
   ]
  },
  {
   "cell_type": "code",
   "execution_count": 96,
   "metadata": {},
   "outputs": [],
   "source": [
    "# convert predictions from ndarray to list\n",
    "\n",
    "preds_arr = []\n",
    "for i in mo_preds:\n",
    "    preds_arr.append(np.asscalar(i))\n"
   ]
  },
  {
   "cell_type": "code",
   "execution_count": 98,
   "metadata": {},
   "outputs": [
    {
     "data": {
      "text/html": [
       "<div>\n",
       "<style scoped>\n",
       "    .dataframe tbody tr th:only-of-type {\n",
       "        vertical-align: middle;\n",
       "    }\n",
       "\n",
       "    .dataframe tbody tr th {\n",
       "        vertical-align: top;\n",
       "    }\n",
       "\n",
       "    .dataframe thead th {\n",
       "        text-align: right;\n",
       "    }\n",
       "</style>\n",
       "<table border=\"1\" class=\"dataframe\">\n",
       "  <thead>\n",
       "    <tr style=\"text-align: right;\">\n",
       "      <th></th>\n",
       "      <th>day</th>\n",
       "      <th>month</th>\n",
       "      <th>year</th>\n",
       "      <th>datetime</th>\n",
       "      <th>predicted_cases</th>\n",
       "    </tr>\n",
       "  </thead>\n",
       "  <tbody>\n",
       "    <tr>\n",
       "      <th>0</th>\n",
       "      <td>7</td>\n",
       "      <td>9</td>\n",
       "      <td>2020</td>\n",
       "      <td>2020-09-07</td>\n",
       "      <td>42760.647378</td>\n",
       "    </tr>\n",
       "    <tr>\n",
       "      <th>1</th>\n",
       "      <td>3</td>\n",
       "      <td>11</td>\n",
       "      <td>2020</td>\n",
       "      <td>2020-11-03</td>\n",
       "      <td>57801.912811</td>\n",
       "    </tr>\n",
       "    <tr>\n",
       "      <th>2</th>\n",
       "      <td>26</td>\n",
       "      <td>11</td>\n",
       "      <td>2020</td>\n",
       "      <td>2020-11-26</td>\n",
       "      <td>65452.964491</td>\n",
       "    </tr>\n",
       "    <tr>\n",
       "      <th>3</th>\n",
       "      <td>25</td>\n",
       "      <td>12</td>\n",
       "      <td>2020</td>\n",
       "      <td>2020-12-25</td>\n",
       "      <td>73306.251628</td>\n",
       "    </tr>\n",
       "  </tbody>\n",
       "</table>\n",
       "</div>"
      ],
      "text/plain": [
       "   day  month  year   datetime  predicted_cases\n",
       "0    7      9  2020 2020-09-07     42760.647378\n",
       "1    3     11  2020 2020-11-03     57801.912811\n",
       "2   26     11  2020 2020-11-26     65452.964491\n",
       "3   25     12  2020 2020-12-25     73306.251628"
      ]
     },
     "execution_count": 98,
     "metadata": {},
     "output_type": "execute_result"
    }
   ],
   "source": [
    "# Add the precitions back to the DataFrame and convert from object to \n",
    "# float so we can use it for graphing\n",
    "\n",
    "mo_predictions[\"predicted_cases\"] = mo_preds\n",
    "mo_predictions[\"predicted_cases\"] = mo_predictions['predicted_cases'].astype('float')\n",
    "mo_predictions.head()"
   ]
  },
  {
   "cell_type": "code",
   "execution_count": 99,
   "metadata": {},
   "outputs": [
    {
     "data": {
      "image/png": "[encoded data removed]",
      "text/plain": [
       "<Figure size 1080x432 with 1 Axes>"
      ]
     },
     "metadata": {
      "needs_background": "light"
     },
     "output_type": "display_data"
    }
   ],
   "source": [
    "# Graph with Actual Values and Predicitons\n",
    "\n",
    "plt.figure(figsize = (15, 6))\n",
    "plt.scatter(mo_predictions['datetime'], mo_predictions['predicted_cases'],c='#d0312d',)\n",
    "plt.scatter(Missouri['datetime'],Missouri['cases'],c='#000080',)\n",
    "plt.grid(True)\n",
    "plt.title('Missouri Cases Over Time', fontsize = 20)\n",
    "plt.ylabel('Cases', fontsize = 20)\n",
    "plt.show()"
   ]
  },
  {
   "cell_type": "markdown",
   "metadata": {},
   "source": [
    "## North Dakota"
   ]
  },
  {
   "cell_type": "code",
   "execution_count": 100,
   "metadata": {},
   "outputs": [
    {
     "data": {
      "text/html": [
       "<div>\n",
       "<style scoped>\n",
       "    .dataframe tbody tr th:only-of-type {\n",
       "        vertical-align: middle;\n",
       "    }\n",
       "\n",
       "    .dataframe tbody tr th {\n",
       "        vertical-align: top;\n",
       "    }\n",
       "\n",
       "    .dataframe thead th {\n",
       "        text-align: right;\n",
       "    }\n",
       "</style>\n",
       "<table border=\"1\" class=\"dataframe\">\n",
       "  <thead>\n",
       "    <tr style=\"text-align: right;\">\n",
       "      <th></th>\n",
       "      <th>state_name</th>\n",
       "      <th>date</th>\n",
       "      <th>cases</th>\n",
       "      <th>deaths</th>\n",
       "      <th>tests_positive</th>\n",
       "      <th>tests_negative</th>\n",
       "      <th>tests_pending</th>\n",
       "      <th>tests</th>\n",
       "      <th>patients_icu</th>\n",
       "      <th>patients_hosp</th>\n",
       "      <th>patients_vent</th>\n",
       "      <th>recovered</th>\n",
       "      <th>datetime</th>\n",
       "      <th>growth_rate</th>\n",
       "    </tr>\n",
       "  </thead>\n",
       "  <tbody>\n",
       "    <tr>\n",
       "      <th>176</th>\n",
       "      <td>North Dakota</td>\n",
       "      <td>3/11/2020</td>\n",
       "      <td>1</td>\n",
       "      <td>0</td>\n",
       "      <td>0.0</td>\n",
       "      <td>7.0</td>\n",
       "      <td>6.0</td>\n",
       "      <td>7.0</td>\n",
       "      <td>NaN</td>\n",
       "      <td>NaN</td>\n",
       "      <td>NaN</td>\n",
       "      <td>NaN</td>\n",
       "      <td>2020-03-11</td>\n",
       "      <td>NaN</td>\n",
       "    </tr>\n",
       "    <tr>\n",
       "      <th>177</th>\n",
       "      <td>North Dakota</td>\n",
       "      <td>3/12/2020</td>\n",
       "      <td>1</td>\n",
       "      <td>0</td>\n",
       "      <td>1.0</td>\n",
       "      <td>12.0</td>\n",
       "      <td>14.0</td>\n",
       "      <td>13.0</td>\n",
       "      <td>NaN</td>\n",
       "      <td>NaN</td>\n",
       "      <td>NaN</td>\n",
       "      <td>NaN</td>\n",
       "      <td>2020-03-12</td>\n",
       "      <td>0.0</td>\n",
       "    </tr>\n",
       "    <tr>\n",
       "      <th>178</th>\n",
       "      <td>North Dakota</td>\n",
       "      <td>3/13/2020</td>\n",
       "      <td>1</td>\n",
       "      <td>0</td>\n",
       "      <td>1.0</td>\n",
       "      <td>39.0</td>\n",
       "      <td>12.0</td>\n",
       "      <td>40.0</td>\n",
       "      <td>NaN</td>\n",
       "      <td>NaN</td>\n",
       "      <td>NaN</td>\n",
       "      <td>NaN</td>\n",
       "      <td>2020-03-13</td>\n",
       "      <td>0.0</td>\n",
       "    </tr>\n",
       "    <tr>\n",
       "      <th>179</th>\n",
       "      <td>North Dakota</td>\n",
       "      <td>3/14/2020</td>\n",
       "      <td>1</td>\n",
       "      <td>0</td>\n",
       "      <td>1.0</td>\n",
       "      <td>54.0</td>\n",
       "      <td>14.0</td>\n",
       "      <td>55.0</td>\n",
       "      <td>NaN</td>\n",
       "      <td>NaN</td>\n",
       "      <td>NaN</td>\n",
       "      <td>NaN</td>\n",
       "      <td>2020-03-14</td>\n",
       "      <td>0.0</td>\n",
       "    </tr>\n",
       "    <tr>\n",
       "      <th>180</th>\n",
       "      <td>North Dakota</td>\n",
       "      <td>3/15/2020</td>\n",
       "      <td>1</td>\n",
       "      <td>0</td>\n",
       "      <td>1.0</td>\n",
       "      <td>95.0</td>\n",
       "      <td>4.0</td>\n",
       "      <td>96.0</td>\n",
       "      <td>NaN</td>\n",
       "      <td>NaN</td>\n",
       "      <td>NaN</td>\n",
       "      <td>NaN</td>\n",
       "      <td>2020-03-15</td>\n",
       "      <td>0.0</td>\n",
       "    </tr>\n",
       "  </tbody>\n",
       "</table>\n",
       "</div>"
      ],
      "text/plain": [
       "       state_name       date  cases  deaths  tests_positive  tests_negative  \\\n",
       "176  North Dakota  3/11/2020      1       0             0.0             7.0   \n",
       "177  North Dakota  3/12/2020      1       0             1.0            12.0   \n",
       "178  North Dakota  3/13/2020      1       0             1.0            39.0   \n",
       "179  North Dakota  3/14/2020      1       0             1.0            54.0   \n",
       "180  North Dakota  3/15/2020      1       0             1.0            95.0   \n",
       "\n",
       "     tests_pending  tests  patients_icu  patients_hosp  patients_vent  \\\n",
       "176            6.0    7.0           NaN            NaN            NaN   \n",
       "177           14.0   13.0           NaN            NaN            NaN   \n",
       "178           12.0   40.0           NaN            NaN            NaN   \n",
       "179           14.0   55.0           NaN            NaN            NaN   \n",
       "180            4.0   96.0           NaN            NaN            NaN   \n",
       "\n",
       "     recovered   datetime  growth_rate  \n",
       "176        NaN 2020-03-11          NaN  \n",
       "177        NaN 2020-03-12          0.0  \n",
       "178        NaN 2020-03-13          0.0  \n",
       "179        NaN 2020-03-14          0.0  \n",
       "180        NaN 2020-03-15          0.0  "
      ]
     },
     "execution_count": 100,
     "metadata": {},
     "output_type": "execute_result"
    }
   ],
   "source": [
    "# Create DF for just North Dakota\n",
    "North_Dakota = usa[usa['state_name']=='North Dakota']\n",
    "# now create new column for growth rate\n",
    "North_Dakota['growth_rate'] = North_Dakota['cases'].pct_change()\n",
    "North_Dakota.head(5)"
   ]
  },
  {
   "cell_type": "code",
   "execution_count": 101,
   "metadata": {},
   "outputs": [],
   "source": [
    "# Convert to datetime and separate out the columns\n",
    "\n",
    "North_Dakota['datetime'] = pd.to_datetime(North_Dakota['datetime'])\n",
    "North_Dakota['day'] = North_Dakota['datetime'].map(lambda x: x.day)\n",
    "North_Dakota['month'] = North_Dakota['datetime'].map(lambda x: x.month)\n",
    "North_Dakota['year'] = North_Dakota['datetime'].map(lambda x: x.year)"
   ]
  },
  {
   "cell_type": "markdown",
   "metadata": {},
   "source": [
    "## Linear Regressions for North Dakota"
   ]
  },
  {
   "cell_type": "code",
   "execution_count": 103,
   "metadata": {},
   "outputs": [],
   "source": [
    "# Create the model\n",
    "\n",
    "nd_model = LinearRegression()"
   ]
  },
  {
   "cell_type": "code",
   "execution_count": 104,
   "metadata": {},
   "outputs": [],
   "source": [
    "# Assign the features and the target\n",
    "\n",
    "X_nd = North_Dakota[['day', 'month', 'year']]\n",
    "y_nd = North_Dakota[\"cases\"]"
   ]
  },
  {
   "cell_type": "code",
   "execution_count": 105,
   "metadata": {},
   "outputs": [],
   "source": [
    "# Split the data for training and testing\n",
    "\n",
    "X_train_nd, X_test_nd, y_train_nd, y_test_nd = train_test_split(X_nd, y_nd, random_state=42)"
   ]
  },
  {
   "cell_type": "code",
   "execution_count": 106,
   "metadata": {},
   "outputs": [
    {
     "data": {
      "text/plain": [
       "0.9724649538442882"
      ]
     },
     "execution_count": 106,
     "metadata": {},
     "output_type": "execute_result"
    }
   ],
   "source": [
    "# Fit and score the model\n",
    "\n",
    "nd_model.fit(X_train_nd, y_train_nd)\n",
    "nd_model.score(X_test_nd, y_test_nd)"
   ]
  },
  {
   "cell_type": "code",
   "execution_count": 107,
   "metadata": {},
   "outputs": [
    {
     "data": {
      "text/plain": [
       "array([ 6649.38007287,  9001.66514369, 10175.97624238, 11403.17578208])"
      ]
     },
     "execution_count": 107,
     "metadata": {},
     "output_type": "execute_result"
    }
   ],
   "source": [
    "# Find predictions\n",
    "\n",
    "nd_preds = nd_model.predict(predict_holidays[[\"day\", \"month\", \"year\"]])\n",
    "nd_preds"
   ]
  },
  {
   "cell_type": "markdown",
   "metadata": {},
   "source": [
    "## Predictions for North Dakota"
   ]
  },
  {
   "cell_type": "code",
   "execution_count": 108,
   "metadata": {},
   "outputs": [
    {
     "data": {
      "text/html": [
       "<div>\n",
       "<style scoped>\n",
       "    .dataframe tbody tr th:only-of-type {\n",
       "        vertical-align: middle;\n",
       "    }\n",
       "\n",
       "    .dataframe tbody tr th {\n",
       "        vertical-align: top;\n",
       "    }\n",
       "\n",
       "    .dataframe thead th {\n",
       "        text-align: right;\n",
       "    }\n",
       "</style>\n",
       "<table border=\"1\" class=\"dataframe\">\n",
       "  <thead>\n",
       "    <tr style=\"text-align: right;\">\n",
       "      <th></th>\n",
       "      <th>day</th>\n",
       "      <th>month</th>\n",
       "      <th>year</th>\n",
       "      <th>datetime</th>\n",
       "    </tr>\n",
       "  </thead>\n",
       "  <tbody>\n",
       "    <tr>\n",
       "      <th>0</th>\n",
       "      <td>7</td>\n",
       "      <td>9</td>\n",
       "      <td>2020</td>\n",
       "      <td>2020-09-07</td>\n",
       "    </tr>\n",
       "    <tr>\n",
       "      <th>1</th>\n",
       "      <td>3</td>\n",
       "      <td>11</td>\n",
       "      <td>2020</td>\n",
       "      <td>2020-11-03</td>\n",
       "    </tr>\n",
       "    <tr>\n",
       "      <th>2</th>\n",
       "      <td>26</td>\n",
       "      <td>11</td>\n",
       "      <td>2020</td>\n",
       "      <td>2020-11-26</td>\n",
       "    </tr>\n",
       "    <tr>\n",
       "      <th>3</th>\n",
       "      <td>25</td>\n",
       "      <td>12</td>\n",
       "      <td>2020</td>\n",
       "      <td>2020-12-25</td>\n",
       "    </tr>\n",
       "  </tbody>\n",
       "</table>\n",
       "</div>"
      ],
      "text/plain": [
       "   day  month  year   datetime\n",
       "0    7      9  2020 2020-09-07\n",
       "1    3     11  2020 2020-11-03\n",
       "2   26     11  2020 2020-11-26\n",
       "3   25     12  2020 2020-12-25"
      ]
     },
     "execution_count": 108,
     "metadata": {},
     "output_type": "execute_result"
    }
   ],
   "source": [
    "# set up dataframe to put North Dakota predicitons in\n",
    "\n",
    "nd_predictions = predict_holidays[[\"day\", \"month\", \"year\", \"datetime\"]]\n",
    "nd_predictions"
   ]
  },
  {
   "cell_type": "code",
   "execution_count": 110,
   "metadata": {},
   "outputs": [],
   "source": [
    "# convert predictions from ndarray to list\n",
    "\n",
    "preds_arr = []\n",
    "for i in nd_preds:\n",
    "    preds_arr.append(np.asscalar(i))"
   ]
  },
  {
   "cell_type": "code",
   "execution_count": 111,
   "metadata": {},
   "outputs": [
    {
     "data": {
      "text/html": [
       "<div>\n",
       "<style scoped>\n",
       "    .dataframe tbody tr th:only-of-type {\n",
       "        vertical-align: middle;\n",
       "    }\n",
       "\n",
       "    .dataframe tbody tr th {\n",
       "        vertical-align: top;\n",
       "    }\n",
       "\n",
       "    .dataframe thead th {\n",
       "        text-align: right;\n",
       "    }\n",
       "</style>\n",
       "<table border=\"1\" class=\"dataframe\">\n",
       "  <thead>\n",
       "    <tr style=\"text-align: right;\">\n",
       "      <th></th>\n",
       "      <th>day</th>\n",
       "      <th>month</th>\n",
       "      <th>year</th>\n",
       "      <th>datetime</th>\n",
       "      <th>predicted_cases</th>\n",
       "    </tr>\n",
       "  </thead>\n",
       "  <tbody>\n",
       "    <tr>\n",
       "      <th>0</th>\n",
       "      <td>7</td>\n",
       "      <td>9</td>\n",
       "      <td>2020</td>\n",
       "      <td>2020-09-07</td>\n",
       "      <td>6649.380073</td>\n",
       "    </tr>\n",
       "    <tr>\n",
       "      <th>1</th>\n",
       "      <td>3</td>\n",
       "      <td>11</td>\n",
       "      <td>2020</td>\n",
       "      <td>2020-11-03</td>\n",
       "      <td>9001.665144</td>\n",
       "    </tr>\n",
       "    <tr>\n",
       "      <th>2</th>\n",
       "      <td>26</td>\n",
       "      <td>11</td>\n",
       "      <td>2020</td>\n",
       "      <td>2020-11-26</td>\n",
       "      <td>10175.976242</td>\n",
       "    </tr>\n",
       "    <tr>\n",
       "      <th>3</th>\n",
       "      <td>25</td>\n",
       "      <td>12</td>\n",
       "      <td>2020</td>\n",
       "      <td>2020-12-25</td>\n",
       "      <td>11403.175782</td>\n",
       "    </tr>\n",
       "  </tbody>\n",
       "</table>\n",
       "</div>"
      ],
      "text/plain": [
       "   day  month  year   datetime  predicted_cases\n",
       "0    7      9  2020 2020-09-07      6649.380073\n",
       "1    3     11  2020 2020-11-03      9001.665144\n",
       "2   26     11  2020 2020-11-26     10175.976242\n",
       "3   25     12  2020 2020-12-25     11403.175782"
      ]
     },
     "execution_count": 111,
     "metadata": {},
     "output_type": "execute_result"
    }
   ],
   "source": [
    "# Add the precitions back to the DataFrame and convert from object to \n",
    "# float so we can use it for graphing\n",
    "\n",
    "nd_predictions[\"predicted_cases\"] = nd_preds\n",
    "nd_predictions[\"predicted_cases\"] = nd_predictions['predicted_cases'].astype('float')\n",
    "nd_predictions.head()"
   ]
  },
  {
   "cell_type": "code",
   "execution_count": 112,
   "metadata": {},
   "outputs": [
    {
     "data": {
      "image/png": "[encoded data removed]",
      "text/plain": [
       "<Figure size 1080x432 with 1 Axes>"
      ]
     },
     "metadata": {
      "needs_background": "light"
     },
     "output_type": "display_data"
    }
   ],
   "source": [
    "plt.figure(figsize = (15, 6))\n",
    "plt.scatter(nd_predictions['datetime'], nd_predictions['predicted_cases'],c='#d0312d',)\n",
    "plt.scatter(North_Dakota['datetime'],North_Dakota['cases'],c='#000080',)\n",
    "plt.grid(True)\n",
    "plt.title('North Dakota Cases Over Time', fontsize = 20)\n",
    "plt.ylabel('Cases', fontsize = 20)\n",
    "plt.show()"
   ]
  },
  {
   "cell_type": "markdown",
   "metadata": {},
   "source": [
    "## South Dakota"
   ]
  },
  {
   "cell_type": "code",
   "execution_count": 113,
   "metadata": {},
   "outputs": [
    {
     "data": {
      "text/html": [
       "<div>\n",
       "<style scoped>\n",
       "    .dataframe tbody tr th:only-of-type {\n",
       "        vertical-align: middle;\n",
       "    }\n",
       "\n",
       "    .dataframe tbody tr th {\n",
       "        vertical-align: top;\n",
       "    }\n",
       "\n",
       "    .dataframe thead th {\n",
       "        text-align: right;\n",
       "    }\n",
       "</style>\n",
       "<table border=\"1\" class=\"dataframe\">\n",
       "  <thead>\n",
       "    <tr style=\"text-align: right;\">\n",
       "      <th></th>\n",
       "      <th>state_name</th>\n",
       "      <th>date</th>\n",
       "      <th>cases</th>\n",
       "      <th>deaths</th>\n",
       "      <th>tests_positive</th>\n",
       "      <th>tests_negative</th>\n",
       "      <th>tests_pending</th>\n",
       "      <th>tests</th>\n",
       "      <th>patients_icu</th>\n",
       "      <th>patients_hosp</th>\n",
       "      <th>patients_vent</th>\n",
       "      <th>recovered</th>\n",
       "      <th>datetime</th>\n",
       "      <th>growth_rate</th>\n",
       "    </tr>\n",
       "  </thead>\n",
       "  <tbody>\n",
       "    <tr>\n",
       "      <th>1195</th>\n",
       "      <td>South Dakota</td>\n",
       "      <td>3/10/2020</td>\n",
       "      <td>5</td>\n",
       "      <td>1</td>\n",
       "      <td>0.0</td>\n",
       "      <td>11.0</td>\n",
       "      <td>0.0</td>\n",
       "      <td>11.0</td>\n",
       "      <td>NaN</td>\n",
       "      <td>NaN</td>\n",
       "      <td>NaN</td>\n",
       "      <td>NaN</td>\n",
       "      <td>2020-03-10</td>\n",
       "      <td>NaN</td>\n",
       "    </tr>\n",
       "    <tr>\n",
       "      <th>1196</th>\n",
       "      <td>South Dakota</td>\n",
       "      <td>3/11/2020</td>\n",
       "      <td>8</td>\n",
       "      <td>1</td>\n",
       "      <td>5.0</td>\n",
       "      <td>13.0</td>\n",
       "      <td>2.0</td>\n",
       "      <td>18.0</td>\n",
       "      <td>NaN</td>\n",
       "      <td>NaN</td>\n",
       "      <td>NaN</td>\n",
       "      <td>NaN</td>\n",
       "      <td>2020-03-11</td>\n",
       "      <td>0.600</td>\n",
       "    </tr>\n",
       "    <tr>\n",
       "      <th>1197</th>\n",
       "      <td>South Dakota</td>\n",
       "      <td>3/12/2020</td>\n",
       "      <td>8</td>\n",
       "      <td>1</td>\n",
       "      <td>8.0</td>\n",
       "      <td>27.0</td>\n",
       "      <td>11.0</td>\n",
       "      <td>35.0</td>\n",
       "      <td>NaN</td>\n",
       "      <td>NaN</td>\n",
       "      <td>NaN</td>\n",
       "      <td>NaN</td>\n",
       "      <td>2020-03-12</td>\n",
       "      <td>0.000</td>\n",
       "    </tr>\n",
       "    <tr>\n",
       "      <th>1198</th>\n",
       "      <td>South Dakota</td>\n",
       "      <td>3/13/2020</td>\n",
       "      <td>9</td>\n",
       "      <td>1</td>\n",
       "      <td>9.0</td>\n",
       "      <td>73.0</td>\n",
       "      <td>11.0</td>\n",
       "      <td>82.0</td>\n",
       "      <td>NaN</td>\n",
       "      <td>NaN</td>\n",
       "      <td>NaN</td>\n",
       "      <td>NaN</td>\n",
       "      <td>2020-03-13</td>\n",
       "      <td>0.125</td>\n",
       "    </tr>\n",
       "    <tr>\n",
       "      <th>1199</th>\n",
       "      <td>South Dakota</td>\n",
       "      <td>3/14/2020</td>\n",
       "      <td>9</td>\n",
       "      <td>1</td>\n",
       "      <td>9.0</td>\n",
       "      <td>182.0</td>\n",
       "      <td>3.0</td>\n",
       "      <td>191.0</td>\n",
       "      <td>NaN</td>\n",
       "      <td>NaN</td>\n",
       "      <td>NaN</td>\n",
       "      <td>NaN</td>\n",
       "      <td>2020-03-14</td>\n",
       "      <td>0.000</td>\n",
       "    </tr>\n",
       "  </tbody>\n",
       "</table>\n",
       "</div>"
      ],
      "text/plain": [
       "        state_name       date  cases  deaths  tests_positive  tests_negative  \\\n",
       "1195  South Dakota  3/10/2020      5       1             0.0            11.0   \n",
       "1196  South Dakota  3/11/2020      8       1             5.0            13.0   \n",
       "1197  South Dakota  3/12/2020      8       1             8.0            27.0   \n",
       "1198  South Dakota  3/13/2020      9       1             9.0            73.0   \n",
       "1199  South Dakota  3/14/2020      9       1             9.0           182.0   \n",
       "\n",
       "      tests_pending  tests  patients_icu  patients_hosp  patients_vent  \\\n",
       "1195            0.0   11.0           NaN            NaN            NaN   \n",
       "1196            2.0   18.0           NaN            NaN            NaN   \n",
       "1197           11.0   35.0           NaN            NaN            NaN   \n",
       "1198           11.0   82.0           NaN            NaN            NaN   \n",
       "1199            3.0  191.0           NaN            NaN            NaN   \n",
       "\n",
       "      recovered   datetime  growth_rate  \n",
       "1195        NaN 2020-03-10          NaN  \n",
       "1196        NaN 2020-03-11        0.600  \n",
       "1197        NaN 2020-03-12        0.000  \n",
       "1198        NaN 2020-03-13        0.125  \n",
       "1199        NaN 2020-03-14        0.000  "
      ]
     },
     "execution_count": 113,
     "metadata": {},
     "output_type": "execute_result"
    }
   ],
   "source": [
    "# Create DF for just Kannas\n",
    "South_Dakota = usa[usa['state_name']=='South Dakota']\n",
    "# now create new column for growth rate\n",
    "South_Dakota['growth_rate'] = South_Dakota['cases'].pct_change()\n",
    "South_Dakota.head(5)"
   ]
  },
  {
   "cell_type": "code",
   "execution_count": 114,
   "metadata": {},
   "outputs": [],
   "source": [
    "# Convert to datetime and separate out the columns\n",
    "\n",
    "South_Dakota['datetime'] = pd.to_datetime(South_Dakota['datetime'])\n",
    "South_Dakota['day'] = South_Dakota['datetime'].map(lambda x: x.day)\n",
    "South_Dakota['month'] = South_Dakota['datetime'].map(lambda x: x.month)\n",
    "South_Dakota['year'] = South_Dakota['datetime'].map(lambda x: x.year)"
   ]
  },
  {
   "cell_type": "markdown",
   "metadata": {},
   "source": [
    "## Linear Regression for South Dakota"
   ]
  },
  {
   "cell_type": "code",
   "execution_count": 115,
   "metadata": {},
   "outputs": [],
   "source": [
    "# Create the model\n",
    "\n",
    "sd_model = LinearRegression()"
   ]
  },
  {
   "cell_type": "code",
   "execution_count": 116,
   "metadata": {},
   "outputs": [],
   "source": [
    "# Assign the features and the target\n",
    "\n",
    "X_sd = South_Dakota[['day', 'month', 'year']]\n",
    "y_sd = South_Dakota[\"cases\"]"
   ]
  },
  {
   "cell_type": "code",
   "execution_count": 117,
   "metadata": {},
   "outputs": [],
   "source": [
    "# Split the data for training and testing\n",
    "\n",
    "X_train_sd, X_test_sd, y_train_sd, y_test_sd = train_test_split(X_sd, y_sd, random_state=42)"
   ]
  },
  {
   "cell_type": "code",
   "execution_count": 118,
   "metadata": {},
   "outputs": [
    {
     "data": {
      "text/plain": [
       "0.990921880201253"
      ]
     },
     "execution_count": 118,
     "metadata": {},
     "output_type": "execute_result"
    }
   ],
   "source": [
    "# Fit and score the model\n",
    "\n",
    "sd_model.fit(X_train_sd, y_train_sd)\n",
    "sd_model.score(X_test_sd, y_test_sd)"
   ]
  },
  {
   "cell_type": "code",
   "execution_count": 119,
   "metadata": {},
   "outputs": [
    {
     "data": {
      "text/plain": [
       "array([11409.60858293, 15297.35540816, 16949.04544165, 18964.73146442])"
      ]
     },
     "execution_count": 119,
     "metadata": {},
     "output_type": "execute_result"
    }
   ],
   "source": [
    "# Find predictions\n",
    "\n",
    "sd_preds = sd_model.predict(predict_holidays[[\"day\", \"month\", \"year\"]])\n",
    "sd_preds"
   ]
  },
  {
   "cell_type": "markdown",
   "metadata": {},
   "source": [
    "## Predictions for South Dakota"
   ]
  },
  {
   "cell_type": "code",
   "execution_count": 120,
   "metadata": {},
   "outputs": [
    {
     "data": {
      "text/html": [
       "<div>\n",
       "<style scoped>\n",
       "    .dataframe tbody tr th:only-of-type {\n",
       "        vertical-align: middle;\n",
       "    }\n",
       "\n",
       "    .dataframe tbody tr th {\n",
       "        vertical-align: top;\n",
       "    }\n",
       "\n",
       "    .dataframe thead th {\n",
       "        text-align: right;\n",
       "    }\n",
       "</style>\n",
       "<table border=\"1\" class=\"dataframe\">\n",
       "  <thead>\n",
       "    <tr style=\"text-align: right;\">\n",
       "      <th></th>\n",
       "      <th>day</th>\n",
       "      <th>month</th>\n",
       "      <th>year</th>\n",
       "      <th>datetime</th>\n",
       "    </tr>\n",
       "  </thead>\n",
       "  <tbody>\n",
       "    <tr>\n",
       "      <th>0</th>\n",
       "      <td>7</td>\n",
       "      <td>9</td>\n",
       "      <td>2020</td>\n",
       "      <td>2020-09-07</td>\n",
       "    </tr>\n",
       "    <tr>\n",
       "      <th>1</th>\n",
       "      <td>3</td>\n",
       "      <td>11</td>\n",
       "      <td>2020</td>\n",
       "      <td>2020-11-03</td>\n",
       "    </tr>\n",
       "    <tr>\n",
       "      <th>2</th>\n",
       "      <td>26</td>\n",
       "      <td>11</td>\n",
       "      <td>2020</td>\n",
       "      <td>2020-11-26</td>\n",
       "    </tr>\n",
       "    <tr>\n",
       "      <th>3</th>\n",
       "      <td>25</td>\n",
       "      <td>12</td>\n",
       "      <td>2020</td>\n",
       "      <td>2020-12-25</td>\n",
       "    </tr>\n",
       "  </tbody>\n",
       "</table>\n",
       "</div>"
      ],
      "text/plain": [
       "   day  month  year   datetime\n",
       "0    7      9  2020 2020-09-07\n",
       "1    3     11  2020 2020-11-03\n",
       "2   26     11  2020 2020-11-26\n",
       "3   25     12  2020 2020-12-25"
      ]
     },
     "execution_count": 120,
     "metadata": {},
     "output_type": "execute_result"
    }
   ],
   "source": [
    "# set up dataframe to put South Dakota predicitons in\n",
    "\n",
    "sd_predictions = predict_holidays[[\"day\", \"month\", \"year\", \"datetime\"]]\n",
    "sd_predictions"
   ]
  },
  {
   "cell_type": "code",
   "execution_count": 121,
   "metadata": {},
   "outputs": [],
   "source": [
    "# convert predictions from ndarray to list\n",
    "\n",
    "preds_arr = []\n",
    "for i in mn_preds:\n",
    "    preds_arr.append(np.asscalar(i))"
   ]
  },
  {
   "cell_type": "code",
   "execution_count": 122,
   "metadata": {},
   "outputs": [
    {
     "data": {
      "text/html": [
       "<div>\n",
       "<style scoped>\n",
       "    .dataframe tbody tr th:only-of-type {\n",
       "        vertical-align: middle;\n",
       "    }\n",
       "\n",
       "    .dataframe tbody tr th {\n",
       "        vertical-align: top;\n",
       "    }\n",
       "\n",
       "    .dataframe thead th {\n",
       "        text-align: right;\n",
       "    }\n",
       "</style>\n",
       "<table border=\"1\" class=\"dataframe\">\n",
       "  <thead>\n",
       "    <tr style=\"text-align: right;\">\n",
       "      <th></th>\n",
       "      <th>day</th>\n",
       "      <th>month</th>\n",
       "      <th>year</th>\n",
       "      <th>datetime</th>\n",
       "      <th>predicted_cases</th>\n",
       "    </tr>\n",
       "  </thead>\n",
       "  <tbody>\n",
       "    <tr>\n",
       "      <th>0</th>\n",
       "      <td>7</td>\n",
       "      <td>9</td>\n",
       "      <td>2020</td>\n",
       "      <td>2020-09-07</td>\n",
       "      <td>11409.608583</td>\n",
       "    </tr>\n",
       "    <tr>\n",
       "      <th>1</th>\n",
       "      <td>3</td>\n",
       "      <td>11</td>\n",
       "      <td>2020</td>\n",
       "      <td>2020-11-03</td>\n",
       "      <td>15297.355408</td>\n",
       "    </tr>\n",
       "    <tr>\n",
       "      <th>2</th>\n",
       "      <td>26</td>\n",
       "      <td>11</td>\n",
       "      <td>2020</td>\n",
       "      <td>2020-11-26</td>\n",
       "      <td>16949.045442</td>\n",
       "    </tr>\n",
       "    <tr>\n",
       "      <th>3</th>\n",
       "      <td>25</td>\n",
       "      <td>12</td>\n",
       "      <td>2020</td>\n",
       "      <td>2020-12-25</td>\n",
       "      <td>18964.731464</td>\n",
       "    </tr>\n",
       "  </tbody>\n",
       "</table>\n",
       "</div>"
      ],
      "text/plain": [
       "   day  month  year   datetime  predicted_cases\n",
       "0    7      9  2020 2020-09-07     11409.608583\n",
       "1    3     11  2020 2020-11-03     15297.355408\n",
       "2   26     11  2020 2020-11-26     16949.045442\n",
       "3   25     12  2020 2020-12-25     18964.731464"
      ]
     },
     "execution_count": 122,
     "metadata": {},
     "output_type": "execute_result"
    }
   ],
   "source": [
    "# Add the precitions back to the DataFrame and convert from object to \n",
    "# float so we can use it for graphing\n",
    "\n",
    "sd_predictions[\"predicted_cases\"] = sd_preds\n",
    "sd_predictions[\"predicted_cases\"] = sd_predictions['predicted_cases'].astype('float')\n",
    "sd_predictions.head()"
   ]
  },
  {
   "cell_type": "code",
   "execution_count": 123,
   "metadata": {},
   "outputs": [
    {
     "data": {
      "image/png": "[encoded data removed]",
      "text/plain": [
       "<Figure size 1080x432 with 1 Axes>"
      ]
     },
     "metadata": {
      "needs_background": "light"
     },
     "output_type": "display_data"
    }
   ],
   "source": [
    "plt.figure(figsize = (15, 6))\n",
    "plt.scatter(sd_predictions['datetime'], sd_predictions['predicted_cases'],c='#d0312d',)\n",
    "plt.scatter(South_Dakota['datetime'],South_Dakota['cases'],c='#000080',)\n",
    "plt.grid(True)\n",
    "plt.title('South Dakota Cases Over Time', fontsize = 20)\n",
    "plt.ylabel('Cases', fontsize = 20)\n",
    "plt.show()"
   ]
  },
  {
   "cell_type": "code",
   "execution_count": null,
   "metadata": {},
   "outputs": [],
   "source": []
  }
 ],
 "metadata": {
  "kernelspec": {
   "display_name": "Python 3",
   "language": "python",
   "name": "python3"
  },
  "language_info": {
   "codemirror_mode": {
    "name": "ipython",
    "version": 3
   },
   "file_extension": ".py",
   "mimetype": "text/x-python",
   "name": "python",
   "nbconvert_exporter": "python",
   "pygments_lexer": "ipython3",
   "version": "3.8.5"
  }
 },
 "nbformat": 4,
 "nbformat_minor": 4
}
