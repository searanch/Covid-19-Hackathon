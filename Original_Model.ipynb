{
 "cells": [
  {
   "cell_type": "markdown",
   "metadata": {},
   "source": [
    "# Original Model run July 17th 2020\n",
    "\n",
    "In our model we predict the number of Covid-10 Cases in the Midwestern United States through the end of 2020. Only showing predictions for state of Minnesota.\n"
   ]
  },
  {
   "cell_type": "code",
   "execution_count": 1,
   "metadata": {},
   "outputs": [],
   "source": [
    "import pandas as pd\n",
    "import matplotlib.pyplot as plt\n",
    "from sklearn.linear_model import LinearRegression\n",
    "from sklearn.model_selection import train_test_split\n",
    "import numpy as np\n",
    "\n",
    "import warnings\n",
    "warnings.filterwarnings('ignore')"
   ]
  },
  {
   "cell_type": "code",
   "execution_count": 5,
   "metadata": {},
   "outputs": [
    {
     "output_type": "execute_result",
     "data": {
      "text/plain": [
       "     state_name       date   cases  deaths  tests_positive  tests_negative  \\\n",
       "8149   New York  6/26/2020  395972   31075        391220.0       3290097.0   \n",
       "8150   New York  6/27/2020  396669   31105        391923.0       3362656.0   \n",
       "8151   New York  6/28/2020  397293   31137        392539.0       3423946.0   \n",
       "8152   New York  6/29/2020  397684   31143        392930.0       3469983.0   \n",
       "8153   New York  6/30/2020  398142   31776        393454.0       3521484.0   \n",
       "\n",
       "      tests_pending      tests  patients_icu  patients_hosp  patients_vent  \\\n",
       "8149            NaN  3681317.0         244.0          951.0          167.0   \n",
       "8150            NaN  3754579.0         230.0          908.0          167.0   \n",
       "8151            NaN  3816485.0         229.0          869.0          167.0   \n",
       "8152            NaN  3862913.0         216.0          853.0          136.0   \n",
       "8153            NaN  3914938.0         217.0          891.0          137.0   \n",
       "\n",
       "      recovered   datetime  \n",
       "8149    70010.0 2020-06-26  \n",
       "8150    70010.0 2020-06-27  \n",
       "8151    70010.0 2020-06-28  \n",
       "8152    70435.0 2020-06-29  \n",
       "8153    70487.0 2020-06-30  "
      ],
      "text/html": "<div>\n<style scoped>\n    .dataframe tbody tr th:only-of-type {\n        vertical-align: middle;\n    }\n\n    .dataframe tbody tr th {\n        vertical-align: top;\n    }\n\n    .dataframe thead th {\n        text-align: right;\n    }\n</style>\n<table border=\"1\" class=\"dataframe\">\n  <thead>\n    <tr style=\"text-align: right;\">\n      <th></th>\n      <th>state_name</th>\n      <th>date</th>\n      <th>cases</th>\n      <th>deaths</th>\n      <th>tests_positive</th>\n      <th>tests_negative</th>\n      <th>tests_pending</th>\n      <th>tests</th>\n      <th>patients_icu</th>\n      <th>patients_hosp</th>\n      <th>patients_vent</th>\n      <th>recovered</th>\n      <th>datetime</th>\n    </tr>\n  </thead>\n  <tbody>\n    <tr>\n      <th>8149</th>\n      <td>New York</td>\n      <td>6/26/2020</td>\n      <td>395972</td>\n      <td>31075</td>\n      <td>391220.0</td>\n      <td>3290097.0</td>\n      <td>NaN</td>\n      <td>3681317.0</td>\n      <td>244.0</td>\n      <td>951.0</td>\n      <td>167.0</td>\n      <td>70010.0</td>\n      <td>2020-06-26</td>\n    </tr>\n    <tr>\n      <th>8150</th>\n      <td>New York</td>\n      <td>6/27/2020</td>\n      <td>396669</td>\n      <td>31105</td>\n      <td>391923.0</td>\n      <td>3362656.0</td>\n      <td>NaN</td>\n      <td>3754579.0</td>\n      <td>230.0</td>\n      <td>908.0</td>\n      <td>167.0</td>\n      <td>70010.0</td>\n      <td>2020-06-27</td>\n    </tr>\n    <tr>\n      <th>8151</th>\n      <td>New York</td>\n      <td>6/28/2020</td>\n      <td>397293</td>\n      <td>31137</td>\n      <td>392539.0</td>\n      <td>3423946.0</td>\n      <td>NaN</td>\n      <td>3816485.0</td>\n      <td>229.0</td>\n      <td>869.0</td>\n      <td>167.0</td>\n      <td>70010.0</td>\n      <td>2020-06-28</td>\n    </tr>\n    <tr>\n      <th>8152</th>\n      <td>New York</td>\n      <td>6/29/2020</td>\n      <td>397684</td>\n      <td>31143</td>\n      <td>392930.0</td>\n      <td>3469983.0</td>\n      <td>NaN</td>\n      <td>3862913.0</td>\n      <td>216.0</td>\n      <td>853.0</td>\n      <td>136.0</td>\n      <td>70435.0</td>\n      <td>2020-06-29</td>\n    </tr>\n    <tr>\n      <th>8153</th>\n      <td>New York</td>\n      <td>6/30/2020</td>\n      <td>398142</td>\n      <td>31776</td>\n      <td>393454.0</td>\n      <td>3521484.0</td>\n      <td>NaN</td>\n      <td>3914938.0</td>\n      <td>217.0</td>\n      <td>891.0</td>\n      <td>137.0</td>\n      <td>70487.0</td>\n      <td>2020-06-30</td>\n    </tr>\n  </tbody>\n</table>\n</div>"
     },
     "metadata": {},
     "execution_count": 5
    }
   ],
   "source": [
    "#Load dataset from csv\n",
    "usa = pd.read_csv('enigma_Aug_8_2020.csv')\n",
    "usa.head()\n",
    "\n",
    "# Remove not needed columns\n",
    "usa = usa.drop(columns = ['state_fips', 'lat', 'long'])\n",
    "usa.head()\n",
    "\n",
    "# Convert dates to datetime\n",
    "usa['datetime'] = pd.to_datetime(usa['date'])\n",
    "usa.tail()"
   ]
  },
  {
   "cell_type": "code",
   "execution_count": 6,
   "metadata": {},
   "outputs": [],
   "source": [
    "# TODO issue below, function Make_MN() works, but I want to take the output of function and store it in MN. "
   ]
  },
  {
   "cell_type": "code",
   "execution_count": 2,
   "metadata": {},
   "outputs": [
    {
     "output_type": "execute_result",
     "data": {
      "text/plain": [
       "      datetime  cases  deaths  tests_positive  tests_negative  tests_pending  \\\n",
       "1   2020-03-07      1       0             2.0            48.0            0.0   \n",
       "2   2020-03-08      2       0             2.0            48.0            0.0   \n",
       "3   2020-03-09      2       0             5.0            80.0            0.0   \n",
       "4   2020-03-10      3       0            11.0           132.0            0.0   \n",
       "5   2020-03-11      5       0            21.0           217.0            0.0   \n",
       "..         ...    ...     ...             ...             ...            ...   \n",
       "140 2020-07-24  49528    1606         49488.0        873388.0            0.0   \n",
       "141 2020-07-25  50331    1611         50291.0        890405.0            0.0   \n",
       "142 2020-07-26  51193    1614         51153.0        906221.0            0.0   \n",
       "143 2020-07-27  51843    1616         51803.0        918923.0            0.0   \n",
       "144 2020-07-28  52321    1620         52281.0        927707.0            0.0   \n",
       "\n",
       "        tests  patients_icu  patients_hosp  patients_vent  recovered  day  \\\n",
       "1        50.0           0.0            0.0            0.0        0.0    7   \n",
       "2        50.0           0.0            0.0            0.0        0.0    8   \n",
       "3        85.0           0.0            0.0            0.0        0.0    9   \n",
       "4       143.0           0.0            0.0            0.0        0.0   10   \n",
       "5       238.0           0.0            0.0            0.0        0.0   11   \n",
       "..        ...           ...            ...            ...        ...  ...   \n",
       "140  922876.0         108.0          278.0            0.0    42882.0   24   \n",
       "141  940696.0         115.0          287.0            0.0    43625.0   25   \n",
       "142  957374.0         115.0          273.0            0.0    44431.0   26   \n",
       "143  970726.0         126.0          257.0            0.0    45198.0   27   \n",
       "144  979988.0         138.0          294.0            0.0    45987.0   28   \n",
       "\n",
       "     month  year  growth_rate  \n",
       "1        3  2020     0.000000  \n",
       "2        3  2020     1.000000  \n",
       "3        3  2020     0.000000  \n",
       "4        3  2020     0.500000  \n",
       "5        3  2020     0.666667  \n",
       "..     ...   ...          ...  \n",
       "140      7  2020     0.015730  \n",
       "141      7  2020     0.016213  \n",
       "142      7  2020     0.017127  \n",
       "143      7  2020     0.012697  \n",
       "144      7  2020     0.009220  \n",
       "\n",
       "[144 rows x 15 columns]"
      ],
      "text/html": "<div>\n<style scoped>\n    .dataframe tbody tr th:only-of-type {\n        vertical-align: middle;\n    }\n\n    .dataframe tbody tr th {\n        vertical-align: top;\n    }\n\n    .dataframe thead th {\n        text-align: right;\n    }\n</style>\n<table border=\"1\" class=\"dataframe\">\n  <thead>\n    <tr style=\"text-align: right;\">\n      <th></th>\n      <th>datetime</th>\n      <th>cases</th>\n      <th>deaths</th>\n      <th>tests_positive</th>\n      <th>tests_negative</th>\n      <th>tests_pending</th>\n      <th>tests</th>\n      <th>patients_icu</th>\n      <th>patients_hosp</th>\n      <th>patients_vent</th>\n      <th>recovered</th>\n      <th>day</th>\n      <th>month</th>\n      <th>year</th>\n      <th>growth_rate</th>\n    </tr>\n  </thead>\n  <tbody>\n    <tr>\n      <th>1</th>\n      <td>2020-03-07</td>\n      <td>1</td>\n      <td>0</td>\n      <td>2.0</td>\n      <td>48.0</td>\n      <td>0.0</td>\n      <td>50.0</td>\n      <td>0.0</td>\n      <td>0.0</td>\n      <td>0.0</td>\n      <td>0.0</td>\n      <td>7</td>\n      <td>3</td>\n      <td>2020</td>\n      <td>0.000000</td>\n    </tr>\n    <tr>\n      <th>2</th>\n      <td>2020-03-08</td>\n      <td>2</td>\n      <td>0</td>\n      <td>2.0</td>\n      <td>48.0</td>\n      <td>0.0</td>\n      <td>50.0</td>\n      <td>0.0</td>\n      <td>0.0</td>\n      <td>0.0</td>\n      <td>0.0</td>\n      <td>8</td>\n      <td>3</td>\n      <td>2020</td>\n      <td>1.000000</td>\n    </tr>\n    <tr>\n      <th>3</th>\n      <td>2020-03-09</td>\n      <td>2</td>\n      <td>0</td>\n      <td>5.0</td>\n      <td>80.0</td>\n      <td>0.0</td>\n      <td>85.0</td>\n      <td>0.0</td>\n      <td>0.0</td>\n      <td>0.0</td>\n      <td>0.0</td>\n      <td>9</td>\n      <td>3</td>\n      <td>2020</td>\n      <td>0.000000</td>\n    </tr>\n    <tr>\n      <th>4</th>\n      <td>2020-03-10</td>\n      <td>3</td>\n      <td>0</td>\n      <td>11.0</td>\n      <td>132.0</td>\n      <td>0.0</td>\n      <td>143.0</td>\n      <td>0.0</td>\n      <td>0.0</td>\n      <td>0.0</td>\n      <td>0.0</td>\n      <td>10</td>\n      <td>3</td>\n      <td>2020</td>\n      <td>0.500000</td>\n    </tr>\n    <tr>\n      <th>5</th>\n      <td>2020-03-11</td>\n      <td>5</td>\n      <td>0</td>\n      <td>21.0</td>\n      <td>217.0</td>\n      <td>0.0</td>\n      <td>238.0</td>\n      <td>0.0</td>\n      <td>0.0</td>\n      <td>0.0</td>\n      <td>0.0</td>\n      <td>11</td>\n      <td>3</td>\n      <td>2020</td>\n      <td>0.666667</td>\n    </tr>\n    <tr>\n      <th>...</th>\n      <td>...</td>\n      <td>...</td>\n      <td>...</td>\n      <td>...</td>\n      <td>...</td>\n      <td>...</td>\n      <td>...</td>\n      <td>...</td>\n      <td>...</td>\n      <td>...</td>\n      <td>...</td>\n      <td>...</td>\n      <td>...</td>\n      <td>...</td>\n      <td>...</td>\n    </tr>\n    <tr>\n      <th>140</th>\n      <td>2020-07-24</td>\n      <td>49528</td>\n      <td>1606</td>\n      <td>49488.0</td>\n      <td>873388.0</td>\n      <td>0.0</td>\n      <td>922876.0</td>\n      <td>108.0</td>\n      <td>278.0</td>\n      <td>0.0</td>\n      <td>42882.0</td>\n      <td>24</td>\n      <td>7</td>\n      <td>2020</td>\n      <td>0.015730</td>\n    </tr>\n    <tr>\n      <th>141</th>\n      <td>2020-07-25</td>\n      <td>50331</td>\n      <td>1611</td>\n      <td>50291.0</td>\n      <td>890405.0</td>\n      <td>0.0</td>\n      <td>940696.0</td>\n      <td>115.0</td>\n      <td>287.0</td>\n      <td>0.0</td>\n      <td>43625.0</td>\n      <td>25</td>\n      <td>7</td>\n      <td>2020</td>\n      <td>0.016213</td>\n    </tr>\n    <tr>\n      <th>142</th>\n      <td>2020-07-26</td>\n      <td>51193</td>\n      <td>1614</td>\n      <td>51153.0</td>\n      <td>906221.0</td>\n      <td>0.0</td>\n      <td>957374.0</td>\n      <td>115.0</td>\n      <td>273.0</td>\n      <td>0.0</td>\n      <td>44431.0</td>\n      <td>26</td>\n      <td>7</td>\n      <td>2020</td>\n      <td>0.017127</td>\n    </tr>\n    <tr>\n      <th>143</th>\n      <td>2020-07-27</td>\n      <td>51843</td>\n      <td>1616</td>\n      <td>51803.0</td>\n      <td>918923.0</td>\n      <td>0.0</td>\n      <td>970726.0</td>\n      <td>126.0</td>\n      <td>257.0</td>\n      <td>0.0</td>\n      <td>45198.0</td>\n      <td>27</td>\n      <td>7</td>\n      <td>2020</td>\n      <td>0.012697</td>\n    </tr>\n    <tr>\n      <th>144</th>\n      <td>2020-07-28</td>\n      <td>52321</td>\n      <td>1620</td>\n      <td>52281.0</td>\n      <td>927707.0</td>\n      <td>0.0</td>\n      <td>979988.0</td>\n      <td>138.0</td>\n      <td>294.0</td>\n      <td>0.0</td>\n      <td>45987.0</td>\n      <td>28</td>\n      <td>7</td>\n      <td>2020</td>\n      <td>0.009220</td>\n    </tr>\n  </tbody>\n</table>\n<p>144 rows × 15 columns</p>\n</div>"
     },
     "metadata": {},
     "execution_count": 2
    }
   ],
   "source": [
    "def Make_MN():\n",
    "    '''function to make MN df'''\n",
    "    \n",
    "    #Load dataset from csv\n",
    "    usa = pd.read_csv('enigma_Aug_8_2020.csv')\n",
    "   \n",
    "    # Remove not needed columns\n",
    "    usa = usa.drop(columns = ['state_fips', 'lat', 'long'])\n",
    "\n",
    "    # Convert dates to datetime\n",
    "    usa['datetime'] = pd.to_datetime(usa['date'])\n",
    "    \n",
    "    # Create DF for just Minnesota\n",
    "    MN =  usa[usa['state_name']=='Minnesota']\n",
    "\n",
    "\n",
    "    # Summing case count for Western Northern Central by date\n",
    "    # Groupby to consolidate cases by entire region\n",
    "    MN= MN.groupby([\"datetime\"]).sum()\n",
    "   \n",
    "\n",
    "    # Sort by datetime and reset index\n",
    "    MN.sort_values(by = 'datetime')\n",
    "    MN = MN.reset_index()\n",
    "    \n",
    "    # Summing case count for Western Northern Central by date\n",
    "    # Groupby to consolidate cases by entire region\n",
    "    MN = MN.groupby([\"datetime\"]).sum()\n",
    "  \n",
    "    # Sort by datetime and reset index\n",
    "    MN.sort_values(by = 'datetime')\n",
    "    MN = MN.reset_index()\n",
    "    #wnc_group.tail\n",
    "    \n",
    "    # Finish datetime conversion\n",
    "    MN['datetime'] = pd.to_datetime(MN['datetime'])\n",
    "    MN['day'] = MN['datetime'].map(lambda x: x.day)\n",
    "    MN['month'] = MN['datetime'].map(lambda x: x.month)\n",
    "    MN['year'] = MN['datetime'].map(lambda x: x.year)\n",
    "\n",
    "    # Now create new column for growth rate\n",
    "    MN['growth_rate'] = MN['cases'].pct_change()\n",
    "    # Drop null value\n",
    "    MN = MN.dropna()\n",
    "    \n",
    "    MN = MN\n",
    "    return MN\n",
    "\n",
    "\n",
    "Make_MN()\n",
    "    "
   ]
  },
  {
   "cell_type": "code",
   "execution_count": 3,
   "metadata": {},
   "outputs": [
    {
     "output_type": "execute_result",
     "data": {
      "text/plain": [
       "      datetime  cases  deaths  tests_positive  tests_negative  tests_pending  \\\n",
       "140 2020-07-24  49528    1606         49488.0        873388.0            0.0   \n",
       "141 2020-07-25  50331    1611         50291.0        890405.0            0.0   \n",
       "142 2020-07-26  51193    1614         51153.0        906221.0            0.0   \n",
       "143 2020-07-27  51843    1616         51803.0        918923.0            0.0   \n",
       "144 2020-07-28  52321    1620         52281.0        927707.0            0.0   \n",
       "\n",
       "        tests  patients_icu  patients_hosp  patients_vent  recovered  day  \\\n",
       "140  922876.0         108.0          278.0            0.0    42882.0   24   \n",
       "141  940696.0         115.0          287.0            0.0    43625.0   25   \n",
       "142  957374.0         115.0          273.0            0.0    44431.0   26   \n",
       "143  970726.0         126.0          257.0            0.0    45198.0   27   \n",
       "144  979988.0         138.0          294.0            0.0    45987.0   28   \n",
       "\n",
       "     month  year  growth_rate  \n",
       "140      7  2020     0.015730  \n",
       "141      7  2020     0.016213  \n",
       "142      7  2020     0.017127  \n",
       "143      7  2020     0.012697  \n",
       "144      7  2020     0.009220  "
      ],
      "text/html": "<div>\n<style scoped>\n    .dataframe tbody tr th:only-of-type {\n        vertical-align: middle;\n    }\n\n    .dataframe tbody tr th {\n        vertical-align: top;\n    }\n\n    .dataframe thead th {\n        text-align: right;\n    }\n</style>\n<table border=\"1\" class=\"dataframe\">\n  <thead>\n    <tr style=\"text-align: right;\">\n      <th></th>\n      <th>datetime</th>\n      <th>cases</th>\n      <th>deaths</th>\n      <th>tests_positive</th>\n      <th>tests_negative</th>\n      <th>tests_pending</th>\n      <th>tests</th>\n      <th>patients_icu</th>\n      <th>patients_hosp</th>\n      <th>patients_vent</th>\n      <th>recovered</th>\n      <th>day</th>\n      <th>month</th>\n      <th>year</th>\n      <th>growth_rate</th>\n    </tr>\n  </thead>\n  <tbody>\n    <tr>\n      <th>140</th>\n      <td>2020-07-24</td>\n      <td>49528</td>\n      <td>1606</td>\n      <td>49488.0</td>\n      <td>873388.0</td>\n      <td>0.0</td>\n      <td>922876.0</td>\n      <td>108.0</td>\n      <td>278.0</td>\n      <td>0.0</td>\n      <td>42882.0</td>\n      <td>24</td>\n      <td>7</td>\n      <td>2020</td>\n      <td>0.015730</td>\n    </tr>\n    <tr>\n      <th>141</th>\n      <td>2020-07-25</td>\n      <td>50331</td>\n      <td>1611</td>\n      <td>50291.0</td>\n      <td>890405.0</td>\n      <td>0.0</td>\n      <td>940696.0</td>\n      <td>115.0</td>\n      <td>287.0</td>\n      <td>0.0</td>\n      <td>43625.0</td>\n      <td>25</td>\n      <td>7</td>\n      <td>2020</td>\n      <td>0.016213</td>\n    </tr>\n    <tr>\n      <th>142</th>\n      <td>2020-07-26</td>\n      <td>51193</td>\n      <td>1614</td>\n      <td>51153.0</td>\n      <td>906221.0</td>\n      <td>0.0</td>\n      <td>957374.0</td>\n      <td>115.0</td>\n      <td>273.0</td>\n      <td>0.0</td>\n      <td>44431.0</td>\n      <td>26</td>\n      <td>7</td>\n      <td>2020</td>\n      <td>0.017127</td>\n    </tr>\n    <tr>\n      <th>143</th>\n      <td>2020-07-27</td>\n      <td>51843</td>\n      <td>1616</td>\n      <td>51803.0</td>\n      <td>918923.0</td>\n      <td>0.0</td>\n      <td>970726.0</td>\n      <td>126.0</td>\n      <td>257.0</td>\n      <td>0.0</td>\n      <td>45198.0</td>\n      <td>27</td>\n      <td>7</td>\n      <td>2020</td>\n      <td>0.012697</td>\n    </tr>\n    <tr>\n      <th>144</th>\n      <td>2020-07-28</td>\n      <td>52321</td>\n      <td>1620</td>\n      <td>52281.0</td>\n      <td>927707.0</td>\n      <td>0.0</td>\n      <td>979988.0</td>\n      <td>138.0</td>\n      <td>294.0</td>\n      <td>0.0</td>\n      <td>45987.0</td>\n      <td>28</td>\n      <td>7</td>\n      <td>2020</td>\n      <td>0.009220</td>\n    </tr>\n  </tbody>\n</table>\n</div>"
     },
     "metadata": {},
     "execution_count": 3
    }
   ],
   "source": [
    "# Save output of function to variable\n",
    "MN = Make_MN()\n",
    "MN.tail()"
   ]
  },
  {
   "cell_type": "markdown",
   "metadata": {},
   "source": [
    "# Create ML Model\n",
    "This model uses historical cases and growth rates to predict future Covid-19 cases in Minnesota."
   ]
  },
  {
   "cell_type": "code",
   "execution_count": 4,
   "metadata": {},
   "outputs": [
    {
     "output_type": "execute_result",
     "data": {
      "text/plain": [
       "   day  month  year   datetime  predicted_cases\n",
       "0    7      9  2020 2020-09-07     63761.889408\n",
       "1    3     11  2020 2020-11-03     86770.626148\n",
       "2   26     11  2020 2020-11-26     95935.478724\n",
       "3   25     12  2020 2020-12-25    107838.318945"
      ],
      "text/html": "<div>\n<style scoped>\n    .dataframe tbody tr th:only-of-type {\n        vertical-align: middle;\n    }\n\n    .dataframe tbody tr th {\n        vertical-align: top;\n    }\n\n    .dataframe thead th {\n        text-align: right;\n    }\n</style>\n<table border=\"1\" class=\"dataframe\">\n  <thead>\n    <tr style=\"text-align: right;\">\n      <th></th>\n      <th>day</th>\n      <th>month</th>\n      <th>year</th>\n      <th>datetime</th>\n      <th>predicted_cases</th>\n    </tr>\n  </thead>\n  <tbody>\n    <tr>\n      <th>0</th>\n      <td>7</td>\n      <td>9</td>\n      <td>2020</td>\n      <td>2020-09-07</td>\n      <td>63761.889408</td>\n    </tr>\n    <tr>\n      <th>1</th>\n      <td>3</td>\n      <td>11</td>\n      <td>2020</td>\n      <td>2020-11-03</td>\n      <td>86770.626148</td>\n    </tr>\n    <tr>\n      <th>2</th>\n      <td>26</td>\n      <td>11</td>\n      <td>2020</td>\n      <td>2020-11-26</td>\n      <td>95935.478724</td>\n    </tr>\n    <tr>\n      <th>3</th>\n      <td>25</td>\n      <td>12</td>\n      <td>2020</td>\n      <td>2020-12-25</td>\n      <td>107838.318945</td>\n    </tr>\n  </tbody>\n</table>\n</div>"
     },
     "metadata": {},
     "execution_count": 4
    }
   ],
   "source": [
    "def make_models():\n",
    "    ''' function to run cases model'''\n",
    "    # Make the model\n",
    "    MN_model = LinearRegression()\n",
    "    \n",
    "    # Assign the features and the target\n",
    "    X_Mn = MN[[\"day\", \"month\", \"year\"]]\n",
    "    y_Mn = MN[[\"cases\"]]\n",
    "    \n",
    "    # Split the data for training and testing\n",
    "    X_train_Mn, X_test_Mn, y_train_Mn, y_test_Mn = train_test_split(X_Mn, y_Mn, random_state=42)\n",
    "    \n",
    "    # Fit the model with the training data and score it with the testing data\n",
    "    MN_model.fit(X_train_Mn, y_train_Mn)\n",
    "    MN_model.score(X_test_Mn, y_test_Mn)\n",
    "    \n",
    "    # Make Dataframe for the holidays which will be used for the predicitons:\n",
    "    # Labor Day, Election Day, Thanksgiving, Christmas\n",
    "\n",
    "    holidays = {\"day\": [7, 3, 26, 25], \"month\": [9, 11, 11, 12], \"year\": [2020, 2020, 2020, 2020]}\n",
    "    predict_holidays = pd.DataFrame(holidays)\n",
    "    predict_holidays[\"datetime\"] = pd.to_datetime((predict_holidays.year*10000 + predict_holidays.month*100+predict_holidays.day).apply(str),format='%Y%m%d')   \n",
    "\n",
    "\n",
    "    \n",
    "    \n",
    "    # Predict with the model\n",
    "    predictions = MN_model.predict(predict_holidays[[\"day\", \"month\", \"year\"]])\n",
    "\n",
    "\n",
    "    # convert predictions from ndarray to list\n",
    "    preds_arr = []\n",
    "    for i in predictions:\n",
    "        preds_arr.append(np.asscalar(i))\n",
    "    \n",
    "    # Add the precitions back to the DataFrame and convert from object to \n",
    "    # float so we can use it for graphing\n",
    "    predict_holidays[\"predicted_cases\"] = predictions\n",
    "    predict_holidays[\"predicted_cases\"] = predict_holidays['predicted_cases'].astype('float')\n",
    "    \n",
    "    return predict_holidays\n",
    "\n",
    "make_models()"
   ]
  },
  {
   "cell_type": "code",
   "execution_count": 5,
   "metadata": {},
   "outputs": [
    {
     "output_type": "execute_result",
     "data": {
      "text/plain": [
       "   day  month  year   datetime  predicted_cases\n",
       "0    7      9  2020 2020-09-07     63761.889408\n",
       "1    3     11  2020 2020-11-03     86770.626148\n",
       "2   26     11  2020 2020-11-26     95935.478724\n",
       "3   25     12  2020 2020-12-25    107838.318945"
      ],
      "text/html": "<div>\n<style scoped>\n    .dataframe tbody tr th:only-of-type {\n        vertical-align: middle;\n    }\n\n    .dataframe tbody tr th {\n        vertical-align: top;\n    }\n\n    .dataframe thead th {\n        text-align: right;\n    }\n</style>\n<table border=\"1\" class=\"dataframe\">\n  <thead>\n    <tr style=\"text-align: right;\">\n      <th></th>\n      <th>day</th>\n      <th>month</th>\n      <th>year</th>\n      <th>datetime</th>\n      <th>predicted_cases</th>\n    </tr>\n  </thead>\n  <tbody>\n    <tr>\n      <th>0</th>\n      <td>7</td>\n      <td>9</td>\n      <td>2020</td>\n      <td>2020-09-07</td>\n      <td>63761.889408</td>\n    </tr>\n    <tr>\n      <th>1</th>\n      <td>3</td>\n      <td>11</td>\n      <td>2020</td>\n      <td>2020-11-03</td>\n      <td>86770.626148</td>\n    </tr>\n    <tr>\n      <th>2</th>\n      <td>26</td>\n      <td>11</td>\n      <td>2020</td>\n      <td>2020-11-26</td>\n      <td>95935.478724</td>\n    </tr>\n    <tr>\n      <th>3</th>\n      <td>25</td>\n      <td>12</td>\n      <td>2020</td>\n      <td>2020-12-25</td>\n      <td>107838.318945</td>\n    </tr>\n  </tbody>\n</table>\n</div>"
     },
     "metadata": {},
     "execution_count": 5
    }
   ],
   "source": [
    "# store output of function in variable\n",
    "predict_holidays = make_models()\n",
    "predict_holidays"
   ]
  },
  {
   "cell_type": "code",
   "execution_count": 9,
   "metadata": {},
   "outputs": [
    {
     "output_type": "display_data",
     "data": {
      "text/plain": "<Figure size 720x216 with 1 Axes>",
      "image/svg+xml": "<?xml version=\"1.0\" encoding=\"utf-8\" standalone=\"no\"?>\r\n<!DOCTYPE svg PUBLIC \"-//W3C//DTD SVG 1.1//EN\"\r\n  \"http://www.w3.org/Graphics/SVG/1.1/DTD/svg11.dtd\">\r\n<!-- Created with matplotlib (https://matplotlib.org/) -->\r\n<svg height=\"215.355pt\" version=\"1.1\" viewBox=\"0 0 640.93125 215.355\" width=\"640.93125pt\" xmlns=\"http://www.w3.org/2000/svg\" xmlns:xlink=\"http://www.w3.org/1999/xlink\">\r\n <defs>\r\n  <style type=\"text/css\">\r\n*{stroke-linecap:butt;stroke-linejoin:round;}\r\n  </style>\r\n </defs>\r\n <g id=\"figure_1\">\r\n  <g id=\"patch_1\">\r\n   <path d=\"M 0 215.355 \r\nL 640.93125 215.355 \r\nL 640.93125 -0 \r\nL 0 -0 \r\nz\r\n\" style=\"fill:none;\"/>\r\n  </g>\r\n  <g id=\"axes_1\">\r\n   <g id=\"patch_2\">\r\n    <path d=\"M 75.73125 191.476875 \r\nL 633.73125 191.476875 \r\nL 633.73125 28.396875 \r\nL 75.73125 28.396875 \r\nz\r\n\" style=\"fill:#ffffff;\"/>\r\n   </g>\r\n   <g id=\"PathCollection_1\">\r\n    <defs>\r\n     <path d=\"M 0 3 \r\nC 0.795609 3 1.55874 2.683901 2.12132 2.12132 \r\nC 2.683901 1.55874 3 0.795609 3 0 \r\nC 3 -0.795609 2.683901 -1.55874 2.12132 -2.12132 \r\nC 1.55874 -2.683901 0.795609 -3 0 -3 \r\nC -0.795609 -3 -1.55874 -2.683901 -2.12132 -2.12132 \r\nC -2.683901 -1.55874 -3 -0.795609 -3 0 \r\nC -3 0.795609 -2.683901 1.55874 -2.12132 2.12132 \r\nC -1.55874 2.683901 -0.795609 3 0 3 \r\nz\r\n\" id=\"mbac78fcb57\" style=\"stroke:#d0312d;\"/>\r\n    </defs>\r\n    <g clip-path=\"url(#pa9ee6ee140)\">\r\n     <use style=\"fill:#d0312d;stroke:#d0312d;\" x=\"400.227336\" xlink:href=\"#mbac78fcb57\" y=\"95.908739\"/>\r\n     <use style=\"fill:#d0312d;stroke:#d0312d;\" x=\"492.453826\" xlink:href=\"#mbac78fcb57\" y=\"64.535857\"/>\r\n     <use style=\"fill:#d0312d;stroke:#d0312d;\" x=\"529.668023\" xlink:href=\"#mbac78fcb57\" y=\"52.039393\"/>\r\n     <use style=\"fill:#d0312d;stroke:#d0312d;\" x=\"576.590273\" xlink:href=\"#mbac78fcb57\" y=\"35.809627\"/>\r\n    </g>\r\n   </g>\r\n   <g id=\"PathCollection_2\">\r\n    <defs>\r\n     <path d=\"M 0 3 \r\nC 0.795609 3 1.55874 2.683901 2.12132 2.12132 \r\nC 2.683901 1.55874 3 0.795609 3 0 \r\nC 3 -0.795609 2.683901 -1.55874 2.12132 -2.12132 \r\nC 1.55874 -2.683901 0.795609 -3 0 -3 \r\nC -0.795609 -3 -1.55874 -2.683901 -2.12132 -2.12132 \r\nC -2.683901 -1.55874 -3 -0.795609 -3 0 \r\nC -3 0.795609 -2.683901 1.55874 -2.12132 2.12132 \r\nC -1.55874 2.683901 -0.795609 3 0 3 \r\nz\r\n\" id=\"m471a8a85b4\" style=\"stroke:#000080;\"/>\r\n    </defs>\r\n    <g clip-path=\"url(#pa9ee6ee140)\">\r\n     <use style=\"fill:#000080;stroke:#000080;\" x=\"102.513754\" xlink:href=\"#m471a8a85b4\" y=\"182.848013\"/>\r\n     <use style=\"fill:#000080;stroke:#000080;\" x=\"104.131763\" xlink:href=\"#m471a8a85b4\" y=\"182.84665\"/>\r\n     <use style=\"fill:#000080;stroke:#000080;\" x=\"105.749771\" xlink:href=\"#m471a8a85b4\" y=\"182.84665\"/>\r\n     <use style=\"fill:#000080;stroke:#000080;\" x=\"107.36778\" xlink:href=\"#m471a8a85b4\" y=\"182.845286\"/>\r\n     <use style=\"fill:#000080;stroke:#000080;\" x=\"108.985788\" xlink:href=\"#m471a8a85b4\" y=\"182.842559\"/>\r\n     <use style=\"fill:#000080;stroke:#000080;\" x=\"110.603797\" xlink:href=\"#m471a8a85b4\" y=\"182.837105\"/>\r\n     <use style=\"fill:#000080;stroke:#000080;\" x=\"112.221806\" xlink:href=\"#m471a8a85b4\" y=\"182.830287\"/>\r\n     <use style=\"fill:#000080;stroke:#000080;\" x=\"113.839814\" xlink:href=\"#m471a8a85b4\" y=\"182.820743\"/>\r\n     <use style=\"fill:#000080;stroke:#000080;\" x=\"115.457823\" xlink:href=\"#m471a8a85b4\" y=\"182.801653\"/>\r\n     <use style=\"fill:#000080;stroke:#000080;\" x=\"117.075831\" xlink:href=\"#m471a8a85b4\" y=\"182.775747\"/>\r\n     <use style=\"fill:#000080;stroke:#000080;\" x=\"118.69384\" xlink:href=\"#m471a8a85b4\" y=\"182.767565\"/>\r\n     <use style=\"fill:#000080;stroke:#000080;\" x=\"120.311849\" xlink:href=\"#m471a8a85b4\" y=\"182.744386\"/>\r\n     <use style=\"fill:#000080;stroke:#000080;\" x=\"121.929857\" xlink:href=\"#m471a8a85b4\" y=\"182.728023\"/>\r\n     <use style=\"fill:#000080;stroke:#000080;\" x=\"123.547866\" xlink:href=\"#m471a8a85b4\" y=\"182.692572\"/>\r\n     <use style=\"fill:#000080;stroke:#000080;\" x=\"125.165874\" xlink:href=\"#m471a8a85b4\" y=\"182.661211\"/>\r\n     <use style=\"fill:#000080;stroke:#000080;\" x=\"126.783883\" xlink:href=\"#m471a8a85b4\" y=\"182.616215\"/>\r\n     <use style=\"fill:#000080;stroke:#000080;\" x=\"128.401892\" xlink:href=\"#m471a8a85b4\" y=\"182.528949\"/>\r\n     <use style=\"fill:#000080;stroke:#000080;\" x=\"130.0199\" xlink:href=\"#m471a8a85b4\" y=\"182.489407\"/>\r\n     <use style=\"fill:#000080;stroke:#000080;\" x=\"131.637909\" xlink:href=\"#m471a8a85b4\" y=\"182.455319\"/>\r\n     <use style=\"fill:#000080;stroke:#000080;\" x=\"133.255917\" xlink:href=\"#m471a8a85b4\" y=\"182.377599\"/>\r\n     <use style=\"fill:#000080;stroke:#000080;\" x=\"134.873926\" xlink:href=\"#m471a8a85b4\" y=\"182.306696\"/>\r\n     <use style=\"fill:#000080;stroke:#000080;\" x=\"136.491935\" xlink:href=\"#m471a8a85b4\" y=\"182.246701\"/>\r\n     <use style=\"fill:#000080;stroke:#000080;\" x=\"138.109943\" xlink:href=\"#m471a8a85b4\" y=\"182.162162\"/>\r\n     <use style=\"fill:#000080;stroke:#000080;\" x=\"139.727952\" xlink:href=\"#m471a8a85b4\" y=\"182.063989\"/>\r\n     <use style=\"fill:#000080;stroke:#000080;\" x=\"141.34596\" xlink:href=\"#m471a8a85b4\" y=\"181.991722\"/>\r\n     <use style=\"fill:#000080;stroke:#000080;\" x=\"142.963969\" xlink:href=\"#m471a8a85b4\" y=\"181.909911\"/>\r\n     <use style=\"fill:#000080;stroke:#000080;\" x=\"144.581978\" xlink:href=\"#m471a8a85b4\" y=\"181.837644\"/>\r\n     <use style=\"fill:#000080;stroke:#000080;\" x=\"146.199986\" xlink:href=\"#m471a8a85b4\" y=\"181.773559\"/>\r\n     <use style=\"fill:#000080;stroke:#000080;\" x=\"147.817995\" xlink:href=\"#m471a8a85b4\" y=\"181.669931\"/>\r\n     <use style=\"fill:#000080;stroke:#000080;\" x=\"149.436003\" xlink:href=\"#m471a8a85b4\" y=\"181.574485\"/>\r\n     <use style=\"fill:#000080;stroke:#000080;\" x=\"151.054012\" xlink:href=\"#m471a8a85b4\" y=\"181.504946\"/>\r\n     <use style=\"fill:#000080;stroke:#000080;\" x=\"152.67202\" xlink:href=\"#m471a8a85b4\" y=\"181.391773\"/>\r\n     <use style=\"fill:#000080;stroke:#000080;\" x=\"154.290029\" xlink:href=\"#m471a8a85b4\" y=\"181.275874\"/>\r\n     <use style=\"fill:#000080;stroke:#000080;\" x=\"155.908038\" xlink:href=\"#m471a8a85b4\" y=\"181.155884\"/>\r\n     <use style=\"fill:#000080;stroke:#000080;\" x=\"157.526046\" xlink:href=\"#m471a8a85b4\" y=\"181.029077\"/>\r\n     <use style=\"fill:#000080;stroke:#000080;\" x=\"159.144055\" xlink:href=\"#m471a8a85b4\" y=\"180.903633\"/>\r\n     <use style=\"fill:#000080;stroke:#000080;\" x=\"160.762063\" xlink:href=\"#m471a8a85b4\" y=\"180.63911\"/>\r\n     <use style=\"fill:#000080;stroke:#000080;\" x=\"162.380072\" xlink:href=\"#m471a8a85b4\" y=\"180.599568\"/>\r\n     <use style=\"fill:#000080;stroke:#000080;\" x=\"163.998081\" xlink:href=\"#m471a8a85b4\" y=\"180.53821\"/>\r\n     <use style=\"fill:#000080;stroke:#000080;\" x=\"165.616089\" xlink:href=\"#m471a8a85b4\" y=\"180.382768\"/>\r\n     <use style=\"fill:#000080;stroke:#000080;\" x=\"167.234098\" xlink:href=\"#m471a8a85b4\" y=\"180.242326\"/>\r\n     <use style=\"fill:#000080;stroke:#000080;\" x=\"168.852106\" xlink:href=\"#m471a8a85b4\" y=\"180.025526\"/>\r\n     <use style=\"fill:#000080;stroke:#000080;\" x=\"170.470115\" xlink:href=\"#m471a8a85b4\" y=\"179.831906\"/>\r\n     <use style=\"fill:#000080;stroke:#000080;\" x=\"172.088124\" xlink:href=\"#m471a8a85b4\" y=\"179.636923\"/>\r\n     <use style=\"fill:#000080;stroke:#000080;\" x=\"173.706132\" xlink:href=\"#m471a8a85b4\" y=\"179.481481\"/>\r\n     <use style=\"fill:#000080;stroke:#000080;\" x=\"175.324141\" xlink:href=\"#m471a8a85b4\" y=\"179.34922\"/>\r\n     <use style=\"fill:#000080;stroke:#000080;\" x=\"176.942149\" xlink:href=\"#m471a8a85b4\" y=\"179.139238\"/>\r\n     <use style=\"fill:#000080;stroke:#000080;\" x=\"178.560158\" xlink:href=\"#m471a8a85b4\" y=\"178.8379\"/>\r\n     <use style=\"fill:#000080;stroke:#000080;\" x=\"180.178167\" xlink:href=\"#m471a8a85b4\" y=\"178.506564\"/>\r\n     <use style=\"fill:#000080;stroke:#000080;\" x=\"181.796175\" xlink:href=\"#m471a8a85b4\" y=\"178.150685\"/>\r\n     <use style=\"fill:#000080;stroke:#000080;\" x=\"183.414184\" xlink:href=\"#m471a8a85b4\" y=\"177.937976\"/>\r\n     <use style=\"fill:#000080;stroke:#000080;\" x=\"185.032192\" xlink:href=\"#m471a8a85b4\" y=\"177.646183\"/>\r\n     <use style=\"fill:#000080;stroke:#000080;\" x=\"186.650201\" xlink:href=\"#m471a8a85b4\" y=\"177.148498\"/>\r\n     <use style=\"fill:#000080;stroke:#000080;\" x=\"188.26821\" xlink:href=\"#m471a8a85b4\" y=\"176.517188\"/>\r\n     <use style=\"fill:#000080;stroke:#000080;\" x=\"189.886218\" xlink:href=\"#m471a8a85b4\" y=\"175.846336\"/>\r\n     <use style=\"fill:#000080;stroke:#000080;\" x=\"191.504227\" xlink:href=\"#m471a8a85b4\" y=\"175.036405\"/>\r\n     <use style=\"fill:#000080;stroke:#000080;\" x=\"193.122235\" xlink:href=\"#m471a8a85b4\" y=\"174.357371\"/>\r\n     <use style=\"fill:#000080;stroke:#000080;\" x=\"194.740244\" xlink:href=\"#m471a8a85b4\" y=\"173.76424\"/>\r\n     <use style=\"fill:#000080;stroke:#000080;\" x=\"196.358253\" xlink:href=\"#m471a8a85b4\" y=\"172.98567\"/>\r\n     <use style=\"fill:#000080;stroke:#000080;\" x=\"197.976261\" xlink:href=\"#m471a8a85b4\" y=\"172.144378\"/>\r\n     <use style=\"fill:#000080;stroke:#000080;\" x=\"199.59427\" xlink:href=\"#m471a8a85b4\" y=\"171.151735\"/>\r\n     <use style=\"fill:#000080;stroke:#000080;\" x=\"201.212278\" xlink:href=\"#m471a8a85b4\" y=\"170.081371\"/>\r\n     <use style=\"fill:#000080;stroke:#000080;\" x=\"202.830287\" xlink:href=\"#m471a8a85b4\" y=\"169.095546\"/>\r\n     <use style=\"fill:#000080;stroke:#000080;\" x=\"204.448296\" xlink:href=\"#m471a8a85b4\" y=\"168.138355\"/>\r\n     <use style=\"fill:#000080;stroke:#000080;\" x=\"206.066304\" xlink:href=\"#m471a8a85b4\" y=\"167.482502\"/>\r\n     <use style=\"fill:#000080;stroke:#000080;\" x=\"207.684313\" xlink:href=\"#m471a8a85b4\" y=\"166.762563\"/>\r\n     <use style=\"fill:#000080;stroke:#000080;\" x=\"209.302321\" xlink:href=\"#m471a8a85b4\" y=\"165.814916\"/>\r\n     <use style=\"fill:#000080;stroke:#000080;\" x=\"210.92033\" xlink:href=\"#m471a8a85b4\" y=\"165.238147\"/>\r\n     <use style=\"fill:#000080;stroke:#000080;\" x=\"212.538339\" xlink:href=\"#m471a8a85b4\" y=\"164.519572\"/>\r\n     <use style=\"fill:#000080;stroke:#000080;\" x=\"214.156347\" xlink:href=\"#m471a8a85b4\" y=\"163.432846\"/>\r\n     <use style=\"fill:#000080;stroke:#000080;\" x=\"215.774356\" xlink:href=\"#m471a8a85b4\" y=\"162.43884\"/>\r\n     <use style=\"fill:#000080;stroke:#000080;\" x=\"217.392364\" xlink:href=\"#m471a8a85b4\" y=\"161.473467\"/>\r\n     <use style=\"fill:#000080;stroke:#000080;\" x=\"219.010373\" xlink:href=\"#m471a8a85b4\" y=\"160.52582\"/>\r\n     <use style=\"fill:#000080;stroke:#000080;\" x=\"220.628382\" xlink:href=\"#m471a8a85b4\" y=\"159.617716\"/>\r\n     <use style=\"fill:#000080;stroke:#000080;\" x=\"222.24639\" xlink:href=\"#m471a8a85b4\" y=\"158.743699\"/>\r\n     <use style=\"fill:#000080;stroke:#000080;\" x=\"223.864399\" xlink:href=\"#m471a8a85b4\" y=\"158.021033\"/>\r\n     <use style=\"fill:#000080;stroke:#000080;\" x=\"225.482407\" xlink:href=\"#m471a8a85b4\" y=\"156.923399\"/>\r\n     <use style=\"fill:#000080;stroke:#000080;\" x=\"227.100416\" xlink:href=\"#m471a8a85b4\" y=\"155.778042\"/>\r\n     <use style=\"fill:#000080;stroke:#000080;\" x=\"228.718425\" xlink:href=\"#m471a8a85b4\" y=\"154.785399\"/>\r\n     <use style=\"fill:#000080;stroke:#000080;\" x=\"230.336433\" xlink:href=\"#m471a8a85b4\" y=\"153.773667\"/>\r\n     <use style=\"fill:#000080;stroke:#000080;\" x=\"231.954442\" xlink:href=\"#m471a8a85b4\" y=\"152.894197\"/>\r\n     <use style=\"fill:#000080;stroke:#000080;\" x=\"233.57245\" xlink:href=\"#m471a8a85b4\" y=\"152.205619\"/>\r\n     <use style=\"fill:#000080;stroke:#000080;\" x=\"235.190459\" xlink:href=\"#m471a8a85b4\" y=\"151.547038\"/>\r\n     <use style=\"fill:#000080;stroke:#000080;\" x=\"236.808468\" xlink:href=\"#m471a8a85b4\" y=\"150.750743\"/>\r\n     <use style=\"fill:#000080;stroke:#000080;\" x=\"238.426476\" xlink:href=\"#m471a8a85b4\" y=\"149.852183\"/>\r\n     <use style=\"fill:#000080;stroke:#000080;\" x=\"240.044485\" xlink:href=\"#m471a8a85b4\" y=\"148.952259\"/>\r\n     <use style=\"fill:#000080;stroke:#000080;\" x=\"241.662493\" xlink:href=\"#m471a8a85b4\" y=\"148.464119\"/>\r\n     <use style=\"fill:#000080;stroke:#000080;\" x=\"243.280502\" xlink:href=\"#m471a8a85b4\" y=\"148.055063\"/>\r\n     <use style=\"fill:#000080;stroke:#000080;\" x=\"244.89851\" xlink:href=\"#m471a8a85b4\" y=\"147.560105\"/>\r\n     <use style=\"fill:#000080;stroke:#000080;\" x=\"246.516519\" xlink:href=\"#m471a8a85b4\" y=\"147.010606\"/>\r\n     <use style=\"fill:#000080;stroke:#000080;\" x=\"248.134528\" xlink:href=\"#m471a8a85b4\" y=\"146.046597\"/>\r\n     <use style=\"fill:#000080;stroke:#000080;\" x=\"249.752536\" xlink:href=\"#m471a8a85b4\" y=\"145.336203\"/>\r\n     <use style=\"fill:#000080;stroke:#000080;\" x=\"251.370545\" xlink:href=\"#m471a8a85b4\" y=\"144.811248\"/>\r\n     <use style=\"fill:#000080;stroke:#000080;\" x=\"252.988553\" xlink:href=\"#m471a8a85b4\" y=\"144.350378\"/>\r\n     <use style=\"fill:#000080;stroke:#000080;\" x=\"254.606562\" xlink:href=\"#m471a8a85b4\" y=\"143.942685\"/>\r\n     <use style=\"fill:#000080;stroke:#000080;\" x=\"256.224571\" xlink:href=\"#m471a8a85b4\" y=\"143.443637\"/>\r\n     <use style=\"fill:#000080;stroke:#000080;\" x=\"257.842579\" xlink:href=\"#m471a8a85b4\" y=\"142.834143\"/>\r\n     <use style=\"fill:#000080;stroke:#000080;\" x=\"259.460588\" xlink:href=\"#m471a8a85b4\" y=\"142.181017\"/>\r\n     <use style=\"fill:#000080;stroke:#000080;\" x=\"261.078596\" xlink:href=\"#m471a8a85b4\" y=\"141.66697\"/>\r\n     <use style=\"fill:#000080;stroke:#000080;\" x=\"262.696605\" xlink:href=\"#m471a8a85b4\" y=\"141.259277\"/>\r\n     <use style=\"fill:#000080;stroke:#000080;\" x=\"264.314614\" xlink:href=\"#m471a8a85b4\" y=\"140.956575\"/>\r\n     <use style=\"fill:#000080;stroke:#000080;\" x=\"265.932622\" xlink:href=\"#m471a8a85b4\" y=\"140.69887\"/>\r\n     <use style=\"fill:#000080;stroke:#000080;\" x=\"267.550631\" xlink:href=\"#m471a8a85b4\" y=\"140.133009\"/>\r\n     <use style=\"fill:#000080;stroke:#000080;\" x=\"269.168639\" xlink:href=\"#m471a8a85b4\" y=\"139.616235\"/>\r\n     <use style=\"fill:#000080;stroke:#000080;\" x=\"270.786648\" xlink:href=\"#m471a8a85b4\" y=\"139.130822\"/>\r\n     <use style=\"fill:#000080;stroke:#000080;\" x=\"272.404657\" xlink:href=\"#m471a8a85b4\" y=\"138.536327\"/>\r\n     <use style=\"fill:#000080;stroke:#000080;\" x=\"274.022665\" xlink:href=\"#m471a8a85b4\" y=\"137.918652\"/>\r\n     <use style=\"fill:#000080;stroke:#000080;\" x=\"275.640674\" xlink:href=\"#m471a8a85b4\" y=\"137.500051\"/>\r\n     <use style=\"fill:#000080;stroke:#000080;\" x=\"277.258682\" xlink:href=\"#m471a8a85b4\" y=\"137.170079\"/>\r\n     <use style=\"fill:#000080;stroke:#000080;\" x=\"278.876691\" xlink:href=\"#m471a8a85b4\" y=\"136.765114\"/>\r\n     <use style=\"fill:#000080;stroke:#000080;\" x=\"280.4947\" xlink:href=\"#m471a8a85b4\" y=\"136.274246\"/>\r\n     <use style=\"fill:#000080;stroke:#000080;\" x=\"282.112708\" xlink:href=\"#m471a8a85b4\" y=\"135.602031\"/>\r\n     <use style=\"fill:#000080;stroke:#000080;\" x=\"283.730717\" xlink:href=\"#m471a8a85b4\" y=\"135.033443\"/>\r\n     <use style=\"fill:#000080;stroke:#000080;\" x=\"285.348725\" xlink:href=\"#m471a8a85b4\" y=\"134.329866\"/>\r\n     <use style=\"fill:#000080;stroke:#000080;\" x=\"286.966734\" xlink:href=\"#m471a8a85b4\" y=\"133.904448\"/>\r\n     <use style=\"fill:#000080;stroke:#000080;\" x=\"288.584743\" xlink:href=\"#m471a8a85b4\" y=\"133.301772\"/>\r\n     <use style=\"fill:#000080;stroke:#000080;\" x=\"290.202751\" xlink:href=\"#m471a8a85b4\" y=\"132.735911\"/>\r\n     <use style=\"fill:#000080;stroke:#000080;\" x=\"291.82076\" xlink:href=\"#m471a8a85b4\" y=\"132.062332\"/>\r\n     <use style=\"fill:#000080;stroke:#000080;\" x=\"293.438768\" xlink:href=\"#m471a8a85b4\" y=\"131.497834\"/>\r\n     <use style=\"fill:#000080;stroke:#000080;\" x=\"295.056777\" xlink:href=\"#m471a8a85b4\" y=\"131.497834\"/>\r\n     <use style=\"fill:#000080;stroke:#000080;\" x=\"296.674786\" xlink:href=\"#m471a8a85b4\" y=\"130.799712\"/>\r\n     <use style=\"fill:#000080;stroke:#000080;\" x=\"298.292794\" xlink:href=\"#m471a8a85b4\" y=\"130.209308\"/>\r\n     <use style=\"fill:#000080;stroke:#000080;\" x=\"299.910803\" xlink:href=\"#m471a8a85b4\" y=\"129.440282\"/>\r\n     <use style=\"fill:#000080;stroke:#000080;\" x=\"301.528811\" xlink:href=\"#m471a8a85b4\" y=\"128.817153\"/>\r\n     <use style=\"fill:#000080;stroke:#000080;\" x=\"303.14682\" xlink:href=\"#m471a8a85b4\" y=\"128.034492\"/>\r\n     <use style=\"fill:#000080;stroke:#000080;\" x=\"304.764829\" xlink:href=\"#m471a8a85b4\" y=\"127.210926\"/>\r\n     <use style=\"fill:#000080;stroke:#000080;\" x=\"306.382837\" xlink:href=\"#m471a8a85b4\" y=\"126.114656\"/>\r\n     <use style=\"fill:#000080;stroke:#000080;\" x=\"308.000846\" xlink:href=\"#m471a8a85b4\" y=\"125.146556\"/>\r\n     <use style=\"fill:#000080;stroke:#000080;\" x=\"309.618854\" xlink:href=\"#m471a8a85b4\" y=\"124.477068\"/>\r\n     <use style=\"fill:#000080;stroke:#000080;\" x=\"311.236863\" xlink:href=\"#m471a8a85b4\" y=\"123.934387\"/>\r\n     <use style=\"fill:#000080;stroke:#000080;\" x=\"312.854872\" xlink:href=\"#m471a8a85b4\" y=\"123.151726\"/>\r\n     <use style=\"fill:#000080;stroke:#000080;\" x=\"314.47288\" xlink:href=\"#m471a8a85b4\" y=\"122.326796\"/>\r\n     <use style=\"fill:#000080;stroke:#000080;\" x=\"316.090889\" xlink:href=\"#m471a8a85b4\" y=\"121.418691\"/>\r\n     <use style=\"fill:#000080;stroke:#000080;\" x=\"317.708897\" xlink:href=\"#m471a8a85b4\" y=\"120.795563\"/>\r\n     <use style=\"fill:#000080;stroke:#000080;\" x=\"319.326906\" xlink:href=\"#m471a8a85b4\" y=\"119.794739\"/>\r\n     <use style=\"fill:#000080;stroke:#000080;\" x=\"320.944915\" xlink:href=\"#m471a8a85b4\" y=\"118.56348\"/>\r\n     <use style=\"fill:#000080;stroke:#000080;\" x=\"322.562923\" xlink:href=\"#m471a8a85b4\" y=\"118.086248\"/>\r\n     <use style=\"fill:#000080;stroke:#000080;\" x=\"324.180932\" xlink:href=\"#m471a8a85b4\" y=\"117.399033\"/>\r\n     <use style=\"fill:#000080;stroke:#000080;\" x=\"325.79894\" xlink:href=\"#m471a8a85b4\" y=\"116.362758\"/>\r\n     <use style=\"fill:#000080;stroke:#000080;\" x=\"327.416949\" xlink:href=\"#m471a8a85b4\" y=\"115.316938\"/>\r\n     <use style=\"fill:#000080;stroke:#000080;\" x=\"329.034958\" xlink:href=\"#m471a8a85b4\" y=\"114.222031\"/>\r\n     <use style=\"fill:#000080;stroke:#000080;\" x=\"330.652966\" xlink:href=\"#m471a8a85b4\" y=\"113.046676\"/>\r\n     <use style=\"fill:#000080;stroke:#000080;\" x=\"332.270975\" xlink:href=\"#m471a8a85b4\" y=\"112.160388\"/>\r\n     <use style=\"fill:#000080;stroke:#000080;\" x=\"333.888983\" xlink:href=\"#m471a8a85b4\" y=\"111.508625\"/>\r\n    </g>\r\n   </g>\r\n   <g id=\"matplotlib.axis_1\">\r\n    <g id=\"xtick_1\">\r\n     <g id=\"line2d_1\">\r\n      <path clip-path=\"url(#pa9ee6ee140)\" d=\"M 92.805702 191.476875 \r\nL 92.805702 28.396875 \r\n\" style=\"fill:none;stroke:#b0b0b0;stroke-linecap:square;stroke-width:0.8;\"/>\r\n     </g>\r\n     <g id=\"line2d_2\">\r\n      <defs>\r\n       <path d=\"M 0 0 \r\nL 0 3.5 \r\n\" id=\"m58721950e7\" style=\"stroke:#000000;stroke-width:0.8;\"/>\r\n      </defs>\r\n      <g>\r\n       <use style=\"stroke:#000000;stroke-width:0.8;\" x=\"92.805702\" xlink:href=\"#m58721950e7\" y=\"191.476875\"/>\r\n      </g>\r\n     </g>\r\n     <g id=\"text_1\">\r\n      <!-- 2020-03 -->\r\n      <defs>\r\n       <path d=\"M 19.1875 8.296875 \r\nL 53.609375 8.296875 \r\nL 53.609375 0 \r\nL 7.328125 0 \r\nL 7.328125 8.296875 \r\nQ 12.9375 14.109375 22.625 23.890625 \r\nQ 32.328125 33.6875 34.8125 36.53125 \r\nQ 39.546875 41.84375 41.421875 45.53125 \r\nQ 43.3125 49.21875 43.3125 52.78125 \r\nQ 43.3125 58.59375 39.234375 62.25 \r\nQ 35.15625 65.921875 28.609375 65.921875 \r\nQ 23.96875 65.921875 18.8125 64.3125 \r\nQ 13.671875 62.703125 7.8125 59.421875 \r\nL 7.8125 69.390625 \r\nQ 13.765625 71.78125 18.9375 73 \r\nQ 24.125 74.21875 28.421875 74.21875 \r\nQ 39.75 74.21875 46.484375 68.546875 \r\nQ 53.21875 62.890625 53.21875 53.421875 \r\nQ 53.21875 48.921875 51.53125 44.890625 \r\nQ 49.859375 40.875 45.40625 35.40625 \r\nQ 44.1875 33.984375 37.640625 27.21875 \r\nQ 31.109375 20.453125 19.1875 8.296875 \r\nz\r\n\" id=\"DejaVuSans-50\"/>\r\n       <path d=\"M 31.78125 66.40625 \r\nQ 24.171875 66.40625 20.328125 58.90625 \r\nQ 16.5 51.421875 16.5 36.375 \r\nQ 16.5 21.390625 20.328125 13.890625 \r\nQ 24.171875 6.390625 31.78125 6.390625 \r\nQ 39.453125 6.390625 43.28125 13.890625 \r\nQ 47.125 21.390625 47.125 36.375 \r\nQ 47.125 51.421875 43.28125 58.90625 \r\nQ 39.453125 66.40625 31.78125 66.40625 \r\nz\r\nM 31.78125 74.21875 \r\nQ 44.046875 74.21875 50.515625 64.515625 \r\nQ 56.984375 54.828125 56.984375 36.375 \r\nQ 56.984375 17.96875 50.515625 8.265625 \r\nQ 44.046875 -1.421875 31.78125 -1.421875 \r\nQ 19.53125 -1.421875 13.0625 8.265625 \r\nQ 6.59375 17.96875 6.59375 36.375 \r\nQ 6.59375 54.828125 13.0625 64.515625 \r\nQ 19.53125 74.21875 31.78125 74.21875 \r\nz\r\n\" id=\"DejaVuSans-48\"/>\r\n       <path d=\"M 4.890625 31.390625 \r\nL 31.203125 31.390625 \r\nL 31.203125 23.390625 \r\nL 4.890625 23.390625 \r\nz\r\n\" id=\"DejaVuSans-45\"/>\r\n       <path d=\"M 40.578125 39.3125 \r\nQ 47.65625 37.796875 51.625 33 \r\nQ 55.609375 28.21875 55.609375 21.1875 \r\nQ 55.609375 10.40625 48.1875 4.484375 \r\nQ 40.765625 -1.421875 27.09375 -1.421875 \r\nQ 22.515625 -1.421875 17.65625 -0.515625 \r\nQ 12.796875 0.390625 7.625 2.203125 \r\nL 7.625 11.71875 \r\nQ 11.71875 9.328125 16.59375 8.109375 \r\nQ 21.484375 6.890625 26.8125 6.890625 \r\nQ 36.078125 6.890625 40.9375 10.546875 \r\nQ 45.796875 14.203125 45.796875 21.1875 \r\nQ 45.796875 27.640625 41.28125 31.265625 \r\nQ 36.765625 34.90625 28.71875 34.90625 \r\nL 20.21875 34.90625 \r\nL 20.21875 43.015625 \r\nL 29.109375 43.015625 \r\nQ 36.375 43.015625 40.234375 45.921875 \r\nQ 44.09375 48.828125 44.09375 54.296875 \r\nQ 44.09375 59.90625 40.109375 62.90625 \r\nQ 36.140625 65.921875 28.71875 65.921875 \r\nQ 24.65625 65.921875 20.015625 65.03125 \r\nQ 15.375 64.15625 9.8125 62.3125 \r\nL 9.8125 71.09375 \r\nQ 15.4375 72.65625 20.34375 73.4375 \r\nQ 25.25 74.21875 29.59375 74.21875 \r\nQ 40.828125 74.21875 47.359375 69.109375 \r\nQ 53.90625 64.015625 53.90625 55.328125 \r\nQ 53.90625 49.265625 50.4375 45.09375 \r\nQ 46.96875 40.921875 40.578125 39.3125 \r\nz\r\n\" id=\"DejaVuSans-51\"/>\r\n      </defs>\r\n      <g transform=\"translate(71.914296 206.075313)scale(0.1 -0.1)\">\r\n       <use xlink:href=\"#DejaVuSans-50\"/>\r\n       <use x=\"63.623047\" xlink:href=\"#DejaVuSans-48\"/>\r\n       <use x=\"127.246094\" xlink:href=\"#DejaVuSans-50\"/>\r\n       <use x=\"190.869141\" xlink:href=\"#DejaVuSans-48\"/>\r\n       <use x=\"254.492188\" xlink:href=\"#DejaVuSans-45\"/>\r\n       <use x=\"290.576172\" xlink:href=\"#DejaVuSans-48\"/>\r\n       <use x=\"354.199219\" xlink:href=\"#DejaVuSans-51\"/>\r\n      </g>\r\n     </g>\r\n    </g>\r\n    <g id=\"xtick_2\">\r\n     <g id=\"line2d_3\">\r\n      <path clip-path=\"url(#pa9ee6ee140)\" d=\"M 142.963969 191.476875 \r\nL 142.963969 28.396875 \r\n\" style=\"fill:none;stroke:#b0b0b0;stroke-linecap:square;stroke-width:0.8;\"/>\r\n     </g>\r\n     <g id=\"line2d_4\">\r\n      <g>\r\n       <use style=\"stroke:#000000;stroke-width:0.8;\" x=\"142.963969\" xlink:href=\"#m58721950e7\" y=\"191.476875\"/>\r\n      </g>\r\n     </g>\r\n     <g id=\"text_2\">\r\n      <!-- 2020-04 -->\r\n      <defs>\r\n       <path d=\"M 37.796875 64.3125 \r\nL 12.890625 25.390625 \r\nL 37.796875 25.390625 \r\nz\r\nM 35.203125 72.90625 \r\nL 47.609375 72.90625 \r\nL 47.609375 25.390625 \r\nL 58.015625 25.390625 \r\nL 58.015625 17.1875 \r\nL 47.609375 17.1875 \r\nL 47.609375 0 \r\nL 37.796875 0 \r\nL 37.796875 17.1875 \r\nL 4.890625 17.1875 \r\nL 4.890625 26.703125 \r\nz\r\n\" id=\"DejaVuSans-52\"/>\r\n      </defs>\r\n      <g transform=\"translate(122.072563 206.075313)scale(0.1 -0.1)\">\r\n       <use xlink:href=\"#DejaVuSans-50\"/>\r\n       <use x=\"63.623047\" xlink:href=\"#DejaVuSans-48\"/>\r\n       <use x=\"127.246094\" xlink:href=\"#DejaVuSans-50\"/>\r\n       <use x=\"190.869141\" xlink:href=\"#DejaVuSans-48\"/>\r\n       <use x=\"254.492188\" xlink:href=\"#DejaVuSans-45\"/>\r\n       <use x=\"290.576172\" xlink:href=\"#DejaVuSans-48\"/>\r\n       <use x=\"354.199219\" xlink:href=\"#DejaVuSans-52\"/>\r\n      </g>\r\n     </g>\r\n    </g>\r\n    <g id=\"xtick_3\">\r\n     <g id=\"line2d_5\">\r\n      <path clip-path=\"url(#pa9ee6ee140)\" d=\"M 191.504227 191.476875 \r\nL 191.504227 28.396875 \r\n\" style=\"fill:none;stroke:#b0b0b0;stroke-linecap:square;stroke-width:0.8;\"/>\r\n     </g>\r\n     <g id=\"line2d_6\">\r\n      <g>\r\n       <use style=\"stroke:#000000;stroke-width:0.8;\" x=\"191.504227\" xlink:href=\"#m58721950e7\" y=\"191.476875\"/>\r\n      </g>\r\n     </g>\r\n     <g id=\"text_3\">\r\n      <!-- 2020-05 -->\r\n      <defs>\r\n       <path d=\"M 10.796875 72.90625 \r\nL 49.515625 72.90625 \r\nL 49.515625 64.59375 \r\nL 19.828125 64.59375 \r\nL 19.828125 46.734375 \r\nQ 21.96875 47.46875 24.109375 47.828125 \r\nQ 26.265625 48.1875 28.421875 48.1875 \r\nQ 40.625 48.1875 47.75 41.5 \r\nQ 54.890625 34.8125 54.890625 23.390625 \r\nQ 54.890625 11.625 47.5625 5.09375 \r\nQ 40.234375 -1.421875 26.90625 -1.421875 \r\nQ 22.3125 -1.421875 17.546875 -0.640625 \r\nQ 12.796875 0.140625 7.71875 1.703125 \r\nL 7.71875 11.625 \r\nQ 12.109375 9.234375 16.796875 8.0625 \r\nQ 21.484375 6.890625 26.703125 6.890625 \r\nQ 35.15625 6.890625 40.078125 11.328125 \r\nQ 45.015625 15.765625 45.015625 23.390625 \r\nQ 45.015625 31 40.078125 35.4375 \r\nQ 35.15625 39.890625 26.703125 39.890625 \r\nQ 22.75 39.890625 18.8125 39.015625 \r\nQ 14.890625 38.140625 10.796875 36.28125 \r\nz\r\n\" id=\"DejaVuSans-53\"/>\r\n      </defs>\r\n      <g transform=\"translate(170.612821 206.075313)scale(0.1 -0.1)\">\r\n       <use xlink:href=\"#DejaVuSans-50\"/>\r\n       <use x=\"63.623047\" xlink:href=\"#DejaVuSans-48\"/>\r\n       <use x=\"127.246094\" xlink:href=\"#DejaVuSans-50\"/>\r\n       <use x=\"190.869141\" xlink:href=\"#DejaVuSans-48\"/>\r\n       <use x=\"254.492188\" xlink:href=\"#DejaVuSans-45\"/>\r\n       <use x=\"290.576172\" xlink:href=\"#DejaVuSans-48\"/>\r\n       <use x=\"354.199219\" xlink:href=\"#DejaVuSans-53\"/>\r\n      </g>\r\n     </g>\r\n    </g>\r\n    <g id=\"xtick_4\">\r\n     <g id=\"line2d_7\">\r\n      <path clip-path=\"url(#pa9ee6ee140)\" d=\"M 241.662493 191.476875 \r\nL 241.662493 28.396875 \r\n\" style=\"fill:none;stroke:#b0b0b0;stroke-linecap:square;stroke-width:0.8;\"/>\r\n     </g>\r\n     <g id=\"line2d_8\">\r\n      <g>\r\n       <use style=\"stroke:#000000;stroke-width:0.8;\" x=\"241.662493\" xlink:href=\"#m58721950e7\" y=\"191.476875\"/>\r\n      </g>\r\n     </g>\r\n     <g id=\"text_4\">\r\n      <!-- 2020-06 -->\r\n      <defs>\r\n       <path d=\"M 33.015625 40.375 \r\nQ 26.375 40.375 22.484375 35.828125 \r\nQ 18.609375 31.296875 18.609375 23.390625 \r\nQ 18.609375 15.53125 22.484375 10.953125 \r\nQ 26.375 6.390625 33.015625 6.390625 \r\nQ 39.65625 6.390625 43.53125 10.953125 \r\nQ 47.40625 15.53125 47.40625 23.390625 \r\nQ 47.40625 31.296875 43.53125 35.828125 \r\nQ 39.65625 40.375 33.015625 40.375 \r\nz\r\nM 52.59375 71.296875 \r\nL 52.59375 62.3125 \r\nQ 48.875 64.0625 45.09375 64.984375 \r\nQ 41.3125 65.921875 37.59375 65.921875 \r\nQ 27.828125 65.921875 22.671875 59.328125 \r\nQ 17.53125 52.734375 16.796875 39.40625 \r\nQ 19.671875 43.65625 24.015625 45.921875 \r\nQ 28.375 48.1875 33.59375 48.1875 \r\nQ 44.578125 48.1875 50.953125 41.515625 \r\nQ 57.328125 34.859375 57.328125 23.390625 \r\nQ 57.328125 12.15625 50.6875 5.359375 \r\nQ 44.046875 -1.421875 33.015625 -1.421875 \r\nQ 20.359375 -1.421875 13.671875 8.265625 \r\nQ 6.984375 17.96875 6.984375 36.375 \r\nQ 6.984375 53.65625 15.1875 63.9375 \r\nQ 23.390625 74.21875 37.203125 74.21875 \r\nQ 40.921875 74.21875 44.703125 73.484375 \r\nQ 48.484375 72.75 52.59375 71.296875 \r\nz\r\n\" id=\"DejaVuSans-54\"/>\r\n      </defs>\r\n      <g transform=\"translate(220.771087 206.075313)scale(0.1 -0.1)\">\r\n       <use xlink:href=\"#DejaVuSans-50\"/>\r\n       <use x=\"63.623047\" xlink:href=\"#DejaVuSans-48\"/>\r\n       <use x=\"127.246094\" xlink:href=\"#DejaVuSans-50\"/>\r\n       <use x=\"190.869141\" xlink:href=\"#DejaVuSans-48\"/>\r\n       <use x=\"254.492188\" xlink:href=\"#DejaVuSans-45\"/>\r\n       <use x=\"290.576172\" xlink:href=\"#DejaVuSans-48\"/>\r\n       <use x=\"354.199219\" xlink:href=\"#DejaVuSans-54\"/>\r\n      </g>\r\n     </g>\r\n    </g>\r\n    <g id=\"xtick_5\">\r\n     <g id=\"line2d_9\">\r\n      <path clip-path=\"url(#pa9ee6ee140)\" d=\"M 290.202751 191.476875 \r\nL 290.202751 28.396875 \r\n\" style=\"fill:none;stroke:#b0b0b0;stroke-linecap:square;stroke-width:0.8;\"/>\r\n     </g>\r\n     <g id=\"line2d_10\">\r\n      <g>\r\n       <use style=\"stroke:#000000;stroke-width:0.8;\" x=\"290.202751\" xlink:href=\"#m58721950e7\" y=\"191.476875\"/>\r\n      </g>\r\n     </g>\r\n     <g id=\"text_5\">\r\n      <!-- 2020-07 -->\r\n      <defs>\r\n       <path d=\"M 8.203125 72.90625 \r\nL 55.078125 72.90625 \r\nL 55.078125 68.703125 \r\nL 28.609375 0 \r\nL 18.3125 0 \r\nL 43.21875 64.59375 \r\nL 8.203125 64.59375 \r\nz\r\n\" id=\"DejaVuSans-55\"/>\r\n      </defs>\r\n      <g transform=\"translate(269.311345 206.075313)scale(0.1 -0.1)\">\r\n       <use xlink:href=\"#DejaVuSans-50\"/>\r\n       <use x=\"63.623047\" xlink:href=\"#DejaVuSans-48\"/>\r\n       <use x=\"127.246094\" xlink:href=\"#DejaVuSans-50\"/>\r\n       <use x=\"190.869141\" xlink:href=\"#DejaVuSans-48\"/>\r\n       <use x=\"254.492188\" xlink:href=\"#DejaVuSans-45\"/>\r\n       <use x=\"290.576172\" xlink:href=\"#DejaVuSans-48\"/>\r\n       <use x=\"354.199219\" xlink:href=\"#DejaVuSans-55\"/>\r\n      </g>\r\n     </g>\r\n    </g>\r\n    <g id=\"xtick_6\">\r\n     <g id=\"line2d_11\">\r\n      <path clip-path=\"url(#pa9ee6ee140)\" d=\"M 340.361018 191.476875 \r\nL 340.361018 28.396875 \r\n\" style=\"fill:none;stroke:#b0b0b0;stroke-linecap:square;stroke-width:0.8;\"/>\r\n     </g>\r\n     <g id=\"line2d_12\">\r\n      <g>\r\n       <use style=\"stroke:#000000;stroke-width:0.8;\" x=\"340.361018\" xlink:href=\"#m58721950e7\" y=\"191.476875\"/>\r\n      </g>\r\n     </g>\r\n     <g id=\"text_6\">\r\n      <!-- 2020-08 -->\r\n      <defs>\r\n       <path d=\"M 31.78125 34.625 \r\nQ 24.75 34.625 20.71875 30.859375 \r\nQ 16.703125 27.09375 16.703125 20.515625 \r\nQ 16.703125 13.921875 20.71875 10.15625 \r\nQ 24.75 6.390625 31.78125 6.390625 \r\nQ 38.8125 6.390625 42.859375 10.171875 \r\nQ 46.921875 13.96875 46.921875 20.515625 \r\nQ 46.921875 27.09375 42.890625 30.859375 \r\nQ 38.875 34.625 31.78125 34.625 \r\nz\r\nM 21.921875 38.8125 \r\nQ 15.578125 40.375 12.03125 44.71875 \r\nQ 8.5 49.078125 8.5 55.328125 \r\nQ 8.5 64.0625 14.71875 69.140625 \r\nQ 20.953125 74.21875 31.78125 74.21875 \r\nQ 42.671875 74.21875 48.875 69.140625 \r\nQ 55.078125 64.0625 55.078125 55.328125 \r\nQ 55.078125 49.078125 51.53125 44.71875 \r\nQ 48 40.375 41.703125 38.8125 \r\nQ 48.828125 37.15625 52.796875 32.3125 \r\nQ 56.78125 27.484375 56.78125 20.515625 \r\nQ 56.78125 9.90625 50.3125 4.234375 \r\nQ 43.84375 -1.421875 31.78125 -1.421875 \r\nQ 19.734375 -1.421875 13.25 4.234375 \r\nQ 6.78125 9.90625 6.78125 20.515625 \r\nQ 6.78125 27.484375 10.78125 32.3125 \r\nQ 14.796875 37.15625 21.921875 38.8125 \r\nz\r\nM 18.3125 54.390625 \r\nQ 18.3125 48.734375 21.84375 45.5625 \r\nQ 25.390625 42.390625 31.78125 42.390625 \r\nQ 38.140625 42.390625 41.71875 45.5625 \r\nQ 45.3125 48.734375 45.3125 54.390625 \r\nQ 45.3125 60.0625 41.71875 63.234375 \r\nQ 38.140625 66.40625 31.78125 66.40625 \r\nQ 25.390625 66.40625 21.84375 63.234375 \r\nQ 18.3125 60.0625 18.3125 54.390625 \r\nz\r\n\" id=\"DejaVuSans-56\"/>\r\n      </defs>\r\n      <g transform=\"translate(319.469611 206.075313)scale(0.1 -0.1)\">\r\n       <use xlink:href=\"#DejaVuSans-50\"/>\r\n       <use x=\"63.623047\" xlink:href=\"#DejaVuSans-48\"/>\r\n       <use x=\"127.246094\" xlink:href=\"#DejaVuSans-50\"/>\r\n       <use x=\"190.869141\" xlink:href=\"#DejaVuSans-48\"/>\r\n       <use x=\"254.492188\" xlink:href=\"#DejaVuSans-45\"/>\r\n       <use x=\"290.576172\" xlink:href=\"#DejaVuSans-48\"/>\r\n       <use x=\"354.199219\" xlink:href=\"#DejaVuSans-56\"/>\r\n      </g>\r\n     </g>\r\n    </g>\r\n    <g id=\"xtick_7\">\r\n     <g id=\"line2d_13\">\r\n      <path clip-path=\"url(#pa9ee6ee140)\" d=\"M 390.519284 191.476875 \r\nL 390.519284 28.396875 \r\n\" style=\"fill:none;stroke:#b0b0b0;stroke-linecap:square;stroke-width:0.8;\"/>\r\n     </g>\r\n     <g id=\"line2d_14\">\r\n      <g>\r\n       <use style=\"stroke:#000000;stroke-width:0.8;\" x=\"390.519284\" xlink:href=\"#m58721950e7\" y=\"191.476875\"/>\r\n      </g>\r\n     </g>\r\n     <g id=\"text_7\">\r\n      <!-- 2020-09 -->\r\n      <defs>\r\n       <path d=\"M 10.984375 1.515625 \r\nL 10.984375 10.5 \r\nQ 14.703125 8.734375 18.5 7.8125 \r\nQ 22.3125 6.890625 25.984375 6.890625 \r\nQ 35.75 6.890625 40.890625 13.453125 \r\nQ 46.046875 20.015625 46.78125 33.40625 \r\nQ 43.953125 29.203125 39.59375 26.953125 \r\nQ 35.25 24.703125 29.984375 24.703125 \r\nQ 19.046875 24.703125 12.671875 31.3125 \r\nQ 6.296875 37.9375 6.296875 49.421875 \r\nQ 6.296875 60.640625 12.9375 67.421875 \r\nQ 19.578125 74.21875 30.609375 74.21875 \r\nQ 43.265625 74.21875 49.921875 64.515625 \r\nQ 56.59375 54.828125 56.59375 36.375 \r\nQ 56.59375 19.140625 48.40625 8.859375 \r\nQ 40.234375 -1.421875 26.421875 -1.421875 \r\nQ 22.703125 -1.421875 18.890625 -0.6875 \r\nQ 15.09375 0.046875 10.984375 1.515625 \r\nz\r\nM 30.609375 32.421875 \r\nQ 37.25 32.421875 41.125 36.953125 \r\nQ 45.015625 41.5 45.015625 49.421875 \r\nQ 45.015625 57.28125 41.125 61.84375 \r\nQ 37.25 66.40625 30.609375 66.40625 \r\nQ 23.96875 66.40625 20.09375 61.84375 \r\nQ 16.21875 57.28125 16.21875 49.421875 \r\nQ 16.21875 41.5 20.09375 36.953125 \r\nQ 23.96875 32.421875 30.609375 32.421875 \r\nz\r\n\" id=\"DejaVuSans-57\"/>\r\n      </defs>\r\n      <g transform=\"translate(369.627878 206.075313)scale(0.1 -0.1)\">\r\n       <use xlink:href=\"#DejaVuSans-50\"/>\r\n       <use x=\"63.623047\" xlink:href=\"#DejaVuSans-48\"/>\r\n       <use x=\"127.246094\" xlink:href=\"#DejaVuSans-50\"/>\r\n       <use x=\"190.869141\" xlink:href=\"#DejaVuSans-48\"/>\r\n       <use x=\"254.492188\" xlink:href=\"#DejaVuSans-45\"/>\r\n       <use x=\"290.576172\" xlink:href=\"#DejaVuSans-48\"/>\r\n       <use x=\"354.199219\" xlink:href=\"#DejaVuSans-57\"/>\r\n      </g>\r\n     </g>\r\n    </g>\r\n    <g id=\"xtick_8\">\r\n     <g id=\"line2d_15\">\r\n      <path clip-path=\"url(#pa9ee6ee140)\" d=\"M 439.059542 191.476875 \r\nL 439.059542 28.396875 \r\n\" style=\"fill:none;stroke:#b0b0b0;stroke-linecap:square;stroke-width:0.8;\"/>\r\n     </g>\r\n     <g id=\"line2d_16\">\r\n      <g>\r\n       <use style=\"stroke:#000000;stroke-width:0.8;\" x=\"439.059542\" xlink:href=\"#m58721950e7\" y=\"191.476875\"/>\r\n      </g>\r\n     </g>\r\n     <g id=\"text_8\">\r\n      <!-- 2020-10 -->\r\n      <defs>\r\n       <path d=\"M 12.40625 8.296875 \r\nL 28.515625 8.296875 \r\nL 28.515625 63.921875 \r\nL 10.984375 60.40625 \r\nL 10.984375 69.390625 \r\nL 28.421875 72.90625 \r\nL 38.28125 72.90625 \r\nL 38.28125 8.296875 \r\nL 54.390625 8.296875 \r\nL 54.390625 0 \r\nL 12.40625 0 \r\nz\r\n\" id=\"DejaVuSans-49\"/>\r\n      </defs>\r\n      <g transform=\"translate(418.168136 206.075313)scale(0.1 -0.1)\">\r\n       <use xlink:href=\"#DejaVuSans-50\"/>\r\n       <use x=\"63.623047\" xlink:href=\"#DejaVuSans-48\"/>\r\n       <use x=\"127.246094\" xlink:href=\"#DejaVuSans-50\"/>\r\n       <use x=\"190.869141\" xlink:href=\"#DejaVuSans-48\"/>\r\n       <use x=\"254.492188\" xlink:href=\"#DejaVuSans-45\"/>\r\n       <use x=\"290.576172\" xlink:href=\"#DejaVuSans-49\"/>\r\n       <use x=\"354.199219\" xlink:href=\"#DejaVuSans-48\"/>\r\n      </g>\r\n     </g>\r\n    </g>\r\n    <g id=\"xtick_9\">\r\n     <g id=\"line2d_17\">\r\n      <path clip-path=\"url(#pa9ee6ee140)\" d=\"M 489.217809 191.476875 \r\nL 489.217809 28.396875 \r\n\" style=\"fill:none;stroke:#b0b0b0;stroke-linecap:square;stroke-width:0.8;\"/>\r\n     </g>\r\n     <g id=\"line2d_18\">\r\n      <g>\r\n       <use style=\"stroke:#000000;stroke-width:0.8;\" x=\"489.217809\" xlink:href=\"#m58721950e7\" y=\"191.476875\"/>\r\n      </g>\r\n     </g>\r\n     <g id=\"text_9\">\r\n      <!-- 2020-11 -->\r\n      <g transform=\"translate(468.326402 206.075313)scale(0.1 -0.1)\">\r\n       <use xlink:href=\"#DejaVuSans-50\"/>\r\n       <use x=\"63.623047\" xlink:href=\"#DejaVuSans-48\"/>\r\n       <use x=\"127.246094\" xlink:href=\"#DejaVuSans-50\"/>\r\n       <use x=\"190.869141\" xlink:href=\"#DejaVuSans-48\"/>\r\n       <use x=\"254.492188\" xlink:href=\"#DejaVuSans-45\"/>\r\n       <use x=\"290.576172\" xlink:href=\"#DejaVuSans-49\"/>\r\n       <use x=\"354.199219\" xlink:href=\"#DejaVuSans-49\"/>\r\n      </g>\r\n     </g>\r\n    </g>\r\n    <g id=\"xtick_10\">\r\n     <g id=\"line2d_19\">\r\n      <path clip-path=\"url(#pa9ee6ee140)\" d=\"M 537.758066 191.476875 \r\nL 537.758066 28.396875 \r\n\" style=\"fill:none;stroke:#b0b0b0;stroke-linecap:square;stroke-width:0.8;\"/>\r\n     </g>\r\n     <g id=\"line2d_20\">\r\n      <g>\r\n       <use style=\"stroke:#000000;stroke-width:0.8;\" x=\"537.758066\" xlink:href=\"#m58721950e7\" y=\"191.476875\"/>\r\n      </g>\r\n     </g>\r\n     <g id=\"text_10\">\r\n      <!-- 2020-12 -->\r\n      <g transform=\"translate(516.86666 206.075313)scale(0.1 -0.1)\">\r\n       <use xlink:href=\"#DejaVuSans-50\"/>\r\n       <use x=\"63.623047\" xlink:href=\"#DejaVuSans-48\"/>\r\n       <use x=\"127.246094\" xlink:href=\"#DejaVuSans-50\"/>\r\n       <use x=\"190.869141\" xlink:href=\"#DejaVuSans-48\"/>\r\n       <use x=\"254.492188\" xlink:href=\"#DejaVuSans-45\"/>\r\n       <use x=\"290.576172\" xlink:href=\"#DejaVuSans-49\"/>\r\n       <use x=\"354.199219\" xlink:href=\"#DejaVuSans-50\"/>\r\n      </g>\r\n     </g>\r\n    </g>\r\n    <g id=\"xtick_11\">\r\n     <g id=\"line2d_21\">\r\n      <path clip-path=\"url(#pa9ee6ee140)\" d=\"M 587.916333 191.476875 \r\nL 587.916333 28.396875 \r\n\" style=\"fill:none;stroke:#b0b0b0;stroke-linecap:square;stroke-width:0.8;\"/>\r\n     </g>\r\n     <g id=\"line2d_22\">\r\n      <g>\r\n       <use style=\"stroke:#000000;stroke-width:0.8;\" x=\"587.916333\" xlink:href=\"#m58721950e7\" y=\"191.476875\"/>\r\n      </g>\r\n     </g>\r\n     <g id=\"text_11\">\r\n      <!-- 2021-01 -->\r\n      <g transform=\"translate(567.024927 206.075313)scale(0.1 -0.1)\">\r\n       <use xlink:href=\"#DejaVuSans-50\"/>\r\n       <use x=\"63.623047\" xlink:href=\"#DejaVuSans-48\"/>\r\n       <use x=\"127.246094\" xlink:href=\"#DejaVuSans-50\"/>\r\n       <use x=\"190.869141\" xlink:href=\"#DejaVuSans-49\"/>\r\n       <use x=\"254.492188\" xlink:href=\"#DejaVuSans-45\"/>\r\n       <use x=\"290.576172\" xlink:href=\"#DejaVuSans-48\"/>\r\n       <use x=\"354.199219\" xlink:href=\"#DejaVuSans-49\"/>\r\n      </g>\r\n     </g>\r\n    </g>\r\n   </g>\r\n   <g id=\"matplotlib.axis_2\">\r\n    <g id=\"ytick_1\">\r\n     <g id=\"line2d_23\">\r\n      <path clip-path=\"url(#pa9ee6ee140)\" d=\"M 75.73125 182.849377 \r\nL 633.73125 182.849377 \r\n\" style=\"fill:none;stroke:#b0b0b0;stroke-linecap:square;stroke-width:0.8;\"/>\r\n     </g>\r\n     <g id=\"line2d_24\">\r\n      <defs>\r\n       <path d=\"M 0 0 \r\nL -3.5 0 \r\n\" id=\"m3f994349f9\" style=\"stroke:#000000;stroke-width:0.8;\"/>\r\n      </defs>\r\n      <g>\r\n       <use style=\"stroke:#000000;stroke-width:0.8;\" x=\"75.73125\" xlink:href=\"#m3f994349f9\" y=\"182.849377\"/>\r\n      </g>\r\n     </g>\r\n     <g id=\"text_12\">\r\n      <!-- 0 -->\r\n      <g transform=\"translate(62.36875 186.648595)scale(0.1 -0.1)\">\r\n       <use xlink:href=\"#DejaVuSans-48\"/>\r\n      </g>\r\n     </g>\r\n    </g>\r\n    <g id=\"ytick_2\">\r\n     <g id=\"line2d_25\">\r\n      <path clip-path=\"url(#pa9ee6ee140)\" d=\"M 75.73125 155.578968 \r\nL 633.73125 155.578968 \r\n\" style=\"fill:none;stroke:#b0b0b0;stroke-linecap:square;stroke-width:0.8;\"/>\r\n     </g>\r\n     <g id=\"line2d_26\">\r\n      <g>\r\n       <use style=\"stroke:#000000;stroke-width:0.8;\" x=\"75.73125\" xlink:href=\"#m3f994349f9\" y=\"155.578968\"/>\r\n      </g>\r\n     </g>\r\n     <g id=\"text_13\">\r\n      <!-- 20000 -->\r\n      <g transform=\"translate(36.91875 159.378187)scale(0.1 -0.1)\">\r\n       <use xlink:href=\"#DejaVuSans-50\"/>\r\n       <use x=\"63.623047\" xlink:href=\"#DejaVuSans-48\"/>\r\n       <use x=\"127.246094\" xlink:href=\"#DejaVuSans-48\"/>\r\n       <use x=\"190.869141\" xlink:href=\"#DejaVuSans-48\"/>\r\n       <use x=\"254.492188\" xlink:href=\"#DejaVuSans-48\"/>\r\n      </g>\r\n     </g>\r\n    </g>\r\n    <g id=\"ytick_3\">\r\n     <g id=\"line2d_27\">\r\n      <path clip-path=\"url(#pa9ee6ee140)\" d=\"M 75.73125 128.30856 \r\nL 633.73125 128.30856 \r\n\" style=\"fill:none;stroke:#b0b0b0;stroke-linecap:square;stroke-width:0.8;\"/>\r\n     </g>\r\n     <g id=\"line2d_28\">\r\n      <g>\r\n       <use style=\"stroke:#000000;stroke-width:0.8;\" x=\"75.73125\" xlink:href=\"#m3f994349f9\" y=\"128.30856\"/>\r\n      </g>\r\n     </g>\r\n     <g id=\"text_14\">\r\n      <!-- 40000 -->\r\n      <g transform=\"translate(36.91875 132.107779)scale(0.1 -0.1)\">\r\n       <use xlink:href=\"#DejaVuSans-52\"/>\r\n       <use x=\"63.623047\" xlink:href=\"#DejaVuSans-48\"/>\r\n       <use x=\"127.246094\" xlink:href=\"#DejaVuSans-48\"/>\r\n       <use x=\"190.869141\" xlink:href=\"#DejaVuSans-48\"/>\r\n       <use x=\"254.492188\" xlink:href=\"#DejaVuSans-48\"/>\r\n      </g>\r\n     </g>\r\n    </g>\r\n    <g id=\"ytick_4\">\r\n     <g id=\"line2d_29\">\r\n      <path clip-path=\"url(#pa9ee6ee140)\" d=\"M 75.73125 101.038152 \r\nL 633.73125 101.038152 \r\n\" style=\"fill:none;stroke:#b0b0b0;stroke-linecap:square;stroke-width:0.8;\"/>\r\n     </g>\r\n     <g id=\"line2d_30\">\r\n      <g>\r\n       <use style=\"stroke:#000000;stroke-width:0.8;\" x=\"75.73125\" xlink:href=\"#m3f994349f9\" y=\"101.038152\"/>\r\n      </g>\r\n     </g>\r\n     <g id=\"text_15\">\r\n      <!-- 60000 -->\r\n      <g transform=\"translate(36.91875 104.837371)scale(0.1 -0.1)\">\r\n       <use xlink:href=\"#DejaVuSans-54\"/>\r\n       <use x=\"63.623047\" xlink:href=\"#DejaVuSans-48\"/>\r\n       <use x=\"127.246094\" xlink:href=\"#DejaVuSans-48\"/>\r\n       <use x=\"190.869141\" xlink:href=\"#DejaVuSans-48\"/>\r\n       <use x=\"254.492188\" xlink:href=\"#DejaVuSans-48\"/>\r\n      </g>\r\n     </g>\r\n    </g>\r\n    <g id=\"ytick_5\">\r\n     <g id=\"line2d_31\">\r\n      <path clip-path=\"url(#pa9ee6ee140)\" d=\"M 75.73125 73.767744 \r\nL 633.73125 73.767744 \r\n\" style=\"fill:none;stroke:#b0b0b0;stroke-linecap:square;stroke-width:0.8;\"/>\r\n     </g>\r\n     <g id=\"line2d_32\">\r\n      <g>\r\n       <use style=\"stroke:#000000;stroke-width:0.8;\" x=\"75.73125\" xlink:href=\"#m3f994349f9\" y=\"73.767744\"/>\r\n      </g>\r\n     </g>\r\n     <g id=\"text_16\">\r\n      <!-- 80000 -->\r\n      <g transform=\"translate(36.91875 77.566962)scale(0.1 -0.1)\">\r\n       <use xlink:href=\"#DejaVuSans-56\"/>\r\n       <use x=\"63.623047\" xlink:href=\"#DejaVuSans-48\"/>\r\n       <use x=\"127.246094\" xlink:href=\"#DejaVuSans-48\"/>\r\n       <use x=\"190.869141\" xlink:href=\"#DejaVuSans-48\"/>\r\n       <use x=\"254.492188\" xlink:href=\"#DejaVuSans-48\"/>\r\n      </g>\r\n     </g>\r\n    </g>\r\n    <g id=\"ytick_6\">\r\n     <g id=\"line2d_33\">\r\n      <path clip-path=\"url(#pa9ee6ee140)\" d=\"M 75.73125 46.497335 \r\nL 633.73125 46.497335 \r\n\" style=\"fill:none;stroke:#b0b0b0;stroke-linecap:square;stroke-width:0.8;\"/>\r\n     </g>\r\n     <g id=\"line2d_34\">\r\n      <g>\r\n       <use style=\"stroke:#000000;stroke-width:0.8;\" x=\"75.73125\" xlink:href=\"#m3f994349f9\" y=\"46.497335\"/>\r\n      </g>\r\n     </g>\r\n     <g id=\"text_17\">\r\n      <!-- 100000 -->\r\n      <g transform=\"translate(30.55625 50.296554)scale(0.1 -0.1)\">\r\n       <use xlink:href=\"#DejaVuSans-49\"/>\r\n       <use x=\"63.623047\" xlink:href=\"#DejaVuSans-48\"/>\r\n       <use x=\"127.246094\" xlink:href=\"#DejaVuSans-48\"/>\r\n       <use x=\"190.869141\" xlink:href=\"#DejaVuSans-48\"/>\r\n       <use x=\"254.492188\" xlink:href=\"#DejaVuSans-48\"/>\r\n       <use x=\"318.115234\" xlink:href=\"#DejaVuSans-48\"/>\r\n      </g>\r\n     </g>\r\n    </g>\r\n    <g id=\"text_18\">\r\n     <!-- Cases -->\r\n     <defs>\r\n      <path d=\"M 64.40625 67.28125 \r\nL 64.40625 56.890625 \r\nQ 59.421875 61.53125 53.78125 63.8125 \r\nQ 48.140625 66.109375 41.796875 66.109375 \r\nQ 29.296875 66.109375 22.65625 58.46875 \r\nQ 16.015625 50.828125 16.015625 36.375 \r\nQ 16.015625 21.96875 22.65625 14.328125 \r\nQ 29.296875 6.6875 41.796875 6.6875 \r\nQ 48.140625 6.6875 53.78125 8.984375 \r\nQ 59.421875 11.28125 64.40625 15.921875 \r\nL 64.40625 5.609375 \r\nQ 59.234375 2.09375 53.4375 0.328125 \r\nQ 47.65625 -1.421875 41.21875 -1.421875 \r\nQ 24.65625 -1.421875 15.125 8.703125 \r\nQ 5.609375 18.84375 5.609375 36.375 \r\nQ 5.609375 53.953125 15.125 64.078125 \r\nQ 24.65625 74.21875 41.21875 74.21875 \r\nQ 47.75 74.21875 53.53125 72.484375 \r\nQ 59.328125 70.75 64.40625 67.28125 \r\nz\r\n\" id=\"DejaVuSans-67\"/>\r\n      <path d=\"M 34.28125 27.484375 \r\nQ 23.390625 27.484375 19.1875 25 \r\nQ 14.984375 22.515625 14.984375 16.5 \r\nQ 14.984375 11.71875 18.140625 8.90625 \r\nQ 21.296875 6.109375 26.703125 6.109375 \r\nQ 34.1875 6.109375 38.703125 11.40625 \r\nQ 43.21875 16.703125 43.21875 25.484375 \r\nL 43.21875 27.484375 \r\nz\r\nM 52.203125 31.203125 \r\nL 52.203125 0 \r\nL 43.21875 0 \r\nL 43.21875 8.296875 \r\nQ 40.140625 3.328125 35.546875 0.953125 \r\nQ 30.953125 -1.421875 24.3125 -1.421875 \r\nQ 15.921875 -1.421875 10.953125 3.296875 \r\nQ 6 8.015625 6 15.921875 \r\nQ 6 25.140625 12.171875 29.828125 \r\nQ 18.359375 34.515625 30.609375 34.515625 \r\nL 43.21875 34.515625 \r\nL 43.21875 35.40625 \r\nQ 43.21875 41.609375 39.140625 45 \r\nQ 35.0625 48.390625 27.6875 48.390625 \r\nQ 23 48.390625 18.546875 47.265625 \r\nQ 14.109375 46.140625 10.015625 43.890625 \r\nL 10.015625 52.203125 \r\nQ 14.9375 54.109375 19.578125 55.046875 \r\nQ 24.21875 56 28.609375 56 \r\nQ 40.484375 56 46.34375 49.84375 \r\nQ 52.203125 43.703125 52.203125 31.203125 \r\nz\r\n\" id=\"DejaVuSans-97\"/>\r\n      <path d=\"M 44.28125 53.078125 \r\nL 44.28125 44.578125 \r\nQ 40.484375 46.53125 36.375 47.5 \r\nQ 32.28125 48.484375 27.875 48.484375 \r\nQ 21.1875 48.484375 17.84375 46.4375 \r\nQ 14.5 44.390625 14.5 40.28125 \r\nQ 14.5 37.15625 16.890625 35.375 \r\nQ 19.28125 33.59375 26.515625 31.984375 \r\nL 29.59375 31.296875 \r\nQ 39.15625 29.25 43.1875 25.515625 \r\nQ 47.21875 21.78125 47.21875 15.09375 \r\nQ 47.21875 7.46875 41.1875 3.015625 \r\nQ 35.15625 -1.421875 24.609375 -1.421875 \r\nQ 20.21875 -1.421875 15.453125 -0.5625 \r\nQ 10.6875 0.296875 5.421875 2 \r\nL 5.421875 11.28125 \r\nQ 10.40625 8.6875 15.234375 7.390625 \r\nQ 20.0625 6.109375 24.8125 6.109375 \r\nQ 31.15625 6.109375 34.5625 8.28125 \r\nQ 37.984375 10.453125 37.984375 14.40625 \r\nQ 37.984375 18.0625 35.515625 20.015625 \r\nQ 33.0625 21.96875 24.703125 23.78125 \r\nL 21.578125 24.515625 \r\nQ 13.234375 26.265625 9.515625 29.90625 \r\nQ 5.8125 33.546875 5.8125 39.890625 \r\nQ 5.8125 47.609375 11.28125 51.796875 \r\nQ 16.75 56 26.8125 56 \r\nQ 31.78125 56 36.171875 55.265625 \r\nQ 40.578125 54.546875 44.28125 53.078125 \r\nz\r\n\" id=\"DejaVuSans-115\"/>\r\n      <path d=\"M 56.203125 29.59375 \r\nL 56.203125 25.203125 \r\nL 14.890625 25.203125 \r\nQ 15.484375 15.921875 20.484375 11.0625 \r\nQ 25.484375 6.203125 34.421875 6.203125 \r\nQ 39.59375 6.203125 44.453125 7.46875 \r\nQ 49.3125 8.734375 54.109375 11.28125 \r\nL 54.109375 2.78125 \r\nQ 49.265625 0.734375 44.1875 -0.34375 \r\nQ 39.109375 -1.421875 33.890625 -1.421875 \r\nQ 20.796875 -1.421875 13.15625 6.1875 \r\nQ 5.515625 13.8125 5.515625 26.8125 \r\nQ 5.515625 40.234375 12.765625 48.109375 \r\nQ 20.015625 56 32.328125 56 \r\nQ 43.359375 56 49.78125 48.890625 \r\nQ 56.203125 41.796875 56.203125 29.59375 \r\nz\r\nM 47.21875 32.234375 \r\nQ 47.125 39.59375 43.09375 43.984375 \r\nQ 39.0625 48.390625 32.421875 48.390625 \r\nQ 24.90625 48.390625 20.390625 44.140625 \r\nQ 15.875 39.890625 15.1875 32.171875 \r\nz\r\n\" id=\"DejaVuSans-101\"/>\r\n     </defs>\r\n     <g transform=\"translate(22.396875 139.619687)rotate(-90)scale(0.2 -0.2)\">\r\n      <use xlink:href=\"#DejaVuSans-67\"/>\r\n      <use x=\"69.824219\" xlink:href=\"#DejaVuSans-97\"/>\r\n      <use x=\"131.103516\" xlink:href=\"#DejaVuSans-115\"/>\r\n      <use x=\"183.203125\" xlink:href=\"#DejaVuSans-101\"/>\r\n      <use x=\"244.726562\" xlink:href=\"#DejaVuSans-115\"/>\r\n     </g>\r\n    </g>\r\n   </g>\r\n   <g id=\"patch_3\">\r\n    <path d=\"M 75.73125 191.476875 \r\nL 75.73125 28.396875 \r\n\" style=\"fill:none;stroke:#000000;stroke-linecap:square;stroke-linejoin:miter;stroke-width:0.8;\"/>\r\n   </g>\r\n   <g id=\"patch_4\">\r\n    <path d=\"M 633.73125 191.476875 \r\nL 633.73125 28.396875 \r\n\" style=\"fill:none;stroke:#000000;stroke-linecap:square;stroke-linejoin:miter;stroke-width:0.8;\"/>\r\n   </g>\r\n   <g id=\"patch_5\">\r\n    <path d=\"M 75.73125 191.476875 \r\nL 633.73125 191.476875 \r\n\" style=\"fill:none;stroke:#000000;stroke-linecap:square;stroke-linejoin:miter;stroke-width:0.8;\"/>\r\n   </g>\r\n   <g id=\"patch_6\">\r\n    <path d=\"M 75.73125 28.396875 \r\nL 633.73125 28.396875 \r\n\" style=\"fill:none;stroke:#000000;stroke-linecap:square;stroke-linejoin:miter;stroke-width:0.8;\"/>\r\n   </g>\r\n   <g id=\"text_19\">\r\n    <!-- MN Cases Over Time -->\r\n    <defs>\r\n     <path d=\"M 9.8125 72.90625 \r\nL 24.515625 72.90625 \r\nL 43.109375 23.296875 \r\nL 61.8125 72.90625 \r\nL 76.515625 72.90625 \r\nL 76.515625 0 \r\nL 66.890625 0 \r\nL 66.890625 64.015625 \r\nL 48.09375 14.015625 \r\nL 38.1875 14.015625 \r\nL 19.390625 64.015625 \r\nL 19.390625 0 \r\nL 9.8125 0 \r\nz\r\n\" id=\"DejaVuSans-77\"/>\r\n     <path d=\"M 9.8125 72.90625 \r\nL 23.09375 72.90625 \r\nL 55.421875 11.921875 \r\nL 55.421875 72.90625 \r\nL 64.984375 72.90625 \r\nL 64.984375 0 \r\nL 51.703125 0 \r\nL 19.390625 60.984375 \r\nL 19.390625 0 \r\nL 9.8125 0 \r\nz\r\n\" id=\"DejaVuSans-78\"/>\r\n     <path id=\"DejaVuSans-32\"/>\r\n     <path d=\"M 39.40625 66.21875 \r\nQ 28.65625 66.21875 22.328125 58.203125 \r\nQ 16.015625 50.203125 16.015625 36.375 \r\nQ 16.015625 22.609375 22.328125 14.59375 \r\nQ 28.65625 6.59375 39.40625 6.59375 \r\nQ 50.140625 6.59375 56.421875 14.59375 \r\nQ 62.703125 22.609375 62.703125 36.375 \r\nQ 62.703125 50.203125 56.421875 58.203125 \r\nQ 50.140625 66.21875 39.40625 66.21875 \r\nz\r\nM 39.40625 74.21875 \r\nQ 54.734375 74.21875 63.90625 63.9375 \r\nQ 73.09375 53.65625 73.09375 36.375 \r\nQ 73.09375 19.140625 63.90625 8.859375 \r\nQ 54.734375 -1.421875 39.40625 -1.421875 \r\nQ 24.03125 -1.421875 14.8125 8.828125 \r\nQ 5.609375 19.09375 5.609375 36.375 \r\nQ 5.609375 53.65625 14.8125 63.9375 \r\nQ 24.03125 74.21875 39.40625 74.21875 \r\nz\r\n\" id=\"DejaVuSans-79\"/>\r\n     <path d=\"M 2.984375 54.6875 \r\nL 12.5 54.6875 \r\nL 29.59375 8.796875 \r\nL 46.6875 54.6875 \r\nL 56.203125 54.6875 \r\nL 35.6875 0 \r\nL 23.484375 0 \r\nz\r\n\" id=\"DejaVuSans-118\"/>\r\n     <path d=\"M 41.109375 46.296875 \r\nQ 39.59375 47.171875 37.8125 47.578125 \r\nQ 36.03125 48 33.890625 48 \r\nQ 26.265625 48 22.1875 43.046875 \r\nQ 18.109375 38.09375 18.109375 28.8125 \r\nL 18.109375 0 \r\nL 9.078125 0 \r\nL 9.078125 54.6875 \r\nL 18.109375 54.6875 \r\nL 18.109375 46.1875 \r\nQ 20.953125 51.171875 25.484375 53.578125 \r\nQ 30.03125 56 36.53125 56 \r\nQ 37.453125 56 38.578125 55.875 \r\nQ 39.703125 55.765625 41.0625 55.515625 \r\nz\r\n\" id=\"DejaVuSans-114\"/>\r\n     <path d=\"M -0.296875 72.90625 \r\nL 61.375 72.90625 \r\nL 61.375 64.59375 \r\nL 35.5 64.59375 \r\nL 35.5 0 \r\nL 25.59375 0 \r\nL 25.59375 64.59375 \r\nL -0.296875 64.59375 \r\nz\r\n\" id=\"DejaVuSans-84\"/>\r\n     <path d=\"M 9.421875 54.6875 \r\nL 18.40625 54.6875 \r\nL 18.40625 0 \r\nL 9.421875 0 \r\nz\r\nM 9.421875 75.984375 \r\nL 18.40625 75.984375 \r\nL 18.40625 64.59375 \r\nL 9.421875 64.59375 \r\nz\r\n\" id=\"DejaVuSans-105\"/>\r\n     <path d=\"M 52 44.1875 \r\nQ 55.375 50.25 60.0625 53.125 \r\nQ 64.75 56 71.09375 56 \r\nQ 79.640625 56 84.28125 50.015625 \r\nQ 88.921875 44.046875 88.921875 33.015625 \r\nL 88.921875 0 \r\nL 79.890625 0 \r\nL 79.890625 32.71875 \r\nQ 79.890625 40.578125 77.09375 44.375 \r\nQ 74.3125 48.1875 68.609375 48.1875 \r\nQ 61.625 48.1875 57.5625 43.546875 \r\nQ 53.515625 38.921875 53.515625 30.90625 \r\nL 53.515625 0 \r\nL 44.484375 0 \r\nL 44.484375 32.71875 \r\nQ 44.484375 40.625 41.703125 44.40625 \r\nQ 38.921875 48.1875 33.109375 48.1875 \r\nQ 26.21875 48.1875 22.15625 43.53125 \r\nQ 18.109375 38.875 18.109375 30.90625 \r\nL 18.109375 0 \r\nL 9.078125 0 \r\nL 9.078125 54.6875 \r\nL 18.109375 54.6875 \r\nL 18.109375 46.1875 \r\nQ 21.1875 51.21875 25.484375 53.609375 \r\nQ 29.78125 56 35.6875 56 \r\nQ 41.65625 56 45.828125 52.96875 \r\nQ 50 49.953125 52 44.1875 \r\nz\r\n\" id=\"DejaVuSans-109\"/>\r\n    </defs>\r\n    <g transform=\"translate(250.575 22.396875)scale(0.2 -0.2)\">\r\n     <use xlink:href=\"#DejaVuSans-77\"/>\r\n     <use x=\"86.279297\" xlink:href=\"#DejaVuSans-78\"/>\r\n     <use x=\"161.083984\" xlink:href=\"#DejaVuSans-32\"/>\r\n     <use x=\"192.871094\" xlink:href=\"#DejaVuSans-67\"/>\r\n     <use x=\"262.695312\" xlink:href=\"#DejaVuSans-97\"/>\r\n     <use x=\"323.974609\" xlink:href=\"#DejaVuSans-115\"/>\r\n     <use x=\"376.074219\" xlink:href=\"#DejaVuSans-101\"/>\r\n     <use x=\"437.597656\" xlink:href=\"#DejaVuSans-115\"/>\r\n     <use x=\"489.697266\" xlink:href=\"#DejaVuSans-32\"/>\r\n     <use x=\"521.484375\" xlink:href=\"#DejaVuSans-79\"/>\r\n     <use x=\"600.195312\" xlink:href=\"#DejaVuSans-118\"/>\r\n     <use x=\"659.375\" xlink:href=\"#DejaVuSans-101\"/>\r\n     <use x=\"720.898438\" xlink:href=\"#DejaVuSans-114\"/>\r\n     <use x=\"762.011719\" xlink:href=\"#DejaVuSans-32\"/>\r\n     <use x=\"793.798828\" xlink:href=\"#DejaVuSans-84\"/>\r\n     <use x=\"854.835938\" xlink:href=\"#DejaVuSans-105\"/>\r\n     <use x=\"882.619141\" xlink:href=\"#DejaVuSans-109\"/>\r\n     <use x=\"980.03125\" xlink:href=\"#DejaVuSans-101\"/>\r\n    </g>\r\n   </g>\r\n  </g>\r\n </g>\r\n <defs>\r\n  <clipPath id=\"pa9ee6ee140\">\r\n   <rect height=\"163.08\" width=\"558\" x=\"75.73125\" y=\"28.396875\"/>\r\n  </clipPath>\r\n </defs>\r\n</svg>\r\n",
      "image/png": "[encoded data removed]"
     },
     "metadata": {
      "needs_background": "light"
     }
    }
   ],
   "source": [
    "# Graph with Actual Values and Predicitons\n",
    "plt.figure(figsize = (10, 3))\n",
    "plt.scatter(predict_holidays['datetime'],predict_holidays['predicted_cases'],c='#d0312d',)\n",
    "plt.scatter(MN['datetime'],MN['cases'],c='#000080',)\n",
    "plt.grid(True)\n",
    "plt.title('MN Cases Over Time', fontsize = 20)\n",
    "plt.ylabel('Cases', fontsize = 20)\n",
    "plt.show()\n"
   ]
  },
  {
   "source": [
    "# Checking Predictions"
   ],
   "cell_type": "markdown",
   "metadata": {}
  },
  {
   "cell_type": "code",
   "execution_count": 42,
   "metadata": {},
   "outputs": [
    {
     "output_type": "execute_result",
     "data": {
      "text/plain": [
       "   day  month          date  predicted_cases  actual_cases\n",
       "0    7      9     Labor Day            62874         78175\n",
       "1    3     11  Election Day            85478             0\n",
       "2   26     11  Thanksgiving            95179             0\n",
       "3   25     12     Christmas           106903             0"
      ],
      "text/html": "<div>\n<style scoped>\n    .dataframe tbody tr th:only-of-type {\n        vertical-align: middle;\n    }\n\n    .dataframe tbody tr th {\n        vertical-align: top;\n    }\n\n    .dataframe thead th {\n        text-align: right;\n    }\n</style>\n<table border=\"1\" class=\"dataframe\">\n  <thead>\n    <tr style=\"text-align: right;\">\n      <th></th>\n      <th>day</th>\n      <th>month</th>\n      <th>date</th>\n      <th>predicted_cases</th>\n      <th>actual_cases</th>\n    </tr>\n  </thead>\n  <tbody>\n    <tr>\n      <th>0</th>\n      <td>7</td>\n      <td>9</td>\n      <td>Labor Day</td>\n      <td>62874</td>\n      <td>78175</td>\n    </tr>\n    <tr>\n      <th>1</th>\n      <td>3</td>\n      <td>11</td>\n      <td>Election Day</td>\n      <td>85478</td>\n      <td>0</td>\n    </tr>\n    <tr>\n      <th>2</th>\n      <td>26</td>\n      <td>11</td>\n      <td>Thanksgiving</td>\n      <td>95179</td>\n      <td>0</td>\n    </tr>\n    <tr>\n      <th>3</th>\n      <td>25</td>\n      <td>12</td>\n      <td>Christmas</td>\n      <td>106903</td>\n      <td>0</td>\n    </tr>\n  </tbody>\n</table>\n</div>"
     },
     "metadata": {},
     "execution_count": 42
    }
   ],
   "source": [
    "# make df \n",
    "d = {'day':[7,3,26,25],'month':[9,11,11,12],'date':['Labor Day','Election Day','Thanksgiving','Christmas'],'predicted_cases':[62874,85478,95179,106903]}\n",
    "\n",
    "#Name dataframe and load data.\n",
    "predictions = pd.DataFrame(data=d)\n",
    "\n",
    "# Updated predicted cases with actual cases.\n",
    "d = {'day':[7,3,26,25],'month':[9,11,11,12],'predicted_cases':[62874,85478,95179,106903],'actual_cases':['78175','0','0','0']}\n",
    "d\n",
    "# Load data into dataframe.\n",
    "predictions = pd.DataFrame(data=d)\n",
    "predictions['actual_cases'].astype(int)\n",
    "\n",
    "d = {'day':[7,3,26,25],'month':[9,11,11,12],'date':['Labor Day','Election Day','Thanksgiving','Christmas'],'predicted_cases':[62874,85478,95179,106903],'actual_cases':[78175,0,0,0]}\n",
    "\n",
    "labor_day = pd.DataFrame(data=d)\n",
    "labor_day"
   ]
  },
  {
   "cell_type": "code",
   "execution_count": 40,
   "metadata": {},
   "outputs": [],
   "source": []
  },
  {
   "cell_type": "code",
   "execution_count": 41,
   "metadata": {},
   "outputs": [
    {
     "output_type": "execute_result",
     "data": {
      "text/plain": [
       "<matplotlib.axes._subplots.AxesSubplot at 0x22c20614308>"
      ]
     },
     "metadata": {},
     "execution_count": 41
    },
    {
     "output_type": "display_data",
     "data": {
      "text/plain": "<Figure size 432x288 with 0 Axes>"
     },
     "metadata": {}
    },
    {
     "output_type": "display_data",
     "data": {
      "text/plain": "<Figure size 432x288 with 1 Axes>",
      "image/svg+xml": "<?xml version=\"1.0\" encoding=\"utf-8\" standalone=\"no\"?>\r\n<!DOCTYPE svg PUBLIC \"-//W3C//DTD SVG 1.1//EN\"\r\n  \"http://www.w3.org/Graphics/SVG/1.1/DTD/svg11.dtd\">\r\n<!-- Created with matplotlib (https://matplotlib.org/) -->\r\n<svg height=\"245.2025pt\" version=\"1.1\" viewBox=\"0 0 394.375 245.2025\" width=\"394.375pt\" xmlns=\"http://www.w3.org/2000/svg\" xmlns:xlink=\"http://www.w3.org/1999/xlink\">\r\n <defs>\r\n  <style type=\"text/css\">\r\n*{stroke-linecap:butt;stroke-linejoin:round;}\r\n  </style>\r\n </defs>\r\n <g id=\"figure_1\">\r\n  <g id=\"patch_1\">\r\n   <path d=\"M 0 245.2025 \r\nL 394.375 245.2025 \r\nL 394.375 0 \r\nL 0 0 \r\nz\r\n\" style=\"fill:none;\"/>\r\n  </g>\r\n  <g id=\"axes_1\">\r\n   <g id=\"patch_2\">\r\n    <path d=\"M 52.375 224.64 \r\nL 387.175 224.64 \r\nL 387.175 7.2 \r\nL 52.375 7.2 \r\nz\r\n\" style=\"fill:#ffffff;\"/>\r\n   </g>\r\n   <g id=\"patch_3\">\r\n    <path clip-path=\"url(#p69232f3bfd)\" d=\"M 73.3 224.64 \r\nL 94.225 224.64 \r\nL 94.225 102.844473 \r\nL 73.3 102.844473 \r\nz\r\n\" style=\"fill:#1f77b4;\"/>\r\n   </g>\r\n   <g id=\"patch_4\">\r\n    <path clip-path=\"url(#p69232f3bfd)\" d=\"M 157 224.64 \r\nL 177.925 224.64 \r\nL 177.925 59.057437 \r\nL 157 59.057437 \r\nz\r\n\" style=\"fill:#1f77b4;\"/>\r\n   </g>\r\n   <g id=\"patch_5\">\r\n    <path clip-path=\"url(#p69232f3bfd)\" d=\"M 240.7 224.64 \r\nL 261.625 224.64 \r\nL 261.625 40.265275 \r\nL 240.7 40.265275 \r\nz\r\n\" style=\"fill:#1f77b4;\"/>\r\n   </g>\r\n   <g id=\"patch_6\">\r\n    <path clip-path=\"url(#p69232f3bfd)\" d=\"M 324.4 224.64 \r\nL 345.325 224.64 \r\nL 345.325 17.554286 \r\nL 324.4 17.554286 \r\nz\r\n\" style=\"fill:#1f77b4;\"/>\r\n   </g>\r\n   <g id=\"patch_7\">\r\n    <path clip-path=\"url(#p69232f3bfd)\" d=\"M 94.225 224.64 \r\nL 115.15 224.64 \r\nL 115.15 73.204346 \r\nL 94.225 73.204346 \r\nz\r\n\" style=\"fill:#ff7f0e;\"/>\r\n   </g>\r\n   <g id=\"patch_8\">\r\n    <path clip-path=\"url(#p69232f3bfd)\" d=\"M 177.925 224.64 \r\nL 198.85 224.64 \r\nL 198.85 224.64 \r\nL 177.925 224.64 \r\nz\r\n\" style=\"fill:#ff7f0e;\"/>\r\n   </g>\r\n   <g id=\"patch_9\">\r\n    <path clip-path=\"url(#p69232f3bfd)\" d=\"M 261.625 224.64 \r\nL 282.55 224.64 \r\nL 282.55 224.64 \r\nL 261.625 224.64 \r\nz\r\n\" style=\"fill:#ff7f0e;\"/>\r\n   </g>\r\n   <g id=\"patch_10\">\r\n    <path clip-path=\"url(#p69232f3bfd)\" d=\"M 345.325 224.64 \r\nL 366.25 224.64 \r\nL 366.25 224.64 \r\nL 345.325 224.64 \r\nz\r\n\" style=\"fill:#ff7f0e;\"/>\r\n   </g>\r\n   <g id=\"matplotlib.axis_1\">\r\n    <g id=\"xtick_1\">\r\n     <g id=\"line2d_1\">\r\n      <defs>\r\n       <path d=\"M 0 0 \r\nL 0 3.5 \r\n\" id=\"m8ee80f3846\" style=\"stroke:#000000;stroke-width:0.8;\"/>\r\n      </defs>\r\n      <g>\r\n       <use style=\"stroke:#000000;stroke-width:0.8;\" x=\"94.225\" xlink:href=\"#m8ee80f3846\" y=\"224.64\"/>\r\n      </g>\r\n     </g>\r\n     <g id=\"text_1\">\r\n      <!-- 0 -->\r\n      <defs>\r\n       <path d=\"M 31.78125 66.40625 \r\nQ 24.171875 66.40625 20.328125 58.90625 \r\nQ 16.5 51.421875 16.5 36.375 \r\nQ 16.5 21.390625 20.328125 13.890625 \r\nQ 24.171875 6.390625 31.78125 6.390625 \r\nQ 39.453125 6.390625 43.28125 13.890625 \r\nQ 47.125 21.390625 47.125 36.375 \r\nQ 47.125 51.421875 43.28125 58.90625 \r\nQ 39.453125 66.40625 31.78125 66.40625 \r\nz\r\nM 31.78125 74.21875 \r\nQ 44.046875 74.21875 50.515625 64.515625 \r\nQ 56.984375 54.828125 56.984375 36.375 \r\nQ 56.984375 17.96875 50.515625 8.265625 \r\nQ 44.046875 -1.421875 31.78125 -1.421875 \r\nQ 19.53125 -1.421875 13.0625 8.265625 \r\nQ 6.59375 17.96875 6.59375 36.375 \r\nQ 6.59375 54.828125 13.0625 64.515625 \r\nQ 19.53125 74.21875 31.78125 74.21875 \r\nz\r\n\" id=\"DejaVuSans-48\"/>\r\n      </defs>\r\n      <g transform=\"translate(96.984375 238.0025)rotate(-90)scale(0.1 -0.1)\">\r\n       <use xlink:href=\"#DejaVuSans-48\"/>\r\n      </g>\r\n     </g>\r\n    </g>\r\n    <g id=\"xtick_2\">\r\n     <g id=\"line2d_2\">\r\n      <g>\r\n       <use style=\"stroke:#000000;stroke-width:0.8;\" x=\"177.925\" xlink:href=\"#m8ee80f3846\" y=\"224.64\"/>\r\n      </g>\r\n     </g>\r\n     <g id=\"text_2\">\r\n      <!-- 1 -->\r\n      <defs>\r\n       <path d=\"M 12.40625 8.296875 \r\nL 28.515625 8.296875 \r\nL 28.515625 63.921875 \r\nL 10.984375 60.40625 \r\nL 10.984375 69.390625 \r\nL 28.421875 72.90625 \r\nL 38.28125 72.90625 \r\nL 38.28125 8.296875 \r\nL 54.390625 8.296875 \r\nL 54.390625 0 \r\nL 12.40625 0 \r\nz\r\n\" id=\"DejaVuSans-49\"/>\r\n      </defs>\r\n      <g transform=\"translate(180.684375 238.0025)rotate(-90)scale(0.1 -0.1)\">\r\n       <use xlink:href=\"#DejaVuSans-49\"/>\r\n      </g>\r\n     </g>\r\n    </g>\r\n    <g id=\"xtick_3\">\r\n     <g id=\"line2d_3\">\r\n      <g>\r\n       <use style=\"stroke:#000000;stroke-width:0.8;\" x=\"261.625\" xlink:href=\"#m8ee80f3846\" y=\"224.64\"/>\r\n      </g>\r\n     </g>\r\n     <g id=\"text_3\">\r\n      <!-- 2 -->\r\n      <defs>\r\n       <path d=\"M 19.1875 8.296875 \r\nL 53.609375 8.296875 \r\nL 53.609375 0 \r\nL 7.328125 0 \r\nL 7.328125 8.296875 \r\nQ 12.9375 14.109375 22.625 23.890625 \r\nQ 32.328125 33.6875 34.8125 36.53125 \r\nQ 39.546875 41.84375 41.421875 45.53125 \r\nQ 43.3125 49.21875 43.3125 52.78125 \r\nQ 43.3125 58.59375 39.234375 62.25 \r\nQ 35.15625 65.921875 28.609375 65.921875 \r\nQ 23.96875 65.921875 18.8125 64.3125 \r\nQ 13.671875 62.703125 7.8125 59.421875 \r\nL 7.8125 69.390625 \r\nQ 13.765625 71.78125 18.9375 73 \r\nQ 24.125 74.21875 28.421875 74.21875 \r\nQ 39.75 74.21875 46.484375 68.546875 \r\nQ 53.21875 62.890625 53.21875 53.421875 \r\nQ 53.21875 48.921875 51.53125 44.890625 \r\nQ 49.859375 40.875 45.40625 35.40625 \r\nQ 44.1875 33.984375 37.640625 27.21875 \r\nQ 31.109375 20.453125 19.1875 8.296875 \r\nz\r\n\" id=\"DejaVuSans-50\"/>\r\n      </defs>\r\n      <g transform=\"translate(264.384375 238.0025)rotate(-90)scale(0.1 -0.1)\">\r\n       <use xlink:href=\"#DejaVuSans-50\"/>\r\n      </g>\r\n     </g>\r\n    </g>\r\n    <g id=\"xtick_4\">\r\n     <g id=\"line2d_4\">\r\n      <g>\r\n       <use style=\"stroke:#000000;stroke-width:0.8;\" x=\"345.325\" xlink:href=\"#m8ee80f3846\" y=\"224.64\"/>\r\n      </g>\r\n     </g>\r\n     <g id=\"text_4\">\r\n      <!-- 3 -->\r\n      <defs>\r\n       <path d=\"M 40.578125 39.3125 \r\nQ 47.65625 37.796875 51.625 33 \r\nQ 55.609375 28.21875 55.609375 21.1875 \r\nQ 55.609375 10.40625 48.1875 4.484375 \r\nQ 40.765625 -1.421875 27.09375 -1.421875 \r\nQ 22.515625 -1.421875 17.65625 -0.515625 \r\nQ 12.796875 0.390625 7.625 2.203125 \r\nL 7.625 11.71875 \r\nQ 11.71875 9.328125 16.59375 8.109375 \r\nQ 21.484375 6.890625 26.8125 6.890625 \r\nQ 36.078125 6.890625 40.9375 10.546875 \r\nQ 45.796875 14.203125 45.796875 21.1875 \r\nQ 45.796875 27.640625 41.28125 31.265625 \r\nQ 36.765625 34.90625 28.71875 34.90625 \r\nL 20.21875 34.90625 \r\nL 20.21875 43.015625 \r\nL 29.109375 43.015625 \r\nQ 36.375 43.015625 40.234375 45.921875 \r\nQ 44.09375 48.828125 44.09375 54.296875 \r\nQ 44.09375 59.90625 40.109375 62.90625 \r\nQ 36.140625 65.921875 28.71875 65.921875 \r\nQ 24.65625 65.921875 20.015625 65.03125 \r\nQ 15.375 64.15625 9.8125 62.3125 \r\nL 9.8125 71.09375 \r\nQ 15.4375 72.65625 20.34375 73.4375 \r\nQ 25.25 74.21875 29.59375 74.21875 \r\nQ 40.828125 74.21875 47.359375 69.109375 \r\nQ 53.90625 64.015625 53.90625 55.328125 \r\nQ 53.90625 49.265625 50.4375 45.09375 \r\nQ 46.96875 40.921875 40.578125 39.3125 \r\nz\r\n\" id=\"DejaVuSans-51\"/>\r\n      </defs>\r\n      <g transform=\"translate(348.084375 238.0025)rotate(-90)scale(0.1 -0.1)\">\r\n       <use xlink:href=\"#DejaVuSans-51\"/>\r\n      </g>\r\n     </g>\r\n    </g>\r\n   </g>\r\n   <g id=\"matplotlib.axis_2\">\r\n    <g id=\"ytick_1\">\r\n     <g id=\"line2d_5\">\r\n      <defs>\r\n       <path d=\"M 0 0 \r\nL -3.5 0 \r\n\" id=\"m148652f498\" style=\"stroke:#000000;stroke-width:0.8;\"/>\r\n      </defs>\r\n      <g>\r\n       <use style=\"stroke:#000000;stroke-width:0.8;\" x=\"52.375\" xlink:href=\"#m148652f498\" y=\"224.64\"/>\r\n      </g>\r\n     </g>\r\n     <g id=\"text_5\">\r\n      <!-- 0 -->\r\n      <g transform=\"translate(39.0125 228.439219)scale(0.1 -0.1)\">\r\n       <use xlink:href=\"#DejaVuSans-48\"/>\r\n      </g>\r\n     </g>\r\n    </g>\r\n    <g id=\"ytick_2\">\r\n     <g id=\"line2d_6\">\r\n      <g>\r\n       <use style=\"stroke:#000000;stroke-width:0.8;\" x=\"52.375\" xlink:href=\"#m148652f498\" y=\"185.897268\"/>\r\n      </g>\r\n     </g>\r\n     <g id=\"text_6\">\r\n      <!-- 20000 -->\r\n      <g transform=\"translate(13.5625 189.696487)scale(0.1 -0.1)\">\r\n       <use xlink:href=\"#DejaVuSans-50\"/>\r\n       <use x=\"63.623047\" xlink:href=\"#DejaVuSans-48\"/>\r\n       <use x=\"127.246094\" xlink:href=\"#DejaVuSans-48\"/>\r\n       <use x=\"190.869141\" xlink:href=\"#DejaVuSans-48\"/>\r\n       <use x=\"254.492188\" xlink:href=\"#DejaVuSans-48\"/>\r\n      </g>\r\n     </g>\r\n    </g>\r\n    <g id=\"ytick_3\">\r\n     <g id=\"line2d_7\">\r\n      <g>\r\n       <use style=\"stroke:#000000;stroke-width:0.8;\" x=\"52.375\" xlink:href=\"#m148652f498\" y=\"147.154536\"/>\r\n      </g>\r\n     </g>\r\n     <g id=\"text_7\">\r\n      <!-- 40000 -->\r\n      <defs>\r\n       <path d=\"M 37.796875 64.3125 \r\nL 12.890625 25.390625 \r\nL 37.796875 25.390625 \r\nz\r\nM 35.203125 72.90625 \r\nL 47.609375 72.90625 \r\nL 47.609375 25.390625 \r\nL 58.015625 25.390625 \r\nL 58.015625 17.1875 \r\nL 47.609375 17.1875 \r\nL 47.609375 0 \r\nL 37.796875 0 \r\nL 37.796875 17.1875 \r\nL 4.890625 17.1875 \r\nL 4.890625 26.703125 \r\nz\r\n\" id=\"DejaVuSans-52\"/>\r\n      </defs>\r\n      <g transform=\"translate(13.5625 150.953755)scale(0.1 -0.1)\">\r\n       <use xlink:href=\"#DejaVuSans-52\"/>\r\n       <use x=\"63.623047\" xlink:href=\"#DejaVuSans-48\"/>\r\n       <use x=\"127.246094\" xlink:href=\"#DejaVuSans-48\"/>\r\n       <use x=\"190.869141\" xlink:href=\"#DejaVuSans-48\"/>\r\n       <use x=\"254.492188\" xlink:href=\"#DejaVuSans-48\"/>\r\n      </g>\r\n     </g>\r\n    </g>\r\n    <g id=\"ytick_4\">\r\n     <g id=\"line2d_8\">\r\n      <g>\r\n       <use style=\"stroke:#000000;stroke-width:0.8;\" x=\"52.375\" xlink:href=\"#m148652f498\" y=\"108.411804\"/>\r\n      </g>\r\n     </g>\r\n     <g id=\"text_8\">\r\n      <!-- 60000 -->\r\n      <defs>\r\n       <path d=\"M 33.015625 40.375 \r\nQ 26.375 40.375 22.484375 35.828125 \r\nQ 18.609375 31.296875 18.609375 23.390625 \r\nQ 18.609375 15.53125 22.484375 10.953125 \r\nQ 26.375 6.390625 33.015625 6.390625 \r\nQ 39.65625 6.390625 43.53125 10.953125 \r\nQ 47.40625 15.53125 47.40625 23.390625 \r\nQ 47.40625 31.296875 43.53125 35.828125 \r\nQ 39.65625 40.375 33.015625 40.375 \r\nz\r\nM 52.59375 71.296875 \r\nL 52.59375 62.3125 \r\nQ 48.875 64.0625 45.09375 64.984375 \r\nQ 41.3125 65.921875 37.59375 65.921875 \r\nQ 27.828125 65.921875 22.671875 59.328125 \r\nQ 17.53125 52.734375 16.796875 39.40625 \r\nQ 19.671875 43.65625 24.015625 45.921875 \r\nQ 28.375 48.1875 33.59375 48.1875 \r\nQ 44.578125 48.1875 50.953125 41.515625 \r\nQ 57.328125 34.859375 57.328125 23.390625 \r\nQ 57.328125 12.15625 50.6875 5.359375 \r\nQ 44.046875 -1.421875 33.015625 -1.421875 \r\nQ 20.359375 -1.421875 13.671875 8.265625 \r\nQ 6.984375 17.96875 6.984375 36.375 \r\nQ 6.984375 53.65625 15.1875 63.9375 \r\nQ 23.390625 74.21875 37.203125 74.21875 \r\nQ 40.921875 74.21875 44.703125 73.484375 \r\nQ 48.484375 72.75 52.59375 71.296875 \r\nz\r\n\" id=\"DejaVuSans-54\"/>\r\n      </defs>\r\n      <g transform=\"translate(13.5625 112.211023)scale(0.1 -0.1)\">\r\n       <use xlink:href=\"#DejaVuSans-54\"/>\r\n       <use x=\"63.623047\" xlink:href=\"#DejaVuSans-48\"/>\r\n       <use x=\"127.246094\" xlink:href=\"#DejaVuSans-48\"/>\r\n       <use x=\"190.869141\" xlink:href=\"#DejaVuSans-48\"/>\r\n       <use x=\"254.492188\" xlink:href=\"#DejaVuSans-48\"/>\r\n      </g>\r\n     </g>\r\n    </g>\r\n    <g id=\"ytick_5\">\r\n     <g id=\"line2d_9\">\r\n      <g>\r\n       <use style=\"stroke:#000000;stroke-width:0.8;\" x=\"52.375\" xlink:href=\"#m148652f498\" y=\"69.669072\"/>\r\n      </g>\r\n     </g>\r\n     <g id=\"text_9\">\r\n      <!-- 80000 -->\r\n      <defs>\r\n       <path d=\"M 31.78125 34.625 \r\nQ 24.75 34.625 20.71875 30.859375 \r\nQ 16.703125 27.09375 16.703125 20.515625 \r\nQ 16.703125 13.921875 20.71875 10.15625 \r\nQ 24.75 6.390625 31.78125 6.390625 \r\nQ 38.8125 6.390625 42.859375 10.171875 \r\nQ 46.921875 13.96875 46.921875 20.515625 \r\nQ 46.921875 27.09375 42.890625 30.859375 \r\nQ 38.875 34.625 31.78125 34.625 \r\nz\r\nM 21.921875 38.8125 \r\nQ 15.578125 40.375 12.03125 44.71875 \r\nQ 8.5 49.078125 8.5 55.328125 \r\nQ 8.5 64.0625 14.71875 69.140625 \r\nQ 20.953125 74.21875 31.78125 74.21875 \r\nQ 42.671875 74.21875 48.875 69.140625 \r\nQ 55.078125 64.0625 55.078125 55.328125 \r\nQ 55.078125 49.078125 51.53125 44.71875 \r\nQ 48 40.375 41.703125 38.8125 \r\nQ 48.828125 37.15625 52.796875 32.3125 \r\nQ 56.78125 27.484375 56.78125 20.515625 \r\nQ 56.78125 9.90625 50.3125 4.234375 \r\nQ 43.84375 -1.421875 31.78125 -1.421875 \r\nQ 19.734375 -1.421875 13.25 4.234375 \r\nQ 6.78125 9.90625 6.78125 20.515625 \r\nQ 6.78125 27.484375 10.78125 32.3125 \r\nQ 14.796875 37.15625 21.921875 38.8125 \r\nz\r\nM 18.3125 54.390625 \r\nQ 18.3125 48.734375 21.84375 45.5625 \r\nQ 25.390625 42.390625 31.78125 42.390625 \r\nQ 38.140625 42.390625 41.71875 45.5625 \r\nQ 45.3125 48.734375 45.3125 54.390625 \r\nQ 45.3125 60.0625 41.71875 63.234375 \r\nQ 38.140625 66.40625 31.78125 66.40625 \r\nQ 25.390625 66.40625 21.84375 63.234375 \r\nQ 18.3125 60.0625 18.3125 54.390625 \r\nz\r\n\" id=\"DejaVuSans-56\"/>\r\n      </defs>\r\n      <g transform=\"translate(13.5625 73.46829)scale(0.1 -0.1)\">\r\n       <use xlink:href=\"#DejaVuSans-56\"/>\r\n       <use x=\"63.623047\" xlink:href=\"#DejaVuSans-48\"/>\r\n       <use x=\"127.246094\" xlink:href=\"#DejaVuSans-48\"/>\r\n       <use x=\"190.869141\" xlink:href=\"#DejaVuSans-48\"/>\r\n       <use x=\"254.492188\" xlink:href=\"#DejaVuSans-48\"/>\r\n      </g>\r\n     </g>\r\n    </g>\r\n    <g id=\"ytick_6\">\r\n     <g id=\"line2d_10\">\r\n      <g>\r\n       <use style=\"stroke:#000000;stroke-width:0.8;\" x=\"52.375\" xlink:href=\"#m148652f498\" y=\"30.92634\"/>\r\n      </g>\r\n     </g>\r\n     <g id=\"text_10\">\r\n      <!-- 100000 -->\r\n      <g transform=\"translate(7.2 34.725558)scale(0.1 -0.1)\">\r\n       <use xlink:href=\"#DejaVuSans-49\"/>\r\n       <use x=\"63.623047\" xlink:href=\"#DejaVuSans-48\"/>\r\n       <use x=\"127.246094\" xlink:href=\"#DejaVuSans-48\"/>\r\n       <use x=\"190.869141\" xlink:href=\"#DejaVuSans-48\"/>\r\n       <use x=\"254.492188\" xlink:href=\"#DejaVuSans-48\"/>\r\n       <use x=\"318.115234\" xlink:href=\"#DejaVuSans-48\"/>\r\n      </g>\r\n     </g>\r\n    </g>\r\n   </g>\r\n   <g id=\"patch_11\">\r\n    <path d=\"M 52.375 224.64 \r\nL 52.375 7.2 \r\n\" style=\"fill:none;stroke:#000000;stroke-linecap:square;stroke-linejoin:miter;stroke-width:0.8;\"/>\r\n   </g>\r\n   <g id=\"patch_12\">\r\n    <path d=\"M 387.175 224.64 \r\nL 387.175 7.2 \r\n\" style=\"fill:none;stroke:#000000;stroke-linecap:square;stroke-linejoin:miter;stroke-width:0.8;\"/>\r\n   </g>\r\n   <g id=\"patch_13\">\r\n    <path d=\"M 52.375 224.64 \r\nL 387.175 224.64 \r\n\" style=\"fill:none;stroke:#000000;stroke-linecap:square;stroke-linejoin:miter;stroke-width:0.8;\"/>\r\n   </g>\r\n   <g id=\"patch_14\">\r\n    <path d=\"M 52.375 7.2 \r\nL 387.175 7.2 \r\n\" style=\"fill:none;stroke:#000000;stroke-linecap:square;stroke-linejoin:miter;stroke-width:0.8;\"/>\r\n   </g>\r\n   <g id=\"legend_1\">\r\n    <g id=\"patch_15\">\r\n     <path d=\"M 59.375 45.1125 \r\nL 172.229688 45.1125 \r\nQ 174.229688 45.1125 174.229688 43.1125 \r\nL 174.229688 14.2 \r\nQ 174.229688 12.2 172.229688 12.2 \r\nL 59.375 12.2 \r\nQ 57.375 12.2 57.375 14.2 \r\nL 57.375 43.1125 \r\nQ 57.375 45.1125 59.375 45.1125 \r\nz\r\n\" style=\"fill:#ffffff;opacity:0.8;stroke:#cccccc;stroke-linejoin:miter;\"/>\r\n    </g>\r\n    <g id=\"patch_16\">\r\n     <path d=\"M 61.375 23.798437 \r\nL 81.375 23.798437 \r\nL 81.375 16.798437 \r\nL 61.375 16.798437 \r\nz\r\n\" style=\"fill:#1f77b4;\"/>\r\n    </g>\r\n    <g id=\"text_11\">\r\n     <!-- predicted_cases -->\r\n     <defs>\r\n      <path d=\"M 18.109375 8.203125 \r\nL 18.109375 -20.796875 \r\nL 9.078125 -20.796875 \r\nL 9.078125 54.6875 \r\nL 18.109375 54.6875 \r\nL 18.109375 46.390625 \r\nQ 20.953125 51.265625 25.265625 53.625 \r\nQ 29.59375 56 35.59375 56 \r\nQ 45.5625 56 51.78125 48.09375 \r\nQ 58.015625 40.1875 58.015625 27.296875 \r\nQ 58.015625 14.40625 51.78125 6.484375 \r\nQ 45.5625 -1.421875 35.59375 -1.421875 \r\nQ 29.59375 -1.421875 25.265625 0.953125 \r\nQ 20.953125 3.328125 18.109375 8.203125 \r\nz\r\nM 48.6875 27.296875 \r\nQ 48.6875 37.203125 44.609375 42.84375 \r\nQ 40.53125 48.484375 33.40625 48.484375 \r\nQ 26.265625 48.484375 22.1875 42.84375 \r\nQ 18.109375 37.203125 18.109375 27.296875 \r\nQ 18.109375 17.390625 22.1875 11.75 \r\nQ 26.265625 6.109375 33.40625 6.109375 \r\nQ 40.53125 6.109375 44.609375 11.75 \r\nQ 48.6875 17.390625 48.6875 27.296875 \r\nz\r\n\" id=\"DejaVuSans-112\"/>\r\n      <path d=\"M 41.109375 46.296875 \r\nQ 39.59375 47.171875 37.8125 47.578125 \r\nQ 36.03125 48 33.890625 48 \r\nQ 26.265625 48 22.1875 43.046875 \r\nQ 18.109375 38.09375 18.109375 28.8125 \r\nL 18.109375 0 \r\nL 9.078125 0 \r\nL 9.078125 54.6875 \r\nL 18.109375 54.6875 \r\nL 18.109375 46.1875 \r\nQ 20.953125 51.171875 25.484375 53.578125 \r\nQ 30.03125 56 36.53125 56 \r\nQ 37.453125 56 38.578125 55.875 \r\nQ 39.703125 55.765625 41.0625 55.515625 \r\nz\r\n\" id=\"DejaVuSans-114\"/>\r\n      <path d=\"M 56.203125 29.59375 \r\nL 56.203125 25.203125 \r\nL 14.890625 25.203125 \r\nQ 15.484375 15.921875 20.484375 11.0625 \r\nQ 25.484375 6.203125 34.421875 6.203125 \r\nQ 39.59375 6.203125 44.453125 7.46875 \r\nQ 49.3125 8.734375 54.109375 11.28125 \r\nL 54.109375 2.78125 \r\nQ 49.265625 0.734375 44.1875 -0.34375 \r\nQ 39.109375 -1.421875 33.890625 -1.421875 \r\nQ 20.796875 -1.421875 13.15625 6.1875 \r\nQ 5.515625 13.8125 5.515625 26.8125 \r\nQ 5.515625 40.234375 12.765625 48.109375 \r\nQ 20.015625 56 32.328125 56 \r\nQ 43.359375 56 49.78125 48.890625 \r\nQ 56.203125 41.796875 56.203125 29.59375 \r\nz\r\nM 47.21875 32.234375 \r\nQ 47.125 39.59375 43.09375 43.984375 \r\nQ 39.0625 48.390625 32.421875 48.390625 \r\nQ 24.90625 48.390625 20.390625 44.140625 \r\nQ 15.875 39.890625 15.1875 32.171875 \r\nz\r\n\" id=\"DejaVuSans-101\"/>\r\n      <path d=\"M 45.40625 46.390625 \r\nL 45.40625 75.984375 \r\nL 54.390625 75.984375 \r\nL 54.390625 0 \r\nL 45.40625 0 \r\nL 45.40625 8.203125 \r\nQ 42.578125 3.328125 38.25 0.953125 \r\nQ 33.9375 -1.421875 27.875 -1.421875 \r\nQ 17.96875 -1.421875 11.734375 6.484375 \r\nQ 5.515625 14.40625 5.515625 27.296875 \r\nQ 5.515625 40.1875 11.734375 48.09375 \r\nQ 17.96875 56 27.875 56 \r\nQ 33.9375 56 38.25 53.625 \r\nQ 42.578125 51.265625 45.40625 46.390625 \r\nz\r\nM 14.796875 27.296875 \r\nQ 14.796875 17.390625 18.875 11.75 \r\nQ 22.953125 6.109375 30.078125 6.109375 \r\nQ 37.203125 6.109375 41.296875 11.75 \r\nQ 45.40625 17.390625 45.40625 27.296875 \r\nQ 45.40625 37.203125 41.296875 42.84375 \r\nQ 37.203125 48.484375 30.078125 48.484375 \r\nQ 22.953125 48.484375 18.875 42.84375 \r\nQ 14.796875 37.203125 14.796875 27.296875 \r\nz\r\n\" id=\"DejaVuSans-100\"/>\r\n      <path d=\"M 9.421875 54.6875 \r\nL 18.40625 54.6875 \r\nL 18.40625 0 \r\nL 9.421875 0 \r\nz\r\nM 9.421875 75.984375 \r\nL 18.40625 75.984375 \r\nL 18.40625 64.59375 \r\nL 9.421875 64.59375 \r\nz\r\n\" id=\"DejaVuSans-105\"/>\r\n      <path d=\"M 48.78125 52.59375 \r\nL 48.78125 44.1875 \r\nQ 44.96875 46.296875 41.140625 47.34375 \r\nQ 37.3125 48.390625 33.40625 48.390625 \r\nQ 24.65625 48.390625 19.8125 42.84375 \r\nQ 14.984375 37.3125 14.984375 27.296875 \r\nQ 14.984375 17.28125 19.8125 11.734375 \r\nQ 24.65625 6.203125 33.40625 6.203125 \r\nQ 37.3125 6.203125 41.140625 7.25 \r\nQ 44.96875 8.296875 48.78125 10.40625 \r\nL 48.78125 2.09375 \r\nQ 45.015625 0.34375 40.984375 -0.53125 \r\nQ 36.96875 -1.421875 32.421875 -1.421875 \r\nQ 20.0625 -1.421875 12.78125 6.34375 \r\nQ 5.515625 14.109375 5.515625 27.296875 \r\nQ 5.515625 40.671875 12.859375 48.328125 \r\nQ 20.21875 56 33.015625 56 \r\nQ 37.15625 56 41.109375 55.140625 \r\nQ 45.0625 54.296875 48.78125 52.59375 \r\nz\r\n\" id=\"DejaVuSans-99\"/>\r\n      <path d=\"M 18.3125 70.21875 \r\nL 18.3125 54.6875 \r\nL 36.8125 54.6875 \r\nL 36.8125 47.703125 \r\nL 18.3125 47.703125 \r\nL 18.3125 18.015625 \r\nQ 18.3125 11.328125 20.140625 9.421875 \r\nQ 21.96875 7.515625 27.59375 7.515625 \r\nL 36.8125 7.515625 \r\nL 36.8125 0 \r\nL 27.59375 0 \r\nQ 17.1875 0 13.234375 3.875 \r\nQ 9.28125 7.765625 9.28125 18.015625 \r\nL 9.28125 47.703125 \r\nL 2.6875 47.703125 \r\nL 2.6875 54.6875 \r\nL 9.28125 54.6875 \r\nL 9.28125 70.21875 \r\nz\r\n\" id=\"DejaVuSans-116\"/>\r\n      <path d=\"M 50.984375 -16.609375 \r\nL 50.984375 -23.578125 \r\nL -0.984375 -23.578125 \r\nL -0.984375 -16.609375 \r\nz\r\n\" id=\"DejaVuSans-95\"/>\r\n      <path d=\"M 34.28125 27.484375 \r\nQ 23.390625 27.484375 19.1875 25 \r\nQ 14.984375 22.515625 14.984375 16.5 \r\nQ 14.984375 11.71875 18.140625 8.90625 \r\nQ 21.296875 6.109375 26.703125 6.109375 \r\nQ 34.1875 6.109375 38.703125 11.40625 \r\nQ 43.21875 16.703125 43.21875 25.484375 \r\nL 43.21875 27.484375 \r\nz\r\nM 52.203125 31.203125 \r\nL 52.203125 0 \r\nL 43.21875 0 \r\nL 43.21875 8.296875 \r\nQ 40.140625 3.328125 35.546875 0.953125 \r\nQ 30.953125 -1.421875 24.3125 -1.421875 \r\nQ 15.921875 -1.421875 10.953125 3.296875 \r\nQ 6 8.015625 6 15.921875 \r\nQ 6 25.140625 12.171875 29.828125 \r\nQ 18.359375 34.515625 30.609375 34.515625 \r\nL 43.21875 34.515625 \r\nL 43.21875 35.40625 \r\nQ 43.21875 41.609375 39.140625 45 \r\nQ 35.0625 48.390625 27.6875 48.390625 \r\nQ 23 48.390625 18.546875 47.265625 \r\nQ 14.109375 46.140625 10.015625 43.890625 \r\nL 10.015625 52.203125 \r\nQ 14.9375 54.109375 19.578125 55.046875 \r\nQ 24.21875 56 28.609375 56 \r\nQ 40.484375 56 46.34375 49.84375 \r\nQ 52.203125 43.703125 52.203125 31.203125 \r\nz\r\n\" id=\"DejaVuSans-97\"/>\r\n      <path d=\"M 44.28125 53.078125 \r\nL 44.28125 44.578125 \r\nQ 40.484375 46.53125 36.375 47.5 \r\nQ 32.28125 48.484375 27.875 48.484375 \r\nQ 21.1875 48.484375 17.84375 46.4375 \r\nQ 14.5 44.390625 14.5 40.28125 \r\nQ 14.5 37.15625 16.890625 35.375 \r\nQ 19.28125 33.59375 26.515625 31.984375 \r\nL 29.59375 31.296875 \r\nQ 39.15625 29.25 43.1875 25.515625 \r\nQ 47.21875 21.78125 47.21875 15.09375 \r\nQ 47.21875 7.46875 41.1875 3.015625 \r\nQ 35.15625 -1.421875 24.609375 -1.421875 \r\nQ 20.21875 -1.421875 15.453125 -0.5625 \r\nQ 10.6875 0.296875 5.421875 2 \r\nL 5.421875 11.28125 \r\nQ 10.40625 8.6875 15.234375 7.390625 \r\nQ 20.0625 6.109375 24.8125 6.109375 \r\nQ 31.15625 6.109375 34.5625 8.28125 \r\nQ 37.984375 10.453125 37.984375 14.40625 \r\nQ 37.984375 18.0625 35.515625 20.015625 \r\nQ 33.0625 21.96875 24.703125 23.78125 \r\nL 21.578125 24.515625 \r\nQ 13.234375 26.265625 9.515625 29.90625 \r\nQ 5.8125 33.546875 5.8125 39.890625 \r\nQ 5.8125 47.609375 11.28125 51.796875 \r\nQ 16.75 56 26.8125 56 \r\nQ 31.78125 56 36.171875 55.265625 \r\nQ 40.578125 54.546875 44.28125 53.078125 \r\nz\r\n\" id=\"DejaVuSans-115\"/>\r\n     </defs>\r\n     <g transform=\"translate(89.375 23.798437)scale(0.1 -0.1)\">\r\n      <use xlink:href=\"#DejaVuSans-112\"/>\r\n      <use x=\"63.476562\" xlink:href=\"#DejaVuSans-114\"/>\r\n      <use x=\"104.558594\" xlink:href=\"#DejaVuSans-101\"/>\r\n      <use x=\"166.082031\" xlink:href=\"#DejaVuSans-100\"/>\r\n      <use x=\"229.558594\" xlink:href=\"#DejaVuSans-105\"/>\r\n      <use x=\"257.341797\" xlink:href=\"#DejaVuSans-99\"/>\r\n      <use x=\"312.322266\" xlink:href=\"#DejaVuSans-116\"/>\r\n      <use x=\"351.53125\" xlink:href=\"#DejaVuSans-101\"/>\r\n      <use x=\"413.054688\" xlink:href=\"#DejaVuSans-100\"/>\r\n      <use x=\"476.53125\" xlink:href=\"#DejaVuSans-95\"/>\r\n      <use x=\"526.53125\" xlink:href=\"#DejaVuSans-99\"/>\r\n      <use x=\"581.511719\" xlink:href=\"#DejaVuSans-97\"/>\r\n      <use x=\"642.791016\" xlink:href=\"#DejaVuSans-115\"/>\r\n      <use x=\"694.890625\" xlink:href=\"#DejaVuSans-101\"/>\r\n      <use x=\"756.414062\" xlink:href=\"#DejaVuSans-115\"/>\r\n     </g>\r\n    </g>\r\n    <g id=\"patch_17\">\r\n     <path d=\"M 61.375 38.754687 \r\nL 81.375 38.754687 \r\nL 81.375 31.754687 \r\nL 61.375 31.754687 \r\nz\r\n\" style=\"fill:#ff7f0e;\"/>\r\n    </g>\r\n    <g id=\"text_12\">\r\n     <!-- actual_cases -->\r\n     <defs>\r\n      <path d=\"M 8.5 21.578125 \r\nL 8.5 54.6875 \r\nL 17.484375 54.6875 \r\nL 17.484375 21.921875 \r\nQ 17.484375 14.15625 20.5 10.265625 \r\nQ 23.53125 6.390625 29.59375 6.390625 \r\nQ 36.859375 6.390625 41.078125 11.03125 \r\nQ 45.3125 15.671875 45.3125 23.6875 \r\nL 45.3125 54.6875 \r\nL 54.296875 54.6875 \r\nL 54.296875 0 \r\nL 45.3125 0 \r\nL 45.3125 8.40625 \r\nQ 42.046875 3.421875 37.71875 1 \r\nQ 33.40625 -1.421875 27.6875 -1.421875 \r\nQ 18.265625 -1.421875 13.375 4.4375 \r\nQ 8.5 10.296875 8.5 21.578125 \r\nz\r\nM 31.109375 56 \r\nz\r\n\" id=\"DejaVuSans-117\"/>\r\n      <path d=\"M 9.421875 75.984375 \r\nL 18.40625 75.984375 \r\nL 18.40625 0 \r\nL 9.421875 0 \r\nz\r\n\" id=\"DejaVuSans-108\"/>\r\n     </defs>\r\n     <g transform=\"translate(89.375 38.754687)scale(0.1 -0.1)\">\r\n      <use xlink:href=\"#DejaVuSans-97\"/>\r\n      <use x=\"61.279297\" xlink:href=\"#DejaVuSans-99\"/>\r\n      <use x=\"116.259766\" xlink:href=\"#DejaVuSans-116\"/>\r\n      <use x=\"155.46875\" xlink:href=\"#DejaVuSans-117\"/>\r\n      <use x=\"218.847656\" xlink:href=\"#DejaVuSans-97\"/>\r\n      <use x=\"280.126953\" xlink:href=\"#DejaVuSans-108\"/>\r\n      <use x=\"307.910156\" xlink:href=\"#DejaVuSans-95\"/>\r\n      <use x=\"357.910156\" xlink:href=\"#DejaVuSans-99\"/>\r\n      <use x=\"412.890625\" xlink:href=\"#DejaVuSans-97\"/>\r\n      <use x=\"474.169922\" xlink:href=\"#DejaVuSans-115\"/>\r\n      <use x=\"526.269531\" xlink:href=\"#DejaVuSans-101\"/>\r\n      <use x=\"587.792969\" xlink:href=\"#DejaVuSans-115\"/>\r\n     </g>\r\n    </g>\r\n   </g>\r\n  </g>\r\n </g>\r\n <defs>\r\n  <clipPath id=\"p69232f3bfd\">\r\n   <rect height=\"217.44\" width=\"334.8\" x=\"52.375\" y=\"7.2\"/>\r\n  </clipPath>\r\n </defs>\r\n</svg>\r\n",
      "image/png": "[encoded data removed]"
     },
     "metadata": {
      "needs_background": "light"
     }
    }
   ],
   "source": [
    "plt.figure();\n",
    "ld.plot.bar()\n",
    "\n",
    "#import seaborn as sns\n",
    "\n",
    "#sns.set_theme(style=\"whitegrid\")\n",
    "#fig = plt.figure()\n",
    "#ax = fig.add_axes([])\n",
    "#dates = ['Labor Day']"
   ]
  },
  {
   "cell_type": "markdown",
   "metadata": {},
   "source": [
    "### Segment out Minnesota\n"
   ]
  },
  {
   "cell_type": "code",
   "execution_count": 9,
   "metadata": {},
   "outputs": [
    {
     "data": {
      "text/html": [
       "<div>\n",
       "<style scoped>\n",
       "    .dataframe tbody tr th:only-of-type {\n",
       "        vertical-align: middle;\n",
       "    }\n",
       "\n",
       "    .dataframe tbody tr th {\n",
       "        vertical-align: top;\n",
       "    }\n",
       "\n",
       "    .dataframe thead th {\n",
       "        text-align: right;\n",
       "    }\n",
       "</style>\n",
       "<table border=\"1\" class=\"dataframe\">\n",
       "  <thead>\n",
       "    <tr style=\"text-align: right;\">\n",
       "      <th></th>\n",
       "      <th>datetime</th>\n",
       "      <th>cases</th>\n",
       "      <th>deaths</th>\n",
       "      <th>tests_positive</th>\n",
       "      <th>tests_negative</th>\n",
       "      <th>tests_pending</th>\n",
       "      <th>tests</th>\n",
       "      <th>patients_icu</th>\n",
       "      <th>patients_hosp</th>\n",
       "      <th>patients_vent</th>\n",
       "      <th>recovered</th>\n",
       "    </tr>\n",
       "  </thead>\n",
       "  <tbody>\n",
       "    <tr>\n",
       "      <th>140</th>\n",
       "      <td>2020-07-24</td>\n",
       "      <td>49528</td>\n",
       "      <td>1606</td>\n",
       "      <td>49488.0</td>\n",
       "      <td>873388.0</td>\n",
       "      <td>0.0</td>\n",
       "      <td>922876.0</td>\n",
       "      <td>108.0</td>\n",
       "      <td>278.0</td>\n",
       "      <td>0.0</td>\n",
       "      <td>42882.0</td>\n",
       "    </tr>\n",
       "    <tr>\n",
       "      <th>141</th>\n",
       "      <td>2020-07-25</td>\n",
       "      <td>50331</td>\n",
       "      <td>1611</td>\n",
       "      <td>50291.0</td>\n",
       "      <td>890405.0</td>\n",
       "      <td>0.0</td>\n",
       "      <td>940696.0</td>\n",
       "      <td>115.0</td>\n",
       "      <td>287.0</td>\n",
       "      <td>0.0</td>\n",
       "      <td>43625.0</td>\n",
       "    </tr>\n",
       "    <tr>\n",
       "      <th>142</th>\n",
       "      <td>2020-07-26</td>\n",
       "      <td>51193</td>\n",
       "      <td>1614</td>\n",
       "      <td>51153.0</td>\n",
       "      <td>906221.0</td>\n",
       "      <td>0.0</td>\n",
       "      <td>957374.0</td>\n",
       "      <td>115.0</td>\n",
       "      <td>273.0</td>\n",
       "      <td>0.0</td>\n",
       "      <td>44431.0</td>\n",
       "    </tr>\n",
       "    <tr>\n",
       "      <th>143</th>\n",
       "      <td>2020-07-27</td>\n",
       "      <td>51843</td>\n",
       "      <td>1616</td>\n",
       "      <td>51803.0</td>\n",
       "      <td>918923.0</td>\n",
       "      <td>0.0</td>\n",
       "      <td>970726.0</td>\n",
       "      <td>126.0</td>\n",
       "      <td>257.0</td>\n",
       "      <td>0.0</td>\n",
       "      <td>45198.0</td>\n",
       "    </tr>\n",
       "    <tr>\n",
       "      <th>144</th>\n",
       "      <td>2020-07-28</td>\n",
       "      <td>52321</td>\n",
       "      <td>1620</td>\n",
       "      <td>52281.0</td>\n",
       "      <td>927707.0</td>\n",
       "      <td>0.0</td>\n",
       "      <td>979988.0</td>\n",
       "      <td>138.0</td>\n",
       "      <td>294.0</td>\n",
       "      <td>0.0</td>\n",
       "      <td>45987.0</td>\n",
       "    </tr>\n",
       "  </tbody>\n",
       "</table>\n",
       "</div>"
      ],
      "text/plain": [
       "      datetime  cases  deaths  tests_positive  tests_negative  tests_pending  \\\n",
       "140 2020-07-24  49528    1606         49488.0        873388.0            0.0   \n",
       "141 2020-07-25  50331    1611         50291.0        890405.0            0.0   \n",
       "142 2020-07-26  51193    1614         51153.0        906221.0            0.0   \n",
       "143 2020-07-27  51843    1616         51803.0        918923.0            0.0   \n",
       "144 2020-07-28  52321    1620         52281.0        927707.0            0.0   \n",
       "\n",
       "        tests  patients_icu  patients_hosp  patients_vent  recovered  \n",
       "140  922876.0         108.0          278.0            0.0    42882.0  \n",
       "141  940696.0         115.0          287.0            0.0    43625.0  \n",
       "142  957374.0         115.0          273.0            0.0    44431.0  \n",
       "143  970726.0         126.0          257.0            0.0    45198.0  \n",
       "144  979988.0         138.0          294.0            0.0    45987.0  "
      ]
     },
     "execution_count": 9,
     "metadata": {},
     "output_type": "execute_result"
    }
   ],
   "source": [
    "# Create DF for just Minnesota\n",
    "MN =  usa[usa['state_name']=='Minnesota']\n",
    "MN.sample(5)\n",
    "\n",
    "# Summing case count for Western Northern Central by date\n",
    "# Groupby to consolidate cases by entire region\n",
    "MN= MN.groupby([\"datetime\"]).sum()\n",
    "MN.tail()\n",
    "\n",
    "# Sort by datetime and reset index\n",
    "MN.sort_values(by = 'datetime')\n",
    "MN = MN.reset_index()\n",
    "MN.tail()"
   ]
  },
  {
   "cell_type": "code",
   "execution_count": 10,
   "metadata": {},
   "outputs": [
    {
     "data": {
      "text/html": [
       "<div>\n",
       "<style scoped>\n",
       "    .dataframe tbody tr th:only-of-type {\n",
       "        vertical-align: middle;\n",
       "    }\n",
       "\n",
       "    .dataframe tbody tr th {\n",
       "        vertical-align: top;\n",
       "    }\n",
       "\n",
       "    .dataframe thead th {\n",
       "        text-align: right;\n",
       "    }\n",
       "</style>\n",
       "<table border=\"1\" class=\"dataframe\">\n",
       "  <thead>\n",
       "    <tr style=\"text-align: right;\">\n",
       "      <th></th>\n",
       "      <th>datetime</th>\n",
       "      <th>cases</th>\n",
       "      <th>deaths</th>\n",
       "      <th>tests_positive</th>\n",
       "      <th>tests_negative</th>\n",
       "      <th>tests_pending</th>\n",
       "      <th>tests</th>\n",
       "      <th>patients_icu</th>\n",
       "      <th>patients_hosp</th>\n",
       "      <th>patients_vent</th>\n",
       "      <th>recovered</th>\n",
       "    </tr>\n",
       "  </thead>\n",
       "  <tbody>\n",
       "    <tr>\n",
       "      <th>0</th>\n",
       "      <td>2020-03-06</td>\n",
       "      <td>1</td>\n",
       "      <td>0</td>\n",
       "      <td>1.0</td>\n",
       "      <td>36.0</td>\n",
       "      <td>0.0</td>\n",
       "      <td>37.0</td>\n",
       "      <td>0.0</td>\n",
       "      <td>0.0</td>\n",
       "      <td>0.0</td>\n",
       "      <td>0.0</td>\n",
       "    </tr>\n",
       "    <tr>\n",
       "      <th>1</th>\n",
       "      <td>2020-03-07</td>\n",
       "      <td>1</td>\n",
       "      <td>0</td>\n",
       "      <td>2.0</td>\n",
       "      <td>48.0</td>\n",
       "      <td>0.0</td>\n",
       "      <td>50.0</td>\n",
       "      <td>0.0</td>\n",
       "      <td>0.0</td>\n",
       "      <td>0.0</td>\n",
       "      <td>0.0</td>\n",
       "    </tr>\n",
       "    <tr>\n",
       "      <th>2</th>\n",
       "      <td>2020-03-08</td>\n",
       "      <td>2</td>\n",
       "      <td>0</td>\n",
       "      <td>2.0</td>\n",
       "      <td>48.0</td>\n",
       "      <td>0.0</td>\n",
       "      <td>50.0</td>\n",
       "      <td>0.0</td>\n",
       "      <td>0.0</td>\n",
       "      <td>0.0</td>\n",
       "      <td>0.0</td>\n",
       "    </tr>\n",
       "    <tr>\n",
       "      <th>3</th>\n",
       "      <td>2020-03-09</td>\n",
       "      <td>2</td>\n",
       "      <td>0</td>\n",
       "      <td>5.0</td>\n",
       "      <td>80.0</td>\n",
       "      <td>0.0</td>\n",
       "      <td>85.0</td>\n",
       "      <td>0.0</td>\n",
       "      <td>0.0</td>\n",
       "      <td>0.0</td>\n",
       "      <td>0.0</td>\n",
       "    </tr>\n",
       "    <tr>\n",
       "      <th>4</th>\n",
       "      <td>2020-03-10</td>\n",
       "      <td>3</td>\n",
       "      <td>0</td>\n",
       "      <td>11.0</td>\n",
       "      <td>132.0</td>\n",
       "      <td>0.0</td>\n",
       "      <td>143.0</td>\n",
       "      <td>0.0</td>\n",
       "      <td>0.0</td>\n",
       "      <td>0.0</td>\n",
       "      <td>0.0</td>\n",
       "    </tr>\n",
       "  </tbody>\n",
       "</table>\n",
       "</div>"
      ],
      "text/plain": [
       "    datetime  cases  deaths  tests_positive  tests_negative  tests_pending  \\\n",
       "0 2020-03-06      1       0             1.0            36.0            0.0   \n",
       "1 2020-03-07      1       0             2.0            48.0            0.0   \n",
       "2 2020-03-08      2       0             2.0            48.0            0.0   \n",
       "3 2020-03-09      2       0             5.0            80.0            0.0   \n",
       "4 2020-03-10      3       0            11.0           132.0            0.0   \n",
       "\n",
       "   tests  patients_icu  patients_hosp  patients_vent  recovered  \n",
       "0   37.0           0.0            0.0            0.0        0.0  \n",
       "1   50.0           0.0            0.0            0.0        0.0  \n",
       "2   50.0           0.0            0.0            0.0        0.0  \n",
       "3   85.0           0.0            0.0            0.0        0.0  \n",
       "4  143.0           0.0            0.0            0.0        0.0  "
      ]
     },
     "execution_count": 10,
     "metadata": {},
     "output_type": "execute_result"
    }
   ],
   "source": [
    "# Check \n",
    "MN.head()"
   ]
  },
  {
   "cell_type": "code",
   "execution_count": null,
   "metadata": {},
   "outputs": [],
   "source": []
  }
 ],
 "metadata": {
  "kernelspec": {
   "name": "Python 3.7.6 64-bit ('base': conda)",
   "display_name": "Python 3.7.6 64-bit ('base': conda)",
   "metadata": {
    "interpreter": {
     "hash": "2f055b12a15bc2dfb7529c0c6187f0771e54f5028f8503e224fe70e7f68ca49a"
    }
   }
  },
  "language_info": {
   "codemirror_mode": {
    "name": "ipython",
    "version": 3
   },
   "file_extension": ".py",
   "mimetype": "text/x-python",
   "name": "python",
   "nbconvert_exporter": "python",
   "pygments_lexer": "ipython3",
   "version": "3.7.6-final"
  }
 },
 "nbformat": 4,
 "nbformat_minor": 4
}