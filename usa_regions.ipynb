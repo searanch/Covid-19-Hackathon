{
 "cells": [
  {
   "cell_type": "markdown",
   "metadata": {},
   "source": [
    "# Segmenting Covid-19 Data into Regions and SubRegions"
   ]
  },
  {
   "cell_type": "markdown",
   "metadata": {},
   "source": [
    "NorthEast Region:\n",
    "New England (Connecticut, Maine, Massachusetts, New Hampshire, Rhode Island, and Vermont)\n",
    "\n"
   ]
  },
  {
   "cell_type": "code",
   "execution_count": 4,
   "metadata": {},
   "outputs": [],
   "source": [
    "import pandas as pd\n",
    "#from pandas_profiling import ProfileReport\n",
    "import matplotlib.pyplot as plt"
   ]
  },
  {
   "cell_type": "code",
   "execution_count": 5,
   "metadata": {},
   "outputs": [
    {
     "output_type": "execute_result",
     "data": {
      "text/plain": "   state_fips state_name        lat       long      date   cases  deaths  \\\n0          36   New York  42.913397 -75.596272  7/1/2020  398770   31791   \n1          36   New York  42.913397 -75.596272  7/2/2020  399642   31814   \n2          36   New York  42.913397 -75.596272  7/3/2020  400561   31836   \n3          36   New York  42.913397 -75.596272  7/4/2020  401286   31860   \n4          36   New York  42.913397 -75.596272  7/5/2020  401822   31895   \n\n   tests_positive  tests_negative  tests_pending      tests  patients_icu  \\\n0        394079.0       3577569.0            NaN  3971648.0         226.0   \n1        394954.0       3646639.0            NaN  4041593.0         209.0   \n2        395872.0       3712113.0            NaN  4107985.0         188.0   \n3        396598.0       3773790.0            NaN  4170388.0         190.0   \n4        397131.0       3836672.0            NaN  4233803.0         178.0   \n\n   patients_hosp  patients_vent  recovered  \n0          879.0          139.0    70590.0  \n1          878.0          129.0    70698.0  \n2          857.0          125.0    70794.0  \n3          844.0          119.0    70877.0  \n4          832.0          116.0    70968.0  ",
      "text/html": "<div>\n<style scoped>\n    .dataframe tbody tr th:only-of-type {\n        vertical-align: middle;\n    }\n\n    .dataframe tbody tr th {\n        vertical-align: top;\n    }\n\n    .dataframe thead th {\n        text-align: right;\n    }\n</style>\n<table border=\"1\" class=\"dataframe\">\n  <thead>\n    <tr style=\"text-align: right;\">\n      <th></th>\n      <th>state_fips</th>\n      <th>state_name</th>\n      <th>lat</th>\n      <th>long</th>\n      <th>date</th>\n      <th>cases</th>\n      <th>deaths</th>\n      <th>tests_positive</th>\n      <th>tests_negative</th>\n      <th>tests_pending</th>\n      <th>tests</th>\n      <th>patients_icu</th>\n      <th>patients_hosp</th>\n      <th>patients_vent</th>\n      <th>recovered</th>\n    </tr>\n  </thead>\n  <tbody>\n    <tr>\n      <th>0</th>\n      <td>36</td>\n      <td>New York</td>\n      <td>42.913397</td>\n      <td>-75.596272</td>\n      <td>7/1/2020</td>\n      <td>398770</td>\n      <td>31791</td>\n      <td>394079.0</td>\n      <td>3577569.0</td>\n      <td>NaN</td>\n      <td>3971648.0</td>\n      <td>226.0</td>\n      <td>879.0</td>\n      <td>139.0</td>\n      <td>70590.0</td>\n    </tr>\n    <tr>\n      <th>1</th>\n      <td>36</td>\n      <td>New York</td>\n      <td>42.913397</td>\n      <td>-75.596272</td>\n      <td>7/2/2020</td>\n      <td>399642</td>\n      <td>31814</td>\n      <td>394954.0</td>\n      <td>3646639.0</td>\n      <td>NaN</td>\n      <td>4041593.0</td>\n      <td>209.0</td>\n      <td>878.0</td>\n      <td>129.0</td>\n      <td>70698.0</td>\n    </tr>\n    <tr>\n      <th>2</th>\n      <td>36</td>\n      <td>New York</td>\n      <td>42.913397</td>\n      <td>-75.596272</td>\n      <td>7/3/2020</td>\n      <td>400561</td>\n      <td>31836</td>\n      <td>395872.0</td>\n      <td>3712113.0</td>\n      <td>NaN</td>\n      <td>4107985.0</td>\n      <td>188.0</td>\n      <td>857.0</td>\n      <td>125.0</td>\n      <td>70794.0</td>\n    </tr>\n    <tr>\n      <th>3</th>\n      <td>36</td>\n      <td>New York</td>\n      <td>42.913397</td>\n      <td>-75.596272</td>\n      <td>7/4/2020</td>\n      <td>401286</td>\n      <td>31860</td>\n      <td>396598.0</td>\n      <td>3773790.0</td>\n      <td>NaN</td>\n      <td>4170388.0</td>\n      <td>190.0</td>\n      <td>844.0</td>\n      <td>119.0</td>\n      <td>70877.0</td>\n    </tr>\n    <tr>\n      <th>4</th>\n      <td>36</td>\n      <td>New York</td>\n      <td>42.913397</td>\n      <td>-75.596272</td>\n      <td>7/5/2020</td>\n      <td>401822</td>\n      <td>31895</td>\n      <td>397131.0</td>\n      <td>3836672.0</td>\n      <td>NaN</td>\n      <td>4233803.0</td>\n      <td>178.0</td>\n      <td>832.0</td>\n      <td>116.0</td>\n      <td>70968.0</td>\n    </tr>\n  </tbody>\n</table>\n</div>"
     },
     "metadata": {},
     "execution_count": 5
    }
   ],
   "source": [
    "# Load enigma dataset.\n",
    "usa = pd.read_csv('enigma_Aug_8_2020.csv')\n",
    "usa.head()\n"
   ]
  },
  {
   "cell_type": "markdown",
   "metadata": {},
   "source": [
    "Run Pandas Profile to Learn more about Dataset"
   ]
  },
  {
   "cell_type": "code",
   "execution_count": null,
   "metadata": {},
   "outputs": [],
   "source": [
    "profile = ProfileReport(usa, title=\"Pandas Profiling Report\")\n",
    "profile\n",
    "profile.to_file(\"explore_enigma_data.html\")"
   ]
  },
  {
   "cell_type": "code",
   "execution_count": null,
   "metadata": {},
   "outputs": [],
   "source": []
  },
  {
   "cell_type": "code",
   "execution_count": 25,
   "metadata": {},
   "outputs": [
    {
     "output_type": "execute_result",
     "data": {
      "text/plain": "      state_fips  state_name        lat        long       date  cases  deaths  \\\n1372          47   Tennessee  35.860803  -86.349990  4/10/2020   4793     104   \n1802          49        Utah  39.334992 -111.656333  7/26/2020  37973     278   \n4737          12     Florida  28.457430  -82.409148  6/19/2020  89740    3103   \n6127          23       Maine  45.409284  -68.666616  3/24/2020    118       0   \n2226          53  Washington  47.407324 -120.575800   6/2/2020  23608    1139   \n\n      tests_positive  tests_negative  tests_pending      tests  patients_icu  \\\n1372          4862.0         57937.0            NaN    62799.0           NaN   \n1802         37973.0        467378.0            NaN   505351.0          83.0   \n4737         89748.0       1443123.0         1578.0  1532871.0           NaN   \n6127           125.0          3014.0            NaN     3139.0           NaN   \n2226         24086.0        326646.0            NaN   350732.0           NaN   \n\n      patients_hosp  patients_vent  recovered   datetime  \n1372          561.0            NaN     1145.0 2020-04-10  \n1802          251.0            NaN    24798.0 2020-07-26  \n4737            NaN            NaN        NaN 2020-06-19  \n6127            NaN            NaN        NaN 2020-03-24  \n2226          232.0           48.0        NaN 2020-06-02  ",
      "text/html": "<div>\n<style scoped>\n    .dataframe tbody tr th:only-of-type {\n        vertical-align: middle;\n    }\n\n    .dataframe tbody tr th {\n        vertical-align: top;\n    }\n\n    .dataframe thead th {\n        text-align: right;\n    }\n</style>\n<table border=\"1\" class=\"dataframe\">\n  <thead>\n    <tr style=\"text-align: right;\">\n      <th></th>\n      <th>state_fips</th>\n      <th>state_name</th>\n      <th>lat</th>\n      <th>long</th>\n      <th>date</th>\n      <th>cases</th>\n      <th>deaths</th>\n      <th>tests_positive</th>\n      <th>tests_negative</th>\n      <th>tests_pending</th>\n      <th>tests</th>\n      <th>patients_icu</th>\n      <th>patients_hosp</th>\n      <th>patients_vent</th>\n      <th>recovered</th>\n      <th>datetime</th>\n    </tr>\n  </thead>\n  <tbody>\n    <tr>\n      <th>1372</th>\n      <td>47</td>\n      <td>Tennessee</td>\n      <td>35.860803</td>\n      <td>-86.349990</td>\n      <td>4/10/2020</td>\n      <td>4793</td>\n      <td>104</td>\n      <td>4862.0</td>\n      <td>57937.0</td>\n      <td>NaN</td>\n      <td>62799.0</td>\n      <td>NaN</td>\n      <td>561.0</td>\n      <td>NaN</td>\n      <td>1145.0</td>\n      <td>2020-04-10</td>\n    </tr>\n    <tr>\n      <th>1802</th>\n      <td>49</td>\n      <td>Utah</td>\n      <td>39.334992</td>\n      <td>-111.656333</td>\n      <td>7/26/2020</td>\n      <td>37973</td>\n      <td>278</td>\n      <td>37973.0</td>\n      <td>467378.0</td>\n      <td>NaN</td>\n      <td>505351.0</td>\n      <td>83.0</td>\n      <td>251.0</td>\n      <td>NaN</td>\n      <td>24798.0</td>\n      <td>2020-07-26</td>\n    </tr>\n    <tr>\n      <th>4737</th>\n      <td>12</td>\n      <td>Florida</td>\n      <td>28.457430</td>\n      <td>-82.409148</td>\n      <td>6/19/2020</td>\n      <td>89740</td>\n      <td>3103</td>\n      <td>89748.0</td>\n      <td>1443123.0</td>\n      <td>1578.0</td>\n      <td>1532871.0</td>\n      <td>NaN</td>\n      <td>NaN</td>\n      <td>NaN</td>\n      <td>NaN</td>\n      <td>2020-06-19</td>\n    </tr>\n    <tr>\n      <th>6127</th>\n      <td>23</td>\n      <td>Maine</td>\n      <td>45.409284</td>\n      <td>-68.666616</td>\n      <td>3/24/2020</td>\n      <td>118</td>\n      <td>0</td>\n      <td>125.0</td>\n      <td>3014.0</td>\n      <td>NaN</td>\n      <td>3139.0</td>\n      <td>NaN</td>\n      <td>NaN</td>\n      <td>NaN</td>\n      <td>NaN</td>\n      <td>2020-03-24</td>\n    </tr>\n    <tr>\n      <th>2226</th>\n      <td>53</td>\n      <td>Washington</td>\n      <td>47.407324</td>\n      <td>-120.575800</td>\n      <td>6/2/2020</td>\n      <td>23608</td>\n      <td>1139</td>\n      <td>24086.0</td>\n      <td>326646.0</td>\n      <td>NaN</td>\n      <td>350732.0</td>\n      <td>NaN</td>\n      <td>232.0</td>\n      <td>48.0</td>\n      <td>NaN</td>\n      <td>2020-06-02</td>\n    </tr>\n  </tbody>\n</table>\n</div>"
     },
     "metadata": {},
     "execution_count": 25
    }
   ],
   "source": [
    "# first datetime conversion\n",
    "usa['datetime'] = pd.to_datetime(usa['date'])\n",
    "#usa[\"day\"] = usa['datetime'].map(lambda x: x.day)\n",
    "#usa[\"month\"] = usa['datetime'].map(lambda x: x.month)\n",
    "#usa[\"year\"] = usa['datetime'].map(lambda x: x.year)\n",
    "#usa.sample(5)\n",
    "usa.sample(5)"
   ]
  },
  {
   "cell_type": "markdown",
   "metadata": {},
   "source": [
    "NorthEast Region:\n",
    "New England Divsion 1 (Connecticut, Maine, Massachusetts, New Hampshire, Rhode Island, and Vermont)"
   ]
  },
  {
   "cell_type": "code",
   "execution_count": 22,
   "metadata": {},
   "outputs": [
    {
     "output_type": "execute_result",
     "data": {
      "text/plain": "     state_fips    state_name        lat       long      date  cases  deaths  \\\n900          44  Rhode Island  41.597419 -71.527272  3/1/2020      2       0   \n901          44  Rhode Island  41.597419 -71.527272  3/2/2020      2       0   \n902          44  Rhode Island  41.597419 -71.527272  3/3/2020      2       0   \n903          44  Rhode Island  41.597419 -71.527272  3/4/2020      2       0   \n904          44  Rhode Island  41.597419 -71.527272  3/5/2020      2       0   \n\n     tests_positive  tests_negative  tests_pending  tests  patients_icu  \\\n900             2.0             2.0            NaN    4.0           NaN   \n901             2.0             3.0            NaN    5.0           NaN   \n902             2.0             5.0            NaN    7.0           NaN   \n903             2.0            15.0            NaN   17.0           NaN   \n904             3.0            19.0            NaN   22.0           NaN   \n\n     patients_hosp  patients_vent  recovered   datetime  \n900            NaN            NaN        NaN 2020-03-01  \n901            NaN            NaN        NaN 2020-03-02  \n902            NaN            NaN        NaN 2020-03-03  \n903            NaN            NaN        NaN 2020-03-04  \n904            NaN            NaN        NaN 2020-03-05  ",
      "text/html": "<div>\n<style scoped>\n    .dataframe tbody tr th:only-of-type {\n        vertical-align: middle;\n    }\n\n    .dataframe tbody tr th {\n        vertical-align: top;\n    }\n\n    .dataframe thead th {\n        text-align: right;\n    }\n</style>\n<table border=\"1\" class=\"dataframe\">\n  <thead>\n    <tr style=\"text-align: right;\">\n      <th></th>\n      <th>state_fips</th>\n      <th>state_name</th>\n      <th>lat</th>\n      <th>long</th>\n      <th>date</th>\n      <th>cases</th>\n      <th>deaths</th>\n      <th>tests_positive</th>\n      <th>tests_negative</th>\n      <th>tests_pending</th>\n      <th>tests</th>\n      <th>patients_icu</th>\n      <th>patients_hosp</th>\n      <th>patients_vent</th>\n      <th>recovered</th>\n      <th>datetime</th>\n    </tr>\n  </thead>\n  <tbody>\n    <tr>\n      <th>900</th>\n      <td>44</td>\n      <td>Rhode Island</td>\n      <td>41.597419</td>\n      <td>-71.527272</td>\n      <td>3/1/2020</td>\n      <td>2</td>\n      <td>0</td>\n      <td>2.0</td>\n      <td>2.0</td>\n      <td>NaN</td>\n      <td>4.0</td>\n      <td>NaN</td>\n      <td>NaN</td>\n      <td>NaN</td>\n      <td>NaN</td>\n      <td>2020-03-01</td>\n    </tr>\n    <tr>\n      <th>901</th>\n      <td>44</td>\n      <td>Rhode Island</td>\n      <td>41.597419</td>\n      <td>-71.527272</td>\n      <td>3/2/2020</td>\n      <td>2</td>\n      <td>0</td>\n      <td>2.0</td>\n      <td>3.0</td>\n      <td>NaN</td>\n      <td>5.0</td>\n      <td>NaN</td>\n      <td>NaN</td>\n      <td>NaN</td>\n      <td>NaN</td>\n      <td>2020-03-02</td>\n    </tr>\n    <tr>\n      <th>902</th>\n      <td>44</td>\n      <td>Rhode Island</td>\n      <td>41.597419</td>\n      <td>-71.527272</td>\n      <td>3/3/2020</td>\n      <td>2</td>\n      <td>0</td>\n      <td>2.0</td>\n      <td>5.0</td>\n      <td>NaN</td>\n      <td>7.0</td>\n      <td>NaN</td>\n      <td>NaN</td>\n      <td>NaN</td>\n      <td>NaN</td>\n      <td>2020-03-03</td>\n    </tr>\n    <tr>\n      <th>903</th>\n      <td>44</td>\n      <td>Rhode Island</td>\n      <td>41.597419</td>\n      <td>-71.527272</td>\n      <td>3/4/2020</td>\n      <td>2</td>\n      <td>0</td>\n      <td>2.0</td>\n      <td>15.0</td>\n      <td>NaN</td>\n      <td>17.0</td>\n      <td>NaN</td>\n      <td>NaN</td>\n      <td>NaN</td>\n      <td>NaN</td>\n      <td>2020-03-04</td>\n    </tr>\n    <tr>\n      <th>904</th>\n      <td>44</td>\n      <td>Rhode Island</td>\n      <td>41.597419</td>\n      <td>-71.527272</td>\n      <td>3/5/2020</td>\n      <td>2</td>\n      <td>0</td>\n      <td>3.0</td>\n      <td>19.0</td>\n      <td>NaN</td>\n      <td>22.0</td>\n      <td>NaN</td>\n      <td>NaN</td>\n      <td>NaN</td>\n      <td>NaN</td>\n      <td>2020-03-05</td>\n    </tr>\n  </tbody>\n</table>\n</div>"
     },
     "metadata": {},
     "execution_count": 22
    }
   ],
   "source": [
    "# Created DF based New Englend Divsion\n",
    "new_englend = usa[(usa['state_name']==\"Connecticut\") | (usa['state_name'] == 'Maine') |\n",
    "                      (usa['state_name'] == 'Massachusetts') | (usa['state_name'] == 'New Hampshire') | \\\n",
    "                     (usa['state_name']=='Rhode Island')| (usa['state_name'] =='Vermont')]\n",
    "new_englend.head()"
   ]
  },
  {
   "cell_type": "markdown",
   "metadata": {},
   "source": [
    "# CODE TO ADD DAILY DIVISION TALLY FOR NEW ENGLEND"
   ]
  },
  {
   "cell_type": "code",
   "execution_count": 23,
   "metadata": {},
   "outputs": [
    {
     "output_type": "execute_result",
     "data": {
      "text/plain": "          date  reg_sum_cases  state_fips         lat        long  cases_x  \\\n24   3/31/2020          99904         184  258.484354 -428.683635    11199   \n101  6/18/2020         643423         184  258.484354 -428.683635   177594   \n68   5/16/2020         563453         184  258.484354 -428.683635   140208   \n44   4/21/2020         383703         184  258.484354 -428.683635    70256   \n21   3/29/2020          76610         184  258.484354 -428.683635     7988   \n\n     deaths  tests_positive  tests_negative  tests_pending      tests  \\\n24      187         11154.0         72463.0           65.0    83617.0   \n101   13369        177665.0       1314247.0            0.0  1491912.0   \n68     9827        140603.0        652940.0         1401.0   793543.0   \n44     3672         72707.0        256573.0          244.0   329280.0   \n21      103          7989.0         58598.0          285.0    66587.0   \n\n     patients_icu  patients_hosp  patients_vent  recovered   datetime  day  \\\n24            9.0          688.0            6.0      118.0 2020-03-31   31   \n101         260.0         1364.0          142.0   108069.0 2020-06-18   18   \n68          832.0         4126.0           54.0    10281.0 2020-05-16   16   \n44         1123.0         6394.0           51.0     1279.0 2020-04-21   21   \n21            9.0          439.0            6.0       41.0 2020-03-29   29   \n\n     month  year  \n24       3  2020  \n101      6  2020  \n68       5  2020  \n44       4  2020  \n21       3  2020  ",
      "text/html": "<div>\n<style scoped>\n    .dataframe tbody tr th:only-of-type {\n        vertical-align: middle;\n    }\n\n    .dataframe tbody tr th {\n        vertical-align: top;\n    }\n\n    .dataframe thead th {\n        text-align: right;\n    }\n</style>\n<table border=\"1\" class=\"dataframe\">\n  <thead>\n    <tr style=\"text-align: right;\">\n      <th></th>\n      <th>date</th>\n      <th>reg_sum_cases</th>\n      <th>state_fips</th>\n      <th>lat</th>\n      <th>long</th>\n      <th>cases_x</th>\n      <th>deaths</th>\n      <th>tests_positive</th>\n      <th>tests_negative</th>\n      <th>tests_pending</th>\n      <th>tests</th>\n      <th>patients_icu</th>\n      <th>patients_hosp</th>\n      <th>patients_vent</th>\n      <th>recovered</th>\n      <th>datetime</th>\n      <th>day</th>\n      <th>month</th>\n      <th>year</th>\n    </tr>\n  </thead>\n  <tbody>\n    <tr>\n      <th>24</th>\n      <td>3/31/2020</td>\n      <td>99904</td>\n      <td>184</td>\n      <td>258.484354</td>\n      <td>-428.683635</td>\n      <td>11199</td>\n      <td>187</td>\n      <td>11154.0</td>\n      <td>72463.0</td>\n      <td>65.0</td>\n      <td>83617.0</td>\n      <td>9.0</td>\n      <td>688.0</td>\n      <td>6.0</td>\n      <td>118.0</td>\n      <td>2020-03-31</td>\n      <td>31</td>\n      <td>3</td>\n      <td>2020</td>\n    </tr>\n    <tr>\n      <th>101</th>\n      <td>6/18/2020</td>\n      <td>643423</td>\n      <td>184</td>\n      <td>258.484354</td>\n      <td>-428.683635</td>\n      <td>177594</td>\n      <td>13369</td>\n      <td>177665.0</td>\n      <td>1314247.0</td>\n      <td>0.0</td>\n      <td>1491912.0</td>\n      <td>260.0</td>\n      <td>1364.0</td>\n      <td>142.0</td>\n      <td>108069.0</td>\n      <td>2020-06-18</td>\n      <td>18</td>\n      <td>6</td>\n      <td>2020</td>\n    </tr>\n    <tr>\n      <th>68</th>\n      <td>5/16/2020</td>\n      <td>563453</td>\n      <td>184</td>\n      <td>258.484354</td>\n      <td>-428.683635</td>\n      <td>140208</td>\n      <td>9827</td>\n      <td>140603.0</td>\n      <td>652940.0</td>\n      <td>1401.0</td>\n      <td>793543.0</td>\n      <td>832.0</td>\n      <td>4126.0</td>\n      <td>54.0</td>\n      <td>10281.0</td>\n      <td>2020-05-16</td>\n      <td>16</td>\n      <td>5</td>\n      <td>2020</td>\n    </tr>\n    <tr>\n      <th>44</th>\n      <td>4/21/2020</td>\n      <td>383703</td>\n      <td>184</td>\n      <td>258.484354</td>\n      <td>-428.683635</td>\n      <td>70256</td>\n      <td>3672</td>\n      <td>72707.0</td>\n      <td>256573.0</td>\n      <td>244.0</td>\n      <td>329280.0</td>\n      <td>1123.0</td>\n      <td>6394.0</td>\n      <td>51.0</td>\n      <td>1279.0</td>\n      <td>2020-04-21</td>\n      <td>21</td>\n      <td>4</td>\n      <td>2020</td>\n    </tr>\n    <tr>\n      <th>21</th>\n      <td>3/29/2020</td>\n      <td>76610</td>\n      <td>184</td>\n      <td>258.484354</td>\n      <td>-428.683635</td>\n      <td>7988</td>\n      <td>103</td>\n      <td>7989.0</td>\n      <td>58598.0</td>\n      <td>285.0</td>\n      <td>66587.0</td>\n      <td>9.0</td>\n      <td>439.0</td>\n      <td>6.0</td>\n      <td>41.0</td>\n      <td>2020-03-29</td>\n      <td>29</td>\n      <td>3</td>\n      <td>2020</td>\n    </tr>\n  </tbody>\n</table>\n</div>"
     },
     "metadata": {},
     "execution_count": 23
    }
   ],
   "source": [
    "# Summing case count for New Englend Divsion\n",
    "# Groupby to consolidate cases by entire region\n",
    "NE_group = new_englend.groupby([\"datetime\"])\n",
    "NE_sum = NE_group[\"cases\"].sum()\n",
    "\n",
    "# merge output of above groupbys to create new df\n",
    "NE_new =new_englend.merge(mid_sum, on = \"datetime\")\n",
    "# Rename columns and sort by date\n",
    "NE_new = NE_new.rename(columns={\"cases_y\": \"reg_sum_cases\"}) \n",
    "NE_new.sort_values(by =\"datetime\")\n",
    "\n",
    "# Perform groupby operations to sum cases by day\n",
    "NE_tally =NE_new.groupby(['date', 'reg_sum_cases']).sum()\n",
    "NE_tally = NE_tally.reset_index()\n",
    "NE_tally.head(5)\n",
    "\n",
    "# now finsh date time conversion\n",
    "NE_tally['datetime'] = pd.to_datetime(NE_tally['date'])\n",
    "NE_tally[\"day\"] = NE_tally['datetime'].map(lambda x: x.day)\n",
    "NE_tally[\"month\"] = NE_tally['datetime'].map(lambda x: x.month)\n",
    "NE_tally[\"year\"] = NE_tally['datetime'].map(lambda x: x.year)\n",
    "NE_tally.sample(5)"
   ]
  },
  {
   "cell_type": "markdown",
   "metadata": {},
   "source": [
    "NorthEast Region\n",
    "Mid-Atlantic Divsion 2 (New Jersey, New York, and Pennsylvania)"
   ]
  },
  {
   "cell_type": "code",
   "execution_count": 8,
   "metadata": {},
   "outputs": [
    {
     "output_type": "execute_result",
     "data": {
      "text/plain": "   state_fips state_name        lat       long      date   cases  deaths  \\\n0          36   New York  42.913397 -75.596272  7/1/2020  398770   31791   \n1          36   New York  42.913397 -75.596272  7/2/2020  399642   31814   \n2          36   New York  42.913397 -75.596272  7/3/2020  400561   31836   \n3          36   New York  42.913397 -75.596272  7/4/2020  401286   31860   \n4          36   New York  42.913397 -75.596272  7/5/2020  401822   31895   \n\n   tests_positive  tests_negative  tests_pending      tests  patients_icu  \\\n0        394079.0       3577569.0            NaN  3971648.0         226.0   \n1        394954.0       3646639.0            NaN  4041593.0         209.0   \n2        395872.0       3712113.0            NaN  4107985.0         188.0   \n3        396598.0       3773790.0            NaN  4170388.0         190.0   \n4        397131.0       3836672.0            NaN  4233803.0         178.0   \n\n   patients_hosp  patients_vent  recovered   datetime  \n0          879.0          139.0    70590.0 2020-07-01  \n1          878.0          129.0    70698.0 2020-07-02  \n2          857.0          125.0    70794.0 2020-07-03  \n3          844.0          119.0    70877.0 2020-07-04  \n4          832.0          116.0    70968.0 2020-07-05  ",
      "text/html": "<div>\n<style scoped>\n    .dataframe tbody tr th:only-of-type {\n        vertical-align: middle;\n    }\n\n    .dataframe tbody tr th {\n        vertical-align: top;\n    }\n\n    .dataframe thead th {\n        text-align: right;\n    }\n</style>\n<table border=\"1\" class=\"dataframe\">\n  <thead>\n    <tr style=\"text-align: right;\">\n      <th></th>\n      <th>state_fips</th>\n      <th>state_name</th>\n      <th>lat</th>\n      <th>long</th>\n      <th>date</th>\n      <th>cases</th>\n      <th>deaths</th>\n      <th>tests_positive</th>\n      <th>tests_negative</th>\n      <th>tests_pending</th>\n      <th>tests</th>\n      <th>patients_icu</th>\n      <th>patients_hosp</th>\n      <th>patients_vent</th>\n      <th>recovered</th>\n      <th>datetime</th>\n    </tr>\n  </thead>\n  <tbody>\n    <tr>\n      <th>0</th>\n      <td>36</td>\n      <td>New York</td>\n      <td>42.913397</td>\n      <td>-75.596272</td>\n      <td>7/1/2020</td>\n      <td>398770</td>\n      <td>31791</td>\n      <td>394079.0</td>\n      <td>3577569.0</td>\n      <td>NaN</td>\n      <td>3971648.0</td>\n      <td>226.0</td>\n      <td>879.0</td>\n      <td>139.0</td>\n      <td>70590.0</td>\n      <td>2020-07-01</td>\n    </tr>\n    <tr>\n      <th>1</th>\n      <td>36</td>\n      <td>New York</td>\n      <td>42.913397</td>\n      <td>-75.596272</td>\n      <td>7/2/2020</td>\n      <td>399642</td>\n      <td>31814</td>\n      <td>394954.0</td>\n      <td>3646639.0</td>\n      <td>NaN</td>\n      <td>4041593.0</td>\n      <td>209.0</td>\n      <td>878.0</td>\n      <td>129.0</td>\n      <td>70698.0</td>\n      <td>2020-07-02</td>\n    </tr>\n    <tr>\n      <th>2</th>\n      <td>36</td>\n      <td>New York</td>\n      <td>42.913397</td>\n      <td>-75.596272</td>\n      <td>7/3/2020</td>\n      <td>400561</td>\n      <td>31836</td>\n      <td>395872.0</td>\n      <td>3712113.0</td>\n      <td>NaN</td>\n      <td>4107985.0</td>\n      <td>188.0</td>\n      <td>857.0</td>\n      <td>125.0</td>\n      <td>70794.0</td>\n      <td>2020-07-03</td>\n    </tr>\n    <tr>\n      <th>3</th>\n      <td>36</td>\n      <td>New York</td>\n      <td>42.913397</td>\n      <td>-75.596272</td>\n      <td>7/4/2020</td>\n      <td>401286</td>\n      <td>31860</td>\n      <td>396598.0</td>\n      <td>3773790.0</td>\n      <td>NaN</td>\n      <td>4170388.0</td>\n      <td>190.0</td>\n      <td>844.0</td>\n      <td>119.0</td>\n      <td>70877.0</td>\n      <td>2020-07-04</td>\n    </tr>\n    <tr>\n      <th>4</th>\n      <td>36</td>\n      <td>New York</td>\n      <td>42.913397</td>\n      <td>-75.596272</td>\n      <td>7/5/2020</td>\n      <td>401822</td>\n      <td>31895</td>\n      <td>397131.0</td>\n      <td>3836672.0</td>\n      <td>NaN</td>\n      <td>4233803.0</td>\n      <td>178.0</td>\n      <td>832.0</td>\n      <td>116.0</td>\n      <td>70968.0</td>\n      <td>2020-07-05</td>\n    </tr>\n  </tbody>\n</table>\n</div>"
     },
     "metadata": {},
     "execution_count": 8
    }
   ],
   "source": [
    "# Create DF based on Mid Atlantic Divsion\n",
    "mid_atlantic = usa[(usa['state_name']==\"New Jersey\") | (usa['state_name'] == 'New York') |\n",
    "                      (usa['state_name'] == 'Pennsylvania')]\n",
    "mid_atlantic.head()"
   ]
  },
  {
   "cell_type": "code",
   "execution_count": null,
   "metadata": {},
   "outputs": [],
   "source": [
    "def "
   ]
  },
  {
   "cell_type": "markdown",
   "metadata": {},
   "source": [
    "# CODE TO ADD CASE TALLY TO MID ATLANTIC"
   ]
  },
  {
   "cell_type": "code",
   "execution_count": 20,
   "metadata": {},
   "outputs": [
    {
     "output_type": "execute_result",
     "data": {
      "text/plain": "          date  reg_sum_cases  state_fips         lat        long  cases_x  \\\n79   5/26/2020         597306         112  123.925273 -228.089003   597306   \n147   7/7/2020         674648         112  123.925273 -228.089003   674648   \n61    5/1/2020         484529         112  123.925273 -228.089003   484529   \n13   3/21/2020          12095         112  123.925273 -228.089003    12095   \n41   4/19/2020         365034         112  123.925273 -228.089003   365034   \n\n     deaths  tests_positive  tests_negative  tests_pending      tests  \\\n79    45607        588237.0       2230255.0            0.0  2818492.0   \n147   54050        663414.0       6091688.0            0.0  6755102.0   \n61    34050        476475.0        934956.0          583.0  1411431.0   \n13      113         12054.0         39141.0           40.0    51195.0   \n41    23280        360371.0        586726.0            0.0   947097.0   \n\n     patients_icu  patients_hosp  patients_vent  recovered   datetime  day  \\\n79         2059.0         8481.0         1914.0   131695.0 2020-05-26   26   \n147         329.0         2376.0          346.0   172302.0 2020-07-07    7   \n61         5364.0        19648.0         1876.0    71829.0 2020-05-01    1   \n13            0.0         1436.0            0.0        0.0 2020-03-21   21   \n41         6818.0        26341.0         2285.0    37596.0 2020-04-19   19   \n\n     month  year  \n79       5  2020  \n147      7  2020  \n61       5  2020  \n13       3  2020  \n41       4  2020  ",
      "text/html": "<div>\n<style scoped>\n    .dataframe tbody tr th:only-of-type {\n        vertical-align: middle;\n    }\n\n    .dataframe tbody tr th {\n        vertical-align: top;\n    }\n\n    .dataframe thead th {\n        text-align: right;\n    }\n</style>\n<table border=\"1\" class=\"dataframe\">\n  <thead>\n    <tr style=\"text-align: right;\">\n      <th></th>\n      <th>date</th>\n      <th>reg_sum_cases</th>\n      <th>state_fips</th>\n      <th>lat</th>\n      <th>long</th>\n      <th>cases_x</th>\n      <th>deaths</th>\n      <th>tests_positive</th>\n      <th>tests_negative</th>\n      <th>tests_pending</th>\n      <th>tests</th>\n      <th>patients_icu</th>\n      <th>patients_hosp</th>\n      <th>patients_vent</th>\n      <th>recovered</th>\n      <th>datetime</th>\n      <th>day</th>\n      <th>month</th>\n      <th>year</th>\n    </tr>\n  </thead>\n  <tbody>\n    <tr>\n      <th>79</th>\n      <td>5/26/2020</td>\n      <td>597306</td>\n      <td>112</td>\n      <td>123.925273</td>\n      <td>-228.089003</td>\n      <td>597306</td>\n      <td>45607</td>\n      <td>588237.0</td>\n      <td>2230255.0</td>\n      <td>0.0</td>\n      <td>2818492.0</td>\n      <td>2059.0</td>\n      <td>8481.0</td>\n      <td>1914.0</td>\n      <td>131695.0</td>\n      <td>2020-05-26</td>\n      <td>26</td>\n      <td>5</td>\n      <td>2020</td>\n    </tr>\n    <tr>\n      <th>147</th>\n      <td>7/7/2020</td>\n      <td>674648</td>\n      <td>112</td>\n      <td>123.925273</td>\n      <td>-228.089003</td>\n      <td>674648</td>\n      <td>54050</td>\n      <td>663414.0</td>\n      <td>6091688.0</td>\n      <td>0.0</td>\n      <td>6755102.0</td>\n      <td>329.0</td>\n      <td>2376.0</td>\n      <td>346.0</td>\n      <td>172302.0</td>\n      <td>2020-07-07</td>\n      <td>7</td>\n      <td>7</td>\n      <td>2020</td>\n    </tr>\n    <tr>\n      <th>61</th>\n      <td>5/1/2020</td>\n      <td>484529</td>\n      <td>112</td>\n      <td>123.925273</td>\n      <td>-228.089003</td>\n      <td>484529</td>\n      <td>34050</td>\n      <td>476475.0</td>\n      <td>934956.0</td>\n      <td>583.0</td>\n      <td>1411431.0</td>\n      <td>5364.0</td>\n      <td>19648.0</td>\n      <td>1876.0</td>\n      <td>71829.0</td>\n      <td>2020-05-01</td>\n      <td>1</td>\n      <td>5</td>\n      <td>2020</td>\n    </tr>\n    <tr>\n      <th>13</th>\n      <td>3/21/2020</td>\n      <td>12095</td>\n      <td>112</td>\n      <td>123.925273</td>\n      <td>-228.089003</td>\n      <td>12095</td>\n      <td>113</td>\n      <td>12054.0</td>\n      <td>39141.0</td>\n      <td>40.0</td>\n      <td>51195.0</td>\n      <td>0.0</td>\n      <td>1436.0</td>\n      <td>0.0</td>\n      <td>0.0</td>\n      <td>2020-03-21</td>\n      <td>21</td>\n      <td>3</td>\n      <td>2020</td>\n    </tr>\n    <tr>\n      <th>41</th>\n      <td>4/19/2020</td>\n      <td>365034</td>\n      <td>112</td>\n      <td>123.925273</td>\n      <td>-228.089003</td>\n      <td>365034</td>\n      <td>23280</td>\n      <td>360371.0</td>\n      <td>586726.0</td>\n      <td>0.0</td>\n      <td>947097.0</td>\n      <td>6818.0</td>\n      <td>26341.0</td>\n      <td>2285.0</td>\n      <td>37596.0</td>\n      <td>2020-04-19</td>\n      <td>19</td>\n      <td>4</td>\n      <td>2020</td>\n    </tr>\n  </tbody>\n</table>\n</div>"
     },
     "metadata": {},
     "execution_count": 20
    }
   ],
   "source": [
    "# Summing case count for Mid Atlantic Region\n",
    "# Groupby to consolidate cases by entire region\n",
    "mid_group = mid_atlantic.groupby([\"datetime\"])\n",
    "mid_sum = mid_group[\"cases\"].sum()\n",
    "\n",
    "# merge output of above groupbys to create new df\n",
    "mid_new =mid_atlantic.merge(mid_sum, on = \"datetime\")\n",
    "# Rename columns and sort by date\n",
    "mid_new = mid_new.rename(columns={\"cases_y\": \"reg_sum_cases\"}) \n",
    "mid_new.sort_values(by =\"datetime\")\n",
    "\n",
    "# Perform groupby operations to sum cases by day\n",
    "mid_tally =mid_new.groupby(['date', 'reg_sum_cases']).sum()\n",
    "mid_tally = mid_tally.reset_index()\n",
    "mid_tally.head(5)\n",
    "\n",
    "# now finsh date time conversion\n",
    "mid_tally['datetime'] = pd.to_datetime(mid_tally['date'])\n",
    "mid_tally[\"day\"] = mid_tally['datetime'].map(lambda x: x.day)\n",
    "mid_tally[\"month\"] = mid_tally['datetime'].map(lambda x: x.month)\n",
    "mid_tally[\"year\"] = mid_tally['datetime'].map(lambda x: x.year)\n",
    "mid_tally.sample(5)\n",
    "\n",
    "\n",
    "\n"
   ]
  },
  {
   "cell_type": "markdown",
   "metadata": {},
   "source": [
    "Midwest Region\n",
    "Division 3: East North Central (Illinois, Indiana, Michigan, Ohio, and Wisconsin)"
   ]
  },
  {
   "cell_type": "code",
   "execution_count": null,
   "metadata": {},
   "outputs": [],
   "source": []
  },
  {
   "cell_type": "code",
   "execution_count": 26,
   "metadata": {},
   "outputs": [
    {
     "output_type": "execute_result",
     "data": {
      "text/plain": "     state_fips state_name       lat       long       date  cases  deaths  \\\n316          39       Ohio  40.41493 -82.711997   3/9/2020      3       0   \n317          39       Ohio  40.41493 -82.711997  3/10/2020      3       0   \n318          39       Ohio  40.41493 -82.711997  3/11/2020      4       0   \n319          39       Ohio  40.41493 -82.711997  3/12/2020      5       0   \n320          39       Ohio  40.41493 -82.711997  3/13/2020     13       0   \n\n     tests_positive  tests_negative  tests_pending  tests  patients_icu  \\\n316             3.0            11.0            5.0   14.0           NaN   \n317             3.0            14.0           15.0   17.0           NaN   \n318             4.0            21.0           24.0   25.0           NaN   \n319             5.0            30.0           52.0   35.0           NaN   \n320            13.0            50.0          159.0   63.0           NaN   \n\n     patients_hosp  patients_vent  recovered   datetime  \n316            NaN            NaN        NaN 2020-03-09  \n317            NaN            NaN        NaN 2020-03-10  \n318            NaN            NaN        NaN 2020-03-11  \n319            NaN            NaN        NaN 2020-03-12  \n320            NaN            NaN        NaN 2020-03-13  ",
      "text/html": "<div>\n<style scoped>\n    .dataframe tbody tr th:only-of-type {\n        vertical-align: middle;\n    }\n\n    .dataframe tbody tr th {\n        vertical-align: top;\n    }\n\n    .dataframe thead th {\n        text-align: right;\n    }\n</style>\n<table border=\"1\" class=\"dataframe\">\n  <thead>\n    <tr style=\"text-align: right;\">\n      <th></th>\n      <th>state_fips</th>\n      <th>state_name</th>\n      <th>lat</th>\n      <th>long</th>\n      <th>date</th>\n      <th>cases</th>\n      <th>deaths</th>\n      <th>tests_positive</th>\n      <th>tests_negative</th>\n      <th>tests_pending</th>\n      <th>tests</th>\n      <th>patients_icu</th>\n      <th>patients_hosp</th>\n      <th>patients_vent</th>\n      <th>recovered</th>\n      <th>datetime</th>\n    </tr>\n  </thead>\n  <tbody>\n    <tr>\n      <th>316</th>\n      <td>39</td>\n      <td>Ohio</td>\n      <td>40.41493</td>\n      <td>-82.711997</td>\n      <td>3/9/2020</td>\n      <td>3</td>\n      <td>0</td>\n      <td>3.0</td>\n      <td>11.0</td>\n      <td>5.0</td>\n      <td>14.0</td>\n      <td>NaN</td>\n      <td>NaN</td>\n      <td>NaN</td>\n      <td>NaN</td>\n      <td>2020-03-09</td>\n    </tr>\n    <tr>\n      <th>317</th>\n      <td>39</td>\n      <td>Ohio</td>\n      <td>40.41493</td>\n      <td>-82.711997</td>\n      <td>3/10/2020</td>\n      <td>3</td>\n      <td>0</td>\n      <td>3.0</td>\n      <td>14.0</td>\n      <td>15.0</td>\n      <td>17.0</td>\n      <td>NaN</td>\n      <td>NaN</td>\n      <td>NaN</td>\n      <td>NaN</td>\n      <td>2020-03-10</td>\n    </tr>\n    <tr>\n      <th>318</th>\n      <td>39</td>\n      <td>Ohio</td>\n      <td>40.41493</td>\n      <td>-82.711997</td>\n      <td>3/11/2020</td>\n      <td>4</td>\n      <td>0</td>\n      <td>4.0</td>\n      <td>21.0</td>\n      <td>24.0</td>\n      <td>25.0</td>\n      <td>NaN</td>\n      <td>NaN</td>\n      <td>NaN</td>\n      <td>NaN</td>\n      <td>2020-03-11</td>\n    </tr>\n    <tr>\n      <th>319</th>\n      <td>39</td>\n      <td>Ohio</td>\n      <td>40.41493</td>\n      <td>-82.711997</td>\n      <td>3/12/2020</td>\n      <td>5</td>\n      <td>0</td>\n      <td>5.0</td>\n      <td>30.0</td>\n      <td>52.0</td>\n      <td>35.0</td>\n      <td>NaN</td>\n      <td>NaN</td>\n      <td>NaN</td>\n      <td>NaN</td>\n      <td>2020-03-12</td>\n    </tr>\n    <tr>\n      <th>320</th>\n      <td>39</td>\n      <td>Ohio</td>\n      <td>40.41493</td>\n      <td>-82.711997</td>\n      <td>3/13/2020</td>\n      <td>13</td>\n      <td>0</td>\n      <td>13.0</td>\n      <td>50.0</td>\n      <td>159.0</td>\n      <td>63.0</td>\n      <td>NaN</td>\n      <td>NaN</td>\n      <td>NaN</td>\n      <td>NaN</td>\n      <td>2020-03-13</td>\n    </tr>\n  </tbody>\n</table>\n</div>"
     },
     "metadata": {},
     "execution_count": 26
    }
   ],
   "source": [
    "# Created DF based East North Central Divsion\n",
    "east_north_central = usa[(usa['state_name']=='Illinois') | (usa['state_name'] == 'Indiana') |\n",
    "                      (usa['state_name'] == 'Michigan') | (usa['state_name'] == 'Ohio') | \\\n",
    "                     (usa['state_name']=='Wisconsin')]\n",
    "east_north_central.head()"
   ]
  },
  {
   "cell_type": "markdown",
   "metadata": {},
   "source": [
    "# CODE FOR ADDING TALLY COUNT CASE EAST NORTH CENTRAL DIVSION (STILL WORKING ON THIS ONE)"
   ]
  },
  {
   "cell_type": "code",
   "execution_count": 28,
   "metadata": {},
   "outputs": [
    {
     "output_type": "error",
     "ename": "TypeError",
     "evalue": "'DataFrame' object is not callable",
     "traceback": [
      "\u001b[1;31m---------------------------------------------------------------------------\u001b[0m",
      "\u001b[1;31mTypeError\u001b[0m                                 Traceback (most recent call last)",
      "\u001b[1;32m<ipython-input-28-eaacd214f819>\u001b[0m in \u001b[0;36m<module>\u001b[1;34m\u001b[0m\n\u001b[0;32m     11\u001b[0m \u001b[1;33m\u001b[0m\u001b[0m\n\u001b[0;32m     12\u001b[0m \u001b[1;31m# Perform groupby operations to sum cases by day\u001b[0m\u001b[1;33m\u001b[0m\u001b[1;33m\u001b[0m\u001b[1;33m\u001b[0m\u001b[0m\n\u001b[1;32m---> 13\u001b[1;33m \u001b[0meast_north_central_tally\u001b[0m \u001b[1;33m=\u001b[0m\u001b[0meast_north_central\u001b[0m\u001b[1;33m(\u001b[0m\u001b[1;33m[\u001b[0m\u001b[1;34m'date'\u001b[0m\u001b[1;33m,\u001b[0m \u001b[1;34m'reg_sum_cases'\u001b[0m\u001b[1;33m]\u001b[0m\u001b[1;33m)\u001b[0m\u001b[1;33m.\u001b[0m\u001b[0msum\u001b[0m\u001b[1;33m(\u001b[0m\u001b[1;33m)\u001b[0m\u001b[1;33m\u001b[0m\u001b[1;33m\u001b[0m\u001b[0m\n\u001b[0m\u001b[0;32m     14\u001b[0m \u001b[0meast_north_central_tally\u001b[0m \u001b[1;33m=\u001b[0m \u001b[0meast_north_central_tally\u001b[0m\u001b[1;33m.\u001b[0m\u001b[0mreset_index\u001b[0m\u001b[1;33m(\u001b[0m\u001b[1;33m)\u001b[0m\u001b[1;33m\u001b[0m\u001b[1;33m\u001b[0m\u001b[0m\n\u001b[0;32m     15\u001b[0m \u001b[0meast_north_central_tally\u001b[0m\u001b[1;33m(\u001b[0m\u001b[1;36m5\u001b[0m\u001b[1;33m)\u001b[0m\u001b[1;33m\u001b[0m\u001b[1;33m\u001b[0m\u001b[0m\n",
      "\u001b[1;31mTypeError\u001b[0m: 'DataFrame' object is not callable"
     ]
    }
   ],
   "source": [
    "# Summing case count for Mid Atlantic Region\n",
    "# Groupby to consolidate cases by entire region\n",
    "ENC_group = east_north_central.groupby([\"datetime\"])\n",
    "ENC_sum = ENC_group[\"cases\"].sum()\n",
    "\n",
    "# merge output of above groupbys to create new df\n",
    "east_north_central_new =east_north_central.merge(ENC_sum, on = \"datetime\")\n",
    "# Rename columns and sort by date\n",
    "east_north_central_new = east_north_central_new.rename(columns={\"cases_y\": \"reg_sum_cases\"}) \n",
    "east_north_central_new.sort_values(by =\"datetime\")\n",
    "\n",
    "# Perform groupby operations to sum cases by day\n",
    "east_north_central_tally =east_north_central(['date', 'reg_sum_cases']).sum()\n",
    "east_north_central_tally = east_north_central_tally.reset_index()\n",
    "east_north_central_tally(5)\n",
    "\n",
    "# now finsh date time conversion\n",
    "east_north_central_tally['datetime'] = pd.to_datetime(east_north_central_tally['date'])\n",
    "\n",
    "east_north_central_tally[\"day\"] = east_north_central_tally['datetime'].map(lambda x: x.day)\n",
    "east_north_central_tally[\"month\"] = east_north_central_tally['datetime'].map(lambda x: x.month)\n",
    "east_north_central_tally[\"year\"] = east_north_central_tally['datetime'].map(lambda x: x.year)\n",
    "east_north_central_tally.sample(5)"
   ]
  },
  {
   "cell_type": "markdown",
   "metadata": {},
   "source": [
    " West North Central Divsion 4 (Iowa, Kansas, Minnesota, Missouri, Nebraska, North Dakota, and South Dakota)"
   ]
  },
  {
   "cell_type": "code",
   "execution_count": 10,
   "metadata": {},
   "outputs": [
    {
     "output_type": "execute_result",
     "data": {
      "text/plain": "     state_fips    state_name        lat        long       date  cases  \\\n176          38  North Dakota  47.442174 -100.460826  3/11/2020      1   \n177          38  North Dakota  47.442174 -100.460826  3/12/2020      1   \n178          38  North Dakota  47.442174 -100.460826  3/13/2020      1   \n179          38  North Dakota  47.442174 -100.460826  3/14/2020      1   \n180          38  North Dakota  47.442174 -100.460826  3/15/2020      1   \n\n     deaths  tests_positive  tests_negative  tests_pending  tests  \\\n176       0             0.0             7.0            6.0    7.0   \n177       0             1.0            12.0           14.0   13.0   \n178       0             1.0            39.0           12.0   40.0   \n179       0             1.0            54.0           14.0   55.0   \n180       0             1.0            95.0            4.0   96.0   \n\n     patients_icu  patients_hosp  patients_vent  recovered   datetime  \n176           NaN            NaN            NaN        NaN 2020-03-11  \n177           NaN            NaN            NaN        NaN 2020-03-12  \n178           NaN            NaN            NaN        NaN 2020-03-13  \n179           NaN            NaN            NaN        NaN 2020-03-14  \n180           NaN            NaN            NaN        NaN 2020-03-15  ",
      "text/html": "<div>\n<style scoped>\n    .dataframe tbody tr th:only-of-type {\n        vertical-align: middle;\n    }\n\n    .dataframe tbody tr th {\n        vertical-align: top;\n    }\n\n    .dataframe thead th {\n        text-align: right;\n    }\n</style>\n<table border=\"1\" class=\"dataframe\">\n  <thead>\n    <tr style=\"text-align: right;\">\n      <th></th>\n      <th>state_fips</th>\n      <th>state_name</th>\n      <th>lat</th>\n      <th>long</th>\n      <th>date</th>\n      <th>cases</th>\n      <th>deaths</th>\n      <th>tests_positive</th>\n      <th>tests_negative</th>\n      <th>tests_pending</th>\n      <th>tests</th>\n      <th>patients_icu</th>\n      <th>patients_hosp</th>\n      <th>patients_vent</th>\n      <th>recovered</th>\n      <th>datetime</th>\n    </tr>\n  </thead>\n  <tbody>\n    <tr>\n      <th>176</th>\n      <td>38</td>\n      <td>North Dakota</td>\n      <td>47.442174</td>\n      <td>-100.460826</td>\n      <td>3/11/2020</td>\n      <td>1</td>\n      <td>0</td>\n      <td>0.0</td>\n      <td>7.0</td>\n      <td>6.0</td>\n      <td>7.0</td>\n      <td>NaN</td>\n      <td>NaN</td>\n      <td>NaN</td>\n      <td>NaN</td>\n      <td>2020-03-11</td>\n    </tr>\n    <tr>\n      <th>177</th>\n      <td>38</td>\n      <td>North Dakota</td>\n      <td>47.442174</td>\n      <td>-100.460826</td>\n      <td>3/12/2020</td>\n      <td>1</td>\n      <td>0</td>\n      <td>1.0</td>\n      <td>12.0</td>\n      <td>14.0</td>\n      <td>13.0</td>\n      <td>NaN</td>\n      <td>NaN</td>\n      <td>NaN</td>\n      <td>NaN</td>\n      <td>2020-03-12</td>\n    </tr>\n    <tr>\n      <th>178</th>\n      <td>38</td>\n      <td>North Dakota</td>\n      <td>47.442174</td>\n      <td>-100.460826</td>\n      <td>3/13/2020</td>\n      <td>1</td>\n      <td>0</td>\n      <td>1.0</td>\n      <td>39.0</td>\n      <td>12.0</td>\n      <td>40.0</td>\n      <td>NaN</td>\n      <td>NaN</td>\n      <td>NaN</td>\n      <td>NaN</td>\n      <td>2020-03-13</td>\n    </tr>\n    <tr>\n      <th>179</th>\n      <td>38</td>\n      <td>North Dakota</td>\n      <td>47.442174</td>\n      <td>-100.460826</td>\n      <td>3/14/2020</td>\n      <td>1</td>\n      <td>0</td>\n      <td>1.0</td>\n      <td>54.0</td>\n      <td>14.0</td>\n      <td>55.0</td>\n      <td>NaN</td>\n      <td>NaN</td>\n      <td>NaN</td>\n      <td>NaN</td>\n      <td>2020-03-14</td>\n    </tr>\n    <tr>\n      <th>180</th>\n      <td>38</td>\n      <td>North Dakota</td>\n      <td>47.442174</td>\n      <td>-100.460826</td>\n      <td>3/15/2020</td>\n      <td>1</td>\n      <td>0</td>\n      <td>1.0</td>\n      <td>95.0</td>\n      <td>4.0</td>\n      <td>96.0</td>\n      <td>NaN</td>\n      <td>NaN</td>\n      <td>NaN</td>\n      <td>NaN</td>\n      <td>2020-03-15</td>\n    </tr>\n  </tbody>\n</table>\n</div>"
     },
     "metadata": {},
     "execution_count": 10
    }
   ],
   "source": [
    "# Creat DF for just West North Central\n",
    "west_northern_central =  usa[(usa['state_name']=='Iowa') | (usa['state_name'] == 'Kansas') |\n",
    "                      (usa['state_name'] == 'Minnesota') | (usa['state_name'] == 'Missouri') | \n",
    "                     (usa['state_name']=='North Dakota') | (usa['state_name']=='South Dakota')] \n",
    "\n",
    "west_northern_central.head()\n",
    "                    "
   ]
  },
  {
   "cell_type": "code",
   "execution_count": null,
   "metadata": {},
   "outputs": [],
   "source": [
    "# Create Function\n",
    "def make_regions(a,b,c,d,e,f)"
   ]
  },
  {
   "cell_type": "code",
   "execution_count": null,
   "metadata": {},
   "outputs": [],
   "source": []
  },
  {
   "cell_type": "markdown",
   "metadata": {},
   "source": [
    "South Division 5: South Atlantic (Delaware, Florida, Georgia, Maryland, North Carolina, South Carolina, Virginia, District of Columbia, and West Virginia)"
   ]
  },
  {
   "cell_type": "code",
   "execution_count": 24,
   "metadata": {},
   "outputs": [
    {
     "output_type": "execute_result",
     "data": {
      "text/plain": "    state_fips      state_name       lat       long      date  cases  deaths  \\\n28          37  North Carolina  35.53971 -79.130864  3/3/2020      1       0   \n29          37  North Carolina  35.53971 -79.130864  3/4/2020      1       0   \n30          37  North Carolina  35.53971 -79.130864  3/5/2020      1       0   \n31          37  North Carolina  35.53971 -79.130864  3/6/2020      2       0   \n32          37  North Carolina  35.53971 -79.130864  3/7/2020      2       0   \n\n    tests_positive  tests_negative  tests_pending  tests  patients_icu  \\\n28             NaN             NaN            NaN    NaN           NaN   \n29             1.0             NaN            NaN    1.0           NaN   \n30             1.0             NaN            NaN    1.0           NaN   \n31             2.0             NaN            NaN    2.0           NaN   \n32             2.0             NaN            NaN    2.0           NaN   \n\n    patients_hosp  patients_vent  recovered   datetime  \n28            NaN            NaN        NaN 2020-03-03  \n29            NaN            NaN        NaN 2020-03-04  \n30            NaN            NaN        NaN 2020-03-05  \n31            NaN            NaN        NaN 2020-03-06  \n32            NaN            NaN        NaN 2020-03-07  ",
      "text/html": "<div>\n<style scoped>\n    .dataframe tbody tr th:only-of-type {\n        vertical-align: middle;\n    }\n\n    .dataframe tbody tr th {\n        vertical-align: top;\n    }\n\n    .dataframe thead th {\n        text-align: right;\n    }\n</style>\n<table border=\"1\" class=\"dataframe\">\n  <thead>\n    <tr style=\"text-align: right;\">\n      <th></th>\n      <th>state_fips</th>\n      <th>state_name</th>\n      <th>lat</th>\n      <th>long</th>\n      <th>date</th>\n      <th>cases</th>\n      <th>deaths</th>\n      <th>tests_positive</th>\n      <th>tests_negative</th>\n      <th>tests_pending</th>\n      <th>tests</th>\n      <th>patients_icu</th>\n      <th>patients_hosp</th>\n      <th>patients_vent</th>\n      <th>recovered</th>\n      <th>datetime</th>\n    </tr>\n  </thead>\n  <tbody>\n    <tr>\n      <th>28</th>\n      <td>37</td>\n      <td>North Carolina</td>\n      <td>35.53971</td>\n      <td>-79.130864</td>\n      <td>3/3/2020</td>\n      <td>1</td>\n      <td>0</td>\n      <td>NaN</td>\n      <td>NaN</td>\n      <td>NaN</td>\n      <td>NaN</td>\n      <td>NaN</td>\n      <td>NaN</td>\n      <td>NaN</td>\n      <td>NaN</td>\n      <td>2020-03-03</td>\n    </tr>\n    <tr>\n      <th>29</th>\n      <td>37</td>\n      <td>North Carolina</td>\n      <td>35.53971</td>\n      <td>-79.130864</td>\n      <td>3/4/2020</td>\n      <td>1</td>\n      <td>0</td>\n      <td>1.0</td>\n      <td>NaN</td>\n      <td>NaN</td>\n      <td>1.0</td>\n      <td>NaN</td>\n      <td>NaN</td>\n      <td>NaN</td>\n      <td>NaN</td>\n      <td>2020-03-04</td>\n    </tr>\n    <tr>\n      <th>30</th>\n      <td>37</td>\n      <td>North Carolina</td>\n      <td>35.53971</td>\n      <td>-79.130864</td>\n      <td>3/5/2020</td>\n      <td>1</td>\n      <td>0</td>\n      <td>1.0</td>\n      <td>NaN</td>\n      <td>NaN</td>\n      <td>1.0</td>\n      <td>NaN</td>\n      <td>NaN</td>\n      <td>NaN</td>\n      <td>NaN</td>\n      <td>2020-03-05</td>\n    </tr>\n    <tr>\n      <th>31</th>\n      <td>37</td>\n      <td>North Carolina</td>\n      <td>35.53971</td>\n      <td>-79.130864</td>\n      <td>3/6/2020</td>\n      <td>2</td>\n      <td>0</td>\n      <td>2.0</td>\n      <td>NaN</td>\n      <td>NaN</td>\n      <td>2.0</td>\n      <td>NaN</td>\n      <td>NaN</td>\n      <td>NaN</td>\n      <td>NaN</td>\n      <td>2020-03-06</td>\n    </tr>\n    <tr>\n      <th>32</th>\n      <td>37</td>\n      <td>North Carolina</td>\n      <td>35.53971</td>\n      <td>-79.130864</td>\n      <td>3/7/2020</td>\n      <td>2</td>\n      <td>0</td>\n      <td>2.0</td>\n      <td>NaN</td>\n      <td>NaN</td>\n      <td>2.0</td>\n      <td>NaN</td>\n      <td>NaN</td>\n      <td>NaN</td>\n      <td>NaN</td>\n      <td>2020-03-07</td>\n    </tr>\n  </tbody>\n</table>\n</div>"
     },
     "metadata": {},
     "execution_count": 24
    }
   ],
   "source": [
    "# Make Df for just South Atlantic divsion.\n",
    "\n",
    "south_atlantic = usa[(usa['state_name']=='Delaware') | (usa['state_name'] == 'Flordia') |\n",
    "                      (usa['state_name'] == 'Georgia') | (usa['state_name'] == 'Maryland') | \n",
    "                     (usa['state_name']=='North Carolina') | (usa['state_name']=='South Carolina') |\n",
    "                     (usa['state_name']=='Virginia') | (usa['state_name']== 'District of Columbia') |\n",
    "                    (usa['state_name'] == 'West Virginia')]\n",
    "south_atlantic.head()"
   ]
  },
  {
   "cell_type": "code",
   "execution_count": null,
   "metadata": {},
   "outputs": [],
   "source": []
  },
  {
   "cell_type": "markdown",
   "metadata": {},
   "source": [
    "South Division 6: East South Central (Alabama, Kentucky, Mississippi, and Tennessee)"
   ]
  },
  {
   "cell_type": "code",
   "execution_count": 12,
   "metadata": {},
   "outputs": [
    {
     "output_type": "execute_result",
     "data": {
      "text/plain": "      state_fips state_name        lat      long      date  cases  deaths  \\\n1336          47  Tennessee  35.860803 -86.34999  3/5/2020      1       0   \n1337          47  Tennessee  35.860803 -86.34999  3/6/2020      1       0   \n1338          47  Tennessee  35.860803 -86.34999  3/7/2020      1       0   \n1339          47  Tennessee  35.860803 -86.34999  3/8/2020      3       0   \n1340          47  Tennessee  35.860803 -86.34999  3/9/2020      4       0   \n\n      tests_positive  tests_negative  tests_pending  tests  patients_icu  \\\n1336             1.0             NaN            NaN    1.0           NaN   \n1337             1.0             NaN            NaN    1.0           NaN   \n1338             1.0             NaN            NaN    1.0           NaN   \n1339             3.0             NaN            NaN    3.0           NaN   \n1340             3.0             NaN            NaN    3.0           NaN   \n\n      patients_hosp  patients_vent  recovered   datetime  \n1336            NaN            NaN        NaN 2020-03-05  \n1337            NaN            NaN        NaN 2020-03-06  \n1338            NaN            NaN        NaN 2020-03-07  \n1339            NaN            NaN        NaN 2020-03-08  \n1340            NaN            NaN        NaN 2020-03-09  ",
      "text/html": "<div>\n<style scoped>\n    .dataframe tbody tr th:only-of-type {\n        vertical-align: middle;\n    }\n\n    .dataframe tbody tr th {\n        vertical-align: top;\n    }\n\n    .dataframe thead th {\n        text-align: right;\n    }\n</style>\n<table border=\"1\" class=\"dataframe\">\n  <thead>\n    <tr style=\"text-align: right;\">\n      <th></th>\n      <th>state_fips</th>\n      <th>state_name</th>\n      <th>lat</th>\n      <th>long</th>\n      <th>date</th>\n      <th>cases</th>\n      <th>deaths</th>\n      <th>tests_positive</th>\n      <th>tests_negative</th>\n      <th>tests_pending</th>\n      <th>tests</th>\n      <th>patients_icu</th>\n      <th>patients_hosp</th>\n      <th>patients_vent</th>\n      <th>recovered</th>\n      <th>datetime</th>\n    </tr>\n  </thead>\n  <tbody>\n    <tr>\n      <th>1336</th>\n      <td>47</td>\n      <td>Tennessee</td>\n      <td>35.860803</td>\n      <td>-86.34999</td>\n      <td>3/5/2020</td>\n      <td>1</td>\n      <td>0</td>\n      <td>1.0</td>\n      <td>NaN</td>\n      <td>NaN</td>\n      <td>1.0</td>\n      <td>NaN</td>\n      <td>NaN</td>\n      <td>NaN</td>\n      <td>NaN</td>\n      <td>2020-03-05</td>\n    </tr>\n    <tr>\n      <th>1337</th>\n      <td>47</td>\n      <td>Tennessee</td>\n      <td>35.860803</td>\n      <td>-86.34999</td>\n      <td>3/6/2020</td>\n      <td>1</td>\n      <td>0</td>\n      <td>1.0</td>\n      <td>NaN</td>\n      <td>NaN</td>\n      <td>1.0</td>\n      <td>NaN</td>\n      <td>NaN</td>\n      <td>NaN</td>\n      <td>NaN</td>\n      <td>2020-03-06</td>\n    </tr>\n    <tr>\n      <th>1338</th>\n      <td>47</td>\n      <td>Tennessee</td>\n      <td>35.860803</td>\n      <td>-86.34999</td>\n      <td>3/7/2020</td>\n      <td>1</td>\n      <td>0</td>\n      <td>1.0</td>\n      <td>NaN</td>\n      <td>NaN</td>\n      <td>1.0</td>\n      <td>NaN</td>\n      <td>NaN</td>\n      <td>NaN</td>\n      <td>NaN</td>\n      <td>2020-03-07</td>\n    </tr>\n    <tr>\n      <th>1339</th>\n      <td>47</td>\n      <td>Tennessee</td>\n      <td>35.860803</td>\n      <td>-86.34999</td>\n      <td>3/8/2020</td>\n      <td>3</td>\n      <td>0</td>\n      <td>3.0</td>\n      <td>NaN</td>\n      <td>NaN</td>\n      <td>3.0</td>\n      <td>NaN</td>\n      <td>NaN</td>\n      <td>NaN</td>\n      <td>NaN</td>\n      <td>2020-03-08</td>\n    </tr>\n    <tr>\n      <th>1340</th>\n      <td>47</td>\n      <td>Tennessee</td>\n      <td>35.860803</td>\n      <td>-86.34999</td>\n      <td>3/9/2020</td>\n      <td>4</td>\n      <td>0</td>\n      <td>3.0</td>\n      <td>NaN</td>\n      <td>NaN</td>\n      <td>3.0</td>\n      <td>NaN</td>\n      <td>NaN</td>\n      <td>NaN</td>\n      <td>NaN</td>\n      <td>2020-03-09</td>\n    </tr>\n  </tbody>\n</table>\n</div>"
     },
     "metadata": {},
     "execution_count": 12
    }
   ],
   "source": [
    "# Create DF for just East South Central Divsion\n",
    "east_south_central =  usa[(usa['state_name']=='Alabama') | (usa['state_name'] == 'Kentucky') |\n",
    "                      (usa['state_name'] == 'Mississippi') | (usa['state_name'] == 'Tennessee')] \n",
    "\n",
    "east_south_central.head()"
   ]
  },
  {
   "cell_type": "markdown",
   "metadata": {},
   "source": [
    "South Division 7: West South Central (Arkansas, Louisiana, Oklahoma, and Texas)"
   ]
  },
  {
   "cell_type": "code",
   "execution_count": 13,
   "metadata": {},
   "outputs": [
    {
     "output_type": "execute_result",
     "data": {
      "text/plain": "     state_fips state_name        lat       long       date  cases  deaths  \\\n458          40   Oklahoma  35.590051 -97.486815   3/6/2020      1       0   \n459          40   Oklahoma  35.590051 -97.486815   3/7/2020      1       0   \n460          40   Oklahoma  35.590051 -97.486815   3/8/2020      1       0   \n461          40   Oklahoma  35.590051 -97.486815   3/9/2020      1       0   \n462          40   Oklahoma  35.590051 -97.486815  3/10/2020      2       0   \n\n     tests_positive  tests_negative  tests_pending  tests  patients_icu  \\\n458             NaN             NaN            NaN    NaN           NaN   \n459             1.0             NaN            NaN    1.0           NaN   \n460             1.0             8.0            2.0    9.0           NaN   \n461             1.0             8.0           10.0    9.0           NaN   \n462             2.0            15.0           11.0   17.0           NaN   \n\n     patients_hosp  patients_vent  recovered   datetime  \n458            NaN            NaN        NaN 2020-03-06  \n459            NaN            NaN        NaN 2020-03-07  \n460            NaN            NaN        NaN 2020-03-08  \n461            NaN            NaN        NaN 2020-03-09  \n462            NaN            NaN        NaN 2020-03-10  ",
      "text/html": "<div>\n<style scoped>\n    .dataframe tbody tr th:only-of-type {\n        vertical-align: middle;\n    }\n\n    .dataframe tbody tr th {\n        vertical-align: top;\n    }\n\n    .dataframe thead th {\n        text-align: right;\n    }\n</style>\n<table border=\"1\" class=\"dataframe\">\n  <thead>\n    <tr style=\"text-align: right;\">\n      <th></th>\n      <th>state_fips</th>\n      <th>state_name</th>\n      <th>lat</th>\n      <th>long</th>\n      <th>date</th>\n      <th>cases</th>\n      <th>deaths</th>\n      <th>tests_positive</th>\n      <th>tests_negative</th>\n      <th>tests_pending</th>\n      <th>tests</th>\n      <th>patients_icu</th>\n      <th>patients_hosp</th>\n      <th>patients_vent</th>\n      <th>recovered</th>\n      <th>datetime</th>\n    </tr>\n  </thead>\n  <tbody>\n    <tr>\n      <th>458</th>\n      <td>40</td>\n      <td>Oklahoma</td>\n      <td>35.590051</td>\n      <td>-97.486815</td>\n      <td>3/6/2020</td>\n      <td>1</td>\n      <td>0</td>\n      <td>NaN</td>\n      <td>NaN</td>\n      <td>NaN</td>\n      <td>NaN</td>\n      <td>NaN</td>\n      <td>NaN</td>\n      <td>NaN</td>\n      <td>NaN</td>\n      <td>2020-03-06</td>\n    </tr>\n    <tr>\n      <th>459</th>\n      <td>40</td>\n      <td>Oklahoma</td>\n      <td>35.590051</td>\n      <td>-97.486815</td>\n      <td>3/7/2020</td>\n      <td>1</td>\n      <td>0</td>\n      <td>1.0</td>\n      <td>NaN</td>\n      <td>NaN</td>\n      <td>1.0</td>\n      <td>NaN</td>\n      <td>NaN</td>\n      <td>NaN</td>\n      <td>NaN</td>\n      <td>2020-03-07</td>\n    </tr>\n    <tr>\n      <th>460</th>\n      <td>40</td>\n      <td>Oklahoma</td>\n      <td>35.590051</td>\n      <td>-97.486815</td>\n      <td>3/8/2020</td>\n      <td>1</td>\n      <td>0</td>\n      <td>1.0</td>\n      <td>8.0</td>\n      <td>2.0</td>\n      <td>9.0</td>\n      <td>NaN</td>\n      <td>NaN</td>\n      <td>NaN</td>\n      <td>NaN</td>\n      <td>2020-03-08</td>\n    </tr>\n    <tr>\n      <th>461</th>\n      <td>40</td>\n      <td>Oklahoma</td>\n      <td>35.590051</td>\n      <td>-97.486815</td>\n      <td>3/9/2020</td>\n      <td>1</td>\n      <td>0</td>\n      <td>1.0</td>\n      <td>8.0</td>\n      <td>10.0</td>\n      <td>9.0</td>\n      <td>NaN</td>\n      <td>NaN</td>\n      <td>NaN</td>\n      <td>NaN</td>\n      <td>2020-03-09</td>\n    </tr>\n    <tr>\n      <th>462</th>\n      <td>40</td>\n      <td>Oklahoma</td>\n      <td>35.590051</td>\n      <td>-97.486815</td>\n      <td>3/10/2020</td>\n      <td>2</td>\n      <td>0</td>\n      <td>2.0</td>\n      <td>15.0</td>\n      <td>11.0</td>\n      <td>17.0</td>\n      <td>NaN</td>\n      <td>NaN</td>\n      <td>NaN</td>\n      <td>NaN</td>\n      <td>2020-03-10</td>\n    </tr>\n  </tbody>\n</table>\n</div>"
     },
     "metadata": {},
     "execution_count": 13
    }
   ],
   "source": [
    "west_northern_central =  usa[(usa['state_name']=='Arkansas') | (usa['state_name'] == 'Louisiana') |\n",
    "                      (usa['state_name'] == 'Oklahoma') | (usa['state_name'] == 'Texas') ] \n",
    "\n",
    "west_northern_central.head()"
   ]
  },
  {
   "cell_type": "markdown",
   "metadata": {},
   "source": [
    "West \n",
    "Mountain Divsion 8 (Arizona, Colorado, Idaho, Montana, Nevada, New Mexico, Utah, and Wyoming)"
   ]
  },
  {
   "cell_type": "code",
   "execution_count": 14,
   "metadata": {},
   "outputs": [
    {
     "output_type": "execute_result",
     "data": {
      "text/plain": "      state_fips state_name        lat        long       date  cases  deaths  \\\n1650          49       Utah  39.334992 -111.656333  2/25/2020      1       0   \n1651          49       Utah  39.334992 -111.656333  2/26/2020      1       0   \n1652          49       Utah  39.334992 -111.656333  2/27/2020      1       0   \n1653          49       Utah  39.334992 -111.656333  2/28/2020      1       0   \n1654          49       Utah  39.334992 -111.656333  2/29/2020      1       0   \n\n      tests_positive  tests_negative  tests_pending  tests  patients_icu  \\\n1650             NaN             NaN            NaN    NaN           NaN   \n1651             NaN             NaN            NaN    NaN           NaN   \n1652             NaN             NaN            NaN    NaN           NaN   \n1653             NaN             NaN            NaN    NaN           NaN   \n1654             NaN             NaN            NaN    NaN           NaN   \n\n      patients_hosp  patients_vent  recovered   datetime  \n1650            NaN            NaN        NaN 2020-02-25  \n1651            NaN            NaN        NaN 2020-02-26  \n1652            NaN            NaN        NaN 2020-02-27  \n1653            NaN            NaN        NaN 2020-02-28  \n1654            NaN            NaN        NaN 2020-02-29  ",
      "text/html": "<div>\n<style scoped>\n    .dataframe tbody tr th:only-of-type {\n        vertical-align: middle;\n    }\n\n    .dataframe tbody tr th {\n        vertical-align: top;\n    }\n\n    .dataframe thead th {\n        text-align: right;\n    }\n</style>\n<table border=\"1\" class=\"dataframe\">\n  <thead>\n    <tr style=\"text-align: right;\">\n      <th></th>\n      <th>state_fips</th>\n      <th>state_name</th>\n      <th>lat</th>\n      <th>long</th>\n      <th>date</th>\n      <th>cases</th>\n      <th>deaths</th>\n      <th>tests_positive</th>\n      <th>tests_negative</th>\n      <th>tests_pending</th>\n      <th>tests</th>\n      <th>patients_icu</th>\n      <th>patients_hosp</th>\n      <th>patients_vent</th>\n      <th>recovered</th>\n      <th>datetime</th>\n    </tr>\n  </thead>\n  <tbody>\n    <tr>\n      <th>1650</th>\n      <td>49</td>\n      <td>Utah</td>\n      <td>39.334992</td>\n      <td>-111.656333</td>\n      <td>2/25/2020</td>\n      <td>1</td>\n      <td>0</td>\n      <td>NaN</td>\n      <td>NaN</td>\n      <td>NaN</td>\n      <td>NaN</td>\n      <td>NaN</td>\n      <td>NaN</td>\n      <td>NaN</td>\n      <td>NaN</td>\n      <td>2020-02-25</td>\n    </tr>\n    <tr>\n      <th>1651</th>\n      <td>49</td>\n      <td>Utah</td>\n      <td>39.334992</td>\n      <td>-111.656333</td>\n      <td>2/26/2020</td>\n      <td>1</td>\n      <td>0</td>\n      <td>NaN</td>\n      <td>NaN</td>\n      <td>NaN</td>\n      <td>NaN</td>\n      <td>NaN</td>\n      <td>NaN</td>\n      <td>NaN</td>\n      <td>NaN</td>\n      <td>2020-02-26</td>\n    </tr>\n    <tr>\n      <th>1652</th>\n      <td>49</td>\n      <td>Utah</td>\n      <td>39.334992</td>\n      <td>-111.656333</td>\n      <td>2/27/2020</td>\n      <td>1</td>\n      <td>0</td>\n      <td>NaN</td>\n      <td>NaN</td>\n      <td>NaN</td>\n      <td>NaN</td>\n      <td>NaN</td>\n      <td>NaN</td>\n      <td>NaN</td>\n      <td>NaN</td>\n      <td>2020-02-27</td>\n    </tr>\n    <tr>\n      <th>1653</th>\n      <td>49</td>\n      <td>Utah</td>\n      <td>39.334992</td>\n      <td>-111.656333</td>\n      <td>2/28/2020</td>\n      <td>1</td>\n      <td>0</td>\n      <td>NaN</td>\n      <td>NaN</td>\n      <td>NaN</td>\n      <td>NaN</td>\n      <td>NaN</td>\n      <td>NaN</td>\n      <td>NaN</td>\n      <td>NaN</td>\n      <td>2020-02-28</td>\n    </tr>\n    <tr>\n      <th>1654</th>\n      <td>49</td>\n      <td>Utah</td>\n      <td>39.334992</td>\n      <td>-111.656333</td>\n      <td>2/29/2020</td>\n      <td>1</td>\n      <td>0</td>\n      <td>NaN</td>\n      <td>NaN</td>\n      <td>NaN</td>\n      <td>NaN</td>\n      <td>NaN</td>\n      <td>NaN</td>\n      <td>NaN</td>\n      <td>NaN</td>\n      <td>2020-02-29</td>\n    </tr>\n  </tbody>\n</table>\n</div>"
     },
     "metadata": {},
     "execution_count": 14
    }
   ],
   "source": [
    "# Create a DF for just Mountain divsion\n",
    "mountain =  usa[(usa['state_name']=='Arizona') | (usa['state_name'] == 'Colorado') |\n",
    "                      (usa['state_name'] == 'Idaho') | (usa['state_name'] == 'Montana') | \n",
    "                     (usa['state_name']=='Nevada') | (usa['state_name']=='New Mexico') |\n",
    "                     (usa['state_name']=='Utah') | (usa['state_name']== 'Wyoming') ]\n",
    "\n",
    "mountain.head()"
   ]
  },
  {
   "cell_type": "markdown",
   "metadata": {},
   "source": [
    "# Pacific Divsion- with combined daily cases counts\n",
    "West Pacific (Alaska, California, Hawaii, Oregon, and Washington)"
   ]
  },
  {
   "cell_type": "code",
   "execution_count": 15,
   "metadata": {},
   "outputs": [
    {
     "output_type": "execute_result",
     "data": {
      "text/plain": "     state_fips state_name        lat        long       date  cases  deaths  \\\n603          41     Oregon  43.971713 -120.622958  2/28/2020      1       0   \n604          41     Oregon  43.971713 -120.622958  2/29/2020      1       0   \n605          41     Oregon  43.971713 -120.622958   3/1/2020      2       0   \n606          41     Oregon  43.971713 -120.622958   3/2/2020      2       0   \n607          41     Oregon  43.971713 -120.622958   3/3/2020      2       0   \n\n     tests_positive  tests_negative  tests_pending  tests  patients_icu  \\\n603             NaN             NaN            NaN    NaN           NaN   \n604             NaN             NaN            NaN    NaN           NaN   \n605             NaN             NaN            NaN    NaN           NaN   \n606             NaN             NaN            NaN    NaN           NaN   \n607             NaN             NaN            NaN    NaN           NaN   \n\n     patients_hosp  patients_vent  recovered   datetime  \n603            NaN            NaN        NaN 2020-02-28  \n604            NaN            NaN        NaN 2020-02-29  \n605            NaN            NaN        NaN 2020-03-01  \n606            NaN            NaN        NaN 2020-03-02  \n607            NaN            NaN        NaN 2020-03-03  ",
      "text/html": "<div>\n<style scoped>\n    .dataframe tbody tr th:only-of-type {\n        vertical-align: middle;\n    }\n\n    .dataframe tbody tr th {\n        vertical-align: top;\n    }\n\n    .dataframe thead th {\n        text-align: right;\n    }\n</style>\n<table border=\"1\" class=\"dataframe\">\n  <thead>\n    <tr style=\"text-align: right;\">\n      <th></th>\n      <th>state_fips</th>\n      <th>state_name</th>\n      <th>lat</th>\n      <th>long</th>\n      <th>date</th>\n      <th>cases</th>\n      <th>deaths</th>\n      <th>tests_positive</th>\n      <th>tests_negative</th>\n      <th>tests_pending</th>\n      <th>tests</th>\n      <th>patients_icu</th>\n      <th>patients_hosp</th>\n      <th>patients_vent</th>\n      <th>recovered</th>\n      <th>datetime</th>\n    </tr>\n  </thead>\n  <tbody>\n    <tr>\n      <th>603</th>\n      <td>41</td>\n      <td>Oregon</td>\n      <td>43.971713</td>\n      <td>-120.622958</td>\n      <td>2/28/2020</td>\n      <td>1</td>\n      <td>0</td>\n      <td>NaN</td>\n      <td>NaN</td>\n      <td>NaN</td>\n      <td>NaN</td>\n      <td>NaN</td>\n      <td>NaN</td>\n      <td>NaN</td>\n      <td>NaN</td>\n      <td>2020-02-28</td>\n    </tr>\n    <tr>\n      <th>604</th>\n      <td>41</td>\n      <td>Oregon</td>\n      <td>43.971713</td>\n      <td>-120.622958</td>\n      <td>2/29/2020</td>\n      <td>1</td>\n      <td>0</td>\n      <td>NaN</td>\n      <td>NaN</td>\n      <td>NaN</td>\n      <td>NaN</td>\n      <td>NaN</td>\n      <td>NaN</td>\n      <td>NaN</td>\n      <td>NaN</td>\n      <td>2020-02-29</td>\n    </tr>\n    <tr>\n      <th>605</th>\n      <td>41</td>\n      <td>Oregon</td>\n      <td>43.971713</td>\n      <td>-120.622958</td>\n      <td>3/1/2020</td>\n      <td>2</td>\n      <td>0</td>\n      <td>NaN</td>\n      <td>NaN</td>\n      <td>NaN</td>\n      <td>NaN</td>\n      <td>NaN</td>\n      <td>NaN</td>\n      <td>NaN</td>\n      <td>NaN</td>\n      <td>2020-03-01</td>\n    </tr>\n    <tr>\n      <th>606</th>\n      <td>41</td>\n      <td>Oregon</td>\n      <td>43.971713</td>\n      <td>-120.622958</td>\n      <td>3/2/2020</td>\n      <td>2</td>\n      <td>0</td>\n      <td>NaN</td>\n      <td>NaN</td>\n      <td>NaN</td>\n      <td>NaN</td>\n      <td>NaN</td>\n      <td>NaN</td>\n      <td>NaN</td>\n      <td>NaN</td>\n      <td>2020-03-02</td>\n    </tr>\n    <tr>\n      <th>607</th>\n      <td>41</td>\n      <td>Oregon</td>\n      <td>43.971713</td>\n      <td>-120.622958</td>\n      <td>3/3/2020</td>\n      <td>2</td>\n      <td>0</td>\n      <td>NaN</td>\n      <td>NaN</td>\n      <td>NaN</td>\n      <td>NaN</td>\n      <td>NaN</td>\n      <td>NaN</td>\n      <td>NaN</td>\n      <td>NaN</td>\n      <td>2020-03-03</td>\n    </tr>\n  </tbody>\n</table>\n</div>"
     },
     "metadata": {},
     "execution_count": 15
    }
   ],
   "source": [
    "# Make DF for just Pacific Divsion\n",
    "pacific =  usa[(usa['state_name']=='California') | (usa['state_name'] == 'Hawaii') |\n",
    "                      (usa['state_name'] == 'Oregon') | (usa['state_name'] == 'Washington') |\n",
    "                      (usa['state_name']=='Alaska')]\n",
    "\n",
    "pacific.head()"
   ]
  },
  {
   "cell_type": "markdown",
   "metadata": {},
   "source": [
    "Now perform operations to tally the daily case count in divsion"
   ]
  },
  {
   "cell_type": "code",
   "execution_count": 16,
   "metadata": {},
   "outputs": [],
   "source": [
    "# Summing case count for Pacific Region\n",
    "# Groupby to consolidate cases by entire region\n",
    "pacific_group = pacific.groupby([\"datetime\"])\n",
    "pacific_sum = pacific_group[\"cases\"].sum()\n"
   ]
  },
  {
   "cell_type": "code",
   "execution_count": 17,
   "metadata": {},
   "outputs": [
    {
     "output_type": "execute_result",
     "data": {
      "text/plain": "   state_fips  state_name        lat        long       date  cases_x  deaths  \\\n0          41      Oregon  43.971713 -120.622958  2/28/2020        1       0   \n1          53  Washington  47.407324 -120.575800  2/28/2020        7       0   \n2           6  California  37.155177 -119.543418  2/28/2020       27       0   \n3          41      Oregon  43.971713 -120.622958  2/29/2020        1       0   \n4          53  Washington  47.407324 -120.575800  2/29/2020       10       1   \n\n   tests_positive  tests_negative  tests_pending  tests  patients_icu  \\\n0             NaN             NaN            NaN    NaN           NaN   \n1           275.0             0.0            NaN  275.0           NaN   \n2             NaN             NaN            NaN    NaN           NaN   \n3             NaN             NaN            NaN    NaN           NaN   \n4           299.0            17.0            NaN  316.0           NaN   \n\n   patients_hosp  patients_vent  recovered   datetime  cases_y  \n0            NaN            NaN        NaN 2020-02-28       35  \n1            NaN            NaN        NaN 2020-02-28       35  \n2            NaN            NaN        NaN 2020-02-28       35  \n3            NaN            NaN        NaN 2020-02-29       39  \n4            NaN            NaN        NaN 2020-02-29       39  ",
      "text/html": "<div>\n<style scoped>\n    .dataframe tbody tr th:only-of-type {\n        vertical-align: middle;\n    }\n\n    .dataframe tbody tr th {\n        vertical-align: top;\n    }\n\n    .dataframe thead th {\n        text-align: right;\n    }\n</style>\n<table border=\"1\" class=\"dataframe\">\n  <thead>\n    <tr style=\"text-align: right;\">\n      <th></th>\n      <th>state_fips</th>\n      <th>state_name</th>\n      <th>lat</th>\n      <th>long</th>\n      <th>date</th>\n      <th>cases_x</th>\n      <th>deaths</th>\n      <th>tests_positive</th>\n      <th>tests_negative</th>\n      <th>tests_pending</th>\n      <th>tests</th>\n      <th>patients_icu</th>\n      <th>patients_hosp</th>\n      <th>patients_vent</th>\n      <th>recovered</th>\n      <th>datetime</th>\n      <th>cases_y</th>\n    </tr>\n  </thead>\n  <tbody>\n    <tr>\n      <th>0</th>\n      <td>41</td>\n      <td>Oregon</td>\n      <td>43.971713</td>\n      <td>-120.622958</td>\n      <td>2/28/2020</td>\n      <td>1</td>\n      <td>0</td>\n      <td>NaN</td>\n      <td>NaN</td>\n      <td>NaN</td>\n      <td>NaN</td>\n      <td>NaN</td>\n      <td>NaN</td>\n      <td>NaN</td>\n      <td>NaN</td>\n      <td>2020-02-28</td>\n      <td>35</td>\n    </tr>\n    <tr>\n      <th>1</th>\n      <td>53</td>\n      <td>Washington</td>\n      <td>47.407324</td>\n      <td>-120.575800</td>\n      <td>2/28/2020</td>\n      <td>7</td>\n      <td>0</td>\n      <td>275.0</td>\n      <td>0.0</td>\n      <td>NaN</td>\n      <td>275.0</td>\n      <td>NaN</td>\n      <td>NaN</td>\n      <td>NaN</td>\n      <td>NaN</td>\n      <td>2020-02-28</td>\n      <td>35</td>\n    </tr>\n    <tr>\n      <th>2</th>\n      <td>6</td>\n      <td>California</td>\n      <td>37.155177</td>\n      <td>-119.543418</td>\n      <td>2/28/2020</td>\n      <td>27</td>\n      <td>0</td>\n      <td>NaN</td>\n      <td>NaN</td>\n      <td>NaN</td>\n      <td>NaN</td>\n      <td>NaN</td>\n      <td>NaN</td>\n      <td>NaN</td>\n      <td>NaN</td>\n      <td>2020-02-28</td>\n      <td>35</td>\n    </tr>\n    <tr>\n      <th>3</th>\n      <td>41</td>\n      <td>Oregon</td>\n      <td>43.971713</td>\n      <td>-120.622958</td>\n      <td>2/29/2020</td>\n      <td>1</td>\n      <td>0</td>\n      <td>NaN</td>\n      <td>NaN</td>\n      <td>NaN</td>\n      <td>NaN</td>\n      <td>NaN</td>\n      <td>NaN</td>\n      <td>NaN</td>\n      <td>NaN</td>\n      <td>2020-02-29</td>\n      <td>39</td>\n    </tr>\n    <tr>\n      <th>4</th>\n      <td>53</td>\n      <td>Washington</td>\n      <td>47.407324</td>\n      <td>-120.575800</td>\n      <td>2/29/2020</td>\n      <td>10</td>\n      <td>1</td>\n      <td>299.0</td>\n      <td>17.0</td>\n      <td>NaN</td>\n      <td>316.0</td>\n      <td>NaN</td>\n      <td>NaN</td>\n      <td>NaN</td>\n      <td>NaN</td>\n      <td>2020-02-29</td>\n      <td>39</td>\n    </tr>\n  </tbody>\n</table>\n</div>"
     },
     "metadata": {},
     "execution_count": 17
    }
   ],
   "source": [
    "# merge output of above groupbys to create new df\n",
    "pacific_new = pacific.merge(pacific_sum, on = \"datetime\")\n",
    "pacific_new.head()"
   ]
  },
  {
   "cell_type": "code",
   "execution_count": 18,
   "metadata": {},
   "outputs": [
    {
     "output_type": "execute_result",
     "data": {
      "text/plain": "   state_fips  state_name        lat        long       date  cases_x  deaths  \\\n0          41      Oregon  43.971713 -120.622958  2/28/2020        1       0   \n1          53  Washington  47.407324 -120.575800  2/28/2020        7       0   \n2           6  California  37.155177 -119.543418  2/28/2020       27       0   \n3          41      Oregon  43.971713 -120.622958  2/29/2020        1       0   \n4          53  Washington  47.407324 -120.575800  2/29/2020       10       1   \n\n   tests_positive  tests_negative  tests_pending  tests  patients_icu  \\\n0             NaN             NaN            NaN    NaN           NaN   \n1           275.0             0.0            NaN  275.0           NaN   \n2             NaN             NaN            NaN    NaN           NaN   \n3             NaN             NaN            NaN    NaN           NaN   \n4           299.0            17.0            NaN  316.0           NaN   \n\n   patients_hosp  patients_vent  recovered   datetime  reg_sum_cases  \n0            NaN            NaN        NaN 2020-02-28             35  \n1            NaN            NaN        NaN 2020-02-28             35  \n2            NaN            NaN        NaN 2020-02-28             35  \n3            NaN            NaN        NaN 2020-02-29             39  \n4            NaN            NaN        NaN 2020-02-29             39  ",
      "text/html": "<div>\n<style scoped>\n    .dataframe tbody tr th:only-of-type {\n        vertical-align: middle;\n    }\n\n    .dataframe tbody tr th {\n        vertical-align: top;\n    }\n\n    .dataframe thead th {\n        text-align: right;\n    }\n</style>\n<table border=\"1\" class=\"dataframe\">\n  <thead>\n    <tr style=\"text-align: right;\">\n      <th></th>\n      <th>state_fips</th>\n      <th>state_name</th>\n      <th>lat</th>\n      <th>long</th>\n      <th>date</th>\n      <th>cases_x</th>\n      <th>deaths</th>\n      <th>tests_positive</th>\n      <th>tests_negative</th>\n      <th>tests_pending</th>\n      <th>tests</th>\n      <th>patients_icu</th>\n      <th>patients_hosp</th>\n      <th>patients_vent</th>\n      <th>recovered</th>\n      <th>datetime</th>\n      <th>reg_sum_cases</th>\n    </tr>\n  </thead>\n  <tbody>\n    <tr>\n      <th>0</th>\n      <td>41</td>\n      <td>Oregon</td>\n      <td>43.971713</td>\n      <td>-120.622958</td>\n      <td>2/28/2020</td>\n      <td>1</td>\n      <td>0</td>\n      <td>NaN</td>\n      <td>NaN</td>\n      <td>NaN</td>\n      <td>NaN</td>\n      <td>NaN</td>\n      <td>NaN</td>\n      <td>NaN</td>\n      <td>NaN</td>\n      <td>2020-02-28</td>\n      <td>35</td>\n    </tr>\n    <tr>\n      <th>1</th>\n      <td>53</td>\n      <td>Washington</td>\n      <td>47.407324</td>\n      <td>-120.575800</td>\n      <td>2/28/2020</td>\n      <td>7</td>\n      <td>0</td>\n      <td>275.0</td>\n      <td>0.0</td>\n      <td>NaN</td>\n      <td>275.0</td>\n      <td>NaN</td>\n      <td>NaN</td>\n      <td>NaN</td>\n      <td>NaN</td>\n      <td>2020-02-28</td>\n      <td>35</td>\n    </tr>\n    <tr>\n      <th>2</th>\n      <td>6</td>\n      <td>California</td>\n      <td>37.155177</td>\n      <td>-119.543418</td>\n      <td>2/28/2020</td>\n      <td>27</td>\n      <td>0</td>\n      <td>NaN</td>\n      <td>NaN</td>\n      <td>NaN</td>\n      <td>NaN</td>\n      <td>NaN</td>\n      <td>NaN</td>\n      <td>NaN</td>\n      <td>NaN</td>\n      <td>2020-02-28</td>\n      <td>35</td>\n    </tr>\n    <tr>\n      <th>3</th>\n      <td>41</td>\n      <td>Oregon</td>\n      <td>43.971713</td>\n      <td>-120.622958</td>\n      <td>2/29/2020</td>\n      <td>1</td>\n      <td>0</td>\n      <td>NaN</td>\n      <td>NaN</td>\n      <td>NaN</td>\n      <td>NaN</td>\n      <td>NaN</td>\n      <td>NaN</td>\n      <td>NaN</td>\n      <td>NaN</td>\n      <td>2020-02-29</td>\n      <td>39</td>\n    </tr>\n    <tr>\n      <th>4</th>\n      <td>53</td>\n      <td>Washington</td>\n      <td>47.407324</td>\n      <td>-120.575800</td>\n      <td>2/29/2020</td>\n      <td>10</td>\n      <td>1</td>\n      <td>299.0</td>\n      <td>17.0</td>\n      <td>NaN</td>\n      <td>316.0</td>\n      <td>NaN</td>\n      <td>NaN</td>\n      <td>NaN</td>\n      <td>NaN</td>\n      <td>2020-02-29</td>\n      <td>39</td>\n    </tr>\n  </tbody>\n</table>\n</div>"
     },
     "metadata": {},
     "execution_count": 18
    }
   ],
   "source": [
    "# Rename columns and sort by date\n",
    "pacific_new = pacific_new.rename(columns={\"cases_y\": \"reg_sum_cases\"})\n",
    "pacific_new.sort_values(by =\"datetime\")\n",
    "pacific_new.head()\n"
   ]
  },
  {
   "cell_type": "code",
   "execution_count": 31,
   "metadata": {},
   "outputs": [
    {
     "output_type": "execute_result",
     "data": {
      "text/plain": "   index       date  reg_sum_cases  state_fips        lat        long  \\\n0      0  1/21/2020              1          53  47.407324 -120.575800   \n1      1  1/22/2020              1          53  47.407324 -120.575800   \n2      2  1/23/2020              1          53  47.407324 -120.575800   \n3      3  1/24/2020              1          53  47.407324 -120.575800   \n4      4  1/25/2020              2          59  84.562501 -240.119218   \n\n   cases_x  deaths  tests_positive  tests_negative  tests_pending  tests  \\\n0        1       0             0.0             0.0            0.0    0.0   \n1        1       0             2.0             0.0            0.0    2.0   \n2        1       0             2.0             0.0            0.0    2.0   \n3        1       0             2.0             0.0            0.0    2.0   \n4        2       0             2.0             0.0            0.0    2.0   \n\n   patients_icu  patients_hosp  patients_vent  recovered   datetime  day  \\\n0           0.0            0.0            0.0        0.0 2020-01-21   21   \n1           0.0            0.0            0.0        0.0 2020-01-22   22   \n2           0.0            0.0            0.0        0.0 2020-01-23   23   \n3           0.0            0.0            0.0        0.0 2020-01-24   24   \n4           0.0            0.0            0.0        0.0 2020-01-25   25   \n\n   month  year  \n0      1  2020  \n1      1  2020  \n2      1  2020  \n3      1  2020  \n4      1  2020  ",
      "text/html": "<div>\n<style scoped>\n    .dataframe tbody tr th:only-of-type {\n        vertical-align: middle;\n    }\n\n    .dataframe tbody tr th {\n        vertical-align: top;\n    }\n\n    .dataframe thead th {\n        text-align: right;\n    }\n</style>\n<table border=\"1\" class=\"dataframe\">\n  <thead>\n    <tr style=\"text-align: right;\">\n      <th></th>\n      <th>index</th>\n      <th>date</th>\n      <th>reg_sum_cases</th>\n      <th>state_fips</th>\n      <th>lat</th>\n      <th>long</th>\n      <th>cases_x</th>\n      <th>deaths</th>\n      <th>tests_positive</th>\n      <th>tests_negative</th>\n      <th>tests_pending</th>\n      <th>tests</th>\n      <th>patients_icu</th>\n      <th>patients_hosp</th>\n      <th>patients_vent</th>\n      <th>recovered</th>\n      <th>datetime</th>\n      <th>day</th>\n      <th>month</th>\n      <th>year</th>\n    </tr>\n  </thead>\n  <tbody>\n    <tr>\n      <th>0</th>\n      <td>0</td>\n      <td>1/21/2020</td>\n      <td>1</td>\n      <td>53</td>\n      <td>47.407324</td>\n      <td>-120.575800</td>\n      <td>1</td>\n      <td>0</td>\n      <td>0.0</td>\n      <td>0.0</td>\n      <td>0.0</td>\n      <td>0.0</td>\n      <td>0.0</td>\n      <td>0.0</td>\n      <td>0.0</td>\n      <td>0.0</td>\n      <td>2020-01-21</td>\n      <td>21</td>\n      <td>1</td>\n      <td>2020</td>\n    </tr>\n    <tr>\n      <th>1</th>\n      <td>1</td>\n      <td>1/22/2020</td>\n      <td>1</td>\n      <td>53</td>\n      <td>47.407324</td>\n      <td>-120.575800</td>\n      <td>1</td>\n      <td>0</td>\n      <td>2.0</td>\n      <td>0.0</td>\n      <td>0.0</td>\n      <td>2.0</td>\n      <td>0.0</td>\n      <td>0.0</td>\n      <td>0.0</td>\n      <td>0.0</td>\n      <td>2020-01-22</td>\n      <td>22</td>\n      <td>1</td>\n      <td>2020</td>\n    </tr>\n    <tr>\n      <th>2</th>\n      <td>2</td>\n      <td>1/23/2020</td>\n      <td>1</td>\n      <td>53</td>\n      <td>47.407324</td>\n      <td>-120.575800</td>\n      <td>1</td>\n      <td>0</td>\n      <td>2.0</td>\n      <td>0.0</td>\n      <td>0.0</td>\n      <td>2.0</td>\n      <td>0.0</td>\n      <td>0.0</td>\n      <td>0.0</td>\n      <td>0.0</td>\n      <td>2020-01-23</td>\n      <td>23</td>\n      <td>1</td>\n      <td>2020</td>\n    </tr>\n    <tr>\n      <th>3</th>\n      <td>3</td>\n      <td>1/24/2020</td>\n      <td>1</td>\n      <td>53</td>\n      <td>47.407324</td>\n      <td>-120.575800</td>\n      <td>1</td>\n      <td>0</td>\n      <td>2.0</td>\n      <td>0.0</td>\n      <td>0.0</td>\n      <td>2.0</td>\n      <td>0.0</td>\n      <td>0.0</td>\n      <td>0.0</td>\n      <td>0.0</td>\n      <td>2020-01-24</td>\n      <td>24</td>\n      <td>1</td>\n      <td>2020</td>\n    </tr>\n    <tr>\n      <th>4</th>\n      <td>4</td>\n      <td>1/25/2020</td>\n      <td>2</td>\n      <td>59</td>\n      <td>84.562501</td>\n      <td>-240.119218</td>\n      <td>2</td>\n      <td>0</td>\n      <td>2.0</td>\n      <td>0.0</td>\n      <td>0.0</td>\n      <td>2.0</td>\n      <td>0.0</td>\n      <td>0.0</td>\n      <td>0.0</td>\n      <td>0.0</td>\n      <td>2020-01-25</td>\n      <td>25</td>\n      <td>1</td>\n      <td>2020</td>\n    </tr>\n  </tbody>\n</table>\n</div>"
     },
     "metadata": {},
     "execution_count": 31
    }
   ],
   "source": [
    "# Perform groupby operations to sum cases by day\n",
    "pacific_tally =pacific_new.groupby(['date', 'reg_sum_cases']).sum()\n",
    "pacific_tally = daily_count.reset_index()\n",
    "pacific_tally.head(5)"
   ]
  },
  {
   "cell_type": "code",
   "execution_count": 33,
   "metadata": {},
   "outputs": [
    {
     "output_type": "execute_result",
     "data": {
      "text/plain": "     index       date  reg_sum_cases  state_fips         lat        long  \\\n113    113  5/20/2020         111071         117  211.479334 -669.084353   \n11      11   2/1/2020              4          59   84.562501 -240.119218   \n185    185   7/5/2020         321668         117  211.479334 -669.084353   \n176    176  7/22/2020         493436         117  211.479334 -669.084353   \n100    100   4/9/2020          31794         117  211.479334 -669.084353   \n\n     cases_x  deaths  tests_positive  tests_negative  tests_pending  \\\n113   111071    4728        109685.0       1748420.0            0.0   \n11         4       0             4.0             0.0            0.0   \n185   321668    7980        313599.0       5446094.0            0.0   \n176   493436    9887        481581.0       7670331.0            0.0   \n100    31794    1059         31418.0        304870.0        14100.0   \n\n         tests  patients_icu  patients_hosp  patients_vent  recovered  \\\n113  1858105.0        1439.0         5017.0           17.0     2336.0   \n11         4.0           0.0            0.0            0.0        0.0   \n185  5759693.0        1959.0         7646.0           84.0     4063.0   \n176  8151912.0        2345.0         9524.0           82.0     5218.0   \n100   336288.0        1389.0         3621.0           54.0      162.0   \n\n      datetime  day  month  year  \n113 2020-05-20   20      5  2020  \n11  2020-02-01    1      2  2020  \n185 2020-07-05    5      7  2020  \n176 2020-07-22   22      7  2020  \n100 2020-04-09    9      4  2020  ",
      "text/html": "<div>\n<style scoped>\n    .dataframe tbody tr th:only-of-type {\n        vertical-align: middle;\n    }\n\n    .dataframe tbody tr th {\n        vertical-align: top;\n    }\n\n    .dataframe thead th {\n        text-align: right;\n    }\n</style>\n<table border=\"1\" class=\"dataframe\">\n  <thead>\n    <tr style=\"text-align: right;\">\n      <th></th>\n      <th>index</th>\n      <th>date</th>\n      <th>reg_sum_cases</th>\n      <th>state_fips</th>\n      <th>lat</th>\n      <th>long</th>\n      <th>cases_x</th>\n      <th>deaths</th>\n      <th>tests_positive</th>\n      <th>tests_negative</th>\n      <th>tests_pending</th>\n      <th>tests</th>\n      <th>patients_icu</th>\n      <th>patients_hosp</th>\n      <th>patients_vent</th>\n      <th>recovered</th>\n      <th>datetime</th>\n      <th>day</th>\n      <th>month</th>\n      <th>year</th>\n    </tr>\n  </thead>\n  <tbody>\n    <tr>\n      <th>113</th>\n      <td>113</td>\n      <td>5/20/2020</td>\n      <td>111071</td>\n      <td>117</td>\n      <td>211.479334</td>\n      <td>-669.084353</td>\n      <td>111071</td>\n      <td>4728</td>\n      <td>109685.0</td>\n      <td>1748420.0</td>\n      <td>0.0</td>\n      <td>1858105.0</td>\n      <td>1439.0</td>\n      <td>5017.0</td>\n      <td>17.0</td>\n      <td>2336.0</td>\n      <td>2020-05-20</td>\n      <td>20</td>\n      <td>5</td>\n      <td>2020</td>\n    </tr>\n    <tr>\n      <th>11</th>\n      <td>11</td>\n      <td>2/1/2020</td>\n      <td>4</td>\n      <td>59</td>\n      <td>84.562501</td>\n      <td>-240.119218</td>\n      <td>4</td>\n      <td>0</td>\n      <td>4.0</td>\n      <td>0.0</td>\n      <td>0.0</td>\n      <td>4.0</td>\n      <td>0.0</td>\n      <td>0.0</td>\n      <td>0.0</td>\n      <td>0.0</td>\n      <td>2020-02-01</td>\n      <td>1</td>\n      <td>2</td>\n      <td>2020</td>\n    </tr>\n    <tr>\n      <th>185</th>\n      <td>185</td>\n      <td>7/5/2020</td>\n      <td>321668</td>\n      <td>117</td>\n      <td>211.479334</td>\n      <td>-669.084353</td>\n      <td>321668</td>\n      <td>7980</td>\n      <td>313599.0</td>\n      <td>5446094.0</td>\n      <td>0.0</td>\n      <td>5759693.0</td>\n      <td>1959.0</td>\n      <td>7646.0</td>\n      <td>84.0</td>\n      <td>4063.0</td>\n      <td>2020-07-05</td>\n      <td>5</td>\n      <td>7</td>\n      <td>2020</td>\n    </tr>\n    <tr>\n      <th>176</th>\n      <td>176</td>\n      <td>7/22/2020</td>\n      <td>493436</td>\n      <td>117</td>\n      <td>211.479334</td>\n      <td>-669.084353</td>\n      <td>493436</td>\n      <td>9887</td>\n      <td>481581.0</td>\n      <td>7670331.0</td>\n      <td>0.0</td>\n      <td>8151912.0</td>\n      <td>2345.0</td>\n      <td>9524.0</td>\n      <td>82.0</td>\n      <td>5218.0</td>\n      <td>2020-07-22</td>\n      <td>22</td>\n      <td>7</td>\n      <td>2020</td>\n    </tr>\n    <tr>\n      <th>100</th>\n      <td>100</td>\n      <td>4/9/2020</td>\n      <td>31794</td>\n      <td>117</td>\n      <td>211.479334</td>\n      <td>-669.084353</td>\n      <td>31794</td>\n      <td>1059</td>\n      <td>31418.0</td>\n      <td>304870.0</td>\n      <td>14100.0</td>\n      <td>336288.0</td>\n      <td>1389.0</td>\n      <td>3621.0</td>\n      <td>54.0</td>\n      <td>162.0</td>\n      <td>2020-04-09</td>\n      <td>9</td>\n      <td>4</td>\n      <td>2020</td>\n    </tr>\n  </tbody>\n</table>\n</div>"
     },
     "metadata": {},
     "execution_count": 33
    }
   ],
   "source": [
    "# now finsh date time conversion\n",
    "pacific_tally['datetime'] = pd.to_datetime(daily_count['date'])\n",
    "pacific_tally[\"day\"] = daily_count['datetime'].map(lambda x: x.day)\n",
    "pacific_tally[\"month\"] = daily_count['datetime'].map(lambda x: x.month)\n",
    "pacific_tally[\"year\"] = daily_count['datetime'].map(lambda x: x.year)\n",
    "pacific_tally.sample(5)"
   ]
  },
  {
   "cell_type": "code",
   "execution_count": null,
   "metadata": {},
   "outputs": [],
   "source": []
  },
  {
   "cell_type": "code",
   "execution_count": null,
   "metadata": {},
   "outputs": [],
   "source": []
  }
 ],
 "metadata": {
  "kernelspec": {
   "display_name": "Python 3",
   "language": "python",
   "name": "python3"
  },
  "language_info": {
   "codemirror_mode": {
    "name": "ipython",
    "version": 3
   },
   "file_extension": ".py",
   "mimetype": "text/x-python",
   "name": "python",
   "nbconvert_exporter": "python",
   "pygments_lexer": "ipython3",
   "version": "3.8.5"
  }
 },
 "nbformat": 4,
 "nbformat_minor": 4
}