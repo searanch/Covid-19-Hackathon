{
 "cells": [
  {
   "cell_type": "markdown",
   "metadata": {},
   "source": [
    "# Segmenting Covid-19 Data into Regions and SubRegions"
   ]
  },
  {
   "cell_type": "markdown",
   "metadata": {},
   "source": [
    "NorthEast Region:\n",
    "New England (Connecticut, Maine, Massachusetts, New Hampshire, Rhode Island, and Vermont)\n",
    "\n"
   ]
  },
  {
   "cell_type": "code",
   "execution_count": 5,
   "metadata": {},
   "outputs": [],
   "source": [
    "import pandas as pd\n",
    "#from pandas_profiling import ProfileReport\n"
   ]
  },
  {
   "cell_type": "code",
   "execution_count": 6,
   "metadata": {},
   "outputs": [
    {
     "output_type": "execute_result",
     "data": {
      "text/plain": "   state_fips state_name        lat       long      date   cases  deaths  \\\n0          36   New York  42.913397 -75.596272  7/1/2020  398770   31791   \n1          36   New York  42.913397 -75.596272  7/2/2020  399642   31814   \n2          36   New York  42.913397 -75.596272  7/3/2020  400561   31836   \n3          36   New York  42.913397 -75.596272  7/4/2020  401286   31860   \n4          36   New York  42.913397 -75.596272  7/5/2020  401822   31895   \n\n   tests_positive  tests_negative  tests_pending      tests  patients_icu  \\\n0        394079.0       3577569.0            NaN  3971648.0         226.0   \n1        394954.0       3646639.0            NaN  4041593.0         209.0   \n2        395872.0       3712113.0            NaN  4107985.0         188.0   \n3        396598.0       3773790.0            NaN  4170388.0         190.0   \n4        397131.0       3836672.0            NaN  4233803.0         178.0   \n\n   patients_hosp  patients_vent  recovered  \n0          879.0          139.0    70590.0  \n1          878.0          129.0    70698.0  \n2          857.0          125.0    70794.0  \n3          844.0          119.0    70877.0  \n4          832.0          116.0    70968.0  ",
      "text/html": "<div>\n<style scoped>\n    .dataframe tbody tr th:only-of-type {\n        vertical-align: middle;\n    }\n\n    .dataframe tbody tr th {\n        vertical-align: top;\n    }\n\n    .dataframe thead th {\n        text-align: right;\n    }\n</style>\n<table border=\"1\" class=\"dataframe\">\n  <thead>\n    <tr style=\"text-align: right;\">\n      <th></th>\n      <th>state_fips</th>\n      <th>state_name</th>\n      <th>lat</th>\n      <th>long</th>\n      <th>date</th>\n      <th>cases</th>\n      <th>deaths</th>\n      <th>tests_positive</th>\n      <th>tests_negative</th>\n      <th>tests_pending</th>\n      <th>tests</th>\n      <th>patients_icu</th>\n      <th>patients_hosp</th>\n      <th>patients_vent</th>\n      <th>recovered</th>\n    </tr>\n  </thead>\n  <tbody>\n    <tr>\n      <th>0</th>\n      <td>36</td>\n      <td>New York</td>\n      <td>42.913397</td>\n      <td>-75.596272</td>\n      <td>7/1/2020</td>\n      <td>398770</td>\n      <td>31791</td>\n      <td>394079.0</td>\n      <td>3577569.0</td>\n      <td>NaN</td>\n      <td>3971648.0</td>\n      <td>226.0</td>\n      <td>879.0</td>\n      <td>139.0</td>\n      <td>70590.0</td>\n    </tr>\n    <tr>\n      <th>1</th>\n      <td>36</td>\n      <td>New York</td>\n      <td>42.913397</td>\n      <td>-75.596272</td>\n      <td>7/2/2020</td>\n      <td>399642</td>\n      <td>31814</td>\n      <td>394954.0</td>\n      <td>3646639.0</td>\n      <td>NaN</td>\n      <td>4041593.0</td>\n      <td>209.0</td>\n      <td>878.0</td>\n      <td>129.0</td>\n      <td>70698.0</td>\n    </tr>\n    <tr>\n      <th>2</th>\n      <td>36</td>\n      <td>New York</td>\n      <td>42.913397</td>\n      <td>-75.596272</td>\n      <td>7/3/2020</td>\n      <td>400561</td>\n      <td>31836</td>\n      <td>395872.0</td>\n      <td>3712113.0</td>\n      <td>NaN</td>\n      <td>4107985.0</td>\n      <td>188.0</td>\n      <td>857.0</td>\n      <td>125.0</td>\n      <td>70794.0</td>\n    </tr>\n    <tr>\n      <th>3</th>\n      <td>36</td>\n      <td>New York</td>\n      <td>42.913397</td>\n      <td>-75.596272</td>\n      <td>7/4/2020</td>\n      <td>401286</td>\n      <td>31860</td>\n      <td>396598.0</td>\n      <td>3773790.0</td>\n      <td>NaN</td>\n      <td>4170388.0</td>\n      <td>190.0</td>\n      <td>844.0</td>\n      <td>119.0</td>\n      <td>70877.0</td>\n    </tr>\n    <tr>\n      <th>4</th>\n      <td>36</td>\n      <td>New York</td>\n      <td>42.913397</td>\n      <td>-75.596272</td>\n      <td>7/5/2020</td>\n      <td>401822</td>\n      <td>31895</td>\n      <td>397131.0</td>\n      <td>3836672.0</td>\n      <td>NaN</td>\n      <td>4233803.0</td>\n      <td>178.0</td>\n      <td>832.0</td>\n      <td>116.0</td>\n      <td>70968.0</td>\n    </tr>\n  </tbody>\n</table>\n</div>"
     },
     "metadata": {},
     "execution_count": 6
    }
   ],
   "source": [
    "# Load enigma dataset.\n",
    "usa = pd.read_csv('enigma_Aug_8_2020.csv')\n",
    "usa.head()\n"
   ]
  },
  {
   "cell_type": "code",
   "execution_count": 11,
   "metadata": {},
   "outputs": [
    {
     "data": {
      "application/vnd.jupyter.widget-view+json": {
       "model_id": "0abfca0d3e284c899312a380965e757a",
       "version_major": 2,
       "version_minor": 0
      },
      "text/plain": [
       "HBox(children=(FloatProgress(value=0.0, description='Summarize dataset', max=29.0, style=ProgressStyle(descrip…"
      ]
     },
     "metadata": {},
     "output_type": "display_data"
    },
    {
     "name": "stdout",
     "output_type": "stream",
     "text": [
      "\n"
     ]
    },
    {
     "data": {
      "application/vnd.jupyter.widget-view+json": {
       "model_id": "c265deb4dd7448d68d64438a3f00cf89",
       "version_major": 2,
       "version_minor": 0
      },
      "text/plain": [
       "HBox(children=(FloatProgress(value=0.0, description='Generate report structure', max=1.0, style=ProgressStyle(…"
      ]
     },
     "metadata": {},
     "output_type": "display_data"
    },
    {
     "name": "stdout",
     "output_type": "stream",
     "text": [
      "\n"
     ]
    },
    {
     "data": {
      "application/vnd.jupyter.widget-view+json": {
       "model_id": "6030c5643b5c480c9c3b47a5580c25ee",
       "version_major": 2,
       "version_minor": 0
      },
      "text/plain": [
       "HBox(children=(FloatProgress(value=0.0, description='Render HTML', max=1.0, style=ProgressStyle(description_wi…"
      ]
     },
     "metadata": {},
     "output_type": "display_data"
    },
    {
     "name": "stdout",
     "output_type": "stream",
     "text": [
      "\n"
     ]
    },
    {
     "data": {
      "application/vnd.jupyter.widget-view+json": {
       "model_id": "41942fb77ce041ada055e64e49d27b93",
       "version_major": 2,
       "version_minor": 0
      },
      "text/plain": [
       "HBox(children=(FloatProgress(value=0.0, description='Export report to file', max=1.0, style=ProgressStyle(desc…"
      ]
     },
     "metadata": {},
     "output_type": "display_data"
    },
    {
     "name": "stdout",
     "output_type": "stream",
     "text": [
      "\n"
     ]
    }
   ],
   "source": [
    "profile = ProfileReport(usa, title=\"Pandas Profiling Report\")\n",
    "profile\n",
    "profile.to_file(\"explore_enigma_data.html\")"
   ]
  },
  {
   "cell_type": "code",
   "execution_count": 7,
   "metadata": {},
   "outputs": [
    {
     "output_type": "execute_result",
     "data": {
      "text/plain": "      state_fips                                    state_name        lat  \\\n1789          49                                          Utah  39.334992   \n5791          20                                        Kansas  38.498546   \n1342          47                                     Tennessee  35.860803   \n6997          28                                   Mississippi  32.686471   \n2925          69  Commonwealth of the Northern Mariana Islands  14.936783   \n\n            long       date  cases  deaths  tests_positive  tests_negative  \\\n1789 -111.656333  7/13/2020  30282     216         30030.0        388305.0   \n5791  -98.383430  6/22/2020  12576     260         12465.0        142548.0   \n1342  -86.349990  3/11/2020      8       0             7.0            50.0   \n6997  -89.656138  7/21/2020  45524    1389         45524.0        349674.0   \n2925  145.601021  5/24/2020     22       2            22.0          4735.0   \n\n      tests_pending     tests  patients_icu  patients_hosp  patients_vent  \\\n1789            NaN  418335.0          86.0          252.0            NaN   \n5791            NaN  155013.0           NaN            NaN            NaN   \n1342            NaN      57.0           NaN            NaN            NaN   \n6997            NaN  395198.0         293.0         1154.0          140.0   \n2925            NaN    4757.0           NaN            NaN            NaN   \n\n      recovered   datetime  day  month  year  \n1789    17728.0 2020-07-13   13      7  2020  \n5791      722.0 2020-06-22   22      6  2020  \n1342        NaN 2020-03-11   11      3  2020  \n6997    30315.0 2020-07-21   21      7  2020  \n2925       13.0 2020-05-24   24      5  2020  ",
      "text/html": "<div>\n<style scoped>\n    .dataframe tbody tr th:only-of-type {\n        vertical-align: middle;\n    }\n\n    .dataframe tbody tr th {\n        vertical-align: top;\n    }\n\n    .dataframe thead th {\n        text-align: right;\n    }\n</style>\n<table border=\"1\" class=\"dataframe\">\n  <thead>\n    <tr style=\"text-align: right;\">\n      <th></th>\n      <th>state_fips</th>\n      <th>state_name</th>\n      <th>lat</th>\n      <th>long</th>\n      <th>date</th>\n      <th>cases</th>\n      <th>deaths</th>\n      <th>tests_positive</th>\n      <th>tests_negative</th>\n      <th>tests_pending</th>\n      <th>tests</th>\n      <th>patients_icu</th>\n      <th>patients_hosp</th>\n      <th>patients_vent</th>\n      <th>recovered</th>\n      <th>datetime</th>\n      <th>day</th>\n      <th>month</th>\n      <th>year</th>\n    </tr>\n  </thead>\n  <tbody>\n    <tr>\n      <th>1789</th>\n      <td>49</td>\n      <td>Utah</td>\n      <td>39.334992</td>\n      <td>-111.656333</td>\n      <td>7/13/2020</td>\n      <td>30282</td>\n      <td>216</td>\n      <td>30030.0</td>\n      <td>388305.0</td>\n      <td>NaN</td>\n      <td>418335.0</td>\n      <td>86.0</td>\n      <td>252.0</td>\n      <td>NaN</td>\n      <td>17728.0</td>\n      <td>2020-07-13</td>\n      <td>13</td>\n      <td>7</td>\n      <td>2020</td>\n    </tr>\n    <tr>\n      <th>5791</th>\n      <td>20</td>\n      <td>Kansas</td>\n      <td>38.498546</td>\n      <td>-98.383430</td>\n      <td>6/22/2020</td>\n      <td>12576</td>\n      <td>260</td>\n      <td>12465.0</td>\n      <td>142548.0</td>\n      <td>NaN</td>\n      <td>155013.0</td>\n      <td>NaN</td>\n      <td>NaN</td>\n      <td>NaN</td>\n      <td>722.0</td>\n      <td>2020-06-22</td>\n      <td>22</td>\n      <td>6</td>\n      <td>2020</td>\n    </tr>\n    <tr>\n      <th>1342</th>\n      <td>47</td>\n      <td>Tennessee</td>\n      <td>35.860803</td>\n      <td>-86.349990</td>\n      <td>3/11/2020</td>\n      <td>8</td>\n      <td>0</td>\n      <td>7.0</td>\n      <td>50.0</td>\n      <td>NaN</td>\n      <td>57.0</td>\n      <td>NaN</td>\n      <td>NaN</td>\n      <td>NaN</td>\n      <td>NaN</td>\n      <td>2020-03-11</td>\n      <td>11</td>\n      <td>3</td>\n      <td>2020</td>\n    </tr>\n    <tr>\n      <th>6997</th>\n      <td>28</td>\n      <td>Mississippi</td>\n      <td>32.686471</td>\n      <td>-89.656138</td>\n      <td>7/21/2020</td>\n      <td>45524</td>\n      <td>1389</td>\n      <td>45524.0</td>\n      <td>349674.0</td>\n      <td>NaN</td>\n      <td>395198.0</td>\n      <td>293.0</td>\n      <td>1154.0</td>\n      <td>140.0</td>\n      <td>30315.0</td>\n      <td>2020-07-21</td>\n      <td>21</td>\n      <td>7</td>\n      <td>2020</td>\n    </tr>\n    <tr>\n      <th>2925</th>\n      <td>69</td>\n      <td>Commonwealth of the Northern Mariana Islands</td>\n      <td>14.936783</td>\n      <td>145.601021</td>\n      <td>5/24/2020</td>\n      <td>22</td>\n      <td>2</td>\n      <td>22.0</td>\n      <td>4735.0</td>\n      <td>NaN</td>\n      <td>4757.0</td>\n      <td>NaN</td>\n      <td>NaN</td>\n      <td>NaN</td>\n      <td>13.0</td>\n      <td>2020-05-24</td>\n      <td>24</td>\n      <td>5</td>\n      <td>2020</td>\n    </tr>\n  </tbody>\n</table>\n</div>"
     },
     "metadata": {},
     "execution_count": 7
    }
   ],
   "source": [
    "# Convert to Datetime\n",
    "usa['datetime'] = pd.to_datetime(usa['date'])\n",
    "usa[\"day\"] = usa['datetime'].map(lambda x: x.day)\n",
    "usa[\"month\"] = usa['datetime'].map(lambda x: x.month)\n",
    "usa[\"year\"] = usa['datetime'].map(lambda x: x.year)\n",
    "usa.sample(5)"
   ]
  },
  {
   "cell_type": "markdown",
   "metadata": {},
   "source": [
    "NorthEast Region:\n",
    "New England Divsion 1 (Connecticut, Maine, Massachusetts, New Hampshire, Rhode Island, and Vermont)"
   ]
  },
  {
   "cell_type": "code",
   "execution_count": 8,
   "metadata": {},
   "outputs": [
    {
     "output_type": "execute_result",
     "data": {
      "text/plain": "     state_fips    state_name        lat       long      date  cases  deaths  \\\n900          44  Rhode Island  41.597419 -71.527272  3/1/2020      2       0   \n901          44  Rhode Island  41.597419 -71.527272  3/2/2020      2       0   \n902          44  Rhode Island  41.597419 -71.527272  3/3/2020      2       0   \n903          44  Rhode Island  41.597419 -71.527272  3/4/2020      2       0   \n904          44  Rhode Island  41.597419 -71.527272  3/5/2020      2       0   \n\n     tests_positive  tests_negative  tests_pending  tests  patients_icu  \\\n900             2.0             2.0            NaN    4.0           NaN   \n901             2.0             3.0            NaN    5.0           NaN   \n902             2.0             5.0            NaN    7.0           NaN   \n903             2.0            15.0            NaN   17.0           NaN   \n904             3.0            19.0            NaN   22.0           NaN   \n\n     patients_hosp  patients_vent  recovered   datetime  day  month  year  \n900            NaN            NaN        NaN 2020-03-01    1      3  2020  \n901            NaN            NaN        NaN 2020-03-02    2      3  2020  \n902            NaN            NaN        NaN 2020-03-03    3      3  2020  \n903            NaN            NaN        NaN 2020-03-04    4      3  2020  \n904            NaN            NaN        NaN 2020-03-05    5      3  2020  ",
      "text/html": "<div>\n<style scoped>\n    .dataframe tbody tr th:only-of-type {\n        vertical-align: middle;\n    }\n\n    .dataframe tbody tr th {\n        vertical-align: top;\n    }\n\n    .dataframe thead th {\n        text-align: right;\n    }\n</style>\n<table border=\"1\" class=\"dataframe\">\n  <thead>\n    <tr style=\"text-align: right;\">\n      <th></th>\n      <th>state_fips</th>\n      <th>state_name</th>\n      <th>lat</th>\n      <th>long</th>\n      <th>date</th>\n      <th>cases</th>\n      <th>deaths</th>\n      <th>tests_positive</th>\n      <th>tests_negative</th>\n      <th>tests_pending</th>\n      <th>tests</th>\n      <th>patients_icu</th>\n      <th>patients_hosp</th>\n      <th>patients_vent</th>\n      <th>recovered</th>\n      <th>datetime</th>\n      <th>day</th>\n      <th>month</th>\n      <th>year</th>\n    </tr>\n  </thead>\n  <tbody>\n    <tr>\n      <th>900</th>\n      <td>44</td>\n      <td>Rhode Island</td>\n      <td>41.597419</td>\n      <td>-71.527272</td>\n      <td>3/1/2020</td>\n      <td>2</td>\n      <td>0</td>\n      <td>2.0</td>\n      <td>2.0</td>\n      <td>NaN</td>\n      <td>4.0</td>\n      <td>NaN</td>\n      <td>NaN</td>\n      <td>NaN</td>\n      <td>NaN</td>\n      <td>2020-03-01</td>\n      <td>1</td>\n      <td>3</td>\n      <td>2020</td>\n    </tr>\n    <tr>\n      <th>901</th>\n      <td>44</td>\n      <td>Rhode Island</td>\n      <td>41.597419</td>\n      <td>-71.527272</td>\n      <td>3/2/2020</td>\n      <td>2</td>\n      <td>0</td>\n      <td>2.0</td>\n      <td>3.0</td>\n      <td>NaN</td>\n      <td>5.0</td>\n      <td>NaN</td>\n      <td>NaN</td>\n      <td>NaN</td>\n      <td>NaN</td>\n      <td>2020-03-02</td>\n      <td>2</td>\n      <td>3</td>\n      <td>2020</td>\n    </tr>\n    <tr>\n      <th>902</th>\n      <td>44</td>\n      <td>Rhode Island</td>\n      <td>41.597419</td>\n      <td>-71.527272</td>\n      <td>3/3/2020</td>\n      <td>2</td>\n      <td>0</td>\n      <td>2.0</td>\n      <td>5.0</td>\n      <td>NaN</td>\n      <td>7.0</td>\n      <td>NaN</td>\n      <td>NaN</td>\n      <td>NaN</td>\n      <td>NaN</td>\n      <td>2020-03-03</td>\n      <td>3</td>\n      <td>3</td>\n      <td>2020</td>\n    </tr>\n    <tr>\n      <th>903</th>\n      <td>44</td>\n      <td>Rhode Island</td>\n      <td>41.597419</td>\n      <td>-71.527272</td>\n      <td>3/4/2020</td>\n      <td>2</td>\n      <td>0</td>\n      <td>2.0</td>\n      <td>15.0</td>\n      <td>NaN</td>\n      <td>17.0</td>\n      <td>NaN</td>\n      <td>NaN</td>\n      <td>NaN</td>\n      <td>NaN</td>\n      <td>2020-03-04</td>\n      <td>4</td>\n      <td>3</td>\n      <td>2020</td>\n    </tr>\n    <tr>\n      <th>904</th>\n      <td>44</td>\n      <td>Rhode Island</td>\n      <td>41.597419</td>\n      <td>-71.527272</td>\n      <td>3/5/2020</td>\n      <td>2</td>\n      <td>0</td>\n      <td>3.0</td>\n      <td>19.0</td>\n      <td>NaN</td>\n      <td>22.0</td>\n      <td>NaN</td>\n      <td>NaN</td>\n      <td>NaN</td>\n      <td>NaN</td>\n      <td>2020-03-05</td>\n      <td>5</td>\n      <td>3</td>\n      <td>2020</td>\n    </tr>\n  </tbody>\n</table>\n</div>"
     },
     "metadata": {},
     "execution_count": 8
    }
   ],
   "source": [
    "# Created DF based New Englend Divsion\n",
    "new_englend = usa[(usa['state_name']==\"Connecticut\") | (usa['state_name'] == 'Maine') |\n",
    "                      (usa['state_name'] == 'Massachusetts') | (usa['state_name'] == 'New Hampshire') | \\\n",
    "                     (usa['state_name']=='Rhode Island')| (usa['state_name'] =='Vermont')]\n",
    "new_englend.head()"
   ]
  },
  {
   "cell_type": "markdown",
   "metadata": {},
   "source": [
    "NorthEast Region\n",
    "Mid-Atlantic Divsion 2 (New Jersey, New York, and Pennsylvania)"
   ]
  },
  {
   "cell_type": "code",
   "execution_count": 9,
   "metadata": {},
   "outputs": [
    {
     "output_type": "execute_result",
     "data": {
      "text/plain": "   state_fips state_name        lat       long      date   cases  deaths  \\\n0          36   New York  42.913397 -75.596272  7/1/2020  398770   31791   \n1          36   New York  42.913397 -75.596272  7/2/2020  399642   31814   \n2          36   New York  42.913397 -75.596272  7/3/2020  400561   31836   \n3          36   New York  42.913397 -75.596272  7/4/2020  401286   31860   \n4          36   New York  42.913397 -75.596272  7/5/2020  401822   31895   \n\n   tests_positive  tests_negative  tests_pending      tests  patients_icu  \\\n0        394079.0       3577569.0            NaN  3971648.0         226.0   \n1        394954.0       3646639.0            NaN  4041593.0         209.0   \n2        395872.0       3712113.0            NaN  4107985.0         188.0   \n3        396598.0       3773790.0            NaN  4170388.0         190.0   \n4        397131.0       3836672.0            NaN  4233803.0         178.0   \n\n   patients_hosp  patients_vent  recovered   datetime  day  month  year  \n0          879.0          139.0    70590.0 2020-07-01    1      7  2020  \n1          878.0          129.0    70698.0 2020-07-02    2      7  2020  \n2          857.0          125.0    70794.0 2020-07-03    3      7  2020  \n3          844.0          119.0    70877.0 2020-07-04    4      7  2020  \n4          832.0          116.0    70968.0 2020-07-05    5      7  2020  ",
      "text/html": "<div>\n<style scoped>\n    .dataframe tbody tr th:only-of-type {\n        vertical-align: middle;\n    }\n\n    .dataframe tbody tr th {\n        vertical-align: top;\n    }\n\n    .dataframe thead th {\n        text-align: right;\n    }\n</style>\n<table border=\"1\" class=\"dataframe\">\n  <thead>\n    <tr style=\"text-align: right;\">\n      <th></th>\n      <th>state_fips</th>\n      <th>state_name</th>\n      <th>lat</th>\n      <th>long</th>\n      <th>date</th>\n      <th>cases</th>\n      <th>deaths</th>\n      <th>tests_positive</th>\n      <th>tests_negative</th>\n      <th>tests_pending</th>\n      <th>tests</th>\n      <th>patients_icu</th>\n      <th>patients_hosp</th>\n      <th>patients_vent</th>\n      <th>recovered</th>\n      <th>datetime</th>\n      <th>day</th>\n      <th>month</th>\n      <th>year</th>\n    </tr>\n  </thead>\n  <tbody>\n    <tr>\n      <th>0</th>\n      <td>36</td>\n      <td>New York</td>\n      <td>42.913397</td>\n      <td>-75.596272</td>\n      <td>7/1/2020</td>\n      <td>398770</td>\n      <td>31791</td>\n      <td>394079.0</td>\n      <td>3577569.0</td>\n      <td>NaN</td>\n      <td>3971648.0</td>\n      <td>226.0</td>\n      <td>879.0</td>\n      <td>139.0</td>\n      <td>70590.0</td>\n      <td>2020-07-01</td>\n      <td>1</td>\n      <td>7</td>\n      <td>2020</td>\n    </tr>\n    <tr>\n      <th>1</th>\n      <td>36</td>\n      <td>New York</td>\n      <td>42.913397</td>\n      <td>-75.596272</td>\n      <td>7/2/2020</td>\n      <td>399642</td>\n      <td>31814</td>\n      <td>394954.0</td>\n      <td>3646639.0</td>\n      <td>NaN</td>\n      <td>4041593.0</td>\n      <td>209.0</td>\n      <td>878.0</td>\n      <td>129.0</td>\n      <td>70698.0</td>\n      <td>2020-07-02</td>\n      <td>2</td>\n      <td>7</td>\n      <td>2020</td>\n    </tr>\n    <tr>\n      <th>2</th>\n      <td>36</td>\n      <td>New York</td>\n      <td>42.913397</td>\n      <td>-75.596272</td>\n      <td>7/3/2020</td>\n      <td>400561</td>\n      <td>31836</td>\n      <td>395872.0</td>\n      <td>3712113.0</td>\n      <td>NaN</td>\n      <td>4107985.0</td>\n      <td>188.0</td>\n      <td>857.0</td>\n      <td>125.0</td>\n      <td>70794.0</td>\n      <td>2020-07-03</td>\n      <td>3</td>\n      <td>7</td>\n      <td>2020</td>\n    </tr>\n    <tr>\n      <th>3</th>\n      <td>36</td>\n      <td>New York</td>\n      <td>42.913397</td>\n      <td>-75.596272</td>\n      <td>7/4/2020</td>\n      <td>401286</td>\n      <td>31860</td>\n      <td>396598.0</td>\n      <td>3773790.0</td>\n      <td>NaN</td>\n      <td>4170388.0</td>\n      <td>190.0</td>\n      <td>844.0</td>\n      <td>119.0</td>\n      <td>70877.0</td>\n      <td>2020-07-04</td>\n      <td>4</td>\n      <td>7</td>\n      <td>2020</td>\n    </tr>\n    <tr>\n      <th>4</th>\n      <td>36</td>\n      <td>New York</td>\n      <td>42.913397</td>\n      <td>-75.596272</td>\n      <td>7/5/2020</td>\n      <td>401822</td>\n      <td>31895</td>\n      <td>397131.0</td>\n      <td>3836672.0</td>\n      <td>NaN</td>\n      <td>4233803.0</td>\n      <td>178.0</td>\n      <td>832.0</td>\n      <td>116.0</td>\n      <td>70968.0</td>\n      <td>2020-07-05</td>\n      <td>5</td>\n      <td>7</td>\n      <td>2020</td>\n    </tr>\n  </tbody>\n</table>\n</div>"
     },
     "metadata": {},
     "execution_count": 9
    }
   ],
   "source": [
    "# Create DF based on Mid Atlantic Divsion\n",
    "mid_atlantic = usa[(usa['state_name']==\"New Jersey\") | (usa['state_name'] == 'New York') |\n",
    "                      (usa['state_name'] == 'Pennsylvania')]\n",
    "mid_atlantic.head()"
   ]
  },
  {
   "cell_type": "markdown",
   "metadata": {},
   "source": [
    "Midwest Region\n",
    "Division 3: East North Central (Illinois, Indiana, Michigan, Ohio, and Wisconsin)"
   ]
  },
  {
   "cell_type": "code",
   "execution_count": 10,
   "metadata": {},
   "outputs": [
    {
     "output_type": "execute_result",
     "data": {
      "text/plain": "     state_fips state_name       lat       long       date  cases  deaths  \\\n316          39       Ohio  40.41493 -82.711997   3/9/2020      3       0   \n317          39       Ohio  40.41493 -82.711997  3/10/2020      3       0   \n318          39       Ohio  40.41493 -82.711997  3/11/2020      4       0   \n319          39       Ohio  40.41493 -82.711997  3/12/2020      5       0   \n320          39       Ohio  40.41493 -82.711997  3/13/2020     13       0   \n\n     tests_positive  tests_negative  tests_pending  tests  patients_icu  \\\n316             3.0            11.0            5.0   14.0           NaN   \n317             3.0            14.0           15.0   17.0           NaN   \n318             4.0            21.0           24.0   25.0           NaN   \n319             5.0            30.0           52.0   35.0           NaN   \n320            13.0            50.0          159.0   63.0           NaN   \n\n     patients_hosp  patients_vent  recovered   datetime  day  month  year  \n316            NaN            NaN        NaN 2020-03-09    9      3  2020  \n317            NaN            NaN        NaN 2020-03-10   10      3  2020  \n318            NaN            NaN        NaN 2020-03-11   11      3  2020  \n319            NaN            NaN        NaN 2020-03-12   12      3  2020  \n320            NaN            NaN        NaN 2020-03-13   13      3  2020  ",
      "text/html": "<div>\n<style scoped>\n    .dataframe tbody tr th:only-of-type {\n        vertical-align: middle;\n    }\n\n    .dataframe tbody tr th {\n        vertical-align: top;\n    }\n\n    .dataframe thead th {\n        text-align: right;\n    }\n</style>\n<table border=\"1\" class=\"dataframe\">\n  <thead>\n    <tr style=\"text-align: right;\">\n      <th></th>\n      <th>state_fips</th>\n      <th>state_name</th>\n      <th>lat</th>\n      <th>long</th>\n      <th>date</th>\n      <th>cases</th>\n      <th>deaths</th>\n      <th>tests_positive</th>\n      <th>tests_negative</th>\n      <th>tests_pending</th>\n      <th>tests</th>\n      <th>patients_icu</th>\n      <th>patients_hosp</th>\n      <th>patients_vent</th>\n      <th>recovered</th>\n      <th>datetime</th>\n      <th>day</th>\n      <th>month</th>\n      <th>year</th>\n    </tr>\n  </thead>\n  <tbody>\n    <tr>\n      <th>316</th>\n      <td>39</td>\n      <td>Ohio</td>\n      <td>40.41493</td>\n      <td>-82.711997</td>\n      <td>3/9/2020</td>\n      <td>3</td>\n      <td>0</td>\n      <td>3.0</td>\n      <td>11.0</td>\n      <td>5.0</td>\n      <td>14.0</td>\n      <td>NaN</td>\n      <td>NaN</td>\n      <td>NaN</td>\n      <td>NaN</td>\n      <td>2020-03-09</td>\n      <td>9</td>\n      <td>3</td>\n      <td>2020</td>\n    </tr>\n    <tr>\n      <th>317</th>\n      <td>39</td>\n      <td>Ohio</td>\n      <td>40.41493</td>\n      <td>-82.711997</td>\n      <td>3/10/2020</td>\n      <td>3</td>\n      <td>0</td>\n      <td>3.0</td>\n      <td>14.0</td>\n      <td>15.0</td>\n      <td>17.0</td>\n      <td>NaN</td>\n      <td>NaN</td>\n      <td>NaN</td>\n      <td>NaN</td>\n      <td>2020-03-10</td>\n      <td>10</td>\n      <td>3</td>\n      <td>2020</td>\n    </tr>\n    <tr>\n      <th>318</th>\n      <td>39</td>\n      <td>Ohio</td>\n      <td>40.41493</td>\n      <td>-82.711997</td>\n      <td>3/11/2020</td>\n      <td>4</td>\n      <td>0</td>\n      <td>4.0</td>\n      <td>21.0</td>\n      <td>24.0</td>\n      <td>25.0</td>\n      <td>NaN</td>\n      <td>NaN</td>\n      <td>NaN</td>\n      <td>NaN</td>\n      <td>2020-03-11</td>\n      <td>11</td>\n      <td>3</td>\n      <td>2020</td>\n    </tr>\n    <tr>\n      <th>319</th>\n      <td>39</td>\n      <td>Ohio</td>\n      <td>40.41493</td>\n      <td>-82.711997</td>\n      <td>3/12/2020</td>\n      <td>5</td>\n      <td>0</td>\n      <td>5.0</td>\n      <td>30.0</td>\n      <td>52.0</td>\n      <td>35.0</td>\n      <td>NaN</td>\n      <td>NaN</td>\n      <td>NaN</td>\n      <td>NaN</td>\n      <td>2020-03-12</td>\n      <td>12</td>\n      <td>3</td>\n      <td>2020</td>\n    </tr>\n    <tr>\n      <th>320</th>\n      <td>39</td>\n      <td>Ohio</td>\n      <td>40.41493</td>\n      <td>-82.711997</td>\n      <td>3/13/2020</td>\n      <td>13</td>\n      <td>0</td>\n      <td>13.0</td>\n      <td>50.0</td>\n      <td>159.0</td>\n      <td>63.0</td>\n      <td>NaN</td>\n      <td>NaN</td>\n      <td>NaN</td>\n      <td>NaN</td>\n      <td>2020-03-13</td>\n      <td>13</td>\n      <td>3</td>\n      <td>2020</td>\n    </tr>\n  </tbody>\n</table>\n</div>"
     },
     "metadata": {},
     "execution_count": 10
    }
   ],
   "source": [
    "# Created DF based New Englend Divsion\n",
    "east_north_central = usa[(usa['state_name']=='Illinois') | (usa['state_name'] == 'Indiana') |\n",
    "                      (usa['state_name'] == 'Michigan') | (usa['state_name'] == 'Ohio') | \\\n",
    "                     (usa['state_name']=='Wisconsin')]\n",
    "east_north_central.head()"
   ]
  },
  {
   "cell_type": "markdown",
   "metadata": {},
   "source": [
    " West North Central Divsion 4 (Iowa, Kansas, Minnesota, Missouri, Nebraska, North Dakota, and South Dakota)"
   ]
  },
  {
   "cell_type": "code",
   "execution_count": 11,
   "metadata": {},
   "outputs": [
    {
     "output_type": "execute_result",
     "data": {
      "text/plain": "     state_fips    state_name        lat        long       date  cases  \\\n176          38  North Dakota  47.442174 -100.460826  3/11/2020      1   \n177          38  North Dakota  47.442174 -100.460826  3/12/2020      1   \n178          38  North Dakota  47.442174 -100.460826  3/13/2020      1   \n179          38  North Dakota  47.442174 -100.460826  3/14/2020      1   \n180          38  North Dakota  47.442174 -100.460826  3/15/2020      1   \n\n     deaths  tests_positive  tests_negative  tests_pending  tests  \\\n176       0             0.0             7.0            6.0    7.0   \n177       0             1.0            12.0           14.0   13.0   \n178       0             1.0            39.0           12.0   40.0   \n179       0             1.0            54.0           14.0   55.0   \n180       0             1.0            95.0            4.0   96.0   \n\n     patients_icu  patients_hosp  patients_vent  recovered   datetime  day  \\\n176           NaN            NaN            NaN        NaN 2020-03-11   11   \n177           NaN            NaN            NaN        NaN 2020-03-12   12   \n178           NaN            NaN            NaN        NaN 2020-03-13   13   \n179           NaN            NaN            NaN        NaN 2020-03-14   14   \n180           NaN            NaN            NaN        NaN 2020-03-15   15   \n\n     month  year  \n176      3  2020  \n177      3  2020  \n178      3  2020  \n179      3  2020  \n180      3  2020  ",
      "text/html": "<div>\n<style scoped>\n    .dataframe tbody tr th:only-of-type {\n        vertical-align: middle;\n    }\n\n    .dataframe tbody tr th {\n        vertical-align: top;\n    }\n\n    .dataframe thead th {\n        text-align: right;\n    }\n</style>\n<table border=\"1\" class=\"dataframe\">\n  <thead>\n    <tr style=\"text-align: right;\">\n      <th></th>\n      <th>state_fips</th>\n      <th>state_name</th>\n      <th>lat</th>\n      <th>long</th>\n      <th>date</th>\n      <th>cases</th>\n      <th>deaths</th>\n      <th>tests_positive</th>\n      <th>tests_negative</th>\n      <th>tests_pending</th>\n      <th>tests</th>\n      <th>patients_icu</th>\n      <th>patients_hosp</th>\n      <th>patients_vent</th>\n      <th>recovered</th>\n      <th>datetime</th>\n      <th>day</th>\n      <th>month</th>\n      <th>year</th>\n    </tr>\n  </thead>\n  <tbody>\n    <tr>\n      <th>176</th>\n      <td>38</td>\n      <td>North Dakota</td>\n      <td>47.442174</td>\n      <td>-100.460826</td>\n      <td>3/11/2020</td>\n      <td>1</td>\n      <td>0</td>\n      <td>0.0</td>\n      <td>7.0</td>\n      <td>6.0</td>\n      <td>7.0</td>\n      <td>NaN</td>\n      <td>NaN</td>\n      <td>NaN</td>\n      <td>NaN</td>\n      <td>2020-03-11</td>\n      <td>11</td>\n      <td>3</td>\n      <td>2020</td>\n    </tr>\n    <tr>\n      <th>177</th>\n      <td>38</td>\n      <td>North Dakota</td>\n      <td>47.442174</td>\n      <td>-100.460826</td>\n      <td>3/12/2020</td>\n      <td>1</td>\n      <td>0</td>\n      <td>1.0</td>\n      <td>12.0</td>\n      <td>14.0</td>\n      <td>13.0</td>\n      <td>NaN</td>\n      <td>NaN</td>\n      <td>NaN</td>\n      <td>NaN</td>\n      <td>2020-03-12</td>\n      <td>12</td>\n      <td>3</td>\n      <td>2020</td>\n    </tr>\n    <tr>\n      <th>178</th>\n      <td>38</td>\n      <td>North Dakota</td>\n      <td>47.442174</td>\n      <td>-100.460826</td>\n      <td>3/13/2020</td>\n      <td>1</td>\n      <td>0</td>\n      <td>1.0</td>\n      <td>39.0</td>\n      <td>12.0</td>\n      <td>40.0</td>\n      <td>NaN</td>\n      <td>NaN</td>\n      <td>NaN</td>\n      <td>NaN</td>\n      <td>2020-03-13</td>\n      <td>13</td>\n      <td>3</td>\n      <td>2020</td>\n    </tr>\n    <tr>\n      <th>179</th>\n      <td>38</td>\n      <td>North Dakota</td>\n      <td>47.442174</td>\n      <td>-100.460826</td>\n      <td>3/14/2020</td>\n      <td>1</td>\n      <td>0</td>\n      <td>1.0</td>\n      <td>54.0</td>\n      <td>14.0</td>\n      <td>55.0</td>\n      <td>NaN</td>\n      <td>NaN</td>\n      <td>NaN</td>\n      <td>NaN</td>\n      <td>2020-03-14</td>\n      <td>14</td>\n      <td>3</td>\n      <td>2020</td>\n    </tr>\n    <tr>\n      <th>180</th>\n      <td>38</td>\n      <td>North Dakota</td>\n      <td>47.442174</td>\n      <td>-100.460826</td>\n      <td>3/15/2020</td>\n      <td>1</td>\n      <td>0</td>\n      <td>1.0</td>\n      <td>95.0</td>\n      <td>4.0</td>\n      <td>96.0</td>\n      <td>NaN</td>\n      <td>NaN</td>\n      <td>NaN</td>\n      <td>NaN</td>\n      <td>2020-03-15</td>\n      <td>15</td>\n      <td>3</td>\n      <td>2020</td>\n    </tr>\n  </tbody>\n</table>\n</div>"
     },
     "metadata": {},
     "execution_count": 11
    }
   ],
   "source": [
    "# Creat DF for just West North Central\n",
    "west_northern_central =  usa[(usa['state_name']=='Iowa') | (usa['state_name'] == 'Kansas') |\n",
    "                      (usa['state_name'] == 'Minnesota') | (usa['state_name'] == 'Missouri') | \n",
    "                     (usa['state_name']=='North Dakota') | (usa['state_name']=='South Dakota')] \n",
    "\n",
    "west_northern_central.head()\n",
    "                    "
   ]
  },
  {
   "cell_type": "code",
   "execution_count": 21,
   "metadata": {},
   "outputs": [
    {
     "ename": "SyntaxError",
     "evalue": "invalid syntax (<ipython-input-21-a2437c095f70>, line 2)",
     "output_type": "error",
     "traceback": [
      "\u001b[1;36m  File \u001b[1;32m\"<ipython-input-21-a2437c095f70>\"\u001b[1;36m, line \u001b[1;32m2\u001b[0m\n\u001b[1;33m    def make_regions(a,b,c,d,e,f)\u001b[0m\n\u001b[1;37m                                 ^\u001b[0m\n\u001b[1;31mSyntaxError\u001b[0m\u001b[1;31m:\u001b[0m invalid syntax\n"
     ]
    }
   ],
   "source": [
    "# Create Function\n",
    "def make_regions(a,b,c,d,e,f)"
   ]
  },
  {
   "cell_type": "code",
   "execution_count": null,
   "metadata": {},
   "outputs": [],
   "source": []
  },
  {
   "cell_type": "markdown",
   "metadata": {},
   "source": [
    "South Division 5: South Atlantic (Delaware, Florida, Georgia, Maryland, North Carolina, South Carolina, Virginia, District of Columbia, and West Virginia)"
   ]
  },
  {
   "cell_type": "code",
   "execution_count": 12,
   "metadata": {},
   "outputs": [
    {
     "output_type": "execute_result",
     "data": {
      "text/plain": "      state_fips      state_name        lat       long       date  cases  \\\n28            37  North Carolina  35.539710 -79.130864   3/3/2020      1   \n29            37  North Carolina  35.539710 -79.130864   3/4/2020      1   \n30            37  North Carolina  35.539710 -79.130864   3/5/2020      1   \n31            37  North Carolina  35.539710 -79.130864   3/6/2020      2   \n32            37  North Carolina  35.539710 -79.130864   3/7/2020      2   \n...          ...             ...        ...        ...        ...    ...   \n6395          24        Maryland  38.946658 -76.674494  7/24/2020  82326   \n6396          24        Maryland  38.946658 -76.674494  7/25/2020  83617   \n6397          24        Maryland  38.946658 -76.674494  7/26/2020  84306   \n6398          24        Maryland  38.946658 -76.674494  7/27/2020  85436   \n6399          24        Maryland  38.946658 -76.674494  7/28/2020  86091   \n\n      deaths  tests_positive  tests_negative  tests_pending     tests  \\\n28         0             NaN             NaN            NaN       NaN   \n29         0             1.0             NaN            NaN       1.0   \n30         0             1.0             NaN            NaN       1.0   \n31         0             2.0             NaN            NaN       2.0   \n32         0             2.0             NaN            NaN       2.0   \n...      ...             ...             ...            ...       ...   \n6395    3422         81766.0        722584.0            NaN  804350.0   \n6396    3433         83054.0        742272.0            NaN  825326.0   \n6397    3440         83748.0        754824.0            NaN  838572.0   \n6398    3447         84876.0        770642.0            NaN  855518.0   \n6399    3458         85524.0        782732.0            NaN  868256.0   \n\n      patients_icu  patients_hosp  patients_vent  recovered   datetime  day  \\\n28             NaN            NaN            NaN        NaN 2020-03-03    3   \n29             NaN            NaN            NaN        NaN 2020-03-04    4   \n30             NaN            NaN            NaN        NaN 2020-03-05    5   \n31             NaN            NaN            NaN        NaN 2020-03-06    6   \n32             NaN            NaN            NaN        NaN 2020-03-07    7   \n...            ...            ...            ...        ...        ...  ...   \n6395         143.0          533.0            NaN     5434.0 2020-07-24   24   \n6396         157.0          545.0            NaN     5434.0 2020-07-25   25   \n6397         153.0          540.0            NaN     5434.0 2020-07-26   26   \n6398         145.0          536.0            NaN     5434.0 2020-07-27   27   \n6399         150.0          544.0            NaN     5592.0 2020-07-28   28   \n\n      month  year  \n28        3  2020  \n29        3  2020  \n30        3  2020  \n31        3  2020  \n32        3  2020  \n...     ...   ...  \n6395      7  2020  \n6396      7  2020  \n6397      7  2020  \n6398      7  2020  \n6399      7  2020  \n\n[1150 rows x 19 columns]",
      "text/html": "<div>\n<style scoped>\n    .dataframe tbody tr th:only-of-type {\n        vertical-align: middle;\n    }\n\n    .dataframe tbody tr th {\n        vertical-align: top;\n    }\n\n    .dataframe thead th {\n        text-align: right;\n    }\n</style>\n<table border=\"1\" class=\"dataframe\">\n  <thead>\n    <tr style=\"text-align: right;\">\n      <th></th>\n      <th>state_fips</th>\n      <th>state_name</th>\n      <th>lat</th>\n      <th>long</th>\n      <th>date</th>\n      <th>cases</th>\n      <th>deaths</th>\n      <th>tests_positive</th>\n      <th>tests_negative</th>\n      <th>tests_pending</th>\n      <th>tests</th>\n      <th>patients_icu</th>\n      <th>patients_hosp</th>\n      <th>patients_vent</th>\n      <th>recovered</th>\n      <th>datetime</th>\n      <th>day</th>\n      <th>month</th>\n      <th>year</th>\n    </tr>\n  </thead>\n  <tbody>\n    <tr>\n      <th>28</th>\n      <td>37</td>\n      <td>North Carolina</td>\n      <td>35.539710</td>\n      <td>-79.130864</td>\n      <td>3/3/2020</td>\n      <td>1</td>\n      <td>0</td>\n      <td>NaN</td>\n      <td>NaN</td>\n      <td>NaN</td>\n      <td>NaN</td>\n      <td>NaN</td>\n      <td>NaN</td>\n      <td>NaN</td>\n      <td>NaN</td>\n      <td>2020-03-03</td>\n      <td>3</td>\n      <td>3</td>\n      <td>2020</td>\n    </tr>\n    <tr>\n      <th>29</th>\n      <td>37</td>\n      <td>North Carolina</td>\n      <td>35.539710</td>\n      <td>-79.130864</td>\n      <td>3/4/2020</td>\n      <td>1</td>\n      <td>0</td>\n      <td>1.0</td>\n      <td>NaN</td>\n      <td>NaN</td>\n      <td>1.0</td>\n      <td>NaN</td>\n      <td>NaN</td>\n      <td>NaN</td>\n      <td>NaN</td>\n      <td>2020-03-04</td>\n      <td>4</td>\n      <td>3</td>\n      <td>2020</td>\n    </tr>\n    <tr>\n      <th>30</th>\n      <td>37</td>\n      <td>North Carolina</td>\n      <td>35.539710</td>\n      <td>-79.130864</td>\n      <td>3/5/2020</td>\n      <td>1</td>\n      <td>0</td>\n      <td>1.0</td>\n      <td>NaN</td>\n      <td>NaN</td>\n      <td>1.0</td>\n      <td>NaN</td>\n      <td>NaN</td>\n      <td>NaN</td>\n      <td>NaN</td>\n      <td>2020-03-05</td>\n      <td>5</td>\n      <td>3</td>\n      <td>2020</td>\n    </tr>\n    <tr>\n      <th>31</th>\n      <td>37</td>\n      <td>North Carolina</td>\n      <td>35.539710</td>\n      <td>-79.130864</td>\n      <td>3/6/2020</td>\n      <td>2</td>\n      <td>0</td>\n      <td>2.0</td>\n      <td>NaN</td>\n      <td>NaN</td>\n      <td>2.0</td>\n      <td>NaN</td>\n      <td>NaN</td>\n      <td>NaN</td>\n      <td>NaN</td>\n      <td>2020-03-06</td>\n      <td>6</td>\n      <td>3</td>\n      <td>2020</td>\n    </tr>\n    <tr>\n      <th>32</th>\n      <td>37</td>\n      <td>North Carolina</td>\n      <td>35.539710</td>\n      <td>-79.130864</td>\n      <td>3/7/2020</td>\n      <td>2</td>\n      <td>0</td>\n      <td>2.0</td>\n      <td>NaN</td>\n      <td>NaN</td>\n      <td>2.0</td>\n      <td>NaN</td>\n      <td>NaN</td>\n      <td>NaN</td>\n      <td>NaN</td>\n      <td>2020-03-07</td>\n      <td>7</td>\n      <td>3</td>\n      <td>2020</td>\n    </tr>\n    <tr>\n      <th>...</th>\n      <td>...</td>\n      <td>...</td>\n      <td>...</td>\n      <td>...</td>\n      <td>...</td>\n      <td>...</td>\n      <td>...</td>\n      <td>...</td>\n      <td>...</td>\n      <td>...</td>\n      <td>...</td>\n      <td>...</td>\n      <td>...</td>\n      <td>...</td>\n      <td>...</td>\n      <td>...</td>\n      <td>...</td>\n      <td>...</td>\n      <td>...</td>\n    </tr>\n    <tr>\n      <th>6395</th>\n      <td>24</td>\n      <td>Maryland</td>\n      <td>38.946658</td>\n      <td>-76.674494</td>\n      <td>7/24/2020</td>\n      <td>82326</td>\n      <td>3422</td>\n      <td>81766.0</td>\n      <td>722584.0</td>\n      <td>NaN</td>\n      <td>804350.0</td>\n      <td>143.0</td>\n      <td>533.0</td>\n      <td>NaN</td>\n      <td>5434.0</td>\n      <td>2020-07-24</td>\n      <td>24</td>\n      <td>7</td>\n      <td>2020</td>\n    </tr>\n    <tr>\n      <th>6396</th>\n      <td>24</td>\n      <td>Maryland</td>\n      <td>38.946658</td>\n      <td>-76.674494</td>\n      <td>7/25/2020</td>\n      <td>83617</td>\n      <td>3433</td>\n      <td>83054.0</td>\n      <td>742272.0</td>\n      <td>NaN</td>\n      <td>825326.0</td>\n      <td>157.0</td>\n      <td>545.0</td>\n      <td>NaN</td>\n      <td>5434.0</td>\n      <td>2020-07-25</td>\n      <td>25</td>\n      <td>7</td>\n      <td>2020</td>\n    </tr>\n    <tr>\n      <th>6397</th>\n      <td>24</td>\n      <td>Maryland</td>\n      <td>38.946658</td>\n      <td>-76.674494</td>\n      <td>7/26/2020</td>\n      <td>84306</td>\n      <td>3440</td>\n      <td>83748.0</td>\n      <td>754824.0</td>\n      <td>NaN</td>\n      <td>838572.0</td>\n      <td>153.0</td>\n      <td>540.0</td>\n      <td>NaN</td>\n      <td>5434.0</td>\n      <td>2020-07-26</td>\n      <td>26</td>\n      <td>7</td>\n      <td>2020</td>\n    </tr>\n    <tr>\n      <th>6398</th>\n      <td>24</td>\n      <td>Maryland</td>\n      <td>38.946658</td>\n      <td>-76.674494</td>\n      <td>7/27/2020</td>\n      <td>85436</td>\n      <td>3447</td>\n      <td>84876.0</td>\n      <td>770642.0</td>\n      <td>NaN</td>\n      <td>855518.0</td>\n      <td>145.0</td>\n      <td>536.0</td>\n      <td>NaN</td>\n      <td>5434.0</td>\n      <td>2020-07-27</td>\n      <td>27</td>\n      <td>7</td>\n      <td>2020</td>\n    </tr>\n    <tr>\n      <th>6399</th>\n      <td>24</td>\n      <td>Maryland</td>\n      <td>38.946658</td>\n      <td>-76.674494</td>\n      <td>7/28/2020</td>\n      <td>86091</td>\n      <td>3458</td>\n      <td>85524.0</td>\n      <td>782732.0</td>\n      <td>NaN</td>\n      <td>868256.0</td>\n      <td>150.0</td>\n      <td>544.0</td>\n      <td>NaN</td>\n      <td>5592.0</td>\n      <td>2020-07-28</td>\n      <td>28</td>\n      <td>7</td>\n      <td>2020</td>\n    </tr>\n  </tbody>\n</table>\n<p>1150 rows × 19 columns</p>\n</div>"
     },
     "metadata": {},
     "execution_count": 12
    }
   ],
   "source": [
    "# Make Df for just South Atlantic divsion.\n",
    "\n",
    "south_atlantic = usa[(usa['state_name']=='Delaware') | (usa['state_name'] == 'Flordia') |\n",
    "                      (usa['state_name'] == 'Georgia') | (usa['state_name'] == 'Maryland') | \n",
    "                     (usa['state_name']=='North Carolina') | (usa['state_name']=='South Carolina') |\n",
    "                     (usa['state_name']=='Virginia') | (usa['state_name']== 'District of Columbia') |\n",
    "                    (usa['state_name'] == 'West Virginia')]\n",
    "south_atlantic"
   ]
  },
  {
   "cell_type": "code",
   "execution_count": null,
   "metadata": {},
   "outputs": [],
   "source": []
  },
  {
   "cell_type": "markdown",
   "metadata": {},
   "source": [
    "South Division 6: East South Central (Alabama, Kentucky, Mississippi, and Tennessee)"
   ]
  },
  {
   "cell_type": "code",
   "execution_count": 13,
   "metadata": {},
   "outputs": [
    {
     "output_type": "execute_result",
     "data": {
      "text/plain": "      state_fips state_name        lat      long      date  cases  deaths  \\\n1336          47  Tennessee  35.860803 -86.34999  3/5/2020      1       0   \n1337          47  Tennessee  35.860803 -86.34999  3/6/2020      1       0   \n1338          47  Tennessee  35.860803 -86.34999  3/7/2020      1       0   \n1339          47  Tennessee  35.860803 -86.34999  3/8/2020      3       0   \n1340          47  Tennessee  35.860803 -86.34999  3/9/2020      4       0   \n\n      tests_positive  tests_negative  tests_pending  tests  patients_icu  \\\n1336             1.0             NaN            NaN    1.0           NaN   \n1337             1.0             NaN            NaN    1.0           NaN   \n1338             1.0             NaN            NaN    1.0           NaN   \n1339             3.0             NaN            NaN    3.0           NaN   \n1340             3.0             NaN            NaN    3.0           NaN   \n\n      patients_hosp  patients_vent  recovered   datetime  day  month  year  \n1336            NaN            NaN        NaN 2020-03-05    5      3  2020  \n1337            NaN            NaN        NaN 2020-03-06    6      3  2020  \n1338            NaN            NaN        NaN 2020-03-07    7      3  2020  \n1339            NaN            NaN        NaN 2020-03-08    8      3  2020  \n1340            NaN            NaN        NaN 2020-03-09    9      3  2020  ",
      "text/html": "<div>\n<style scoped>\n    .dataframe tbody tr th:only-of-type {\n        vertical-align: middle;\n    }\n\n    .dataframe tbody tr th {\n        vertical-align: top;\n    }\n\n    .dataframe thead th {\n        text-align: right;\n    }\n</style>\n<table border=\"1\" class=\"dataframe\">\n  <thead>\n    <tr style=\"text-align: right;\">\n      <th></th>\n      <th>state_fips</th>\n      <th>state_name</th>\n      <th>lat</th>\n      <th>long</th>\n      <th>date</th>\n      <th>cases</th>\n      <th>deaths</th>\n      <th>tests_positive</th>\n      <th>tests_negative</th>\n      <th>tests_pending</th>\n      <th>tests</th>\n      <th>patients_icu</th>\n      <th>patients_hosp</th>\n      <th>patients_vent</th>\n      <th>recovered</th>\n      <th>datetime</th>\n      <th>day</th>\n      <th>month</th>\n      <th>year</th>\n    </tr>\n  </thead>\n  <tbody>\n    <tr>\n      <th>1336</th>\n      <td>47</td>\n      <td>Tennessee</td>\n      <td>35.860803</td>\n      <td>-86.34999</td>\n      <td>3/5/2020</td>\n      <td>1</td>\n      <td>0</td>\n      <td>1.0</td>\n      <td>NaN</td>\n      <td>NaN</td>\n      <td>1.0</td>\n      <td>NaN</td>\n      <td>NaN</td>\n      <td>NaN</td>\n      <td>NaN</td>\n      <td>2020-03-05</td>\n      <td>5</td>\n      <td>3</td>\n      <td>2020</td>\n    </tr>\n    <tr>\n      <th>1337</th>\n      <td>47</td>\n      <td>Tennessee</td>\n      <td>35.860803</td>\n      <td>-86.34999</td>\n      <td>3/6/2020</td>\n      <td>1</td>\n      <td>0</td>\n      <td>1.0</td>\n      <td>NaN</td>\n      <td>NaN</td>\n      <td>1.0</td>\n      <td>NaN</td>\n      <td>NaN</td>\n      <td>NaN</td>\n      <td>NaN</td>\n      <td>2020-03-06</td>\n      <td>6</td>\n      <td>3</td>\n      <td>2020</td>\n    </tr>\n    <tr>\n      <th>1338</th>\n      <td>47</td>\n      <td>Tennessee</td>\n      <td>35.860803</td>\n      <td>-86.34999</td>\n      <td>3/7/2020</td>\n      <td>1</td>\n      <td>0</td>\n      <td>1.0</td>\n      <td>NaN</td>\n      <td>NaN</td>\n      <td>1.0</td>\n      <td>NaN</td>\n      <td>NaN</td>\n      <td>NaN</td>\n      <td>NaN</td>\n      <td>2020-03-07</td>\n      <td>7</td>\n      <td>3</td>\n      <td>2020</td>\n    </tr>\n    <tr>\n      <th>1339</th>\n      <td>47</td>\n      <td>Tennessee</td>\n      <td>35.860803</td>\n      <td>-86.34999</td>\n      <td>3/8/2020</td>\n      <td>3</td>\n      <td>0</td>\n      <td>3.0</td>\n      <td>NaN</td>\n      <td>NaN</td>\n      <td>3.0</td>\n      <td>NaN</td>\n      <td>NaN</td>\n      <td>NaN</td>\n      <td>NaN</td>\n      <td>2020-03-08</td>\n      <td>8</td>\n      <td>3</td>\n      <td>2020</td>\n    </tr>\n    <tr>\n      <th>1340</th>\n      <td>47</td>\n      <td>Tennessee</td>\n      <td>35.860803</td>\n      <td>-86.34999</td>\n      <td>3/9/2020</td>\n      <td>4</td>\n      <td>0</td>\n      <td>3.0</td>\n      <td>NaN</td>\n      <td>NaN</td>\n      <td>3.0</td>\n      <td>NaN</td>\n      <td>NaN</td>\n      <td>NaN</td>\n      <td>NaN</td>\n      <td>2020-03-09</td>\n      <td>9</td>\n      <td>3</td>\n      <td>2020</td>\n    </tr>\n  </tbody>\n</table>\n</div>"
     },
     "metadata": {},
     "execution_count": 13
    }
   ],
   "source": [
    "# Create DF for just East South Central Divsion\n",
    "east_south_central =  usa[(usa['state_name']=='Alabama') | (usa['state_name'] == 'Kentucky') |\n",
    "                      (usa['state_name'] == 'Mississippi') | (usa['state_name'] == 'Tennessee')] \n",
    "\n",
    "east_south_central.head()"
   ]
  },
  {
   "cell_type": "markdown",
   "metadata": {},
   "source": [
    "South Division 7: West South Central (Arkansas, Louisiana, Oklahoma, and Texas)"
   ]
  },
  {
   "cell_type": "code",
   "execution_count": 14,
   "metadata": {},
   "outputs": [
    {
     "output_type": "execute_result",
     "data": {
      "text/plain": "     state_fips state_name        lat       long       date  cases  deaths  \\\n458          40   Oklahoma  35.590051 -97.486815   3/6/2020      1       0   \n459          40   Oklahoma  35.590051 -97.486815   3/7/2020      1       0   \n460          40   Oklahoma  35.590051 -97.486815   3/8/2020      1       0   \n461          40   Oklahoma  35.590051 -97.486815   3/9/2020      1       0   \n462          40   Oklahoma  35.590051 -97.486815  3/10/2020      2       0   \n\n     tests_positive  tests_negative  tests_pending  tests  patients_icu  \\\n458             NaN             NaN            NaN    NaN           NaN   \n459             1.0             NaN            NaN    1.0           NaN   \n460             1.0             8.0            2.0    9.0           NaN   \n461             1.0             8.0           10.0    9.0           NaN   \n462             2.0            15.0           11.0   17.0           NaN   \n\n     patients_hosp  patients_vent  recovered   datetime  day  month  year  \n458            NaN            NaN        NaN 2020-03-06    6      3  2020  \n459            NaN            NaN        NaN 2020-03-07    7      3  2020  \n460            NaN            NaN        NaN 2020-03-08    8      3  2020  \n461            NaN            NaN        NaN 2020-03-09    9      3  2020  \n462            NaN            NaN        NaN 2020-03-10   10      3  2020  ",
      "text/html": "<div>\n<style scoped>\n    .dataframe tbody tr th:only-of-type {\n        vertical-align: middle;\n    }\n\n    .dataframe tbody tr th {\n        vertical-align: top;\n    }\n\n    .dataframe thead th {\n        text-align: right;\n    }\n</style>\n<table border=\"1\" class=\"dataframe\">\n  <thead>\n    <tr style=\"text-align: right;\">\n      <th></th>\n      <th>state_fips</th>\n      <th>state_name</th>\n      <th>lat</th>\n      <th>long</th>\n      <th>date</th>\n      <th>cases</th>\n      <th>deaths</th>\n      <th>tests_positive</th>\n      <th>tests_negative</th>\n      <th>tests_pending</th>\n      <th>tests</th>\n      <th>patients_icu</th>\n      <th>patients_hosp</th>\n      <th>patients_vent</th>\n      <th>recovered</th>\n      <th>datetime</th>\n      <th>day</th>\n      <th>month</th>\n      <th>year</th>\n    </tr>\n  </thead>\n  <tbody>\n    <tr>\n      <th>458</th>\n      <td>40</td>\n      <td>Oklahoma</td>\n      <td>35.590051</td>\n      <td>-97.486815</td>\n      <td>3/6/2020</td>\n      <td>1</td>\n      <td>0</td>\n      <td>NaN</td>\n      <td>NaN</td>\n      <td>NaN</td>\n      <td>NaN</td>\n      <td>NaN</td>\n      <td>NaN</td>\n      <td>NaN</td>\n      <td>NaN</td>\n      <td>2020-03-06</td>\n      <td>6</td>\n      <td>3</td>\n      <td>2020</td>\n    </tr>\n    <tr>\n      <th>459</th>\n      <td>40</td>\n      <td>Oklahoma</td>\n      <td>35.590051</td>\n      <td>-97.486815</td>\n      <td>3/7/2020</td>\n      <td>1</td>\n      <td>0</td>\n      <td>1.0</td>\n      <td>NaN</td>\n      <td>NaN</td>\n      <td>1.0</td>\n      <td>NaN</td>\n      <td>NaN</td>\n      <td>NaN</td>\n      <td>NaN</td>\n      <td>2020-03-07</td>\n      <td>7</td>\n      <td>3</td>\n      <td>2020</td>\n    </tr>\n    <tr>\n      <th>460</th>\n      <td>40</td>\n      <td>Oklahoma</td>\n      <td>35.590051</td>\n      <td>-97.486815</td>\n      <td>3/8/2020</td>\n      <td>1</td>\n      <td>0</td>\n      <td>1.0</td>\n      <td>8.0</td>\n      <td>2.0</td>\n      <td>9.0</td>\n      <td>NaN</td>\n      <td>NaN</td>\n      <td>NaN</td>\n      <td>NaN</td>\n      <td>2020-03-08</td>\n      <td>8</td>\n      <td>3</td>\n      <td>2020</td>\n    </tr>\n    <tr>\n      <th>461</th>\n      <td>40</td>\n      <td>Oklahoma</td>\n      <td>35.590051</td>\n      <td>-97.486815</td>\n      <td>3/9/2020</td>\n      <td>1</td>\n      <td>0</td>\n      <td>1.0</td>\n      <td>8.0</td>\n      <td>10.0</td>\n      <td>9.0</td>\n      <td>NaN</td>\n      <td>NaN</td>\n      <td>NaN</td>\n      <td>NaN</td>\n      <td>2020-03-09</td>\n      <td>9</td>\n      <td>3</td>\n      <td>2020</td>\n    </tr>\n    <tr>\n      <th>462</th>\n      <td>40</td>\n      <td>Oklahoma</td>\n      <td>35.590051</td>\n      <td>-97.486815</td>\n      <td>3/10/2020</td>\n      <td>2</td>\n      <td>0</td>\n      <td>2.0</td>\n      <td>15.0</td>\n      <td>11.0</td>\n      <td>17.0</td>\n      <td>NaN</td>\n      <td>NaN</td>\n      <td>NaN</td>\n      <td>NaN</td>\n      <td>2020-03-10</td>\n      <td>10</td>\n      <td>3</td>\n      <td>2020</td>\n    </tr>\n  </tbody>\n</table>\n</div>"
     },
     "metadata": {},
     "execution_count": 14
    }
   ],
   "source": [
    "west_northern_central =  usa[(usa['state_name']=='Arkansas') | (usa['state_name'] == 'Louisiana') |\n",
    "                      (usa['state_name'] == 'Oklahoma') | (usa['state_name'] == 'Texas') ] \n",
    "\n",
    "west_northern_central.head()"
   ]
  },
  {
   "cell_type": "markdown",
   "metadata": {},
   "source": [
    "West \n",
    "Mountain Divsion 8 (Arizona, Colorado, Idaho, Montana, Nevada, New Mexico, Utah, and Wyoming)"
   ]
  },
  {
   "cell_type": "code",
   "execution_count": 15,
   "metadata": {},
   "outputs": [
    {
     "output_type": "execute_result",
     "data": {
      "text/plain": "      state_fips state_name        lat        long       date  cases  deaths  \\\n1650          49       Utah  39.334992 -111.656333  2/25/2020      1       0   \n1651          49       Utah  39.334992 -111.656333  2/26/2020      1       0   \n1652          49       Utah  39.334992 -111.656333  2/27/2020      1       0   \n1653          49       Utah  39.334992 -111.656333  2/28/2020      1       0   \n1654          49       Utah  39.334992 -111.656333  2/29/2020      1       0   \n\n      tests_positive  tests_negative  tests_pending  tests  patients_icu  \\\n1650             NaN             NaN            NaN    NaN           NaN   \n1651             NaN             NaN            NaN    NaN           NaN   \n1652             NaN             NaN            NaN    NaN           NaN   \n1653             NaN             NaN            NaN    NaN           NaN   \n1654             NaN             NaN            NaN    NaN           NaN   \n\n      patients_hosp  patients_vent  recovered   datetime  day  month  year  \n1650            NaN            NaN        NaN 2020-02-25   25      2  2020  \n1651            NaN            NaN        NaN 2020-02-26   26      2  2020  \n1652            NaN            NaN        NaN 2020-02-27   27      2  2020  \n1653            NaN            NaN        NaN 2020-02-28   28      2  2020  \n1654            NaN            NaN        NaN 2020-02-29   29      2  2020  ",
      "text/html": "<div>\n<style scoped>\n    .dataframe tbody tr th:only-of-type {\n        vertical-align: middle;\n    }\n\n    .dataframe tbody tr th {\n        vertical-align: top;\n    }\n\n    .dataframe thead th {\n        text-align: right;\n    }\n</style>\n<table border=\"1\" class=\"dataframe\">\n  <thead>\n    <tr style=\"text-align: right;\">\n      <th></th>\n      <th>state_fips</th>\n      <th>state_name</th>\n      <th>lat</th>\n      <th>long</th>\n      <th>date</th>\n      <th>cases</th>\n      <th>deaths</th>\n      <th>tests_positive</th>\n      <th>tests_negative</th>\n      <th>tests_pending</th>\n      <th>tests</th>\n      <th>patients_icu</th>\n      <th>patients_hosp</th>\n      <th>patients_vent</th>\n      <th>recovered</th>\n      <th>datetime</th>\n      <th>day</th>\n      <th>month</th>\n      <th>year</th>\n    </tr>\n  </thead>\n  <tbody>\n    <tr>\n      <th>1650</th>\n      <td>49</td>\n      <td>Utah</td>\n      <td>39.334992</td>\n      <td>-111.656333</td>\n      <td>2/25/2020</td>\n      <td>1</td>\n      <td>0</td>\n      <td>NaN</td>\n      <td>NaN</td>\n      <td>NaN</td>\n      <td>NaN</td>\n      <td>NaN</td>\n      <td>NaN</td>\n      <td>NaN</td>\n      <td>NaN</td>\n      <td>2020-02-25</td>\n      <td>25</td>\n      <td>2</td>\n      <td>2020</td>\n    </tr>\n    <tr>\n      <th>1651</th>\n      <td>49</td>\n      <td>Utah</td>\n      <td>39.334992</td>\n      <td>-111.656333</td>\n      <td>2/26/2020</td>\n      <td>1</td>\n      <td>0</td>\n      <td>NaN</td>\n      <td>NaN</td>\n      <td>NaN</td>\n      <td>NaN</td>\n      <td>NaN</td>\n      <td>NaN</td>\n      <td>NaN</td>\n      <td>NaN</td>\n      <td>2020-02-26</td>\n      <td>26</td>\n      <td>2</td>\n      <td>2020</td>\n    </tr>\n    <tr>\n      <th>1652</th>\n      <td>49</td>\n      <td>Utah</td>\n      <td>39.334992</td>\n      <td>-111.656333</td>\n      <td>2/27/2020</td>\n      <td>1</td>\n      <td>0</td>\n      <td>NaN</td>\n      <td>NaN</td>\n      <td>NaN</td>\n      <td>NaN</td>\n      <td>NaN</td>\n      <td>NaN</td>\n      <td>NaN</td>\n      <td>NaN</td>\n      <td>2020-02-27</td>\n      <td>27</td>\n      <td>2</td>\n      <td>2020</td>\n    </tr>\n    <tr>\n      <th>1653</th>\n      <td>49</td>\n      <td>Utah</td>\n      <td>39.334992</td>\n      <td>-111.656333</td>\n      <td>2/28/2020</td>\n      <td>1</td>\n      <td>0</td>\n      <td>NaN</td>\n      <td>NaN</td>\n      <td>NaN</td>\n      <td>NaN</td>\n      <td>NaN</td>\n      <td>NaN</td>\n      <td>NaN</td>\n      <td>NaN</td>\n      <td>2020-02-28</td>\n      <td>28</td>\n      <td>2</td>\n      <td>2020</td>\n    </tr>\n    <tr>\n      <th>1654</th>\n      <td>49</td>\n      <td>Utah</td>\n      <td>39.334992</td>\n      <td>-111.656333</td>\n      <td>2/29/2020</td>\n      <td>1</td>\n      <td>0</td>\n      <td>NaN</td>\n      <td>NaN</td>\n      <td>NaN</td>\n      <td>NaN</td>\n      <td>NaN</td>\n      <td>NaN</td>\n      <td>NaN</td>\n      <td>NaN</td>\n      <td>2020-02-29</td>\n      <td>29</td>\n      <td>2</td>\n      <td>2020</td>\n    </tr>\n  </tbody>\n</table>\n</div>"
     },
     "metadata": {},
     "execution_count": 15
    }
   ],
   "source": [
    "# Create a DF for just Mountain divsion\n",
    "mountain =  usa[(usa['state_name']=='Arizona') | (usa['state_name'] == 'Colorado') |\n",
    "                      (usa['state_name'] == 'Idaho') | (usa['state_name'] == 'Montana') | \n",
    "                     (usa['state_name']=='Nevada') | (usa['state_name']=='New Mexico') |\n",
    "                     (usa['state_name']=='Utah') | (usa['state_name']== 'Wyoming') ]\n",
    "\n",
    "mountain.head()"
   ]
  },
  {
   "cell_type": "markdown",
   "metadata": {},
   "source": [
    "West Pacific (Alaska, California, Hawaii, Oregon, and Washington)"
   ]
  },
  {
   "cell_type": "code",
   "execution_count": 24,
   "metadata": {},
   "outputs": [
    {
     "output_type": "execute_result",
     "data": {
      "text/plain": "     state_fips state_name        lat        long       date  cases  deaths  \\\n603          41     Oregon  43.971713 -120.622958  2/28/2020      1       0   \n604          41     Oregon  43.971713 -120.622958  2/29/2020      1       0   \n605          41     Oregon  43.971713 -120.622958   3/1/2020      2       0   \n606          41     Oregon  43.971713 -120.622958   3/2/2020      2       0   \n607          41     Oregon  43.971713 -120.622958   3/3/2020      2       0   \n\n     tests_positive  tests_negative  tests_pending  tests  patients_icu  \\\n603             NaN             NaN            NaN    NaN           NaN   \n604             NaN             NaN            NaN    NaN           NaN   \n605             NaN             NaN            NaN    NaN           NaN   \n606             NaN             NaN            NaN    NaN           NaN   \n607             NaN             NaN            NaN    NaN           NaN   \n\n     patients_hosp  patients_vent  recovered   datetime  day  month  year  \n603            NaN            NaN        NaN 2020-02-28   28      2  2020  \n604            NaN            NaN        NaN 2020-02-29   29      2  2020  \n605            NaN            NaN        NaN 2020-03-01    1      3  2020  \n606            NaN            NaN        NaN 2020-03-02    2      3  2020  \n607            NaN            NaN        NaN 2020-03-03    3      3  2020  ",
      "text/html": "<div>\n<style scoped>\n    .dataframe tbody tr th:only-of-type {\n        vertical-align: middle;\n    }\n\n    .dataframe tbody tr th {\n        vertical-align: top;\n    }\n\n    .dataframe thead th {\n        text-align: right;\n    }\n</style>\n<table border=\"1\" class=\"dataframe\">\n  <thead>\n    <tr style=\"text-align: right;\">\n      <th></th>\n      <th>state_fips</th>\n      <th>state_name</th>\n      <th>lat</th>\n      <th>long</th>\n      <th>date</th>\n      <th>cases</th>\n      <th>deaths</th>\n      <th>tests_positive</th>\n      <th>tests_negative</th>\n      <th>tests_pending</th>\n      <th>tests</th>\n      <th>patients_icu</th>\n      <th>patients_hosp</th>\n      <th>patients_vent</th>\n      <th>recovered</th>\n      <th>datetime</th>\n      <th>day</th>\n      <th>month</th>\n      <th>year</th>\n    </tr>\n  </thead>\n  <tbody>\n    <tr>\n      <th>603</th>\n      <td>41</td>\n      <td>Oregon</td>\n      <td>43.971713</td>\n      <td>-120.622958</td>\n      <td>2/28/2020</td>\n      <td>1</td>\n      <td>0</td>\n      <td>NaN</td>\n      <td>NaN</td>\n      <td>NaN</td>\n      <td>NaN</td>\n      <td>NaN</td>\n      <td>NaN</td>\n      <td>NaN</td>\n      <td>NaN</td>\n      <td>2020-02-28</td>\n      <td>28</td>\n      <td>2</td>\n      <td>2020</td>\n    </tr>\n    <tr>\n      <th>604</th>\n      <td>41</td>\n      <td>Oregon</td>\n      <td>43.971713</td>\n      <td>-120.622958</td>\n      <td>2/29/2020</td>\n      <td>1</td>\n      <td>0</td>\n      <td>NaN</td>\n      <td>NaN</td>\n      <td>NaN</td>\n      <td>NaN</td>\n      <td>NaN</td>\n      <td>NaN</td>\n      <td>NaN</td>\n      <td>NaN</td>\n      <td>2020-02-29</td>\n      <td>29</td>\n      <td>2</td>\n      <td>2020</td>\n    </tr>\n    <tr>\n      <th>605</th>\n      <td>41</td>\n      <td>Oregon</td>\n      <td>43.971713</td>\n      <td>-120.622958</td>\n      <td>3/1/2020</td>\n      <td>2</td>\n      <td>0</td>\n      <td>NaN</td>\n      <td>NaN</td>\n      <td>NaN</td>\n      <td>NaN</td>\n      <td>NaN</td>\n      <td>NaN</td>\n      <td>NaN</td>\n      <td>NaN</td>\n      <td>2020-03-01</td>\n      <td>1</td>\n      <td>3</td>\n      <td>2020</td>\n    </tr>\n    <tr>\n      <th>606</th>\n      <td>41</td>\n      <td>Oregon</td>\n      <td>43.971713</td>\n      <td>-120.622958</td>\n      <td>3/2/2020</td>\n      <td>2</td>\n      <td>0</td>\n      <td>NaN</td>\n      <td>NaN</td>\n      <td>NaN</td>\n      <td>NaN</td>\n      <td>NaN</td>\n      <td>NaN</td>\n      <td>NaN</td>\n      <td>NaN</td>\n      <td>2020-03-02</td>\n      <td>2</td>\n      <td>3</td>\n      <td>2020</td>\n    </tr>\n    <tr>\n      <th>607</th>\n      <td>41</td>\n      <td>Oregon</td>\n      <td>43.971713</td>\n      <td>-120.622958</td>\n      <td>3/3/2020</td>\n      <td>2</td>\n      <td>0</td>\n      <td>NaN</td>\n      <td>NaN</td>\n      <td>NaN</td>\n      <td>NaN</td>\n      <td>NaN</td>\n      <td>NaN</td>\n      <td>NaN</td>\n      <td>NaN</td>\n      <td>2020-03-03</td>\n      <td>3</td>\n      <td>3</td>\n      <td>2020</td>\n    </tr>\n  </tbody>\n</table>\n</div>"
     },
     "metadata": {},
     "execution_count": 24
    }
   ],
   "source": [
    "# Make DF for just Pacific Divsion\n",
    "pacific =  usa[(usa['state_name']=='California') | (usa['state_name'] == 'Hawaii') |\n",
    "                      (usa['state_name'] == 'Oregon') | (usa['state_name'] == 'Washington') |\n",
    "                      (usa['state_name']=='Alaska')]\n",
    "\n",
    "pacific.head()"
   ]
  },
  {
   "cell_type": "markdown",
   "metadata": {},
   "source": [
    "# MK CODE"
   ]
  },
  {
   "cell_type": "code",
   "execution_count": 17,
   "metadata": {},
   "outputs": [],
   "source": [
    "# Summing case count for Pacific Region\n",
    "\n",
    "# Groupby to consolidate cases by entire region\n",
    "pacific_group = pacific.groupby([\"datetime\"])\n",
    "pacific_sum = pacific_group[\"cases\"].sum()\n"
   ]
  },
  {
   "cell_type": "code",
   "execution_count": 18,
   "metadata": {},
   "outputs": [
    {
     "output_type": "execute_result",
     "data": {
      "text/plain": "   state_fips  state_name        lat        long       date  cases_x  deaths  \\\n0          41      Oregon  43.971713 -120.622958  2/28/2020        1       0   \n1          53  Washington  47.407324 -120.575800  2/28/2020        7       0   \n2           6  California  37.155177 -119.543418  2/28/2020       27       0   \n3          41      Oregon  43.971713 -120.622958  2/29/2020        1       0   \n4          53  Washington  47.407324 -120.575800  2/29/2020       10       1   \n\n   tests_positive  tests_negative  tests_pending  tests  patients_icu  \\\n0             NaN             NaN            NaN    NaN           NaN   \n1           275.0             0.0            NaN  275.0           NaN   \n2             NaN             NaN            NaN    NaN           NaN   \n3             NaN             NaN            NaN    NaN           NaN   \n4           299.0            17.0            NaN  316.0           NaN   \n\n   patients_hosp  patients_vent  recovered   datetime  day  month  year  \\\n0            NaN            NaN        NaN 2020-02-28   28      2  2020   \n1            NaN            NaN        NaN 2020-02-28   28      2  2020   \n2            NaN            NaN        NaN 2020-02-28   28      2  2020   \n3            NaN            NaN        NaN 2020-02-29   29      2  2020   \n4            NaN            NaN        NaN 2020-02-29   29      2  2020   \n\n   cases_y  \n0       35  \n1       35  \n2       35  \n3       39  \n4       39  ",
      "text/html": "<div>\n<style scoped>\n    .dataframe tbody tr th:only-of-type {\n        vertical-align: middle;\n    }\n\n    .dataframe tbody tr th {\n        vertical-align: top;\n    }\n\n    .dataframe thead th {\n        text-align: right;\n    }\n</style>\n<table border=\"1\" class=\"dataframe\">\n  <thead>\n    <tr style=\"text-align: right;\">\n      <th></th>\n      <th>state_fips</th>\n      <th>state_name</th>\n      <th>lat</th>\n      <th>long</th>\n      <th>date</th>\n      <th>cases_x</th>\n      <th>deaths</th>\n      <th>tests_positive</th>\n      <th>tests_negative</th>\n      <th>tests_pending</th>\n      <th>tests</th>\n      <th>patients_icu</th>\n      <th>patients_hosp</th>\n      <th>patients_vent</th>\n      <th>recovered</th>\n      <th>datetime</th>\n      <th>day</th>\n      <th>month</th>\n      <th>year</th>\n      <th>cases_y</th>\n    </tr>\n  </thead>\n  <tbody>\n    <tr>\n      <th>0</th>\n      <td>41</td>\n      <td>Oregon</td>\n      <td>43.971713</td>\n      <td>-120.622958</td>\n      <td>2/28/2020</td>\n      <td>1</td>\n      <td>0</td>\n      <td>NaN</td>\n      <td>NaN</td>\n      <td>NaN</td>\n      <td>NaN</td>\n      <td>NaN</td>\n      <td>NaN</td>\n      <td>NaN</td>\n      <td>NaN</td>\n      <td>2020-02-28</td>\n      <td>28</td>\n      <td>2</td>\n      <td>2020</td>\n      <td>35</td>\n    </tr>\n    <tr>\n      <th>1</th>\n      <td>53</td>\n      <td>Washington</td>\n      <td>47.407324</td>\n      <td>-120.575800</td>\n      <td>2/28/2020</td>\n      <td>7</td>\n      <td>0</td>\n      <td>275.0</td>\n      <td>0.0</td>\n      <td>NaN</td>\n      <td>275.0</td>\n      <td>NaN</td>\n      <td>NaN</td>\n      <td>NaN</td>\n      <td>NaN</td>\n      <td>2020-02-28</td>\n      <td>28</td>\n      <td>2</td>\n      <td>2020</td>\n      <td>35</td>\n    </tr>\n    <tr>\n      <th>2</th>\n      <td>6</td>\n      <td>California</td>\n      <td>37.155177</td>\n      <td>-119.543418</td>\n      <td>2/28/2020</td>\n      <td>27</td>\n      <td>0</td>\n      <td>NaN</td>\n      <td>NaN</td>\n      <td>NaN</td>\n      <td>NaN</td>\n      <td>NaN</td>\n      <td>NaN</td>\n      <td>NaN</td>\n      <td>NaN</td>\n      <td>2020-02-28</td>\n      <td>28</td>\n      <td>2</td>\n      <td>2020</td>\n      <td>35</td>\n    </tr>\n    <tr>\n      <th>3</th>\n      <td>41</td>\n      <td>Oregon</td>\n      <td>43.971713</td>\n      <td>-120.622958</td>\n      <td>2/29/2020</td>\n      <td>1</td>\n      <td>0</td>\n      <td>NaN</td>\n      <td>NaN</td>\n      <td>NaN</td>\n      <td>NaN</td>\n      <td>NaN</td>\n      <td>NaN</td>\n      <td>NaN</td>\n      <td>NaN</td>\n      <td>2020-02-29</td>\n      <td>29</td>\n      <td>2</td>\n      <td>2020</td>\n      <td>39</td>\n    </tr>\n    <tr>\n      <th>4</th>\n      <td>53</td>\n      <td>Washington</td>\n      <td>47.407324</td>\n      <td>-120.575800</td>\n      <td>2/29/2020</td>\n      <td>10</td>\n      <td>1</td>\n      <td>299.0</td>\n      <td>17.0</td>\n      <td>NaN</td>\n      <td>316.0</td>\n      <td>NaN</td>\n      <td>NaN</td>\n      <td>NaN</td>\n      <td>NaN</td>\n      <td>2020-02-29</td>\n      <td>29</td>\n      <td>2</td>\n      <td>2020</td>\n      <td>39</td>\n    </tr>\n  </tbody>\n</table>\n</div>"
     },
     "metadata": {},
     "execution_count": 18
    }
   ],
   "source": [
    "# merge output of above groupbys to create new df\n",
    "pacific_new = pacific.merge(pacific_sum, on = \"datetime\")\n",
    "pacific_new.head()"
   ]
  },
  {
   "cell_type": "code",
   "execution_count": 36,
   "metadata": {},
   "outputs": [
    {
     "output_type": "execute_result",
     "data": {
      "text/plain": "   state_fips  state_name        lat        long       date  cases_x  deaths  \\\n0          41      Oregon  43.971713 -120.622958  2/28/2020        1       0   \n1          53  Washington  47.407324 -120.575800  2/28/2020        7       0   \n2           6  California  37.155177 -119.543418  2/28/2020       27       0   \n3          41      Oregon  43.971713 -120.622958  2/29/2020        1       0   \n4          53  Washington  47.407324 -120.575800  2/29/2020       10       1   \n\n   tests_positive  tests_negative  tests_pending  tests  patients_icu  \\\n0             NaN             NaN            NaN    NaN           NaN   \n1           275.0             0.0            NaN  275.0           NaN   \n2             NaN             NaN            NaN    NaN           NaN   \n3             NaN             NaN            NaN    NaN           NaN   \n4           299.0            17.0            NaN  316.0           NaN   \n\n   patients_hosp  patients_vent  recovered   datetime  day  month  year  \\\n0            NaN            NaN        NaN 2020-02-28   28      2  2020   \n1            NaN            NaN        NaN 2020-02-28   28      2  2020   \n2            NaN            NaN        NaN 2020-02-28   28      2  2020   \n3            NaN            NaN        NaN 2020-02-29   29      2  2020   \n4            NaN            NaN        NaN 2020-02-29   29      2  2020   \n\n   reg_sum_cases  \n0             35  \n1             35  \n2             35  \n3             39  \n4             39  ",
      "text/html": "<div>\n<style scoped>\n    .dataframe tbody tr th:only-of-type {\n        vertical-align: middle;\n    }\n\n    .dataframe tbody tr th {\n        vertical-align: top;\n    }\n\n    .dataframe thead th {\n        text-align: right;\n    }\n</style>\n<table border=\"1\" class=\"dataframe\">\n  <thead>\n    <tr style=\"text-align: right;\">\n      <th></th>\n      <th>state_fips</th>\n      <th>state_name</th>\n      <th>lat</th>\n      <th>long</th>\n      <th>date</th>\n      <th>cases_x</th>\n      <th>deaths</th>\n      <th>tests_positive</th>\n      <th>tests_negative</th>\n      <th>tests_pending</th>\n      <th>tests</th>\n      <th>patients_icu</th>\n      <th>patients_hosp</th>\n      <th>patients_vent</th>\n      <th>recovered</th>\n      <th>datetime</th>\n      <th>day</th>\n      <th>month</th>\n      <th>year</th>\n      <th>reg_sum_cases</th>\n    </tr>\n  </thead>\n  <tbody>\n    <tr>\n      <th>0</th>\n      <td>41</td>\n      <td>Oregon</td>\n      <td>43.971713</td>\n      <td>-120.622958</td>\n      <td>2/28/2020</td>\n      <td>1</td>\n      <td>0</td>\n      <td>NaN</td>\n      <td>NaN</td>\n      <td>NaN</td>\n      <td>NaN</td>\n      <td>NaN</td>\n      <td>NaN</td>\n      <td>NaN</td>\n      <td>NaN</td>\n      <td>2020-02-28</td>\n      <td>28</td>\n      <td>2</td>\n      <td>2020</td>\n      <td>35</td>\n    </tr>\n    <tr>\n      <th>1</th>\n      <td>53</td>\n      <td>Washington</td>\n      <td>47.407324</td>\n      <td>-120.575800</td>\n      <td>2/28/2020</td>\n      <td>7</td>\n      <td>0</td>\n      <td>275.0</td>\n      <td>0.0</td>\n      <td>NaN</td>\n      <td>275.0</td>\n      <td>NaN</td>\n      <td>NaN</td>\n      <td>NaN</td>\n      <td>NaN</td>\n      <td>2020-02-28</td>\n      <td>28</td>\n      <td>2</td>\n      <td>2020</td>\n      <td>35</td>\n    </tr>\n    <tr>\n      <th>2</th>\n      <td>6</td>\n      <td>California</td>\n      <td>37.155177</td>\n      <td>-119.543418</td>\n      <td>2/28/2020</td>\n      <td>27</td>\n      <td>0</td>\n      <td>NaN</td>\n      <td>NaN</td>\n      <td>NaN</td>\n      <td>NaN</td>\n      <td>NaN</td>\n      <td>NaN</td>\n      <td>NaN</td>\n      <td>NaN</td>\n      <td>2020-02-28</td>\n      <td>28</td>\n      <td>2</td>\n      <td>2020</td>\n      <td>35</td>\n    </tr>\n    <tr>\n      <th>3</th>\n      <td>41</td>\n      <td>Oregon</td>\n      <td>43.971713</td>\n      <td>-120.622958</td>\n      <td>2/29/2020</td>\n      <td>1</td>\n      <td>0</td>\n      <td>NaN</td>\n      <td>NaN</td>\n      <td>NaN</td>\n      <td>NaN</td>\n      <td>NaN</td>\n      <td>NaN</td>\n      <td>NaN</td>\n      <td>NaN</td>\n      <td>2020-02-29</td>\n      <td>29</td>\n      <td>2</td>\n      <td>2020</td>\n      <td>39</td>\n    </tr>\n    <tr>\n      <th>4</th>\n      <td>53</td>\n      <td>Washington</td>\n      <td>47.407324</td>\n      <td>-120.575800</td>\n      <td>2/29/2020</td>\n      <td>10</td>\n      <td>1</td>\n      <td>299.0</td>\n      <td>17.0</td>\n      <td>NaN</td>\n      <td>316.0</td>\n      <td>NaN</td>\n      <td>NaN</td>\n      <td>NaN</td>\n      <td>NaN</td>\n      <td>2020-02-29</td>\n      <td>29</td>\n      <td>2</td>\n      <td>2020</td>\n      <td>39</td>\n    </tr>\n  </tbody>\n</table>\n</div>"
     },
     "metadata": {},
     "execution_count": 36
    }
   ],
   "source": [
    "# Rename columns and sort by date\n",
    "pacific_new = pacific_new.rename(columns={\"cases_y\": \"reg_sum_cases\"})\n",
    "pacific_new.sort_values(by =\"datetime\")\n",
    "pacific_new.head()"
   ]
  },
  {
   "cell_type": "code",
   "execution_count": 41,
   "metadata": {},
   "outputs": [
    {
     "output_type": "execute_result",
     "data": {
      "text/plain": "         date  reg_sum_cases  state_fips         lat        long  cases_x  \\\n185  7/5/2020         321668         117  211.479334 -669.084353   321668   \n186  7/6/2020         329212         117  211.479334 -669.084353   329212   \n187  7/7/2020         339959         117  211.479334 -669.084353   339959   \n188  7/8/2020         349385         117  211.479334 -669.084353   349385   \n189  7/9/2020         357765         117  211.479334 -669.084353   357765   \n\n     deaths  tests_positive  tests_negative  tests_pending      tests  \\\n185    7980        313599.0       5446094.0            0.0  5759693.0   \n186    8073        320138.0       5562453.0            0.0  5882591.0   \n187    8206        327578.0       5687047.0            0.0  6014625.0   \n188    8365        340002.0       5788461.0            0.0  6128463.0   \n189    8502        347994.0       5882483.0            0.0  6230477.0   \n\n     patients_icu  patients_hosp  patients_vent  recovered  day  month   year  \n185        1959.0         7646.0           84.0     4063.0   25     35  10100  \n186        1998.0         7728.0           68.0     4171.0   30     35  10100  \n187        2039.0         7937.0           60.0     4218.0   35     35  10100  \n188        2033.0         8241.0           79.0     4237.0   40     35  10100  \n189        2016.0         8370.0           84.0     4359.0   45     35  10100  ",
      "text/html": "<div>\n<style scoped>\n    .dataframe tbody tr th:only-of-type {\n        vertical-align: middle;\n    }\n\n    .dataframe tbody tr th {\n        vertical-align: top;\n    }\n\n    .dataframe thead th {\n        text-align: right;\n    }\n</style>\n<table border=\"1\" class=\"dataframe\">\n  <thead>\n    <tr style=\"text-align: right;\">\n      <th></th>\n      <th>date</th>\n      <th>reg_sum_cases</th>\n      <th>state_fips</th>\n      <th>lat</th>\n      <th>long</th>\n      <th>cases_x</th>\n      <th>deaths</th>\n      <th>tests_positive</th>\n      <th>tests_negative</th>\n      <th>tests_pending</th>\n      <th>tests</th>\n      <th>patients_icu</th>\n      <th>patients_hosp</th>\n      <th>patients_vent</th>\n      <th>recovered</th>\n      <th>day</th>\n      <th>month</th>\n      <th>year</th>\n    </tr>\n  </thead>\n  <tbody>\n    <tr>\n      <th>185</th>\n      <td>7/5/2020</td>\n      <td>321668</td>\n      <td>117</td>\n      <td>211.479334</td>\n      <td>-669.084353</td>\n      <td>321668</td>\n      <td>7980</td>\n      <td>313599.0</td>\n      <td>5446094.0</td>\n      <td>0.0</td>\n      <td>5759693.0</td>\n      <td>1959.0</td>\n      <td>7646.0</td>\n      <td>84.0</td>\n      <td>4063.0</td>\n      <td>25</td>\n      <td>35</td>\n      <td>10100</td>\n    </tr>\n    <tr>\n      <th>186</th>\n      <td>7/6/2020</td>\n      <td>329212</td>\n      <td>117</td>\n      <td>211.479334</td>\n      <td>-669.084353</td>\n      <td>329212</td>\n      <td>8073</td>\n      <td>320138.0</td>\n      <td>5562453.0</td>\n      <td>0.0</td>\n      <td>5882591.0</td>\n      <td>1998.0</td>\n      <td>7728.0</td>\n      <td>68.0</td>\n      <td>4171.0</td>\n      <td>30</td>\n      <td>35</td>\n      <td>10100</td>\n    </tr>\n    <tr>\n      <th>187</th>\n      <td>7/7/2020</td>\n      <td>339959</td>\n      <td>117</td>\n      <td>211.479334</td>\n      <td>-669.084353</td>\n      <td>339959</td>\n      <td>8206</td>\n      <td>327578.0</td>\n      <td>5687047.0</td>\n      <td>0.0</td>\n      <td>6014625.0</td>\n      <td>2039.0</td>\n      <td>7937.0</td>\n      <td>60.0</td>\n      <td>4218.0</td>\n      <td>35</td>\n      <td>35</td>\n      <td>10100</td>\n    </tr>\n    <tr>\n      <th>188</th>\n      <td>7/8/2020</td>\n      <td>349385</td>\n      <td>117</td>\n      <td>211.479334</td>\n      <td>-669.084353</td>\n      <td>349385</td>\n      <td>8365</td>\n      <td>340002.0</td>\n      <td>5788461.0</td>\n      <td>0.0</td>\n      <td>6128463.0</td>\n      <td>2033.0</td>\n      <td>8241.0</td>\n      <td>79.0</td>\n      <td>4237.0</td>\n      <td>40</td>\n      <td>35</td>\n      <td>10100</td>\n    </tr>\n    <tr>\n      <th>189</th>\n      <td>7/9/2020</td>\n      <td>357765</td>\n      <td>117</td>\n      <td>211.479334</td>\n      <td>-669.084353</td>\n      <td>357765</td>\n      <td>8502</td>\n      <td>347994.0</td>\n      <td>5882483.0</td>\n      <td>0.0</td>\n      <td>6230477.0</td>\n      <td>2016.0</td>\n      <td>8370.0</td>\n      <td>84.0</td>\n      <td>4359.0</td>\n      <td>45</td>\n      <td>35</td>\n      <td>10100</td>\n    </tr>\n  </tbody>\n</table>\n</div>"
     },
     "metadata": {},
     "execution_count": 41
    }
   ],
   "source": [
    "# trying to consolidate cases per day\n",
    "daily_count =pacific_new.groupby(['date', 'reg_sum_cases']).sum()\n",
    "daily_count = daily_count.reset_index()\n",
    "daily_count.tail()"
   ]
  },
  {
   "cell_type": "code",
   "execution_count": null,
   "metadata": {},
   "outputs": [],
   "source": []
  }
 ],
 "metadata": {
  "kernelspec": {
   "display_name": "Python 3",
   "language": "python",
   "name": "python3"
  },
  "language_info": {
   "codemirror_mode": {
    "name": "ipython",
    "version": 3
   },
   "file_extension": ".py",
   "mimetype": "text/x-python",
   "name": "python",
   "nbconvert_exporter": "python",
   "pygments_lexer": "ipython3",
   "version": "3.8.5"
  }
 },
 "nbformat": 4,
 "nbformat_minor": 4
}