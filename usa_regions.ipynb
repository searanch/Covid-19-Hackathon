{
 "cells": [
  {
   "cell_type": "markdown",
   "metadata": {},
   "source": [
    "# Segmenting Covid-19 Data into Regions and SubRegions test"
   ]
  },
  {
   "cell_type": "markdown",
   "metadata": {},
   "source": [
    "NorthEast Region:\n",
    "New England (Connecticut, Maine, Massachusetts, New Hampshire, Rhode Island, and Vermont)\n",
    "\n"
   ]
  },
  {
   "cell_type": "code",
   "execution_count": 3,
   "metadata": {},
   "outputs": [],
   "source": [
    "import pandas as pd\n",
    "#from pandas_profiling import ProfileReport\n",
    "import matplotlib.pyplot as plt"
   ]
  },
  {
   "cell_type": "code",
   "execution_count": 4,
   "metadata": {},
   "outputs": [
    {
     "output_type": "execute_result",
     "data": {
      "text/plain": "   state_fips state_name        lat       long      date   cases  deaths  \\\n0          36   New York  42.913397 -75.596272  7/1/2020  398770   31791   \n1          36   New York  42.913397 -75.596272  7/2/2020  399642   31814   \n2          36   New York  42.913397 -75.596272  7/3/2020  400561   31836   \n3          36   New York  42.913397 -75.596272  7/4/2020  401286   31860   \n4          36   New York  42.913397 -75.596272  7/5/2020  401822   31895   \n\n   tests_positive  tests_negative  tests_pending      tests  patients_icu  \\\n0        394079.0       3577569.0            NaN  3971648.0         226.0   \n1        394954.0       3646639.0            NaN  4041593.0         209.0   \n2        395872.0       3712113.0            NaN  4107985.0         188.0   \n3        396598.0       3773790.0            NaN  4170388.0         190.0   \n4        397131.0       3836672.0            NaN  4233803.0         178.0   \n\n   patients_hosp  patients_vent  recovered  \n0          879.0          139.0    70590.0  \n1          878.0          129.0    70698.0  \n2          857.0          125.0    70794.0  \n3          844.0          119.0    70877.0  \n4          832.0          116.0    70968.0  ",
      "text/html": "<div>\n<style scoped>\n    .dataframe tbody tr th:only-of-type {\n        vertical-align: middle;\n    }\n\n    .dataframe tbody tr th {\n        vertical-align: top;\n    }\n\n    .dataframe thead th {\n        text-align: right;\n    }\n</style>\n<table border=\"1\" class=\"dataframe\">\n  <thead>\n    <tr style=\"text-align: right;\">\n      <th></th>\n      <th>state_fips</th>\n      <th>state_name</th>\n      <th>lat</th>\n      <th>long</th>\n      <th>date</th>\n      <th>cases</th>\n      <th>deaths</th>\n      <th>tests_positive</th>\n      <th>tests_negative</th>\n      <th>tests_pending</th>\n      <th>tests</th>\n      <th>patients_icu</th>\n      <th>patients_hosp</th>\n      <th>patients_vent</th>\n      <th>recovered</th>\n    </tr>\n  </thead>\n  <tbody>\n    <tr>\n      <th>0</th>\n      <td>36</td>\n      <td>New York</td>\n      <td>42.913397</td>\n      <td>-75.596272</td>\n      <td>7/1/2020</td>\n      <td>398770</td>\n      <td>31791</td>\n      <td>394079.0</td>\n      <td>3577569.0</td>\n      <td>NaN</td>\n      <td>3971648.0</td>\n      <td>226.0</td>\n      <td>879.0</td>\n      <td>139.0</td>\n      <td>70590.0</td>\n    </tr>\n    <tr>\n      <th>1</th>\n      <td>36</td>\n      <td>New York</td>\n      <td>42.913397</td>\n      <td>-75.596272</td>\n      <td>7/2/2020</td>\n      <td>399642</td>\n      <td>31814</td>\n      <td>394954.0</td>\n      <td>3646639.0</td>\n      <td>NaN</td>\n      <td>4041593.0</td>\n      <td>209.0</td>\n      <td>878.0</td>\n      <td>129.0</td>\n      <td>70698.0</td>\n    </tr>\n    <tr>\n      <th>2</th>\n      <td>36</td>\n      <td>New York</td>\n      <td>42.913397</td>\n      <td>-75.596272</td>\n      <td>7/3/2020</td>\n      <td>400561</td>\n      <td>31836</td>\n      <td>395872.0</td>\n      <td>3712113.0</td>\n      <td>NaN</td>\n      <td>4107985.0</td>\n      <td>188.0</td>\n      <td>857.0</td>\n      <td>125.0</td>\n      <td>70794.0</td>\n    </tr>\n    <tr>\n      <th>3</th>\n      <td>36</td>\n      <td>New York</td>\n      <td>42.913397</td>\n      <td>-75.596272</td>\n      <td>7/4/2020</td>\n      <td>401286</td>\n      <td>31860</td>\n      <td>396598.0</td>\n      <td>3773790.0</td>\n      <td>NaN</td>\n      <td>4170388.0</td>\n      <td>190.0</td>\n      <td>844.0</td>\n      <td>119.0</td>\n      <td>70877.0</td>\n    </tr>\n    <tr>\n      <th>4</th>\n      <td>36</td>\n      <td>New York</td>\n      <td>42.913397</td>\n      <td>-75.596272</td>\n      <td>7/5/2020</td>\n      <td>401822</td>\n      <td>31895</td>\n      <td>397131.0</td>\n      <td>3836672.0</td>\n      <td>NaN</td>\n      <td>4233803.0</td>\n      <td>178.0</td>\n      <td>832.0</td>\n      <td>116.0</td>\n      <td>70968.0</td>\n    </tr>\n  </tbody>\n</table>\n</div>"
     },
     "metadata": {},
     "execution_count": 4
    }
   ],
   "source": [
    "# Load enigma dataset.\n",
    "usa = pd.read_csv('enigma_Aug_8_2020.csv')\n",
    "usa.head()\n"
   ]
  },
  {
   "cell_type": "markdown",
   "metadata": {},
   "source": [
    "Run Pandas Profile to Learn more about Dataset"
   ]
  },
  {
   "cell_type": "code",
   "execution_count": null,
   "metadata": {},
   "outputs": [],
   "source": [
    "profile = ProfileReport(usa, title=\"Pandas Profiling Report\")\n",
    "profile\n",
    "profile.to_file(\"explore_enigma_data.html\")"
   ]
  },
  {
   "cell_type": "code",
   "execution_count": null,
   "metadata": {},
   "outputs": [],
   "source": []
  },
  {
   "cell_type": "code",
   "execution_count": 7,
   "metadata": {},
   "outputs": [
    {
     "output_type": "execute_result",
     "data": {
      "text/plain": "      state_fips state_name        lat       long       date   cases  deaths  \\\n8149          36   New York  42.913397 -75.596272  6/26/2020  395972   31075   \n8150          36   New York  42.913397 -75.596272  6/27/2020  396669   31105   \n8151          36   New York  42.913397 -75.596272  6/28/2020  397293   31137   \n8152          36   New York  42.913397 -75.596272  6/29/2020  397684   31143   \n8153          36   New York  42.913397 -75.596272  6/30/2020  398142   31776   \n\n      tests_positive  tests_negative  tests_pending      tests  patients_icu  \\\n8149        391220.0       3290097.0            NaN  3681317.0         244.0   \n8150        391923.0       3362656.0            NaN  3754579.0         230.0   \n8151        392539.0       3423946.0            NaN  3816485.0         229.0   \n8152        392930.0       3469983.0            NaN  3862913.0         216.0   \n8153        393454.0       3521484.0            NaN  3914938.0         217.0   \n\n      patients_hosp  patients_vent  recovered   datetime  \n8149          951.0          167.0    70010.0 2020-06-26  \n8150          908.0          167.0    70010.0 2020-06-27  \n8151          869.0          167.0    70010.0 2020-06-28  \n8152          853.0          136.0    70435.0 2020-06-29  \n8153          891.0          137.0    70487.0 2020-06-30  ",
      "text/html": "<div>\n<style scoped>\n    .dataframe tbody tr th:only-of-type {\n        vertical-align: middle;\n    }\n\n    .dataframe tbody tr th {\n        vertical-align: top;\n    }\n\n    .dataframe thead th {\n        text-align: right;\n    }\n</style>\n<table border=\"1\" class=\"dataframe\">\n  <thead>\n    <tr style=\"text-align: right;\">\n      <th></th>\n      <th>state_fips</th>\n      <th>state_name</th>\n      <th>lat</th>\n      <th>long</th>\n      <th>date</th>\n      <th>cases</th>\n      <th>deaths</th>\n      <th>tests_positive</th>\n      <th>tests_negative</th>\n      <th>tests_pending</th>\n      <th>tests</th>\n      <th>patients_icu</th>\n      <th>patients_hosp</th>\n      <th>patients_vent</th>\n      <th>recovered</th>\n      <th>datetime</th>\n    </tr>\n  </thead>\n  <tbody>\n    <tr>\n      <th>8149</th>\n      <td>36</td>\n      <td>New York</td>\n      <td>42.913397</td>\n      <td>-75.596272</td>\n      <td>6/26/2020</td>\n      <td>395972</td>\n      <td>31075</td>\n      <td>391220.0</td>\n      <td>3290097.0</td>\n      <td>NaN</td>\n      <td>3681317.0</td>\n      <td>244.0</td>\n      <td>951.0</td>\n      <td>167.0</td>\n      <td>70010.0</td>\n      <td>2020-06-26</td>\n    </tr>\n    <tr>\n      <th>8150</th>\n      <td>36</td>\n      <td>New York</td>\n      <td>42.913397</td>\n      <td>-75.596272</td>\n      <td>6/27/2020</td>\n      <td>396669</td>\n      <td>31105</td>\n      <td>391923.0</td>\n      <td>3362656.0</td>\n      <td>NaN</td>\n      <td>3754579.0</td>\n      <td>230.0</td>\n      <td>908.0</td>\n      <td>167.0</td>\n      <td>70010.0</td>\n      <td>2020-06-27</td>\n    </tr>\n    <tr>\n      <th>8151</th>\n      <td>36</td>\n      <td>New York</td>\n      <td>42.913397</td>\n      <td>-75.596272</td>\n      <td>6/28/2020</td>\n      <td>397293</td>\n      <td>31137</td>\n      <td>392539.0</td>\n      <td>3423946.0</td>\n      <td>NaN</td>\n      <td>3816485.0</td>\n      <td>229.0</td>\n      <td>869.0</td>\n      <td>167.0</td>\n      <td>70010.0</td>\n      <td>2020-06-28</td>\n    </tr>\n    <tr>\n      <th>8152</th>\n      <td>36</td>\n      <td>New York</td>\n      <td>42.913397</td>\n      <td>-75.596272</td>\n      <td>6/29/2020</td>\n      <td>397684</td>\n      <td>31143</td>\n      <td>392930.0</td>\n      <td>3469983.0</td>\n      <td>NaN</td>\n      <td>3862913.0</td>\n      <td>216.0</td>\n      <td>853.0</td>\n      <td>136.0</td>\n      <td>70435.0</td>\n      <td>2020-06-29</td>\n    </tr>\n    <tr>\n      <th>8153</th>\n      <td>36</td>\n      <td>New York</td>\n      <td>42.913397</td>\n      <td>-75.596272</td>\n      <td>6/30/2020</td>\n      <td>398142</td>\n      <td>31776</td>\n      <td>393454.0</td>\n      <td>3521484.0</td>\n      <td>NaN</td>\n      <td>3914938.0</td>\n      <td>217.0</td>\n      <td>891.0</td>\n      <td>137.0</td>\n      <td>70487.0</td>\n      <td>2020-06-30</td>\n    </tr>\n  </tbody>\n</table>\n</div>"
     },
     "metadata": {},
     "execution_count": 7
    }
   ],
   "source": [
    "# first datetime conversion\n",
    "usa['datetime'] = pd.to_datetime(usa['date'])\n",
    "#usa[\"day\"] = usa['datetime'].map(lambda x: x.day)\n",
    "#usa[\"month\"] = usa['datetime'].map(lambda x: x.month)\n",
    "#usa[\"year\"] = usa['datetime'].map(lambda x: x.year)\n",
    "#usa.sample(5)\n",
    "usa.tail(5)"
   ]
  },
  {
   "cell_type": "code",
   "execution_count": null,
   "metadata": {},
   "outputs": [],
   "source": [
    "\n",
    "\n",
    "#usa['growth_rate'] = usa['cases'].pct_change()\n",
    "#usa.sample(10)"
   ]
  },
  {
   "cell_type": "code",
   "execution_count": null,
   "metadata": {},
   "outputs": [],
   "source": [
    "#usa_copy = usa[['cases', 'growth_rate']].copy()\n",
    "#usa_copy.sample(20)"
   ]
  },
  {
   "cell_type": "markdown",
   "metadata": {},
   "source": [
    "NorthEast Region:\n",
    "New England Divsion 1 (Connecticut, Maine, Massachusetts, New Hampshire, Rhode Island, and Vermont)"
   ]
  },
  {
   "cell_type": "code",
   "execution_count": 45,
   "metadata": {},
   "outputs": [
    {
     "data": {
      "text/html": [
       "<div>\n",
       "<style scoped>\n",
       "    .dataframe tbody tr th:only-of-type {\n",
       "        vertical-align: middle;\n",
       "    }\n",
       "\n",
       "    .dataframe tbody tr th {\n",
       "        vertical-align: top;\n",
       "    }\n",
       "\n",
       "    .dataframe thead th {\n",
       "        text-align: right;\n",
       "    }\n",
       "</style>\n",
       "<table border=\"1\" class=\"dataframe\">\n",
       "  <thead>\n",
       "    <tr style=\"text-align: right;\">\n",
       "      <th></th>\n",
       "      <th>state_fips</th>\n",
       "      <th>state_name</th>\n",
       "      <th>lat</th>\n",
       "      <th>long</th>\n",
       "      <th>date</th>\n",
       "      <th>cases</th>\n",
       "      <th>deaths</th>\n",
       "      <th>tests_positive</th>\n",
       "      <th>tests_negative</th>\n",
       "      <th>tests_pending</th>\n",
       "      <th>tests</th>\n",
       "      <th>patients_icu</th>\n",
       "      <th>patients_hosp</th>\n",
       "      <th>patients_vent</th>\n",
       "      <th>recovered</th>\n",
       "      <th>datetime</th>\n",
       "    </tr>\n",
       "  </thead>\n",
       "  <tbody>\n",
       "    <tr>\n",
       "      <th>900</th>\n",
       "      <td>44</td>\n",
       "      <td>Rhode Island</td>\n",
       "      <td>41.597419</td>\n",
       "      <td>-71.527272</td>\n",
       "      <td>3/1/2020</td>\n",
       "      <td>2</td>\n",
       "      <td>0</td>\n",
       "      <td>2.0</td>\n",
       "      <td>2.0</td>\n",
       "      <td>NaN</td>\n",
       "      <td>4.0</td>\n",
       "      <td>NaN</td>\n",
       "      <td>NaN</td>\n",
       "      <td>NaN</td>\n",
       "      <td>NaN</td>\n",
       "      <td>2020-03-01</td>\n",
       "    </tr>\n",
       "    <tr>\n",
       "      <th>901</th>\n",
       "      <td>44</td>\n",
       "      <td>Rhode Island</td>\n",
       "      <td>41.597419</td>\n",
       "      <td>-71.527272</td>\n",
       "      <td>3/2/2020</td>\n",
       "      <td>2</td>\n",
       "      <td>0</td>\n",
       "      <td>2.0</td>\n",
       "      <td>3.0</td>\n",
       "      <td>NaN</td>\n",
       "      <td>5.0</td>\n",
       "      <td>NaN</td>\n",
       "      <td>NaN</td>\n",
       "      <td>NaN</td>\n",
       "      <td>NaN</td>\n",
       "      <td>2020-03-02</td>\n",
       "    </tr>\n",
       "    <tr>\n",
       "      <th>902</th>\n",
       "      <td>44</td>\n",
       "      <td>Rhode Island</td>\n",
       "      <td>41.597419</td>\n",
       "      <td>-71.527272</td>\n",
       "      <td>3/3/2020</td>\n",
       "      <td>2</td>\n",
       "      <td>0</td>\n",
       "      <td>2.0</td>\n",
       "      <td>5.0</td>\n",
       "      <td>NaN</td>\n",
       "      <td>7.0</td>\n",
       "      <td>NaN</td>\n",
       "      <td>NaN</td>\n",
       "      <td>NaN</td>\n",
       "      <td>NaN</td>\n",
       "      <td>2020-03-03</td>\n",
       "    </tr>\n",
       "    <tr>\n",
       "      <th>903</th>\n",
       "      <td>44</td>\n",
       "      <td>Rhode Island</td>\n",
       "      <td>41.597419</td>\n",
       "      <td>-71.527272</td>\n",
       "      <td>3/4/2020</td>\n",
       "      <td>2</td>\n",
       "      <td>0</td>\n",
       "      <td>2.0</td>\n",
       "      <td>15.0</td>\n",
       "      <td>NaN</td>\n",
       "      <td>17.0</td>\n",
       "      <td>NaN</td>\n",
       "      <td>NaN</td>\n",
       "      <td>NaN</td>\n",
       "      <td>NaN</td>\n",
       "      <td>2020-03-04</td>\n",
       "    </tr>\n",
       "    <tr>\n",
       "      <th>904</th>\n",
       "      <td>44</td>\n",
       "      <td>Rhode Island</td>\n",
       "      <td>41.597419</td>\n",
       "      <td>-71.527272</td>\n",
       "      <td>3/5/2020</td>\n",
       "      <td>2</td>\n",
       "      <td>0</td>\n",
       "      <td>3.0</td>\n",
       "      <td>19.0</td>\n",
       "      <td>NaN</td>\n",
       "      <td>22.0</td>\n",
       "      <td>NaN</td>\n",
       "      <td>NaN</td>\n",
       "      <td>NaN</td>\n",
       "      <td>NaN</td>\n",
       "      <td>2020-03-05</td>\n",
       "    </tr>\n",
       "  </tbody>\n",
       "</table>\n",
       "</div>"
      ],
      "text/plain": [
       "     state_fips    state_name        lat       long      date  cases  deaths  \\\n",
       "900          44  Rhode Island  41.597419 -71.527272  3/1/2020      2       0   \n",
       "901          44  Rhode Island  41.597419 -71.527272  3/2/2020      2       0   \n",
       "902          44  Rhode Island  41.597419 -71.527272  3/3/2020      2       0   \n",
       "903          44  Rhode Island  41.597419 -71.527272  3/4/2020      2       0   \n",
       "904          44  Rhode Island  41.597419 -71.527272  3/5/2020      2       0   \n",
       "\n",
       "     tests_positive  tests_negative  tests_pending  tests  patients_icu  \\\n",
       "900             2.0             2.0            NaN    4.0           NaN   \n",
       "901             2.0             3.0            NaN    5.0           NaN   \n",
       "902             2.0             5.0            NaN    7.0           NaN   \n",
       "903             2.0            15.0            NaN   17.0           NaN   \n",
       "904             3.0            19.0            NaN   22.0           NaN   \n",
       "\n",
       "     patients_hosp  patients_vent  recovered   datetime  \n",
       "900            NaN            NaN        NaN 2020-03-01  \n",
       "901            NaN            NaN        NaN 2020-03-02  \n",
       "902            NaN            NaN        NaN 2020-03-03  \n",
       "903            NaN            NaN        NaN 2020-03-04  \n",
       "904            NaN            NaN        NaN 2020-03-05  "
      ]
     },
     "execution_count": 45,
     "metadata": {},
     "output_type": "execute_result"
    }
   ],
   "source": [
    "# Created DF based New Englend Divsion\n",
    "new_englend = usa[(usa['state_name']==\"Connecticut\") | (usa['state_name'] == 'Maine') |\n",
    "                      (usa['state_name'] == 'Massachusetts') | (usa['state_name'] == 'New Hampshire') | \\\n",
    "                     (usa['state_name']=='Rhode Island')| (usa['state_name'] =='Vermont')]\n",
    "new_englend.head()"
   ]
  },
  {
   "cell_type": "markdown",
   "metadata": {},
   "source": [
    "# CODE TO ADD DAILY DIVISION TALLY FOR NEW ENGLEND"
   ]
  },
  {
   "cell_type": "code",
   "execution_count": 47,
   "metadata": {},
   "outputs": [
    {
     "ename": "NameError",
     "evalue": "name 'mid_sum' is not defined",
     "output_type": "error",
     "traceback": [
      "\u001b[1;31m---------------------------------------------------------------------------\u001b[0m",
      "\u001b[1;31mNameError\u001b[0m                                 Traceback (most recent call last)",
      "\u001b[1;32m<ipython-input-47-3eab1aff171d>\u001b[0m in \u001b[0;36m<module>\u001b[1;34m\u001b[0m\n\u001b[0;32m      5\u001b[0m \u001b[1;33m\u001b[0m\u001b[0m\n\u001b[0;32m      6\u001b[0m \u001b[1;31m# merge output of above groupbys to create new df\u001b[0m\u001b[1;33m\u001b[0m\u001b[1;33m\u001b[0m\u001b[1;33m\u001b[0m\u001b[0m\n\u001b[1;32m----> 7\u001b[1;33m \u001b[0mNE_new\u001b[0m \u001b[1;33m=\u001b[0m\u001b[0mnew_englend\u001b[0m\u001b[1;33m.\u001b[0m\u001b[0mmerge\u001b[0m\u001b[1;33m(\u001b[0m\u001b[0mmid_sum\u001b[0m\u001b[1;33m,\u001b[0m \u001b[0mon\u001b[0m \u001b[1;33m=\u001b[0m \u001b[1;34m\"datetime\"\u001b[0m\u001b[1;33m)\u001b[0m\u001b[1;33m\u001b[0m\u001b[1;33m\u001b[0m\u001b[0m\n\u001b[0m\u001b[0;32m      8\u001b[0m \u001b[1;31m# Rename columns and sort by date\u001b[0m\u001b[1;33m\u001b[0m\u001b[1;33m\u001b[0m\u001b[1;33m\u001b[0m\u001b[0m\n\u001b[0;32m      9\u001b[0m \u001b[0mNE_new\u001b[0m \u001b[1;33m=\u001b[0m \u001b[0mNE_new\u001b[0m\u001b[1;33m.\u001b[0m\u001b[0mrename\u001b[0m\u001b[1;33m(\u001b[0m\u001b[0mcolumns\u001b[0m\u001b[1;33m=\u001b[0m\u001b[1;33m{\u001b[0m\u001b[1;34m\"cases_y\"\u001b[0m\u001b[1;33m:\u001b[0m \u001b[1;34m\"reg_sum_cases\"\u001b[0m\u001b[1;33m}\u001b[0m\u001b[1;33m)\u001b[0m\u001b[1;33m\u001b[0m\u001b[1;33m\u001b[0m\u001b[0m\n",
      "\u001b[1;31mNameError\u001b[0m: name 'mid_sum' is not defined"
     ]
    }
   ],
   "source": [
    "# Summing case count for New Englend Divsion\n",
    "# Groupby to consolidate cases by entire region\n",
    "NE_group = new_englend.groupby([\"datetime\"])\n",
    "NE_sum = NE_group[\"cases\"].sum()\n",
    "\n",
    "# merge output of above groupbys to create new df\n",
    "NE_new =new_englend.merge(mid_sum, on = \"datetime\")\n",
    "# Rename columns and sort by date\n",
    "NE_new = NE_new.rename(columns={\"cases_y\": \"reg_sum_cases\"}) \n",
    "NE_new.sort_values(by =\"datetime\")\n",
    "\n",
    "# Perform groupby operations to sum cases by day\n",
    "NE_tally =NE_new.groupby(['date', 'reg_sum_cases']).sum()\n",
    "NE_tally = NE_tally.reset_index()\n",
    "NE_tally.head(5)\n",
    "\n",
    "# now finsh date time conversion\n",
    "NE_tally['datetime'] = pd.to_datetime(NE_tally['date'])\n",
    "NE_tally[\"day\"] = NE_tally['datetime'].map(lambda x: x.day)\n",
    "NE_tally[\"month\"] = NE_tally['datetime'].map(lambda x: x.month)\n",
    "NE_tally[\"year\"] = NE_tally['datetime'].map(lambda x: x.year)\n",
    "NE_tally.sample(5)"
   ]
  },
  {
   "cell_type": "markdown",
   "metadata": {},
   "source": [
    "NorthEast Region\n",
    "Mid-Atlantic Divsion 2 (New Jersey, New York, and Pennsylvania)"
   ]
  },
  {
   "cell_type": "code",
   "execution_count": 46,
   "metadata": {},
   "outputs": [
    {
     "data": {
      "text/html": [
       "<div>\n",
       "<style scoped>\n",
       "    .dataframe tbody tr th:only-of-type {\n",
       "        vertical-align: middle;\n",
       "    }\n",
       "\n",
       "    .dataframe tbody tr th {\n",
       "        vertical-align: top;\n",
       "    }\n",
       "\n",
       "    .dataframe thead th {\n",
       "        text-align: right;\n",
       "    }\n",
       "</style>\n",
       "<table border=\"1\" class=\"dataframe\">\n",
       "  <thead>\n",
       "    <tr style=\"text-align: right;\">\n",
       "      <th></th>\n",
       "      <th>state_fips</th>\n",
       "      <th>state_name</th>\n",
       "      <th>lat</th>\n",
       "      <th>long</th>\n",
       "      <th>date</th>\n",
       "      <th>cases</th>\n",
       "      <th>deaths</th>\n",
       "      <th>tests_positive</th>\n",
       "      <th>tests_negative</th>\n",
       "      <th>tests_pending</th>\n",
       "      <th>tests</th>\n",
       "      <th>patients_icu</th>\n",
       "      <th>patients_hosp</th>\n",
       "      <th>patients_vent</th>\n",
       "      <th>recovered</th>\n",
       "      <th>datetime</th>\n",
       "    </tr>\n",
       "  </thead>\n",
       "  <tbody>\n",
       "    <tr>\n",
       "      <th>0</th>\n",
       "      <td>36</td>\n",
       "      <td>New York</td>\n",
       "      <td>42.913397</td>\n",
       "      <td>-75.596272</td>\n",
       "      <td>7/1/2020</td>\n",
       "      <td>398770</td>\n",
       "      <td>31791</td>\n",
       "      <td>394079.0</td>\n",
       "      <td>3577569.0</td>\n",
       "      <td>NaN</td>\n",
       "      <td>3971648.0</td>\n",
       "      <td>226.0</td>\n",
       "      <td>879.0</td>\n",
       "      <td>139.0</td>\n",
       "      <td>70590.0</td>\n",
       "      <td>2020-07-01</td>\n",
       "    </tr>\n",
       "    <tr>\n",
       "      <th>1</th>\n",
       "      <td>36</td>\n",
       "      <td>New York</td>\n",
       "      <td>42.913397</td>\n",
       "      <td>-75.596272</td>\n",
       "      <td>7/2/2020</td>\n",
       "      <td>399642</td>\n",
       "      <td>31814</td>\n",
       "      <td>394954.0</td>\n",
       "      <td>3646639.0</td>\n",
       "      <td>NaN</td>\n",
       "      <td>4041593.0</td>\n",
       "      <td>209.0</td>\n",
       "      <td>878.0</td>\n",
       "      <td>129.0</td>\n",
       "      <td>70698.0</td>\n",
       "      <td>2020-07-02</td>\n",
       "    </tr>\n",
       "    <tr>\n",
       "      <th>2</th>\n",
       "      <td>36</td>\n",
       "      <td>New York</td>\n",
       "      <td>42.913397</td>\n",
       "      <td>-75.596272</td>\n",
       "      <td>7/3/2020</td>\n",
       "      <td>400561</td>\n",
       "      <td>31836</td>\n",
       "      <td>395872.0</td>\n",
       "      <td>3712113.0</td>\n",
       "      <td>NaN</td>\n",
       "      <td>4107985.0</td>\n",
       "      <td>188.0</td>\n",
       "      <td>857.0</td>\n",
       "      <td>125.0</td>\n",
       "      <td>70794.0</td>\n",
       "      <td>2020-07-03</td>\n",
       "    </tr>\n",
       "    <tr>\n",
       "      <th>3</th>\n",
       "      <td>36</td>\n",
       "      <td>New York</td>\n",
       "      <td>42.913397</td>\n",
       "      <td>-75.596272</td>\n",
       "      <td>7/4/2020</td>\n",
       "      <td>401286</td>\n",
       "      <td>31860</td>\n",
       "      <td>396598.0</td>\n",
       "      <td>3773790.0</td>\n",
       "      <td>NaN</td>\n",
       "      <td>4170388.0</td>\n",
       "      <td>190.0</td>\n",
       "      <td>844.0</td>\n",
       "      <td>119.0</td>\n",
       "      <td>70877.0</td>\n",
       "      <td>2020-07-04</td>\n",
       "    </tr>\n",
       "    <tr>\n",
       "      <th>4</th>\n",
       "      <td>36</td>\n",
       "      <td>New York</td>\n",
       "      <td>42.913397</td>\n",
       "      <td>-75.596272</td>\n",
       "      <td>7/5/2020</td>\n",
       "      <td>401822</td>\n",
       "      <td>31895</td>\n",
       "      <td>397131.0</td>\n",
       "      <td>3836672.0</td>\n",
       "      <td>NaN</td>\n",
       "      <td>4233803.0</td>\n",
       "      <td>178.0</td>\n",
       "      <td>832.0</td>\n",
       "      <td>116.0</td>\n",
       "      <td>70968.0</td>\n",
       "      <td>2020-07-05</td>\n",
       "    </tr>\n",
       "  </tbody>\n",
       "</table>\n",
       "</div>"
      ],
      "text/plain": [
       "   state_fips state_name        lat       long      date   cases  deaths  \\\n",
       "0          36   New York  42.913397 -75.596272  7/1/2020  398770   31791   \n",
       "1          36   New York  42.913397 -75.596272  7/2/2020  399642   31814   \n",
       "2          36   New York  42.913397 -75.596272  7/3/2020  400561   31836   \n",
       "3          36   New York  42.913397 -75.596272  7/4/2020  401286   31860   \n",
       "4          36   New York  42.913397 -75.596272  7/5/2020  401822   31895   \n",
       "\n",
       "   tests_positive  tests_negative  tests_pending      tests  patients_icu  \\\n",
       "0        394079.0       3577569.0            NaN  3971648.0         226.0   \n",
       "1        394954.0       3646639.0            NaN  4041593.0         209.0   \n",
       "2        395872.0       3712113.0            NaN  4107985.0         188.0   \n",
       "3        396598.0       3773790.0            NaN  4170388.0         190.0   \n",
       "4        397131.0       3836672.0            NaN  4233803.0         178.0   \n",
       "\n",
       "   patients_hosp  patients_vent  recovered   datetime  \n",
       "0          879.0          139.0    70590.0 2020-07-01  \n",
       "1          878.0          129.0    70698.0 2020-07-02  \n",
       "2          857.0          125.0    70794.0 2020-07-03  \n",
       "3          844.0          119.0    70877.0 2020-07-04  \n",
       "4          832.0          116.0    70968.0 2020-07-05  "
      ]
     },
     "execution_count": 46,
     "metadata": {},
     "output_type": "execute_result"
    }
   ],
   "source": [
    "# Create DF based on Mid Atlantic Divsion\n",
    "mid_atlantic = usa[(usa['state_name']==\"New Jersey\") | (usa['state_name'] == 'New York') |\n",
    "                      (usa['state_name'] == 'Pennsylvania')]\n",
    "mid_atlantic.head()"
   ]
  },
  {
   "cell_type": "code",
   "execution_count": null,
   "metadata": {},
   "outputs": [],
   "source": []
  },
  {
   "cell_type": "markdown",
   "metadata": {},
   "source": [
    "# CODE TO ADD CASE TALLY TO MID ATLANTIC"
   ]
  },
  {
   "cell_type": "code",
   "execution_count": null,
   "metadata": {},
   "outputs": [],
   "source": [
    "# Summing case count for Mid Atlantic Region\n",
    "# Groupby to consolidate cases by entire region\n",
    "mid_group = mid_atlantic.groupby([\"datetime\"])\n",
    "mid_sum = mid_group[\"cases\"].sum()\n",
    "\n",
    "# merge output of above groupbys to create new df\n",
    "mid_new =mid_atlantic.merge(mid_sum, on = \"datetime\")\n",
    "# Rename columns and sort by date\n",
    "mid_new = mid_new.rename(columns={\"cases_y\": \"reg_sum_cases\"}) \n",
    "mid_new.sort_values(by =\"datetime\")\n",
    "\n",
    "# Perform groupby operations to sum cases by day\n",
    "mid_tally =mid_new.groupby(['date', 'reg_sum_cases']).sum()\n",
    "mid_tally = mid_tally.reset_index()\n",
    "mid_tally.head(5)\n",
    "\n",
    "# now finsh date time conversion\n",
    "mid_tally['datetime'] = pd.to_datetime(mid_tally['date'])\n",
    "mid_tally[\"day\"] = mid_tally['datetime'].map(lambda x: x.day)\n",
    "mid_tally[\"month\"] = mid_tally['datetime'].map(lambda x: x.month)\n",
    "mid_tally[\"year\"] = mid_tally['datetime'].map(lambda x: x.year)\n",
    "mid_tally.sample(5)\n",
    "\n",
    "\n",
    "\n"
   ]
  },
  {
   "cell_type": "code",
   "execution_count": null,
   "metadata": {},
   "outputs": [],
   "source": [
    "mid_tally['growth_rate'] = mid_tally['reg_sum_cases'].pct_change()\n",
    "mid_tally"
   ]
  },
  {
   "cell_type": "markdown",
   "metadata": {},
   "source": [
    "Midwest Region\n",
    "Division 3: East North Central (Illinois, Indiana, Michigan, Ohio, and Wisconsin)"
   ]
  },
  {
   "cell_type": "code",
   "execution_count": null,
   "metadata": {},
   "outputs": [],
   "source": []
  },
  {
   "cell_type": "code",
   "execution_count": null,
   "metadata": {},
   "outputs": [],
   "source": [
    "# Created DF based East North Central Divsion\n",
    "east_north_central = usa[(usa['state_name']=='Illinois') | (usa['state_name'] == 'Indiana') |\n",
    "                      (usa['state_name'] == 'Michigan') | (usa['state_name'] == 'Ohio') | \\\n",
    "                     (usa['state_name']=='Wisconsin')]\n",
    "east_north_central.head()"
   ]
  },
  {
   "cell_type": "markdown",
   "metadata": {},
   "source": [
    "# CODE FOR ADDING TALLY COUNT CASE EAST NORTH CENTRAL DIVSION (STILL WORKING ON THIS ONE)"
   ]
  },
  {
   "cell_type": "code",
   "execution_count": null,
   "metadata": {},
   "outputs": [],
   "source": [
    "# Summing case count for east north central Region\n",
    "# Groupby to consolidate cases by entire region\n",
    "\n",
    "\n"
   ]
  },
  {
   "cell_type": "markdown",
   "metadata": {},
   "source": [
    " West North Central Divsion 4 (Iowa, Kansas, Minnesota, Missouri, Nebraska, North Dakota, and South Dakota)"
   ]
  },
  {
   "cell_type": "code",
   "execution_count": null,
   "metadata": {},
   "outputs": [],
   "source": [
    "# Creat DF for just West North Central\n",
    "west_northern_central =  usa[(usa['state_name']=='Iowa') | (usa['state_name'] == 'Kansas') |\n",
    "                      (usa['state_name'] == 'Minnesota') | (usa['state_name'] == 'Missouri') | \n",
    "                     (usa['state_name']=='North Dakota') | (usa['state_name']=='South Dakota')] \n",
    "\n",
    "west_northern_central.head()\n",
    "                    "
   ]
  },
  {
   "cell_type": "code",
   "execution_count": null,
   "metadata": {},
   "outputs": [],
   "source": [
    "# Create Function\n",
    "def make_regions(a,b,c,d,e,f)"
   ]
  },
  {
   "cell_type": "code",
   "execution_count": null,
   "metadata": {},
   "outputs": [],
   "source": []
  },
  {
   "cell_type": "markdown",
   "metadata": {},
   "source": [
    "South Division 5: South Atlantic (Delaware, Florida, Georgia, Maryland, North Carolina, South Carolina, Virginia, District of Columbia, and West Virginia)"
   ]
  },
  {
   "cell_type": "code",
   "execution_count": null,
   "metadata": {},
   "outputs": [],
   "source": [
    "# Make Df for just South Atlantic divsion.\n",
    "\n",
    "south_atlantic = usa[(usa['state_name']=='Delaware') | (usa['state_name'] == 'Flordia') |\n",
    "                      (usa['state_name'] == 'Georgia') | (usa['state_name'] == 'Maryland') | \n",
    "                     (usa['state_name']=='North Carolina') | (usa['state_name']=='South Carolina') |\n",
    "                     (usa['state_name']=='Virginia') | (usa['state_name']== 'District of Columbia') |\n",
    "                    (usa['state_name'] == 'West Virginia')]\n",
    "south_atlantic.head()"
   ]
  },
  {
   "cell_type": "code",
   "execution_count": null,
   "metadata": {},
   "outputs": [],
   "source": []
  },
  {
   "cell_type": "markdown",
   "metadata": {},
   "source": [
    "South Division 6: East South Central (Alabama, Kentucky, Mississippi, and Tennessee)"
   ]
  },
  {
   "cell_type": "code",
   "execution_count": null,
   "metadata": {},
   "outputs": [],
   "source": [
    "# Create DF for just East South Central Divsion\n",
    "east_south_central =  usa[(usa['state_name']=='Alabama') | (usa['state_name'] == 'Kentucky') |\n",
    "                      (usa['state_name'] == 'Mississippi') | (usa['state_name'] == 'Tennessee')] \n",
    "\n",
    "east_south_central.head()"
   ]
  },
  {
   "cell_type": "markdown",
   "metadata": {},
   "source": [
    "South Division 7: West South Central (Arkansas, Louisiana, Oklahoma, and Texas)"
   ]
  },
  {
   "cell_type": "code",
   "execution_count": null,
   "metadata": {},
   "outputs": [],
   "source": [
    "west_northern_central =  usa[(usa['state_name']=='Arkansas') | (usa['state_name'] == 'Louisiana') |\n",
    "                      (usa['state_name'] == 'Oklahoma') | (usa['state_name'] == 'Texas') ] \n",
    "\n",
    "west_northern_central.head()"
   ]
  },
  {
   "cell_type": "markdown",
   "metadata": {},
   "source": [
    "West \n",
    "Mountain Divsion 8 (Arizona, Colorado, Idaho, Montana, Nevada, New Mexico, Utah, and Wyoming)"
   ]
  },
  {
   "cell_type": "code",
   "execution_count": null,
   "metadata": {},
   "outputs": [],
   "source": [
    "# Create a DF for just Mountain divsion\n",
    "mountain =  usa[(usa['state_name']=='Arizona') | (usa['state_name'] == 'Colorado') |\n",
    "                      (usa['state_name'] == 'Idaho') | (usa['state_name'] == 'Montana') | \n",
    "                     (usa['state_name']=='Nevada') | (usa['state_name']=='New Mexico') |\n",
    "                     (usa['state_name']=='Utah') | (usa['state_name']== 'Wyoming') ]\n",
    "\n",
    "mountain.head()"
   ]
  },
  {
   "cell_type": "markdown",
   "metadata": {},
   "source": [
    "# Pacific Divsion- with combined daily cases counts\n",
    "West Pacific (Alaska, California, Hawaii, Oregon, and Washington)"
   ]
  },
  {
   "cell_type": "code",
   "execution_count": 8,
   "metadata": {},
   "outputs": [
    {
     "output_type": "execute_result",
     "data": {
      "text/plain": "      state_fips state_name        lat        long       date  cases  deaths  \\\n603           41     Oregon  43.971713 -120.622958  2/28/2020      1       0   \n604           41     Oregon  43.971713 -120.622958  2/29/2020      1       0   \n605           41     Oregon  43.971713 -120.622958   3/1/2020      2       0   \n606           41     Oregon  43.971713 -120.622958   3/2/2020      2       0   \n607           41     Oregon  43.971713 -120.622958   3/3/2020      2       0   \n...          ...        ...        ...         ...        ...    ...     ...   \n5066          15     Hawaii  19.597764 -155.502443  7/24/2020   1526      25   \n5067          15     Hawaii  19.597764 -155.502443  7/25/2020   1597      25   \n5068          15     Hawaii  19.597764 -155.502443  7/26/2020   1660      25   \n5069          15     Hawaii  19.597764 -155.502443  7/27/2020   1688      25   \n5070          15     Hawaii  19.597764 -155.502443  7/28/2020   1734      25   \n\n      tests_positive  tests_negative  tests_pending     tests  patients_icu  \\\n603              NaN             NaN            NaN       NaN           NaN   \n604              NaN             NaN            NaN       NaN           NaN   \n605              NaN             NaN            NaN       NaN           NaN   \n606              NaN             NaN            NaN       NaN           NaN   \n607              NaN             NaN            NaN       NaN           NaN   \n...              ...             ...            ...       ...           ...   \n5066          1490.0        109801.0            NaN  111291.0           NaN   \n5067          1549.0        111241.0            NaN  112790.0           NaN   \n5068          1620.0        112432.0            NaN  114052.0           NaN   \n5069          1683.0        112432.0            NaN  114115.0           NaN   \n5070          1711.0        112432.0            NaN  114143.0           NaN   \n\n      patients_hosp  patients_vent  recovered   datetime  \n603             NaN            NaN        NaN 2020-02-28  \n604             NaN            NaN        NaN 2020-02-29  \n605             NaN            NaN        NaN 2020-03-01  \n606             NaN            NaN        NaN 2020-03-02  \n607             NaN            NaN        NaN 2020-03-03  \n...             ...            ...        ...        ...  \n5066           39.0            NaN     1125.0 2020-07-24  \n5067           29.0            NaN     1148.0 2020-07-25  \n5068           29.0            NaN     1167.0 2020-07-26  \n5069           26.0            NaN     1179.0 2020-07-27  \n5070           39.0            NaN     1191.0 2020-07-28  \n\n[812 rows x 16 columns]",
      "text/html": "<div>\n<style scoped>\n    .dataframe tbody tr th:only-of-type {\n        vertical-align: middle;\n    }\n\n    .dataframe tbody tr th {\n        vertical-align: top;\n    }\n\n    .dataframe thead th {\n        text-align: right;\n    }\n</style>\n<table border=\"1\" class=\"dataframe\">\n  <thead>\n    <tr style=\"text-align: right;\">\n      <th></th>\n      <th>state_fips</th>\n      <th>state_name</th>\n      <th>lat</th>\n      <th>long</th>\n      <th>date</th>\n      <th>cases</th>\n      <th>deaths</th>\n      <th>tests_positive</th>\n      <th>tests_negative</th>\n      <th>tests_pending</th>\n      <th>tests</th>\n      <th>patients_icu</th>\n      <th>patients_hosp</th>\n      <th>patients_vent</th>\n      <th>recovered</th>\n      <th>datetime</th>\n    </tr>\n  </thead>\n  <tbody>\n    <tr>\n      <th>603</th>\n      <td>41</td>\n      <td>Oregon</td>\n      <td>43.971713</td>\n      <td>-120.622958</td>\n      <td>2/28/2020</td>\n      <td>1</td>\n      <td>0</td>\n      <td>NaN</td>\n      <td>NaN</td>\n      <td>NaN</td>\n      <td>NaN</td>\n      <td>NaN</td>\n      <td>NaN</td>\n      <td>NaN</td>\n      <td>NaN</td>\n      <td>2020-02-28</td>\n    </tr>\n    <tr>\n      <th>604</th>\n      <td>41</td>\n      <td>Oregon</td>\n      <td>43.971713</td>\n      <td>-120.622958</td>\n      <td>2/29/2020</td>\n      <td>1</td>\n      <td>0</td>\n      <td>NaN</td>\n      <td>NaN</td>\n      <td>NaN</td>\n      <td>NaN</td>\n      <td>NaN</td>\n      <td>NaN</td>\n      <td>NaN</td>\n      <td>NaN</td>\n      <td>2020-02-29</td>\n    </tr>\n    <tr>\n      <th>605</th>\n      <td>41</td>\n      <td>Oregon</td>\n      <td>43.971713</td>\n      <td>-120.622958</td>\n      <td>3/1/2020</td>\n      <td>2</td>\n      <td>0</td>\n      <td>NaN</td>\n      <td>NaN</td>\n      <td>NaN</td>\n      <td>NaN</td>\n      <td>NaN</td>\n      <td>NaN</td>\n      <td>NaN</td>\n      <td>NaN</td>\n      <td>2020-03-01</td>\n    </tr>\n    <tr>\n      <th>606</th>\n      <td>41</td>\n      <td>Oregon</td>\n      <td>43.971713</td>\n      <td>-120.622958</td>\n      <td>3/2/2020</td>\n      <td>2</td>\n      <td>0</td>\n      <td>NaN</td>\n      <td>NaN</td>\n      <td>NaN</td>\n      <td>NaN</td>\n      <td>NaN</td>\n      <td>NaN</td>\n      <td>NaN</td>\n      <td>NaN</td>\n      <td>2020-03-02</td>\n    </tr>\n    <tr>\n      <th>607</th>\n      <td>41</td>\n      <td>Oregon</td>\n      <td>43.971713</td>\n      <td>-120.622958</td>\n      <td>3/3/2020</td>\n      <td>2</td>\n      <td>0</td>\n      <td>NaN</td>\n      <td>NaN</td>\n      <td>NaN</td>\n      <td>NaN</td>\n      <td>NaN</td>\n      <td>NaN</td>\n      <td>NaN</td>\n      <td>NaN</td>\n      <td>2020-03-03</td>\n    </tr>\n    <tr>\n      <th>...</th>\n      <td>...</td>\n      <td>...</td>\n      <td>...</td>\n      <td>...</td>\n      <td>...</td>\n      <td>...</td>\n      <td>...</td>\n      <td>...</td>\n      <td>...</td>\n      <td>...</td>\n      <td>...</td>\n      <td>...</td>\n      <td>...</td>\n      <td>...</td>\n      <td>...</td>\n      <td>...</td>\n    </tr>\n    <tr>\n      <th>5066</th>\n      <td>15</td>\n      <td>Hawaii</td>\n      <td>19.597764</td>\n      <td>-155.502443</td>\n      <td>7/24/2020</td>\n      <td>1526</td>\n      <td>25</td>\n      <td>1490.0</td>\n      <td>109801.0</td>\n      <td>NaN</td>\n      <td>111291.0</td>\n      <td>NaN</td>\n      <td>39.0</td>\n      <td>NaN</td>\n      <td>1125.0</td>\n      <td>2020-07-24</td>\n    </tr>\n    <tr>\n      <th>5067</th>\n      <td>15</td>\n      <td>Hawaii</td>\n      <td>19.597764</td>\n      <td>-155.502443</td>\n      <td>7/25/2020</td>\n      <td>1597</td>\n      <td>25</td>\n      <td>1549.0</td>\n      <td>111241.0</td>\n      <td>NaN</td>\n      <td>112790.0</td>\n      <td>NaN</td>\n      <td>29.0</td>\n      <td>NaN</td>\n      <td>1148.0</td>\n      <td>2020-07-25</td>\n    </tr>\n    <tr>\n      <th>5068</th>\n      <td>15</td>\n      <td>Hawaii</td>\n      <td>19.597764</td>\n      <td>-155.502443</td>\n      <td>7/26/2020</td>\n      <td>1660</td>\n      <td>25</td>\n      <td>1620.0</td>\n      <td>112432.0</td>\n      <td>NaN</td>\n      <td>114052.0</td>\n      <td>NaN</td>\n      <td>29.0</td>\n      <td>NaN</td>\n      <td>1167.0</td>\n      <td>2020-07-26</td>\n    </tr>\n    <tr>\n      <th>5069</th>\n      <td>15</td>\n      <td>Hawaii</td>\n      <td>19.597764</td>\n      <td>-155.502443</td>\n      <td>7/27/2020</td>\n      <td>1688</td>\n      <td>25</td>\n      <td>1683.0</td>\n      <td>112432.0</td>\n      <td>NaN</td>\n      <td>114115.0</td>\n      <td>NaN</td>\n      <td>26.0</td>\n      <td>NaN</td>\n      <td>1179.0</td>\n      <td>2020-07-27</td>\n    </tr>\n    <tr>\n      <th>5070</th>\n      <td>15</td>\n      <td>Hawaii</td>\n      <td>19.597764</td>\n      <td>-155.502443</td>\n      <td>7/28/2020</td>\n      <td>1734</td>\n      <td>25</td>\n      <td>1711.0</td>\n      <td>112432.0</td>\n      <td>NaN</td>\n      <td>114143.0</td>\n      <td>NaN</td>\n      <td>39.0</td>\n      <td>NaN</td>\n      <td>1191.0</td>\n      <td>2020-07-28</td>\n    </tr>\n  </tbody>\n</table>\n<p>812 rows × 16 columns</p>\n</div>"
     },
     "metadata": {},
     "execution_count": 8
    }
   ],
   "source": [
    "# Make DF for just Pacific Divsion\n",
    "pacific =  usa[(usa['state_name']=='California') | (usa['state_name'] == 'Hawaii') |\n",
    "                      (usa['state_name'] == 'Oregon') | (usa['state_name'] == 'Washington') |\n",
    "                      (usa['state_name']=='Alaska')]\n",
    "\n",
    "pacific"
   ]
  },
  {
   "cell_type": "markdown",
   "metadata": {},
   "source": [
    "Now perform operations to tally the daily case count in divsion"
   ]
  },
  {
   "cell_type": "code",
   "execution_count": 9,
   "metadata": {},
   "outputs": [
    {
     "output_type": "execute_result",
     "data": {
      "text/plain": "            state_fips        lat        long  cases  deaths  tests_positive  \\\ndatetime                                                                       \n2020-01-21          53  47.407324 -120.575800      1       0             0.0   \n2020-01-22          53  47.407324 -120.575800      1       0             2.0   \n2020-01-23          53  47.407324 -120.575800      1       0             2.0   \n2020-01-24          53  47.407324 -120.575800      1       0             2.0   \n2020-01-25          59  84.562501 -240.119218      2       0             2.0   \n\n            tests_negative  tests_pending  tests  patients_icu  patients_hosp  \\\ndatetime                                                                        \n2020-01-21             0.0            0.0    0.0           0.0            0.0   \n2020-01-22             0.0            0.0    2.0           0.0            0.0   \n2020-01-23             0.0            0.0    2.0           0.0            0.0   \n2020-01-24             0.0            0.0    2.0           0.0            0.0   \n2020-01-25             0.0            0.0    2.0           0.0            0.0   \n\n            patients_vent  recovered  \ndatetime                              \n2020-01-21            0.0        0.0  \n2020-01-22            0.0        0.0  \n2020-01-23            0.0        0.0  \n2020-01-24            0.0        0.0  \n2020-01-25            0.0        0.0  ",
      "text/html": "<div>\n<style scoped>\n    .dataframe tbody tr th:only-of-type {\n        vertical-align: middle;\n    }\n\n    .dataframe tbody tr th {\n        vertical-align: top;\n    }\n\n    .dataframe thead th {\n        text-align: right;\n    }\n</style>\n<table border=\"1\" class=\"dataframe\">\n  <thead>\n    <tr style=\"text-align: right;\">\n      <th></th>\n      <th>state_fips</th>\n      <th>lat</th>\n      <th>long</th>\n      <th>cases</th>\n      <th>deaths</th>\n      <th>tests_positive</th>\n      <th>tests_negative</th>\n      <th>tests_pending</th>\n      <th>tests</th>\n      <th>patients_icu</th>\n      <th>patients_hosp</th>\n      <th>patients_vent</th>\n      <th>recovered</th>\n    </tr>\n    <tr>\n      <th>datetime</th>\n      <th></th>\n      <th></th>\n      <th></th>\n      <th></th>\n      <th></th>\n      <th></th>\n      <th></th>\n      <th></th>\n      <th></th>\n      <th></th>\n      <th></th>\n      <th></th>\n      <th></th>\n    </tr>\n  </thead>\n  <tbody>\n    <tr>\n      <th>2020-01-21</th>\n      <td>53</td>\n      <td>47.407324</td>\n      <td>-120.575800</td>\n      <td>1</td>\n      <td>0</td>\n      <td>0.0</td>\n      <td>0.0</td>\n      <td>0.0</td>\n      <td>0.0</td>\n      <td>0.0</td>\n      <td>0.0</td>\n      <td>0.0</td>\n      <td>0.0</td>\n    </tr>\n    <tr>\n      <th>2020-01-22</th>\n      <td>53</td>\n      <td>47.407324</td>\n      <td>-120.575800</td>\n      <td>1</td>\n      <td>0</td>\n      <td>2.0</td>\n      <td>0.0</td>\n      <td>0.0</td>\n      <td>2.0</td>\n      <td>0.0</td>\n      <td>0.0</td>\n      <td>0.0</td>\n      <td>0.0</td>\n    </tr>\n    <tr>\n      <th>2020-01-23</th>\n      <td>53</td>\n      <td>47.407324</td>\n      <td>-120.575800</td>\n      <td>1</td>\n      <td>0</td>\n      <td>2.0</td>\n      <td>0.0</td>\n      <td>0.0</td>\n      <td>2.0</td>\n      <td>0.0</td>\n      <td>0.0</td>\n      <td>0.0</td>\n      <td>0.0</td>\n    </tr>\n    <tr>\n      <th>2020-01-24</th>\n      <td>53</td>\n      <td>47.407324</td>\n      <td>-120.575800</td>\n      <td>1</td>\n      <td>0</td>\n      <td>2.0</td>\n      <td>0.0</td>\n      <td>0.0</td>\n      <td>2.0</td>\n      <td>0.0</td>\n      <td>0.0</td>\n      <td>0.0</td>\n      <td>0.0</td>\n    </tr>\n    <tr>\n      <th>2020-01-25</th>\n      <td>59</td>\n      <td>84.562501</td>\n      <td>-240.119218</td>\n      <td>2</td>\n      <td>0</td>\n      <td>2.0</td>\n      <td>0.0</td>\n      <td>0.0</td>\n      <td>2.0</td>\n      <td>0.0</td>\n      <td>0.0</td>\n      <td>0.0</td>\n      <td>0.0</td>\n    </tr>\n  </tbody>\n</table>\n</div>"
     },
     "metadata": {},
     "execution_count": 9
    }
   ],
   "source": [
    "# Summing case count for Pacific Region\n",
    "# Groupby to consolidate cases by entire region\n",
    "pacific_group = pacific.groupby([\"datetime\"]).sum()\n",
    "#pacific_sum = pacific_group[\"cases\"].sum()\n",
    "pacific_group.head()\n"
   ]
  },
  {
   "cell_type": "code",
   "execution_count": 128,
   "metadata": {},
   "outputs": [],
   "source": [
    "# merge output of above groupbys to create new df\n",
    "    #pacific_new = pacific.merge(pacific_sum, on = \"datetime\")\n",
    "    #pacific_new.head()"
   ]
  },
  {
   "cell_type": "code",
   "execution_count": 10,
   "metadata": {},
   "outputs": [
    {
     "output_type": "execute_result",
     "data": {
      "text/plain": "    datetime  state_fips        lat        long  cases  deaths  \\\n0 2020-01-21          53  47.407324 -120.575800      1       0   \n1 2020-01-22          53  47.407324 -120.575800      1       0   \n2 2020-01-23          53  47.407324 -120.575800      1       0   \n3 2020-01-24          53  47.407324 -120.575800      1       0   \n4 2020-01-25          59  84.562501 -240.119218      2       0   \n\n   tests_positive  tests_negative  tests_pending  tests  patients_icu  \\\n0             0.0             0.0            0.0    0.0           0.0   \n1             2.0             0.0            0.0    2.0           0.0   \n2             2.0             0.0            0.0    2.0           0.0   \n3             2.0             0.0            0.0    2.0           0.0   \n4             2.0             0.0            0.0    2.0           0.0   \n\n   patients_hosp  patients_vent  recovered  \n0            0.0            0.0        0.0  \n1            0.0            0.0        0.0  \n2            0.0            0.0        0.0  \n3            0.0            0.0        0.0  \n4            0.0            0.0        0.0  ",
      "text/html": "<div>\n<style scoped>\n    .dataframe tbody tr th:only-of-type {\n        vertical-align: middle;\n    }\n\n    .dataframe tbody tr th {\n        vertical-align: top;\n    }\n\n    .dataframe thead th {\n        text-align: right;\n    }\n</style>\n<table border=\"1\" class=\"dataframe\">\n  <thead>\n    <tr style=\"text-align: right;\">\n      <th></th>\n      <th>datetime</th>\n      <th>state_fips</th>\n      <th>lat</th>\n      <th>long</th>\n      <th>cases</th>\n      <th>deaths</th>\n      <th>tests_positive</th>\n      <th>tests_negative</th>\n      <th>tests_pending</th>\n      <th>tests</th>\n      <th>patients_icu</th>\n      <th>patients_hosp</th>\n      <th>patients_vent</th>\n      <th>recovered</th>\n    </tr>\n  </thead>\n  <tbody>\n    <tr>\n      <th>0</th>\n      <td>2020-01-21</td>\n      <td>53</td>\n      <td>47.407324</td>\n      <td>-120.575800</td>\n      <td>1</td>\n      <td>0</td>\n      <td>0.0</td>\n      <td>0.0</td>\n      <td>0.0</td>\n      <td>0.0</td>\n      <td>0.0</td>\n      <td>0.0</td>\n      <td>0.0</td>\n      <td>0.0</td>\n    </tr>\n    <tr>\n      <th>1</th>\n      <td>2020-01-22</td>\n      <td>53</td>\n      <td>47.407324</td>\n      <td>-120.575800</td>\n      <td>1</td>\n      <td>0</td>\n      <td>2.0</td>\n      <td>0.0</td>\n      <td>0.0</td>\n      <td>2.0</td>\n      <td>0.0</td>\n      <td>0.0</td>\n      <td>0.0</td>\n      <td>0.0</td>\n    </tr>\n    <tr>\n      <th>2</th>\n      <td>2020-01-23</td>\n      <td>53</td>\n      <td>47.407324</td>\n      <td>-120.575800</td>\n      <td>1</td>\n      <td>0</td>\n      <td>2.0</td>\n      <td>0.0</td>\n      <td>0.0</td>\n      <td>2.0</td>\n      <td>0.0</td>\n      <td>0.0</td>\n      <td>0.0</td>\n      <td>0.0</td>\n    </tr>\n    <tr>\n      <th>3</th>\n      <td>2020-01-24</td>\n      <td>53</td>\n      <td>47.407324</td>\n      <td>-120.575800</td>\n      <td>1</td>\n      <td>0</td>\n      <td>2.0</td>\n      <td>0.0</td>\n      <td>0.0</td>\n      <td>2.0</td>\n      <td>0.0</td>\n      <td>0.0</td>\n      <td>0.0</td>\n      <td>0.0</td>\n    </tr>\n    <tr>\n      <th>4</th>\n      <td>2020-01-25</td>\n      <td>59</td>\n      <td>84.562501</td>\n      <td>-240.119218</td>\n      <td>2</td>\n      <td>0</td>\n      <td>2.0</td>\n      <td>0.0</td>\n      <td>0.0</td>\n      <td>2.0</td>\n      <td>0.0</td>\n      <td>0.0</td>\n      <td>0.0</td>\n      <td>0.0</td>\n    </tr>\n  </tbody>\n</table>\n</div>"
     },
     "metadata": {},
     "execution_count": 10
    }
   ],
   "source": [
    "# Rename columns and sort by date\n",
    "#pacific_group = pacific_group.rename(columns={\"cases_y\": \"reg_sum_cases\"})\n",
    "pacific_group.sort_values(by =\"datetime\")\n",
    "pacific_group= pacific_group.reset_index()\n",
    "pacific_group.head()\n"
   ]
  },
  {
   "cell_type": "code",
   "execution_count": null,
   "metadata": {},
   "outputs": [],
   "source": [
    "# Perform groupby operations to sum cases by day\n",
    "        #pacific_tally =pacific_new.groupby(['date', 'reg_sum_cases']).sum()\n",
    "        #   pacific_tally = pacific_tally.reset_index()\n",
    "    #pacific_tally.head(5)"
   ]
  },
  {
   "cell_type": "code",
   "execution_count": null,
   "metadata": {},
   "outputs": [],
   "source": [
    "# now finsh date time conversion\n",
    "pacific_tally['datetime'] = pd.to_datetime(pacific_tally['date'])\n",
    "pacific_tally[\"day\"] = pacific_tally['datetime'].map(lambda x: x.day)\n",
    "pacific_tally[\"month\"] = pacific_tally['datetime'].map(lambda x: x.month)\n",
    "pacific_tally[\"year\"] = pacific_tally['datetime'].map(lambda x: x.year)\n",
    "pacific_tally.sample(3)"
   ]
  },
  {
   "cell_type": "code",
   "execution_count": null,
   "metadata": {},
   "outputs": [],
   "source": [
    "# pacific_tally['growth_rate'].sort"
   ]
  },
  {
   "cell_type": "code",
   "execution_count": null,
   "metadata": {},
   "outputs": [],
   "source": [
    "# pd.set_option('display.max_rows',100)"
   ]
  },
  {
   "cell_type": "code",
   "execution_count": 131,
   "metadata": {},
   "outputs": [
    {
     "data": {
      "text/html": [
       "<div>\n",
       "<style scoped>\n",
       "    .dataframe tbody tr th:only-of-type {\n",
       "        vertical-align: middle;\n",
       "    }\n",
       "\n",
       "    .dataframe tbody tr th {\n",
       "        vertical-align: top;\n",
       "    }\n",
       "\n",
       "    .dataframe thead th {\n",
       "        text-align: right;\n",
       "    }\n",
       "</style>\n",
       "<table border=\"1\" class=\"dataframe\">\n",
       "  <thead>\n",
       "    <tr style=\"text-align: right;\">\n",
       "      <th></th>\n",
       "      <th>index</th>\n",
       "      <th>datetime</th>\n",
       "      <th>state_fips</th>\n",
       "      <th>lat</th>\n",
       "      <th>long</th>\n",
       "      <th>cases</th>\n",
       "      <th>deaths</th>\n",
       "      <th>tests_positive</th>\n",
       "      <th>tests_negative</th>\n",
       "      <th>tests_pending</th>\n",
       "      <th>tests</th>\n",
       "      <th>patients_icu</th>\n",
       "      <th>patients_hosp</th>\n",
       "      <th>patients_vent</th>\n",
       "      <th>recovered</th>\n",
       "      <th>growth_rate</th>\n",
       "    </tr>\n",
       "  </thead>\n",
       "  <tbody>\n",
       "    <tr>\n",
       "      <th>0</th>\n",
       "      <td>0</td>\n",
       "      <td>2020-01-21</td>\n",
       "      <td>53</td>\n",
       "      <td>47.407324</td>\n",
       "      <td>-120.575800</td>\n",
       "      <td>1</td>\n",
       "      <td>0</td>\n",
       "      <td>0.0</td>\n",
       "      <td>0.0</td>\n",
       "      <td>0.0</td>\n",
       "      <td>0.0</td>\n",
       "      <td>0.0</td>\n",
       "      <td>0.0</td>\n",
       "      <td>0.0</td>\n",
       "      <td>0.0</td>\n",
       "      <td>NaN</td>\n",
       "    </tr>\n",
       "    <tr>\n",
       "      <th>1</th>\n",
       "      <td>1</td>\n",
       "      <td>2020-01-22</td>\n",
       "      <td>53</td>\n",
       "      <td>47.407324</td>\n",
       "      <td>-120.575800</td>\n",
       "      <td>1</td>\n",
       "      <td>0</td>\n",
       "      <td>2.0</td>\n",
       "      <td>0.0</td>\n",
       "      <td>0.0</td>\n",
       "      <td>2.0</td>\n",
       "      <td>0.0</td>\n",
       "      <td>0.0</td>\n",
       "      <td>0.0</td>\n",
       "      <td>0.0</td>\n",
       "      <td>0.0</td>\n",
       "    </tr>\n",
       "    <tr>\n",
       "      <th>2</th>\n",
       "      <td>2</td>\n",
       "      <td>2020-01-23</td>\n",
       "      <td>53</td>\n",
       "      <td>47.407324</td>\n",
       "      <td>-120.575800</td>\n",
       "      <td>1</td>\n",
       "      <td>0</td>\n",
       "      <td>2.0</td>\n",
       "      <td>0.0</td>\n",
       "      <td>0.0</td>\n",
       "      <td>2.0</td>\n",
       "      <td>0.0</td>\n",
       "      <td>0.0</td>\n",
       "      <td>0.0</td>\n",
       "      <td>0.0</td>\n",
       "      <td>0.0</td>\n",
       "    </tr>\n",
       "    <tr>\n",
       "      <th>3</th>\n",
       "      <td>3</td>\n",
       "      <td>2020-01-24</td>\n",
       "      <td>53</td>\n",
       "      <td>47.407324</td>\n",
       "      <td>-120.575800</td>\n",
       "      <td>1</td>\n",
       "      <td>0</td>\n",
       "      <td>2.0</td>\n",
       "      <td>0.0</td>\n",
       "      <td>0.0</td>\n",
       "      <td>2.0</td>\n",
       "      <td>0.0</td>\n",
       "      <td>0.0</td>\n",
       "      <td>0.0</td>\n",
       "      <td>0.0</td>\n",
       "      <td>0.0</td>\n",
       "    </tr>\n",
       "    <tr>\n",
       "      <th>4</th>\n",
       "      <td>4</td>\n",
       "      <td>2020-01-25</td>\n",
       "      <td>59</td>\n",
       "      <td>84.562501</td>\n",
       "      <td>-240.119218</td>\n",
       "      <td>2</td>\n",
       "      <td>0</td>\n",
       "      <td>2.0</td>\n",
       "      <td>0.0</td>\n",
       "      <td>0.0</td>\n",
       "      <td>2.0</td>\n",
       "      <td>0.0</td>\n",
       "      <td>0.0</td>\n",
       "      <td>0.0</td>\n",
       "      <td>0.0</td>\n",
       "      <td>1.0</td>\n",
       "    </tr>\n",
       "    <tr>\n",
       "      <th>5</th>\n",
       "      <td>5</td>\n",
       "      <td>2020-01-26</td>\n",
       "      <td>59</td>\n",
       "      <td>84.562501</td>\n",
       "      <td>-240.119218</td>\n",
       "      <td>3</td>\n",
       "      <td>0</td>\n",
       "      <td>2.0</td>\n",
       "      <td>0.0</td>\n",
       "      <td>0.0</td>\n",
       "      <td>2.0</td>\n",
       "      <td>0.0</td>\n",
       "      <td>0.0</td>\n",
       "      <td>0.0</td>\n",
       "      <td>0.0</td>\n",
       "      <td>0.5</td>\n",
       "    </tr>\n",
       "    <tr>\n",
       "      <th>6</th>\n",
       "      <td>6</td>\n",
       "      <td>2020-01-27</td>\n",
       "      <td>59</td>\n",
       "      <td>84.562501</td>\n",
       "      <td>-240.119218</td>\n",
       "      <td>3</td>\n",
       "      <td>0</td>\n",
       "      <td>2.0</td>\n",
       "      <td>0.0</td>\n",
       "      <td>0.0</td>\n",
       "      <td>2.0</td>\n",
       "      <td>0.0</td>\n",
       "      <td>0.0</td>\n",
       "      <td>0.0</td>\n",
       "      <td>0.0</td>\n",
       "      <td>0.0</td>\n",
       "    </tr>\n",
       "    <tr>\n",
       "      <th>7</th>\n",
       "      <td>7</td>\n",
       "      <td>2020-01-28</td>\n",
       "      <td>59</td>\n",
       "      <td>84.562501</td>\n",
       "      <td>-240.119218</td>\n",
       "      <td>3</td>\n",
       "      <td>0</td>\n",
       "      <td>2.0</td>\n",
       "      <td>0.0</td>\n",
       "      <td>0.0</td>\n",
       "      <td>2.0</td>\n",
       "      <td>0.0</td>\n",
       "      <td>0.0</td>\n",
       "      <td>0.0</td>\n",
       "      <td>0.0</td>\n",
       "      <td>0.0</td>\n",
       "    </tr>\n",
       "    <tr>\n",
       "      <th>8</th>\n",
       "      <td>8</td>\n",
       "      <td>2020-01-29</td>\n",
       "      <td>59</td>\n",
       "      <td>84.562501</td>\n",
       "      <td>-240.119218</td>\n",
       "      <td>3</td>\n",
       "      <td>0</td>\n",
       "      <td>3.0</td>\n",
       "      <td>0.0</td>\n",
       "      <td>0.0</td>\n",
       "      <td>3.0</td>\n",
       "      <td>0.0</td>\n",
       "      <td>0.0</td>\n",
       "      <td>0.0</td>\n",
       "      <td>0.0</td>\n",
       "      <td>0.0</td>\n",
       "    </tr>\n",
       "    <tr>\n",
       "      <th>9</th>\n",
       "      <td>9</td>\n",
       "      <td>2020-01-30</td>\n",
       "      <td>59</td>\n",
       "      <td>84.562501</td>\n",
       "      <td>-240.119218</td>\n",
       "      <td>3</td>\n",
       "      <td>0</td>\n",
       "      <td>3.0</td>\n",
       "      <td>0.0</td>\n",
       "      <td>0.0</td>\n",
       "      <td>3.0</td>\n",
       "      <td>0.0</td>\n",
       "      <td>0.0</td>\n",
       "      <td>0.0</td>\n",
       "      <td>0.0</td>\n",
       "      <td>0.0</td>\n",
       "    </tr>\n",
       "  </tbody>\n",
       "</table>\n",
       "</div>"
      ],
      "text/plain": [
       "   index   datetime  state_fips        lat        long  cases  deaths  \\\n",
       "0      0 2020-01-21          53  47.407324 -120.575800      1       0   \n",
       "1      1 2020-01-22          53  47.407324 -120.575800      1       0   \n",
       "2      2 2020-01-23          53  47.407324 -120.575800      1       0   \n",
       "3      3 2020-01-24          53  47.407324 -120.575800      1       0   \n",
       "4      4 2020-01-25          59  84.562501 -240.119218      2       0   \n",
       "5      5 2020-01-26          59  84.562501 -240.119218      3       0   \n",
       "6      6 2020-01-27          59  84.562501 -240.119218      3       0   \n",
       "7      7 2020-01-28          59  84.562501 -240.119218      3       0   \n",
       "8      8 2020-01-29          59  84.562501 -240.119218      3       0   \n",
       "9      9 2020-01-30          59  84.562501 -240.119218      3       0   \n",
       "\n",
       "   tests_positive  tests_negative  tests_pending  tests  patients_icu  \\\n",
       "0             0.0             0.0            0.0    0.0           0.0   \n",
       "1             2.0             0.0            0.0    2.0           0.0   \n",
       "2             2.0             0.0            0.0    2.0           0.0   \n",
       "3             2.0             0.0            0.0    2.0           0.0   \n",
       "4             2.0             0.0            0.0    2.0           0.0   \n",
       "5             2.0             0.0            0.0    2.0           0.0   \n",
       "6             2.0             0.0            0.0    2.0           0.0   \n",
       "7             2.0             0.0            0.0    2.0           0.0   \n",
       "8             3.0             0.0            0.0    3.0           0.0   \n",
       "9             3.0             0.0            0.0    3.0           0.0   \n",
       "\n",
       "   patients_hosp  patients_vent  recovered  growth_rate  \n",
       "0            0.0            0.0        0.0          NaN  \n",
       "1            0.0            0.0        0.0          0.0  \n",
       "2            0.0            0.0        0.0          0.0  \n",
       "3            0.0            0.0        0.0          0.0  \n",
       "4            0.0            0.0        0.0          1.0  \n",
       "5            0.0            0.0        0.0          0.5  \n",
       "6            0.0            0.0        0.0          0.0  \n",
       "7            0.0            0.0        0.0          0.0  \n",
       "8            0.0            0.0        0.0          0.0  \n",
       "9            0.0            0.0        0.0          0.0  "
      ]
     },
     "execution_count": 131,
     "metadata": {},
     "output_type": "execute_result"
    }
   ],
   "source": [
    "pacific_group['growth_rate'] = pacific_group['cases'].pct_change()\n",
    "pacific_group.head(10)\n",
    "\n",
    "#pacific_tally['growth_rate'].mean()"
   ]
  },
  {
   "cell_type": "code",
   "execution_count": null,
   "metadata": {},
   "outputs": [],
   "source": [
    "pacific_tally.tail()"
   ]
  },
  {
   "cell_type": "code",
   "execution_count": 132,
   "metadata": {},
   "outputs": [
    {
     "data": {
      "text/plain": [
       "1.0"
      ]
     },
     "execution_count": 132,
     "metadata": {},
     "output_type": "execute_result"
    }
   ],
   "source": [
    "# pacific_tally.describe()\n",
    "pacific_group['growth_rate'].max()"
   ]
  },
  {
   "cell_type": "code",
   "execution_count": null,
   "metadata": {},
   "outputs": [],
   "source": [
    "pacific_tally.sort_values(by=['growth_rate'], ascending=True)#ascending=False"
   ]
  },
  {
   "cell_type": "code",
   "execution_count": null,
   "metadata": {},
   "outputs": [],
   "source": [
    "pacific_tally.loc[pacific_tally.month==3].max()"
   ]
  },
  {
   "cell_type": "code",
   "execution_count": null,
   "metadata": {},
   "outputs": [],
   "source": [
    "pacific_tally['growth_rate'].plot()\n",
    "\n"
   ]
  },
  {
   "cell_type": "code",
   "execution_count": null,
   "metadata": {},
   "outputs": [],
   "source": [
    "plt.scatter(pacific_tally[\"datetime\"],pacific_tally[\"growth_rate\"],c='c',label='Pacific')"
   ]
  },
  {
   "cell_type": "code",
   "execution_count": null,
   "metadata": {},
   "outputs": [],
   "source": [
    "pacific_tally.groupby ('growth_rate').count()"
   ]
  },
  {
   "cell_type": "code",
   "execution_count": null,
   "metadata": {},
   "outputs": [],
   "source": []
  }
 ],
 "metadata": {
  "kernelspec": {
   "display_name": "Python 3",
   "language": "python",
   "name": "python3"
  },
  "language_info": {
   "codemirror_mode": {
    "name": "ipython",
    "version": 3
   },
   "file_extension": ".py",
   "mimetype": "text/x-python",
   "name": "python",
   "nbconvert_exporter": "python",
   "pygments_lexer": "ipython3",
   "version": "3.8.5"
  }
 },
 "nbformat": 4,
 "nbformat_minor": 4
}